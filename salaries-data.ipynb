{
 "cells": [
  {
   "cell_type": "code",
   "execution_count": 1,
   "id": "baae8e1f",
   "metadata": {
    "_cell_guid": "b1076dfc-b9ad-4769-8c92-a6c4dae69d19",
    "_uuid": "8f2839f25d086af736a60e9eeb907d3b93b6e0e5",
    "execution": {
     "iopub.execute_input": "2023-04-21T22:32:45.213990Z",
     "iopub.status.busy": "2023-04-21T22:32:45.213566Z",
     "iopub.status.idle": "2023-04-21T22:32:45.235264Z",
     "shell.execute_reply": "2023-04-21T22:32:45.234316Z"
    },
    "papermill": {
     "duration": 0.032967,
     "end_time": "2023-04-21T22:32:45.237942",
     "exception": false,
     "start_time": "2023-04-21T22:32:45.204975",
     "status": "completed"
    },
    "tags": []
   },
   "outputs": [
    {
     "name": "stdout",
     "output_type": "stream",
     "text": [
      "/kaggle/input/sf-salaries/Salaries.csv\n",
      "/kaggle/input/sf-salaries/database.sqlite\n"
     ]
    }
   ],
   "source": [
    "# This Python 3 environment comes with many helpful analytics libraries installed\n",
    "# It is defined by the kaggle/python Docker image: https://github.com/kaggle/docker-python\n",
    "# For example, here's several helpful packages to load\n",
    "\n",
    "import numpy as np # linear algebra\n",
    "import pandas as pd # data processing, CSV file I/O (e.g. pd.read_csv)\n",
    "\n",
    "# Input data files are available in the read-only \"../input/\" directory\n",
    "# For example, running this (by clicking run or pressing Shift+Enter) will list all files under the input directory\n",
    "\n",
    "import os\n",
    "for dirname, _, filenames in os.walk('/kaggle/input'):\n",
    "    for filename in filenames:\n",
    "        print(os.path.join(dirname, filename))\n",
    "\n",
    "# You can write up to 20GB to the current directory (/kaggle/working/) that gets preserved as output when you create a version using \"Save & Run All\" \n",
    "# You can also write temporary files to /kaggle/temp/, but they won't be saved outside of the current session"
   ]
  },
  {
   "cell_type": "code",
   "execution_count": 2,
   "id": "8fcedb9c",
   "metadata": {
    "execution": {
     "iopub.execute_input": "2023-04-21T22:32:45.251896Z",
     "iopub.status.busy": "2023-04-21T22:32:45.251485Z",
     "iopub.status.idle": "2023-04-21T22:32:45.981066Z",
     "shell.execute_reply": "2023-04-21T22:32:45.979577Z"
    },
    "jupyter": {
     "source_hidden": true
    },
    "papermill": {
     "duration": 0.7398,
     "end_time": "2023-04-21T22:32:45.984479",
     "exception": false,
     "start_time": "2023-04-21T22:32:45.244679",
     "status": "completed"
    },
    "tags": []
   },
   "outputs": [
    {
     "name": "stderr",
     "output_type": "stream",
     "text": [
      "/opt/conda/lib/python3.7/site-packages/IPython/core/interactiveshell.py:3553: DtypeWarning: Columns (3,4,5,6,12) have mixed types.Specify dtype option on import or set low_memory=False.\n",
      "  exec(code_obj, self.user_global_ns, self.user_ns)\n"
     ]
    },
    {
     "data": {
      "text/html": [
       "<div>\n",
       "<style scoped>\n",
       "    .dataframe tbody tr th:only-of-type {\n",
       "        vertical-align: middle;\n",
       "    }\n",
       "\n",
       "    .dataframe tbody tr th {\n",
       "        vertical-align: top;\n",
       "    }\n",
       "\n",
       "    .dataframe thead th {\n",
       "        text-align: right;\n",
       "    }\n",
       "</style>\n",
       "<table border=\"1\" class=\"dataframe\">\n",
       "  <thead>\n",
       "    <tr style=\"text-align: right;\">\n",
       "      <th></th>\n",
       "      <th>Id</th>\n",
       "      <th>EmployeeName</th>\n",
       "      <th>JobTitle</th>\n",
       "      <th>BasePay</th>\n",
       "      <th>OvertimePay</th>\n",
       "      <th>OtherPay</th>\n",
       "      <th>Benefits</th>\n",
       "      <th>TotalPay</th>\n",
       "      <th>TotalPayBenefits</th>\n",
       "      <th>Year</th>\n",
       "      <th>Notes</th>\n",
       "      <th>Agency</th>\n",
       "      <th>Status</th>\n",
       "    </tr>\n",
       "  </thead>\n",
       "  <tbody>\n",
       "    <tr>\n",
       "      <th>0</th>\n",
       "      <td>1</td>\n",
       "      <td>NATHANIEL FORD</td>\n",
       "      <td>GENERAL MANAGER-METROPOLITAN TRANSIT AUTHORITY</td>\n",
       "      <td>167411.18</td>\n",
       "      <td>0.0</td>\n",
       "      <td>400184.25</td>\n",
       "      <td>NaN</td>\n",
       "      <td>567595.43</td>\n",
       "      <td>567595.43</td>\n",
       "      <td>2011</td>\n",
       "      <td>NaN</td>\n",
       "      <td>San Francisco</td>\n",
       "      <td>NaN</td>\n",
       "    </tr>\n",
       "    <tr>\n",
       "      <th>1</th>\n",
       "      <td>2</td>\n",
       "      <td>GARY JIMENEZ</td>\n",
       "      <td>CAPTAIN III (POLICE DEPARTMENT)</td>\n",
       "      <td>155966.02</td>\n",
       "      <td>245131.88</td>\n",
       "      <td>137811.38</td>\n",
       "      <td>NaN</td>\n",
       "      <td>538909.28</td>\n",
       "      <td>538909.28</td>\n",
       "      <td>2011</td>\n",
       "      <td>NaN</td>\n",
       "      <td>San Francisco</td>\n",
       "      <td>NaN</td>\n",
       "    </tr>\n",
       "    <tr>\n",
       "      <th>2</th>\n",
       "      <td>3</td>\n",
       "      <td>ALBERT PARDINI</td>\n",
       "      <td>CAPTAIN III (POLICE DEPARTMENT)</td>\n",
       "      <td>212739.13</td>\n",
       "      <td>106088.18</td>\n",
       "      <td>16452.6</td>\n",
       "      <td>NaN</td>\n",
       "      <td>335279.91</td>\n",
       "      <td>335279.91</td>\n",
       "      <td>2011</td>\n",
       "      <td>NaN</td>\n",
       "      <td>San Francisco</td>\n",
       "      <td>NaN</td>\n",
       "    </tr>\n",
       "    <tr>\n",
       "      <th>3</th>\n",
       "      <td>4</td>\n",
       "      <td>CHRISTOPHER CHONG</td>\n",
       "      <td>WIRE ROPE CABLE MAINTENANCE MECHANIC</td>\n",
       "      <td>77916.0</td>\n",
       "      <td>56120.71</td>\n",
       "      <td>198306.9</td>\n",
       "      <td>NaN</td>\n",
       "      <td>332343.61</td>\n",
       "      <td>332343.61</td>\n",
       "      <td>2011</td>\n",
       "      <td>NaN</td>\n",
       "      <td>San Francisco</td>\n",
       "      <td>NaN</td>\n",
       "    </tr>\n",
       "    <tr>\n",
       "      <th>4</th>\n",
       "      <td>5</td>\n",
       "      <td>PATRICK GARDNER</td>\n",
       "      <td>DEPUTY CHIEF OF DEPARTMENT,(FIRE DEPARTMENT)</td>\n",
       "      <td>134401.6</td>\n",
       "      <td>9737.0</td>\n",
       "      <td>182234.59</td>\n",
       "      <td>NaN</td>\n",
       "      <td>326373.19</td>\n",
       "      <td>326373.19</td>\n",
       "      <td>2011</td>\n",
       "      <td>NaN</td>\n",
       "      <td>San Francisco</td>\n",
       "      <td>NaN</td>\n",
       "    </tr>\n",
       "  </tbody>\n",
       "</table>\n",
       "</div>"
      ],
      "text/plain": [
       "   Id       EmployeeName                                        JobTitle  \\\n",
       "0   1     NATHANIEL FORD  GENERAL MANAGER-METROPOLITAN TRANSIT AUTHORITY   \n",
       "1   2       GARY JIMENEZ                 CAPTAIN III (POLICE DEPARTMENT)   \n",
       "2   3     ALBERT PARDINI                 CAPTAIN III (POLICE DEPARTMENT)   \n",
       "3   4  CHRISTOPHER CHONG            WIRE ROPE CABLE MAINTENANCE MECHANIC   \n",
       "4   5    PATRICK GARDNER    DEPUTY CHIEF OF DEPARTMENT,(FIRE DEPARTMENT)   \n",
       "\n",
       "     BasePay OvertimePay   OtherPay Benefits   TotalPay  TotalPayBenefits  \\\n",
       "0  167411.18         0.0  400184.25      NaN  567595.43         567595.43   \n",
       "1  155966.02   245131.88  137811.38      NaN  538909.28         538909.28   \n",
       "2  212739.13   106088.18    16452.6      NaN  335279.91         335279.91   \n",
       "3    77916.0    56120.71   198306.9      NaN  332343.61         332343.61   \n",
       "4   134401.6      9737.0  182234.59      NaN  326373.19         326373.19   \n",
       "\n",
       "   Year  Notes         Agency Status  \n",
       "0  2011    NaN  San Francisco    NaN  \n",
       "1  2011    NaN  San Francisco    NaN  \n",
       "2  2011    NaN  San Francisco    NaN  \n",
       "3  2011    NaN  San Francisco    NaN  \n",
       "4  2011    NaN  San Francisco    NaN  "
      ]
     },
     "execution_count": 2,
     "metadata": {},
     "output_type": "execute_result"
    }
   ],
   "source": [
    "data = pd.read_csv(\"/kaggle/input/sf-salaries/Salaries.csv\")\n",
    "data.head()"
   ]
  },
  {
   "cell_type": "code",
   "execution_count": 3,
   "id": "1ad08e51",
   "metadata": {
    "execution": {
     "iopub.execute_input": "2023-04-21T22:32:45.998271Z",
     "iopub.status.busy": "2023-04-21T22:32:45.997857Z",
     "iopub.status.idle": "2023-04-21T22:32:46.017511Z",
     "shell.execute_reply": "2023-04-21T22:32:46.015980Z"
    },
    "papermill": {
     "duration": 0.029821,
     "end_time": "2023-04-21T22:32:46.020165",
     "exception": false,
     "start_time": "2023-04-21T22:32:45.990344",
     "status": "completed"
    },
    "tags": []
   },
   "outputs": [
    {
     "data": {
      "text/html": [
       "<div>\n",
       "<style scoped>\n",
       "    .dataframe tbody tr th:only-of-type {\n",
       "        vertical-align: middle;\n",
       "    }\n",
       "\n",
       "    .dataframe tbody tr th {\n",
       "        vertical-align: top;\n",
       "    }\n",
       "\n",
       "    .dataframe thead th {\n",
       "        text-align: right;\n",
       "    }\n",
       "</style>\n",
       "<table border=\"1\" class=\"dataframe\">\n",
       "  <thead>\n",
       "    <tr style=\"text-align: right;\">\n",
       "      <th></th>\n",
       "      <th>Id</th>\n",
       "      <th>EmployeeName</th>\n",
       "      <th>JobTitle</th>\n",
       "      <th>BasePay</th>\n",
       "      <th>OvertimePay</th>\n",
       "      <th>OtherPay</th>\n",
       "      <th>Benefits</th>\n",
       "      <th>TotalPay</th>\n",
       "      <th>TotalPayBenefits</th>\n",
       "      <th>Year</th>\n",
       "      <th>Notes</th>\n",
       "      <th>Agency</th>\n",
       "      <th>Status</th>\n",
       "    </tr>\n",
       "  </thead>\n",
       "  <tbody>\n",
       "    <tr>\n",
       "      <th>148649</th>\n",
       "      <td>148650</td>\n",
       "      <td>Roy I Tillery</td>\n",
       "      <td>Custodian</td>\n",
       "      <td>0.00</td>\n",
       "      <td>0.00</td>\n",
       "      <td>0.00</td>\n",
       "      <td>0.00</td>\n",
       "      <td>0.00</td>\n",
       "      <td>0.00</td>\n",
       "      <td>2014</td>\n",
       "      <td>NaN</td>\n",
       "      <td>San Francisco</td>\n",
       "      <td>PT</td>\n",
       "    </tr>\n",
       "    <tr>\n",
       "      <th>148650</th>\n",
       "      <td>148651</td>\n",
       "      <td>Not provided</td>\n",
       "      <td>Not provided</td>\n",
       "      <td>Not Provided</td>\n",
       "      <td>Not Provided</td>\n",
       "      <td>Not Provided</td>\n",
       "      <td>Not Provided</td>\n",
       "      <td>0.00</td>\n",
       "      <td>0.00</td>\n",
       "      <td>2014</td>\n",
       "      <td>NaN</td>\n",
       "      <td>San Francisco</td>\n",
       "      <td>NaN</td>\n",
       "    </tr>\n",
       "    <tr>\n",
       "      <th>148651</th>\n",
       "      <td>148652</td>\n",
       "      <td>Not provided</td>\n",
       "      <td>Not provided</td>\n",
       "      <td>Not Provided</td>\n",
       "      <td>Not Provided</td>\n",
       "      <td>Not Provided</td>\n",
       "      <td>Not Provided</td>\n",
       "      <td>0.00</td>\n",
       "      <td>0.00</td>\n",
       "      <td>2014</td>\n",
       "      <td>NaN</td>\n",
       "      <td>San Francisco</td>\n",
       "      <td>NaN</td>\n",
       "    </tr>\n",
       "    <tr>\n",
       "      <th>148652</th>\n",
       "      <td>148653</td>\n",
       "      <td>Not provided</td>\n",
       "      <td>Not provided</td>\n",
       "      <td>Not Provided</td>\n",
       "      <td>Not Provided</td>\n",
       "      <td>Not Provided</td>\n",
       "      <td>Not Provided</td>\n",
       "      <td>0.00</td>\n",
       "      <td>0.00</td>\n",
       "      <td>2014</td>\n",
       "      <td>NaN</td>\n",
       "      <td>San Francisco</td>\n",
       "      <td>NaN</td>\n",
       "    </tr>\n",
       "    <tr>\n",
       "      <th>148653</th>\n",
       "      <td>148654</td>\n",
       "      <td>Joe Lopez</td>\n",
       "      <td>Counselor, Log Cabin Ranch</td>\n",
       "      <td>0.00</td>\n",
       "      <td>0.00</td>\n",
       "      <td>-618.13</td>\n",
       "      <td>0.00</td>\n",
       "      <td>-618.13</td>\n",
       "      <td>-618.13</td>\n",
       "      <td>2014</td>\n",
       "      <td>NaN</td>\n",
       "      <td>San Francisco</td>\n",
       "      <td>PT</td>\n",
       "    </tr>\n",
       "  </tbody>\n",
       "</table>\n",
       "</div>"
      ],
      "text/plain": [
       "            Id   EmployeeName                    JobTitle       BasePay  \\\n",
       "148649  148650  Roy I Tillery                   Custodian          0.00   \n",
       "148650  148651   Not provided                Not provided  Not Provided   \n",
       "148651  148652   Not provided                Not provided  Not Provided   \n",
       "148652  148653   Not provided                Not provided  Not Provided   \n",
       "148653  148654      Joe Lopez  Counselor, Log Cabin Ranch          0.00   \n",
       "\n",
       "         OvertimePay      OtherPay      Benefits  TotalPay  TotalPayBenefits  \\\n",
       "148649          0.00          0.00          0.00      0.00              0.00   \n",
       "148650  Not Provided  Not Provided  Not Provided      0.00              0.00   \n",
       "148651  Not Provided  Not Provided  Not Provided      0.00              0.00   \n",
       "148652  Not Provided  Not Provided  Not Provided      0.00              0.00   \n",
       "148653          0.00       -618.13          0.00   -618.13           -618.13   \n",
       "\n",
       "        Year  Notes         Agency Status  \n",
       "148649  2014    NaN  San Francisco     PT  \n",
       "148650  2014    NaN  San Francisco    NaN  \n",
       "148651  2014    NaN  San Francisco    NaN  \n",
       "148652  2014    NaN  San Francisco    NaN  \n",
       "148653  2014    NaN  San Francisco     PT  "
      ]
     },
     "execution_count": 3,
     "metadata": {},
     "output_type": "execute_result"
    }
   ],
   "source": [
    "#Check Last 10 Rows of The Dataset\n",
    "data.tail()"
   ]
  },
  {
   "cell_type": "code",
   "execution_count": 4,
   "id": "5c013ac1",
   "metadata": {
    "execution": {
     "iopub.execute_input": "2023-04-21T22:32:46.035212Z",
     "iopub.status.busy": "2023-04-21T22:32:46.034783Z",
     "iopub.status.idle": "2023-04-21T22:32:46.042943Z",
     "shell.execute_reply": "2023-04-21T22:32:46.041422Z"
    },
    "papermill": {
     "duration": 0.018698,
     "end_time": "2023-04-21T22:32:46.045408",
     "exception": false,
     "start_time": "2023-04-21T22:32:46.026710",
     "status": "completed"
    },
    "tags": []
   },
   "outputs": [
    {
     "data": {
      "text/plain": [
       "(148654, 13)"
      ]
     },
     "execution_count": 4,
     "metadata": {},
     "output_type": "execute_result"
    }
   ],
   "source": [
    "#Find Shape of Our Dataset (Number of Rows And Number of Columns)\n",
    "data.shape"
   ]
  },
  {
   "cell_type": "code",
   "execution_count": 5,
   "id": "710f177c",
   "metadata": {
    "execution": {
     "iopub.execute_input": "2023-04-21T22:32:46.060843Z",
     "iopub.status.busy": "2023-04-21T22:32:46.059940Z",
     "iopub.status.idle": "2023-04-21T22:32:46.151044Z",
     "shell.execute_reply": "2023-04-21T22:32:46.149501Z"
    },
    "papermill": {
     "duration": 0.102078,
     "end_time": "2023-04-21T22:32:46.154038",
     "exception": false,
     "start_time": "2023-04-21T22:32:46.051960",
     "status": "completed"
    },
    "tags": []
   },
   "outputs": [
    {
     "name": "stdout",
     "output_type": "stream",
     "text": [
      "<class 'pandas.core.frame.DataFrame'>\n",
      "RangeIndex: 148654 entries, 0 to 148653\n",
      "Data columns (total 13 columns):\n",
      " #   Column            Non-Null Count   Dtype  \n",
      "---  ------            --------------   -----  \n",
      " 0   Id                148654 non-null  int64  \n",
      " 1   EmployeeName      148654 non-null  object \n",
      " 2   JobTitle          148654 non-null  object \n",
      " 3   BasePay           148049 non-null  object \n",
      " 4   OvertimePay       148654 non-null  object \n",
      " 5   OtherPay          148654 non-null  object \n",
      " 6   Benefits          112495 non-null  object \n",
      " 7   TotalPay          148654 non-null  float64\n",
      " 8   TotalPayBenefits  148654 non-null  float64\n",
      " 9   Year              148654 non-null  int64  \n",
      " 10  Notes             0 non-null       float64\n",
      " 11  Agency            148654 non-null  object \n",
      " 12  Status            38119 non-null   object \n",
      "dtypes: float64(3), int64(2), object(8)\n",
      "memory usage: 14.7+ MB\n"
     ]
    }
   ],
   "source": [
    "# Getting Information About Our Dataset Like Total Number Rows, Total Number of Columns, \n",
    "#Datatypes of Each Column And Memory Requirement\n",
    "data.info()"
   ]
  },
  {
   "cell_type": "code",
   "execution_count": 6,
   "id": "9412f1b2",
   "metadata": {
    "execution": {
     "iopub.execute_input": "2023-04-21T22:32:46.169298Z",
     "iopub.status.busy": "2023-04-21T22:32:46.168842Z",
     "iopub.status.idle": "2023-04-21T22:32:46.237462Z",
     "shell.execute_reply": "2023-04-21T22:32:46.235970Z"
    },
    "papermill": {
     "duration": 0.07953,
     "end_time": "2023-04-21T22:32:46.240057",
     "exception": false,
     "start_time": "2023-04-21T22:32:46.160527",
     "status": "completed"
    },
    "tags": []
   },
   "outputs": [
    {
     "name": "stdout",
     "output_type": "stream",
     "text": [
      "Id                    0.000000\n",
      "EmployeeName          0.000000\n",
      "JobTitle              0.000000\n",
      "BasePay               0.406985\n",
      "OvertimePay           0.000000\n",
      "OtherPay              0.000000\n",
      "Benefits             24.324270\n",
      "TotalPay              0.000000\n",
      "TotalPayBenefits      0.000000\n",
      "Year                  0.000000\n",
      "Notes               100.000000\n",
      "Agency                0.000000\n",
      "Status               74.357232\n",
      "dtype: float64\n"
     ]
    }
   ],
   "source": [
    "# 5. Check Null Values In The Dataset\n",
    "n_nulls = data.isnull().sum()\n",
    "#print(n_nulls)\n",
    "\n",
    "total_rows = len(data)\n",
    "null_percents = (n_nulls/total_rows) * 100\n",
    "print(null_percents)"
   ]
  },
  {
   "cell_type": "code",
   "execution_count": 7,
   "id": "092132ec",
   "metadata": {
    "execution": {
     "iopub.execute_input": "2023-04-21T22:32:46.255337Z",
     "iopub.status.busy": "2023-04-21T22:32:46.254450Z",
     "iopub.status.idle": "2023-04-21T22:32:46.262523Z",
     "shell.execute_reply": "2023-04-21T22:32:46.261404Z"
    },
    "papermill": {
     "duration": 0.018475,
     "end_time": "2023-04-21T22:32:46.265043",
     "exception": false,
     "start_time": "2023-04-21T22:32:46.246568",
     "status": "completed"
    },
    "tags": []
   },
   "outputs": [
    {
     "data": {
      "text/plain": [
       "Index(['Id', 'EmployeeName', 'JobTitle', 'BasePay', 'OvertimePay', 'OtherPay',\n",
       "       'Benefits', 'TotalPay', 'TotalPayBenefits', 'Year', 'Notes', 'Agency',\n",
       "       'Status'],\n",
       "      dtype='object')"
      ]
     },
     "execution_count": 7,
     "metadata": {},
     "output_type": "execute_result"
    }
   ],
   "source": [
    "#Drop ID, Notes, Agency, and Status Columns\n",
    "#data = data.drop(['Id', 'Notes', 'Agency', 'Status'], axis=1)\n",
    "data.columns"
   ]
  },
  {
   "cell_type": "code",
   "execution_count": 8,
   "id": "2758a4da",
   "metadata": {
    "execution": {
     "iopub.execute_input": "2023-04-21T22:32:46.280263Z",
     "iopub.status.busy": "2023-04-21T22:32:46.279463Z",
     "iopub.status.idle": "2023-04-21T22:32:46.333531Z",
     "shell.execute_reply": "2023-04-21T22:32:46.332090Z"
    },
    "papermill": {
     "duration": 0.064689,
     "end_time": "2023-04-21T22:32:46.336179",
     "exception": false,
     "start_time": "2023-04-21T22:32:46.271490",
     "status": "completed"
    },
    "tags": []
   },
   "outputs": [
    {
     "data": {
      "text/html": [
       "<div>\n",
       "<style scoped>\n",
       "    .dataframe tbody tr th:only-of-type {\n",
       "        vertical-align: middle;\n",
       "    }\n",
       "\n",
       "    .dataframe tbody tr th {\n",
       "        vertical-align: top;\n",
       "    }\n",
       "\n",
       "    .dataframe thead th {\n",
       "        text-align: right;\n",
       "    }\n",
       "</style>\n",
       "<table border=\"1\" class=\"dataframe\">\n",
       "  <thead>\n",
       "    <tr style=\"text-align: right;\">\n",
       "      <th></th>\n",
       "      <th>Id</th>\n",
       "      <th>TotalPay</th>\n",
       "      <th>TotalPayBenefits</th>\n",
       "      <th>Year</th>\n",
       "      <th>Notes</th>\n",
       "    </tr>\n",
       "  </thead>\n",
       "  <tbody>\n",
       "    <tr>\n",
       "      <th>count</th>\n",
       "      <td>148654.000000</td>\n",
       "      <td>148654.000000</td>\n",
       "      <td>148654.000000</td>\n",
       "      <td>148654.000000</td>\n",
       "      <td>0.0</td>\n",
       "    </tr>\n",
       "    <tr>\n",
       "      <th>mean</th>\n",
       "      <td>74327.500000</td>\n",
       "      <td>74768.321972</td>\n",
       "      <td>93692.554811</td>\n",
       "      <td>2012.522643</td>\n",
       "      <td>NaN</td>\n",
       "    </tr>\n",
       "    <tr>\n",
       "      <th>std</th>\n",
       "      <td>42912.857795</td>\n",
       "      <td>50517.005274</td>\n",
       "      <td>62793.533483</td>\n",
       "      <td>1.117538</td>\n",
       "      <td>NaN</td>\n",
       "    </tr>\n",
       "    <tr>\n",
       "      <th>min</th>\n",
       "      <td>1.000000</td>\n",
       "      <td>-618.130000</td>\n",
       "      <td>-618.130000</td>\n",
       "      <td>2011.000000</td>\n",
       "      <td>NaN</td>\n",
       "    </tr>\n",
       "    <tr>\n",
       "      <th>25%</th>\n",
       "      <td>37164.250000</td>\n",
       "      <td>36168.995000</td>\n",
       "      <td>44065.650000</td>\n",
       "      <td>2012.000000</td>\n",
       "      <td>NaN</td>\n",
       "    </tr>\n",
       "    <tr>\n",
       "      <th>50%</th>\n",
       "      <td>74327.500000</td>\n",
       "      <td>71426.610000</td>\n",
       "      <td>92404.090000</td>\n",
       "      <td>2013.000000</td>\n",
       "      <td>NaN</td>\n",
       "    </tr>\n",
       "    <tr>\n",
       "      <th>75%</th>\n",
       "      <td>111490.750000</td>\n",
       "      <td>105839.135000</td>\n",
       "      <td>132876.450000</td>\n",
       "      <td>2014.000000</td>\n",
       "      <td>NaN</td>\n",
       "    </tr>\n",
       "    <tr>\n",
       "      <th>max</th>\n",
       "      <td>148654.000000</td>\n",
       "      <td>567595.430000</td>\n",
       "      <td>567595.430000</td>\n",
       "      <td>2014.000000</td>\n",
       "      <td>NaN</td>\n",
       "    </tr>\n",
       "  </tbody>\n",
       "</table>\n",
       "</div>"
      ],
      "text/plain": [
       "                  Id       TotalPay  TotalPayBenefits           Year  Notes\n",
       "count  148654.000000  148654.000000     148654.000000  148654.000000    0.0\n",
       "mean    74327.500000   74768.321972      93692.554811    2012.522643    NaN\n",
       "std     42912.857795   50517.005274      62793.533483       1.117538    NaN\n",
       "min         1.000000    -618.130000       -618.130000    2011.000000    NaN\n",
       "25%     37164.250000   36168.995000      44065.650000    2012.000000    NaN\n",
       "50%     74327.500000   71426.610000      92404.090000    2013.000000    NaN\n",
       "75%    111490.750000  105839.135000     132876.450000    2014.000000    NaN\n",
       "max    148654.000000  567595.430000     567595.430000    2014.000000    NaN"
      ]
     },
     "execution_count": 8,
     "metadata": {},
     "output_type": "execute_result"
    }
   ],
   "source": [
    "#Get Overall Statistics About The Dataframe\n",
    "data.describe()"
   ]
  },
  {
   "cell_type": "code",
   "execution_count": 9,
   "id": "dd19a422",
   "metadata": {
    "execution": {
     "iopub.execute_input": "2023-04-21T22:32:46.352151Z",
     "iopub.status.busy": "2023-04-21T22:32:46.351171Z",
     "iopub.status.idle": "2023-04-21T22:32:46.474446Z",
     "shell.execute_reply": "2023-04-21T22:32:46.472892Z"
    },
    "papermill": {
     "duration": 0.13379,
     "end_time": "2023-04-21T22:32:46.476988",
     "exception": false,
     "start_time": "2023-04-21T22:32:46.343198",
     "status": "completed"
    },
    "tags": []
   },
   "outputs": [
    {
     "name": "stdout",
     "output_type": "stream",
     "text": [
      "Kevin Lee       13\n",
      "Richard Lee     11\n",
      "Steven Lee      11\n",
      "William Wong    11\n",
      "Stanley Lee      9\n",
      "Name: EmployeeName, dtype: int64\n"
     ]
    }
   ],
   "source": [
    "#  Find Occurrence of The Employee Names  (Top 5)\n",
    "employee_names_occurrence = data[\"EmployeeName\"].value_counts()\n",
    "print(employee_names_occurrence.head())"
   ]
  },
  {
   "cell_type": "code",
   "execution_count": 10,
   "id": "5098ed1d",
   "metadata": {
    "execution": {
     "iopub.execute_input": "2023-04-21T22:32:46.492594Z",
     "iopub.status.busy": "2023-04-21T22:32:46.491539Z",
     "iopub.status.idle": "2023-04-21T22:32:46.512742Z",
     "shell.execute_reply": "2023-04-21T22:32:46.511367Z"
    },
    "papermill": {
     "duration": 0.031526,
     "end_time": "2023-04-21T22:32:46.515209",
     "exception": false,
     "start_time": "2023-04-21T22:32:46.483683",
     "status": "completed"
    },
    "tags": []
   },
   "outputs": [
    {
     "name": "stdout",
     "output_type": "stream",
     "text": [
      "2159\n"
     ]
    }
   ],
   "source": [
    "# Find The Number of Unique Job Titles\n",
    "unique_job_titles = data[\"JobTitle\"].nunique()\n",
    "print(unique_job_titles)"
   ]
  },
  {
   "cell_type": "code",
   "execution_count": 11,
   "id": "5b914ae9",
   "metadata": {
    "execution": {
     "iopub.execute_input": "2023-04-21T22:32:46.531469Z",
     "iopub.status.busy": "2023-04-21T22:32:46.531046Z",
     "iopub.status.idle": "2023-04-21T22:32:46.659159Z",
     "shell.execute_reply": "2023-04-21T22:32:46.657847Z"
    },
    "papermill": {
     "duration": 0.13961,
     "end_time": "2023-04-21T22:32:46.661633",
     "exception": false,
     "start_time": "2023-04-21T22:32:46.522023",
     "status": "completed"
    },
    "tags": []
   },
   "outputs": [
    {
     "data": {
      "text/plain": [
       "(552, 13)"
      ]
     },
     "execution_count": 11,
     "metadata": {},
     "output_type": "execute_result"
    }
   ],
   "source": [
    "#Total Number of Job Titles Contain Captain\n",
    "\n",
    "data[data[\"JobTitle\"].str.contains('Captain', case=False)].shape\n",
    "\n"
   ]
  },
  {
   "cell_type": "code",
   "execution_count": 12,
   "id": "0015e849",
   "metadata": {
    "execution": {
     "iopub.execute_input": "2023-04-21T22:32:46.677087Z",
     "iopub.status.busy": "2023-04-21T22:32:46.676320Z",
     "iopub.status.idle": "2023-04-21T22:32:46.793104Z",
     "shell.execute_reply": "2023-04-21T22:32:46.791865Z"
    },
    "papermill": {
     "duration": 0.127515,
     "end_time": "2023-04-21T22:32:46.795854",
     "exception": false,
     "start_time": "2023-04-21T22:32:46.668339",
     "status": "completed"
    },
    "tags": []
   },
   "outputs": [
    {
     "data": {
      "text/plain": [
       "552"
      ]
     },
     "execution_count": 12,
     "metadata": {},
     "output_type": "execute_result"
    }
   ],
   "source": [
    "data[data[\"JobTitle\"].str.contains('Captain', case=False)].shape[0]"
   ]
  },
  {
   "cell_type": "code",
   "execution_count": 13,
   "id": "f9b1b28f",
   "metadata": {
    "execution": {
     "iopub.execute_input": "2023-04-21T22:32:46.811829Z",
     "iopub.status.busy": "2023-04-21T22:32:46.811327Z",
     "iopub.status.idle": "2023-04-21T22:32:46.938876Z",
     "shell.execute_reply": "2023-04-21T22:32:46.937533Z"
    },
    "papermill": {
     "duration": 0.138643,
     "end_time": "2023-04-21T22:32:46.941622",
     "exception": false,
     "start_time": "2023-04-21T22:32:46.802979",
     "status": "completed"
    },
    "tags": []
   },
   "outputs": [
    {
     "data": {
      "text/plain": [
       "4            PATRICK GARDNER\n",
       "6                  ALSON LEE\n",
       "8             MICHAEL MORRIS\n",
       "9         JOANNE HAYES-WHITE\n",
       "10             ARTHUR KENNEY\n",
       "                 ...        \n",
       "145956      Kenneth C Farris\n",
       "147556         Edward A Dunn\n",
       "148021        Kari A Johnson\n",
       "148209          Sheryl K Lee\n",
       "148554       Lawrence F Gatt\n",
       "Name: EmployeeName, Length: 5879, dtype: object"
      ]
     },
     "execution_count": 13,
     "metadata": {},
     "output_type": "execute_result"
    }
   ],
   "source": [
    "# Display All the Employee Names From Fire Department\n",
    "data[data[\"JobTitle\"].str.contains(\"Fire\", case=False)][\"EmployeeName\"]"
   ]
  },
  {
   "cell_type": "code",
   "execution_count": 14,
   "id": "ffdd9e2f",
   "metadata": {
    "execution": {
     "iopub.execute_input": "2023-04-21T22:32:46.958086Z",
     "iopub.status.busy": "2023-04-21T22:32:46.957381Z",
     "iopub.status.idle": "2023-04-21T22:32:46.966875Z",
     "shell.execute_reply": "2023-04-21T22:32:46.965691Z"
    },
    "papermill": {
     "duration": 0.020333,
     "end_time": "2023-04-21T22:32:46.969253",
     "exception": false,
     "start_time": "2023-04-21T22:32:46.948920",
     "status": "completed"
    },
    "tags": []
   },
   "outputs": [
    {
     "name": "stdout",
     "output_type": "stream",
     "text": [
      "Min pay:  -618.13\n",
      "Max pay:  567595.43\n",
      "Average pay 74768\n"
     ]
    }
   ],
   "source": [
    "# Find Minimum, Maximum, and Average BasePay\n",
    "\n",
    "min_pay = data[\"TotalPay\"].min()\n",
    "print(\"Min pay: \", min_pay)\n",
    "\n",
    "max_pay = data[\"TotalPay\"].max()\n",
    "print(\"Max pay: \", max_pay)\n",
    "\n",
    "avr_pay = data[\"TotalPay\"].mean()\n",
    "print(\"Average pay\", round(avr_pay))"
   ]
  },
  {
   "cell_type": "code",
   "execution_count": 15,
   "id": "2aaef13a",
   "metadata": {
    "execution": {
     "iopub.execute_input": "2023-04-21T22:32:46.985586Z",
     "iopub.status.busy": "2023-04-21T22:32:46.984837Z",
     "iopub.status.idle": "2023-04-21T22:32:46.994521Z",
     "shell.execute_reply": "2023-04-21T22:32:46.993344Z"
    },
    "papermill": {
     "duration": 0.020613,
     "end_time": "2023-04-21T22:32:46.996923",
     "exception": false,
     "start_time": "2023-04-21T22:32:46.976310",
     "status": "completed"
    },
    "tags": []
   },
   "outputs": [
    {
     "data": {
      "text/plain": [
       "0            NATHANIEL FORD\n",
       "1              GARY JIMENEZ\n",
       "2            ALBERT PARDINI\n",
       "3         CHRISTOPHER CHONG\n",
       "4           PATRICK GARDNER\n",
       "                ...        \n",
       "148649        Roy I Tillery\n",
       "148650         Not provided\n",
       "148651         Not provided\n",
       "148652         Not provided\n",
       "148653            Joe Lopez\n",
       "Name: EmployeeName, Length: 148654, dtype: object"
      ]
     },
     "execution_count": 15,
     "metadata": {},
     "output_type": "execute_result"
    }
   ],
   "source": [
    "#Replace 'Not Provided' in EmployeeName' Column to NaN \n",
    "\n",
    "#data[\"EmployeeName\"].replace(\"Not provided\", pd.NaT, inplace=True)\n",
    "data[\"EmployeeName\"]"
   ]
  },
  {
   "cell_type": "code",
   "execution_count": 16,
   "id": "9730e980",
   "metadata": {
    "execution": {
     "iopub.execute_input": "2023-04-21T22:32:47.014521Z",
     "iopub.status.busy": "2023-04-21T22:32:47.014072Z",
     "iopub.status.idle": "2023-04-21T22:32:47.018353Z",
     "shell.execute_reply": "2023-04-21T22:32:47.017470Z"
    },
    "papermill": {
     "duration": 0.015822,
     "end_time": "2023-04-21T22:32:47.020465",
     "exception": false,
     "start_time": "2023-04-21T22:32:47.004643",
     "status": "completed"
    },
    "tags": []
   },
   "outputs": [],
   "source": [
    "#data = data.dropna(thresh=5)"
   ]
  },
  {
   "cell_type": "code",
   "execution_count": 17,
   "id": "144f7a79",
   "metadata": {
    "execution": {
     "iopub.execute_input": "2023-04-21T22:32:47.037651Z",
     "iopub.status.busy": "2023-04-21T22:32:47.036756Z",
     "iopub.status.idle": "2023-04-21T22:32:47.062694Z",
     "shell.execute_reply": "2023-04-21T22:32:47.061048Z"
    },
    "papermill": {
     "duration": 0.037807,
     "end_time": "2023-04-21T22:32:47.065646",
     "exception": false,
     "start_time": "2023-04-21T22:32:47.027839",
     "status": "completed"
    },
    "tags": []
   },
   "outputs": [
    {
     "data": {
      "text/plain": [
       "2    CAPTAIN III (POLICE DEPARTMENT)\n",
       "Name: JobTitle, dtype: object"
      ]
     },
     "execution_count": 17,
     "metadata": {},
     "output_type": "execute_result"
    }
   ],
   "source": [
    " #Find Job Title of ALBERT PARDINI\n",
    "    \n",
    "data[data[\"EmployeeName\"]== \"ALBERT PARDINI\"][\"JobTitle\"]"
   ]
  },
  {
   "cell_type": "code",
   "execution_count": 18,
   "id": "52b6bb6d",
   "metadata": {
    "execution": {
     "iopub.execute_input": "2023-04-21T22:32:47.083204Z",
     "iopub.status.busy": "2023-04-21T22:32:47.082731Z",
     "iopub.status.idle": "2023-04-21T22:32:47.106243Z",
     "shell.execute_reply": "2023-04-21T22:32:47.105038Z"
    },
    "papermill": {
     "duration": 0.034989,
     "end_time": "2023-04-21T22:32:47.108611",
     "exception": false,
     "start_time": "2023-04-21T22:32:47.073622",
     "status": "completed"
    },
    "tags": []
   },
   "outputs": [
    {
     "data": {
      "text/plain": [
       "2    335279.91\n",
       "Name: TotalPayBenefits, dtype: float64"
      ]
     },
     "execution_count": 18,
     "metadata": {},
     "output_type": "execute_result"
    }
   ],
   "source": [
    "#How Much ALBERT PARDINI Make (Include Benefits)?\n",
    "data[data[\"EmployeeName\"]== \"ALBERT PARDINI\"][\"TotalPayBenefits\"]"
   ]
  },
  {
   "cell_type": "code",
   "execution_count": 19,
   "id": "5e581a52",
   "metadata": {
    "execution": {
     "iopub.execute_input": "2023-04-21T22:32:47.126146Z",
     "iopub.status.busy": "2023-04-21T22:32:47.125294Z",
     "iopub.status.idle": "2023-04-21T22:32:47.139701Z",
     "shell.execute_reply": "2023-04-21T22:32:47.138333Z"
    },
    "papermill": {
     "duration": 0.025973,
     "end_time": "2023-04-21T22:32:47.142270",
     "exception": false,
     "start_time": "2023-04-21T22:32:47.116297",
     "status": "completed"
    },
    "tags": []
   },
   "outputs": [
    {
     "data": {
      "text/plain": [
       "'NATHANIEL FORD'"
      ]
     },
     "execution_count": 19,
     "metadata": {},
     "output_type": "execute_result"
    }
   ],
   "source": [
    "#Display Name of The Person Having The Highest BasePay\n",
    "\n",
    "max_base_pay = data['TotalPayBenefits'].idxmax()\n",
    "data.loc[max_base_pay, 'EmployeeName']"
   ]
  },
  {
   "cell_type": "code",
   "execution_count": null,
   "id": "07b20df1",
   "metadata": {
    "papermill": {
     "duration": 0.00753,
     "end_time": "2023-04-21T22:32:47.157571",
     "exception": false,
     "start_time": "2023-04-21T22:32:47.150041",
     "status": "completed"
    },
    "tags": []
   },
   "outputs": [],
   "source": []
  }
 ],
 "metadata": {
  "kernelspec": {
   "display_name": "Python 3",
   "language": "python",
   "name": "python3"
  },
  "language_info": {
   "codemirror_mode": {
    "name": "ipython",
    "version": 3
   },
   "file_extension": ".py",
   "mimetype": "text/x-python",
   "name": "python",
   "nbconvert_exporter": "python",
   "pygments_lexer": "ipython3",
   "version": "3.7.12"
  },
  "papermill": {
   "default_parameters": {},
   "duration": 13.391641,
   "end_time": "2023-04-21T22:32:47.987365",
   "environment_variables": {},
   "exception": null,
   "input_path": "__notebook__.ipynb",
   "output_path": "__notebook__.ipynb",
   "parameters": {},
   "start_time": "2023-04-21T22:32:34.595724",
   "version": "2.4.0"
  }
 },
 "nbformat": 4,
 "nbformat_minor": 5
}
