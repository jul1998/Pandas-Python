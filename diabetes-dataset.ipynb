{
 "cells": [
  {
   "cell_type": "code",
   "execution_count": 1,
   "id": "63153370",
   "metadata": {
    "_cell_guid": "b1076dfc-b9ad-4769-8c92-a6c4dae69d19",
    "_uuid": "8f2839f25d086af736a60e9eeb907d3b93b6e0e5",
    "execution": {
     "iopub.execute_input": "2023-04-20T05:41:56.986087Z",
     "iopub.status.busy": "2023-04-20T05:41:56.985567Z",
     "iopub.status.idle": "2023-04-20T05:41:56.998953Z",
     "shell.execute_reply": "2023-04-20T05:41:56.997538Z"
    },
    "papermill": {
     "duration": 0.02337,
     "end_time": "2023-04-20T05:41:57.002170",
     "exception": false,
     "start_time": "2023-04-20T05:41:56.978800",
     "status": "completed"
    },
    "tags": []
   },
   "outputs": [],
   "source": [
    "# This Python 3 environment comes with many helpful analytics libraries installed\n",
    "# It is defined by the kaggle/python Docker image: https://github.com/kaggle/docker-python\n",
    "# For example, here's several helpful packages to load\n",
    "\n",
    "import numpy as np # linear algebra\n",
    "import pandas as pd # data processing, CSV file I/O (e.g. pd.read_csv)\n",
    "\n",
    "# Input data files are available in the read-only \"../input/\" directory\n",
    "# For example, running this (by clicking run or pressing Shift+Enter) will list all files under the input directory\n",
    "\n",
    "import os\n",
    "for dirname, _, filenames in os.walk('/kaggle/input'):\n",
    "    for filename in filenames:\n",
    "        print(os.path.join(dirname, filename))\n",
    "\n",
    "# You can write up to 20GB to the current directory (/kaggle/working/) that gets preserved as output when you create a version using \"Save & Run All\" \n",
    "# You can also write temporary files to /kaggle/temp/, but they won't be saved outside of the current session"
   ]
  },
  {
   "cell_type": "code",
   "execution_count": 2,
   "id": "38ed4323",
   "metadata": {
    "execution": {
     "iopub.execute_input": "2023-04-20T05:41:57.013076Z",
     "iopub.status.busy": "2023-04-20T05:41:57.012489Z",
     "iopub.status.idle": "2023-04-20T05:41:58.297400Z",
     "shell.execute_reply": "2023-04-20T05:41:58.295646Z"
    },
    "papermill": {
     "duration": 1.294662,
     "end_time": "2023-04-20T05:41:58.301350",
     "exception": false,
     "start_time": "2023-04-20T05:41:57.006688",
     "status": "completed"
    },
    "tags": []
   },
   "outputs": [
    {
     "data": {
      "text/html": [
       "<div>\n",
       "<style scoped>\n",
       "    .dataframe tbody tr th:only-of-type {\n",
       "        vertical-align: middle;\n",
       "    }\n",
       "\n",
       "    .dataframe tbody tr th {\n",
       "        vertical-align: top;\n",
       "    }\n",
       "\n",
       "    .dataframe thead th {\n",
       "        text-align: right;\n",
       "    }\n",
       "</style>\n",
       "<table border=\"1\" class=\"dataframe\">\n",
       "  <thead>\n",
       "    <tr style=\"text-align: right;\">\n",
       "      <th></th>\n",
       "      <th>age</th>\n",
       "      <th>sex</th>\n",
       "      <th>bmi</th>\n",
       "      <th>bp</th>\n",
       "      <th>s1</th>\n",
       "      <th>s2</th>\n",
       "      <th>s3</th>\n",
       "      <th>s4</th>\n",
       "      <th>s5</th>\n",
       "      <th>s6</th>\n",
       "      <th>target</th>\n",
       "    </tr>\n",
       "  </thead>\n",
       "  <tbody>\n",
       "    <tr>\n",
       "      <th>0</th>\n",
       "      <td>0.038076</td>\n",
       "      <td>0.050680</td>\n",
       "      <td>0.061696</td>\n",
       "      <td>0.021872</td>\n",
       "      <td>-0.044223</td>\n",
       "      <td>-0.034821</td>\n",
       "      <td>-0.043401</td>\n",
       "      <td>-0.002592</td>\n",
       "      <td>0.019908</td>\n",
       "      <td>-0.017646</td>\n",
       "      <td>151.0</td>\n",
       "    </tr>\n",
       "    <tr>\n",
       "      <th>1</th>\n",
       "      <td>-0.001882</td>\n",
       "      <td>-0.044642</td>\n",
       "      <td>-0.051474</td>\n",
       "      <td>-0.026328</td>\n",
       "      <td>-0.008449</td>\n",
       "      <td>-0.019163</td>\n",
       "      <td>0.074412</td>\n",
       "      <td>-0.039493</td>\n",
       "      <td>-0.068330</td>\n",
       "      <td>-0.092204</td>\n",
       "      <td>75.0</td>\n",
       "    </tr>\n",
       "    <tr>\n",
       "      <th>2</th>\n",
       "      <td>0.085299</td>\n",
       "      <td>0.050680</td>\n",
       "      <td>0.044451</td>\n",
       "      <td>-0.005671</td>\n",
       "      <td>-0.045599</td>\n",
       "      <td>-0.034194</td>\n",
       "      <td>-0.032356</td>\n",
       "      <td>-0.002592</td>\n",
       "      <td>0.002864</td>\n",
       "      <td>-0.025930</td>\n",
       "      <td>141.0</td>\n",
       "    </tr>\n",
       "    <tr>\n",
       "      <th>3</th>\n",
       "      <td>-0.089063</td>\n",
       "      <td>-0.044642</td>\n",
       "      <td>-0.011595</td>\n",
       "      <td>-0.036656</td>\n",
       "      <td>0.012191</td>\n",
       "      <td>0.024991</td>\n",
       "      <td>-0.036038</td>\n",
       "      <td>0.034309</td>\n",
       "      <td>0.022692</td>\n",
       "      <td>-0.009362</td>\n",
       "      <td>206.0</td>\n",
       "    </tr>\n",
       "    <tr>\n",
       "      <th>4</th>\n",
       "      <td>0.005383</td>\n",
       "      <td>-0.044642</td>\n",
       "      <td>-0.036385</td>\n",
       "      <td>0.021872</td>\n",
       "      <td>0.003935</td>\n",
       "      <td>0.015596</td>\n",
       "      <td>0.008142</td>\n",
       "      <td>-0.002592</td>\n",
       "      <td>-0.031991</td>\n",
       "      <td>-0.046641</td>\n",
       "      <td>135.0</td>\n",
       "    </tr>\n",
       "  </tbody>\n",
       "</table>\n",
       "</div>"
      ],
      "text/plain": [
       "        age       sex       bmi        bp        s1        s2        s3  \\\n",
       "0  0.038076  0.050680  0.061696  0.021872 -0.044223 -0.034821 -0.043401   \n",
       "1 -0.001882 -0.044642 -0.051474 -0.026328 -0.008449 -0.019163  0.074412   \n",
       "2  0.085299  0.050680  0.044451 -0.005671 -0.045599 -0.034194 -0.032356   \n",
       "3 -0.089063 -0.044642 -0.011595 -0.036656  0.012191  0.024991 -0.036038   \n",
       "4  0.005383 -0.044642 -0.036385  0.021872  0.003935  0.015596  0.008142   \n",
       "\n",
       "         s4        s5        s6  target  \n",
       "0 -0.002592  0.019908 -0.017646   151.0  \n",
       "1 -0.039493 -0.068330 -0.092204    75.0  \n",
       "2 -0.002592  0.002864 -0.025930   141.0  \n",
       "3  0.034309  0.022692 -0.009362   206.0  \n",
       "4 -0.002592 -0.031991 -0.046641   135.0  "
      ]
     },
     "execution_count": 2,
     "metadata": {},
     "output_type": "execute_result"
    }
   ],
   "source": [
    "from sklearn.datasets import load_diabetes\n",
    "diabetes = load_diabetes()\n",
    "\n",
    "\n",
    "#Convert data to pandas dataframe\n",
    "\n",
    "my_df = pd.DataFrame(diabetes.data, columns=diabetes.feature_names)\n",
    "\n",
    "\n",
    "#add the target\n",
    "\n",
    "my_df[\"target\"] = diabetes.target\n",
    "my_df.head()"
   ]
  },
  {
   "cell_type": "code",
   "execution_count": 3,
   "id": "c7faa135",
   "metadata": {
    "execution": {
     "iopub.execute_input": "2023-04-20T05:41:58.312945Z",
     "iopub.status.busy": "2023-04-20T05:41:58.312493Z",
     "iopub.status.idle": "2023-04-20T05:41:58.326663Z",
     "shell.execute_reply": "2023-04-20T05:41:58.325046Z"
    },
    "papermill": {
     "duration": 0.023861,
     "end_time": "2023-04-20T05:41:58.329965",
     "exception": false,
     "start_time": "2023-04-20T05:41:58.306104",
     "status": "completed"
    },
    "tags": []
   },
   "outputs": [
    {
     "data": {
      "text/plain": [
       "((442, 10), (442,))"
      ]
     },
     "execution_count": 3,
     "metadata": {},
     "output_type": "execute_result"
    }
   ],
   "source": [
    "#Split the data into X and y\n",
    "X = my_df.drop(\"target\", axis=1)\n",
    "y = my_df[\"target\"]\n",
    "X.shape, y.shape\n",
    "\n"
   ]
  },
  {
   "cell_type": "code",
   "execution_count": 4,
   "id": "9fc050bd",
   "metadata": {
    "execution": {
     "iopub.execute_input": "2023-04-20T05:41:58.341146Z",
     "iopub.status.busy": "2023-04-20T05:41:58.340637Z",
     "iopub.status.idle": "2023-04-20T05:41:58.419886Z",
     "shell.execute_reply": "2023-04-20T05:41:58.418296Z"
    },
    "papermill": {
     "duration": 0.088918,
     "end_time": "2023-04-20T05:41:58.423341",
     "exception": false,
     "start_time": "2023-04-20T05:41:58.334423",
     "status": "completed"
    },
    "tags": []
   },
   "outputs": [
    {
     "name": "stdout",
     "output_type": "stream",
     "text": [
      "Training set shape:  (353, 10) (353,)\n",
      "Test set shape:  (89, 10) (89,)\n"
     ]
    }
   ],
   "source": [
    "from sklearn.model_selection import train_test_split\n",
    "\n",
    "# Split data iinto training and testing\n",
    "\n",
    "X_train, X_val, y_train, y_val = train_test_split(X, y , test_size= 0.2, random_state=42)\n",
    "\n",
    "# print out the shape of the training and testing sets\n",
    "\n",
    "print(\"Training set shape: \",X_train.shape, y_train.shape )\n",
    "print(\"Test set shape: \", X_val.shape,y_val.shape )\n",
    "\n",
    "#80% to training and 20% to testing"
   ]
  },
  {
   "cell_type": "code",
   "execution_count": 5,
   "id": "154166f4",
   "metadata": {
    "execution": {
     "iopub.execute_input": "2023-04-20T05:41:58.434369Z",
     "iopub.status.busy": "2023-04-20T05:41:58.433928Z",
     "iopub.status.idle": "2023-04-20T05:41:58.536056Z",
     "shell.execute_reply": "2023-04-20T05:41:58.534635Z"
    },
    "papermill": {
     "duration": 0.111292,
     "end_time": "2023-04-20T05:41:58.539213",
     "exception": false,
     "start_time": "2023-04-20T05:41:58.427921",
     "status": "completed"
    },
    "tags": []
   },
   "outputs": [],
   "source": [
    "from sklearn.linear_model import LinearRegression\n",
    "\n",
    "# create a linear regression model\n",
    "\n",
    "lr = LinearRegression()\n"
   ]
  },
  {
   "cell_type": "code",
   "execution_count": 6,
   "id": "87947221",
   "metadata": {
    "execution": {
     "iopub.execute_input": "2023-04-20T05:41:58.551129Z",
     "iopub.status.busy": "2023-04-20T05:41:58.550595Z",
     "iopub.status.idle": "2023-04-20T05:41:58.584651Z",
     "shell.execute_reply": "2023-04-20T05:41:58.583557Z"
    },
    "papermill": {
     "duration": 0.042218,
     "end_time": "2023-04-20T05:41:58.587224",
     "exception": false,
     "start_time": "2023-04-20T05:41:58.545006",
     "status": "completed"
    },
    "tags": []
   },
   "outputs": [
    {
     "data": {
      "text/plain": [
       "LinearRegression()"
      ]
     },
     "execution_count": 6,
     "metadata": {},
     "output_type": "execute_result"
    }
   ],
   "source": [
    "# Traing the model on the training set\n",
    "\n",
    "lr.fit(X_train, y_train)\n"
   ]
  },
  {
   "cell_type": "code",
   "execution_count": 7,
   "id": "57d8a493",
   "metadata": {
    "execution": {
     "iopub.execute_input": "2023-04-20T05:41:58.597717Z",
     "iopub.status.busy": "2023-04-20T05:41:58.597322Z",
     "iopub.status.idle": "2023-04-20T05:41:58.610029Z",
     "shell.execute_reply": "2023-04-20T05:41:58.608205Z"
    },
    "papermill": {
     "duration": 0.021813,
     "end_time": "2023-04-20T05:41:58.613451",
     "exception": false,
     "start_time": "2023-04-20T05:41:58.591638",
     "status": "completed"
    },
    "tags": []
   },
   "outputs": [
    {
     "data": {
      "text/plain": [
       "(89,)"
      ]
     },
     "execution_count": 7,
     "metadata": {},
     "output_type": "execute_result"
    }
   ],
   "source": [
    "#Predict on the testing set\n",
    "# y_pred are predicted values based on features\n",
    "# Once we have these preds, we can compare them to the \n",
    "# actual values of the target\n",
    "# to evaluate the performace of the model.\n",
    "y_pred =  lr.predict(X_val)\n",
    "y_pred.shape"
   ]
  },
  {
   "cell_type": "code",
   "execution_count": 8,
   "id": "031c82d9",
   "metadata": {
    "execution": {
     "iopub.execute_input": "2023-04-20T05:41:58.624499Z",
     "iopub.status.busy": "2023-04-20T05:41:58.624026Z",
     "iopub.status.idle": "2023-04-20T05:41:58.636142Z",
     "shell.execute_reply": "2023-04-20T05:41:58.634506Z"
    },
    "papermill": {
     "duration": 0.021156,
     "end_time": "2023-04-20T05:41:58.639263",
     "exception": false,
     "start_time": "2023-04-20T05:41:58.618107",
     "status": "completed"
    },
    "tags": []
   },
   "outputs": [
    {
     "name": "stdout",
     "output_type": "stream",
     "text": [
      "R2 sore:  0.4526066021617381\n",
      "MSE:  2900.1732878832313\n",
      "MAE:  42.79389304196525\n",
      "Intercept:  151.3456553477407\n"
     ]
    }
   ],
   "source": [
    "from sklearn.metrics import r2_score, mean_squared_error, mean_absolute_error\n",
    "#Evaluate perfomance of the model\n",
    "\n",
    "r2 =r2_score(y_val, y_pred) \n",
    "#R2: # variance of the dependent variable (target) explained by independent variables(features)\n",
    "# How well the model fits the data. Higher is better\n",
    "\n",
    "mse= mean_squared_error(y_val, y_pred)\n",
    "# MSE: average squared distance between predicted and actual values: Lower is better\n",
    "\n",
    "mae=mean_absolute_error(y_val,y_pred)\n",
    "#MAE: Average absolute distance  between predicted and actual values. Lower is better\n",
    "\n",
    "intercept = lr.intercept_\n",
    "#Intercept: Starting point of the regression line on the y_axis\n",
    "#if possitive number. target increases as features increase, if negative => opposite\n",
    "print(\"R2 sore: \", r2)\n",
    "print(\"MSE: \", mse)\n",
    "print(\"MAE: \", mae)\n",
    "print(\"Intercept: \", intercept )"
   ]
  },
  {
   "cell_type": "code",
   "execution_count": 9,
   "id": "d213f2ef",
   "metadata": {
    "execution": {
     "iopub.execute_input": "2023-04-20T05:41:58.650611Z",
     "iopub.status.busy": "2023-04-20T05:41:58.649606Z",
     "iopub.status.idle": "2023-04-20T05:41:58.947151Z",
     "shell.execute_reply": "2023-04-20T05:41:58.946162Z"
    },
    "papermill": {
     "duration": 0.30624,
     "end_time": "2023-04-20T05:41:58.949912",
     "exception": false,
     "start_time": "2023-04-20T05:41:58.643672",
     "status": "completed"
    },
    "tags": []
   },
   "outputs": [
    {
     "data": {
      "text/plain": [
       "Text(0.5, 1.0, 'Predicted vs actual values')"
      ]
     },
     "execution_count": 9,
     "metadata": {},
     "output_type": "execute_result"
    },
    {
     "data": {
      "image/png": "[encoded data removed]",
      "text/plain": [
       "<Figure size 640x480 with 1 Axes>"
      ]
     },
     "metadata": {},
     "output_type": "display_data"
    }
   ],
   "source": [
    "import matplotlib.pyplot as plt\n",
    "\n",
    "# Plot the predicted vs actual values\n",
    "# Predicted values of the target variables are plotted on hte x-axis\n",
    "# Actual values of the target variable are plotted on the y-axis\n",
    "\n",
    "plt.scatter(y_val, y_pred, alpha=0.5)\n",
    "plt.plot([y.min(), y.max()], [y.min(), y.max()], color=\"red\")\n",
    "plt.xlabel(\"Actual values\")\n",
    "plt.ylabel(\"Predicted values\")\n",
    "plt.title(\"Predicted vs actual values\")\n"
   ]
  }
 ],
 "metadata": {
  "kernelspec": {
   "display_name": "Python 3",
   "language": "python",
   "name": "python3"
  },
  "language_info": {
   "codemirror_mode": {
    "name": "ipython",
    "version": 3
   },
   "file_extension": ".py",
   "mimetype": "text/x-python",
   "name": "python",
   "nbconvert_exporter": "python",
   "pygments_lexer": "ipython3",
   "version": "3.7.12"
  },
  "papermill": {
   "default_parameters": {},
   "duration": 13.757287,
   "end_time": "2023-04-20T05:41:59.882068",
   "environment_variables": {},
   "exception": null,
   "input_path": "__notebook__.ipynb",
   "output_path": "__notebook__.ipynb",
   "parameters": {},
   "start_time": "2023-04-20T05:41:46.124781",
   "version": "2.4.0"
  }
 },
 "nbformat": 4,
 "nbformat_minor": 5
}
