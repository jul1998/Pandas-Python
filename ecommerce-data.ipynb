{
 "cells": [
  {
   "cell_type": "code",
   "execution_count": 1,
   "id": "53965f35",
   "metadata": {
    "_cell_guid": "b1076dfc-b9ad-4769-8c92-a6c4dae69d19",
    "_uuid": "8f2839f25d086af736a60e9eeb907d3b93b6e0e5",
    "execution": {
     "iopub.execute_input": "2023-04-20T04:54:20.188739Z",
     "iopub.status.busy": "2023-04-20T04:54:20.188313Z",
     "iopub.status.idle": "2023-04-20T04:54:20.211521Z",
     "shell.execute_reply": "2023-04-20T04:54:20.210466Z"
    },
    "papermill": {
     "duration": 0.036364,
     "end_time": "2023-04-20T04:54:20.214511",
     "exception": false,
     "start_time": "2023-04-20T04:54:20.178147",
     "status": "completed"
    },
    "tags": []
   },
   "outputs": [
    {
     "name": "stdout",
     "output_type": "stream",
     "text": [
      "/kaggle/input/ecommerce-purchases/Ecommerce Purchases\n"
     ]
    }
   ],
   "source": [
    "# This Python 3 environment comes with many helpful analytics libraries installed\n",
    "# It is defined by the kaggle/python Docker image: https://github.com/kaggle/docker-python\n",
    "# For example, here's several helpful packages to load\n",
    "\n",
    "import numpy as np # linear algebra\n",
    "import pandas as pd # data processing, CSV file I/O (e.g. pd.read_csv)\n",
    "\n",
    "# Input data files are available in the read-only \"../input/\" directory\n",
    "# For example, running this (by clicking run or pressing Shift+Enter) will list all files under the input directory\n",
    "\n",
    "import os\n",
    "for dirname, _, filenames in os.walk('/kaggle/input'):\n",
    "    for filename in filenames:\n",
    "        print(os.path.join(dirname, filename))\n",
    "\n",
    "# You can write up to 20GB to the current directory (/kaggle/working/) that gets preserved as output when you create a version using \"Save & Run All\" \n",
    "# You can also write temporary files to /kaggle/temp/, but they won't be saved outside of the current session"
   ]
  },
  {
   "cell_type": "code",
   "execution_count": 2,
   "id": "244998e8",
   "metadata": {
    "execution": {
     "iopub.execute_input": "2023-04-20T04:54:20.231811Z",
     "iopub.status.busy": "2023-04-20T04:54:20.230922Z",
     "iopub.status.idle": "2023-04-20T04:54:20.237076Z",
     "shell.execute_reply": "2023-04-20T04:54:20.235777Z"
    },
    "papermill": {
     "duration": 0.017464,
     "end_time": "2023-04-20T04:54:20.239657",
     "exception": false,
     "start_time": "2023-04-20T04:54:20.222193",
     "status": "completed"
    },
    "tags": []
   },
   "outputs": [],
   "source": [
    "# The data set contains information on customer purchases, such as their address, credit card information, email, job title, and purchase details like the purchase price, time of purchase (AM or PM), and language. Some insights you could try to get using pandas are:\n",
    "\n",
    "# The average purchase price and the most popular purchase price range.\n",
    "# The most commonly used credit card provider and its market share.\n",
    "# The number of purchases made during AM and PM.\n",
    "# The most common language among customers and its market share.\n",
    "# The most common job titles among customers.\n",
    "# The geographic distribution of customers based on their IP addresses.\n",
    "# The most popular browser and its market share among customers.\n",
    "# The relationship between job titles and purchase amounts.\n",
    "# The relationship between purchase amounts and the time of purchase (AM or PM).\n",
    "# The relationship between purchase amounts and credit card providers.\n",
    "# The average purchase price by language.\n",
    "# The correlation between purchase amount and credit card security code.\n",
    "# The average purchase price by job title.\n",
    "# The relationship between purchase price and lot number.\n",
    "# The relationship between purchase price and company."
   ]
  },
  {
   "cell_type": "code",
   "execution_count": 3,
   "id": "88a3f8e7",
   "metadata": {
    "execution": {
     "iopub.execute_input": "2023-04-20T04:54:20.256468Z",
     "iopub.status.busy": "2023-04-20T04:54:20.256061Z",
     "iopub.status.idle": "2023-04-20T04:54:20.436246Z",
     "shell.execute_reply": "2023-04-20T04:54:20.434795Z"
    },
    "papermill": {
     "duration": 0.191996,
     "end_time": "2023-04-20T04:54:20.439263",
     "exception": false,
     "start_time": "2023-04-20T04:54:20.247267",
     "status": "completed"
    },
    "tags": []
   },
   "outputs": [
    {
     "data": {
      "text/html": [
       "<div>\n",
       "<style scoped>\n",
       "    .dataframe tbody tr th:only-of-type {\n",
       "        vertical-align: middle;\n",
       "    }\n",
       "\n",
       "    .dataframe tbody tr th {\n",
       "        vertical-align: top;\n",
       "    }\n",
       "\n",
       "    .dataframe thead th {\n",
       "        text-align: right;\n",
       "    }\n",
       "</style>\n",
       "<table border=\"1\" class=\"dataframe\">\n",
       "  <thead>\n",
       "    <tr style=\"text-align: right;\">\n",
       "      <th></th>\n",
       "      <th>Address</th>\n",
       "      <th>Lot</th>\n",
       "      <th>AM or PM</th>\n",
       "      <th>Browser Info</th>\n",
       "      <th>Company</th>\n",
       "      <th>Credit Card</th>\n",
       "      <th>CC Exp Date</th>\n",
       "      <th>CC Security Code</th>\n",
       "      <th>CC Provider</th>\n",
       "      <th>Email</th>\n",
       "      <th>Job</th>\n",
       "      <th>IP Address</th>\n",
       "      <th>Language</th>\n",
       "      <th>Purchase Price</th>\n",
       "    </tr>\n",
       "  </thead>\n",
       "  <tbody>\n",
       "    <tr>\n",
       "      <th>0</th>\n",
       "      <td>16629 Pace Camp Apt. 448\\nAlexisborough, NE 77...</td>\n",
       "      <td>46 in</td>\n",
       "      <td>PM</td>\n",
       "      <td>Opera/9.56.(X11; Linux x86_64; sl-SI) Presto/2...</td>\n",
       "      <td>Martinez-Herman</td>\n",
       "      <td>6011929061123406</td>\n",
       "      <td>02/20</td>\n",
       "      <td>900</td>\n",
       "      <td>JCB 16 digit</td>\n",
       "      <td>pdunlap@yahoo.com</td>\n",
       "      <td>Scientist, product/process development</td>\n",
       "      <td>149.146.147.205</td>\n",
       "      <td>el</td>\n",
       "      <td>98.14</td>\n",
       "    </tr>\n",
       "    <tr>\n",
       "      <th>1</th>\n",
       "      <td>9374 Jasmine Spurs Suite 508\\nSouth John, TN 8...</td>\n",
       "      <td>28 rn</td>\n",
       "      <td>PM</td>\n",
       "      <td>Opera/8.93.(Windows 98; Win 9x 4.90; en-US) Pr...</td>\n",
       "      <td>Fletcher, Richards and Whitaker</td>\n",
       "      <td>3337758169645356</td>\n",
       "      <td>11/18</td>\n",
       "      <td>561</td>\n",
       "      <td>Mastercard</td>\n",
       "      <td>anthony41@reed.com</td>\n",
       "      <td>Drilling engineer</td>\n",
       "      <td>15.160.41.51</td>\n",
       "      <td>fr</td>\n",
       "      <td>70.73</td>\n",
       "    </tr>\n",
       "    <tr>\n",
       "      <th>2</th>\n",
       "      <td>Unit 0065 Box 5052\\nDPO AP 27450</td>\n",
       "      <td>94 vE</td>\n",
       "      <td>PM</td>\n",
       "      <td>Mozilla/5.0 (compatible; MSIE 9.0; Windows NT ...</td>\n",
       "      <td>Simpson, Williams and Pham</td>\n",
       "      <td>675957666125</td>\n",
       "      <td>08/19</td>\n",
       "      <td>699</td>\n",
       "      <td>JCB 16 digit</td>\n",
       "      <td>amymiller@morales-harrison.com</td>\n",
       "      <td>Customer service manager</td>\n",
       "      <td>132.207.160.22</td>\n",
       "      <td>de</td>\n",
       "      <td>0.95</td>\n",
       "    </tr>\n",
       "    <tr>\n",
       "      <th>3</th>\n",
       "      <td>7780 Julia Fords\\nNew Stacy, WA 45798</td>\n",
       "      <td>36 vm</td>\n",
       "      <td>PM</td>\n",
       "      <td>Mozilla/5.0 (Macintosh; Intel Mac OS X 10_8_0 ...</td>\n",
       "      <td>Williams, Marshall and Buchanan</td>\n",
       "      <td>6011578504430710</td>\n",
       "      <td>02/24</td>\n",
       "      <td>384</td>\n",
       "      <td>Discover</td>\n",
       "      <td>brent16@olson-robinson.info</td>\n",
       "      <td>Drilling engineer</td>\n",
       "      <td>30.250.74.19</td>\n",
       "      <td>es</td>\n",
       "      <td>78.04</td>\n",
       "    </tr>\n",
       "    <tr>\n",
       "      <th>4</th>\n",
       "      <td>23012 Munoz Drive Suite 337\\nNew Cynthia, TX 5...</td>\n",
       "      <td>20 IE</td>\n",
       "      <td>AM</td>\n",
       "      <td>Opera/9.58.(X11; Linux x86_64; it-IT) Presto/2...</td>\n",
       "      <td>Brown, Watson and Andrews</td>\n",
       "      <td>6011456623207998</td>\n",
       "      <td>10/25</td>\n",
       "      <td>678</td>\n",
       "      <td>Diners Club / Carte Blanche</td>\n",
       "      <td>christopherwright@gmail.com</td>\n",
       "      <td>Fine artist</td>\n",
       "      <td>24.140.33.94</td>\n",
       "      <td>es</td>\n",
       "      <td>77.82</td>\n",
       "    </tr>\n",
       "  </tbody>\n",
       "</table>\n",
       "</div>"
      ],
      "text/plain": [
       "                                             Address    Lot AM or PM  \\\n",
       "0  16629 Pace Camp Apt. 448\\nAlexisborough, NE 77...  46 in       PM   \n",
       "1  9374 Jasmine Spurs Suite 508\\nSouth John, TN 8...  28 rn       PM   \n",
       "2                   Unit 0065 Box 5052\\nDPO AP 27450  94 vE       PM   \n",
       "3              7780 Julia Fords\\nNew Stacy, WA 45798  36 vm       PM   \n",
       "4  23012 Munoz Drive Suite 337\\nNew Cynthia, TX 5...  20 IE       AM   \n",
       "\n",
       "                                        Browser Info  \\\n",
       "0  Opera/9.56.(X11; Linux x86_64; sl-SI) Presto/2...   \n",
       "1  Opera/8.93.(Windows 98; Win 9x 4.90; en-US) Pr...   \n",
       "2  Mozilla/5.0 (compatible; MSIE 9.0; Windows NT ...   \n",
       "3  Mozilla/5.0 (Macintosh; Intel Mac OS X 10_8_0 ...   \n",
       "4  Opera/9.58.(X11; Linux x86_64; it-IT) Presto/2...   \n",
       "\n",
       "                           Company       Credit Card CC Exp Date  \\\n",
       "0                  Martinez-Herman  6011929061123406       02/20   \n",
       "1  Fletcher, Richards and Whitaker  3337758169645356       11/18   \n",
       "2       Simpson, Williams and Pham      675957666125       08/19   \n",
       "3  Williams, Marshall and Buchanan  6011578504430710       02/24   \n",
       "4        Brown, Watson and Andrews  6011456623207998       10/25   \n",
       "\n",
       "   CC Security Code                  CC Provider  \\\n",
       "0               900                 JCB 16 digit   \n",
       "1               561                   Mastercard   \n",
       "2               699                 JCB 16 digit   \n",
       "3               384                     Discover   \n",
       "4               678  Diners Club / Carte Blanche   \n",
       "\n",
       "                            Email                                     Job  \\\n",
       "0               pdunlap@yahoo.com  Scientist, product/process development   \n",
       "1              anthony41@reed.com                       Drilling engineer   \n",
       "2  amymiller@morales-harrison.com                Customer service manager   \n",
       "3     brent16@olson-robinson.info                       Drilling engineer   \n",
       "4     christopherwright@gmail.com                             Fine artist   \n",
       "\n",
       "        IP Address Language  Purchase Price  \n",
       "0  149.146.147.205       el           98.14  \n",
       "1     15.160.41.51       fr           70.73  \n",
       "2   132.207.160.22       de            0.95  \n",
       "3     30.250.74.19       es           78.04  \n",
       "4     24.140.33.94       es           77.82  "
      ]
     },
     "execution_count": 3,
     "metadata": {},
     "output_type": "execute_result"
    }
   ],
   "source": [
    "data = pd.read_csv(\"/kaggle/input/ecommerce-purchases/Ecommerce Purchases\")\n",
    "data.head()"
   ]
  },
  {
   "cell_type": "code",
   "execution_count": 4,
   "id": "c260f8ca",
   "metadata": {
    "execution": {
     "iopub.execute_input": "2023-04-20T04:54:20.457252Z",
     "iopub.status.busy": "2023-04-20T04:54:20.456856Z",
     "iopub.status.idle": "2023-04-20T04:54:20.463375Z",
     "shell.execute_reply": "2023-04-20T04:54:20.462342Z"
    },
    "papermill": {
     "duration": 0.018734,
     "end_time": "2023-04-20T04:54:20.466076",
     "exception": false,
     "start_time": "2023-04-20T04:54:20.447342",
     "status": "completed"
    },
    "tags": []
   },
   "outputs": [
    {
     "name": "stdout",
     "output_type": "stream",
     "text": [
      "Address              object\n",
      "Lot                  object\n",
      "AM or PM             object\n",
      "Browser Info         object\n",
      "Company              object\n",
      "Credit Card           int64\n",
      "CC Exp Date          object\n",
      "CC Security Code      int64\n",
      "CC Provider          object\n",
      "Email                object\n",
      "Job                  object\n",
      "IP Address           object\n",
      "Language             object\n",
      "Purchase Price      float64\n",
      "dtype: object\n"
     ]
    }
   ],
   "source": [
    "print(data.dtypes)"
   ]
  },
  {
   "cell_type": "code",
   "execution_count": 5,
   "id": "267bea75",
   "metadata": {
    "execution": {
     "iopub.execute_input": "2023-04-20T04:54:20.485323Z",
     "iopub.status.busy": "2023-04-20T04:54:20.483608Z",
     "iopub.status.idle": "2023-04-20T04:54:20.496209Z",
     "shell.execute_reply": "2023-04-20T04:54:20.494830Z"
    },
    "papermill": {
     "duration": 0.02463,
     "end_time": "2023-04-20T04:54:20.499048",
     "exception": false,
     "start_time": "2023-04-20T04:54:20.474418",
     "status": "completed"
    },
    "tags": []
   },
   "outputs": [
    {
     "name": "stdout",
     "output_type": "stream",
     "text": [
      "max_price    99.99\n",
      "min_price     0.00\n",
      "dtype: float64\n"
     ]
    }
   ],
   "source": [
    "max_price = data[\"Purchase Price\"].max()\n",
    "min_price = data[\"Purchase Price\"].min()\n",
    "\n",
    "edge_prices = pd.Series({\"max_price\":max_price, \"min_price\":min_price })\n",
    "print(edge_prices)"
   ]
  },
  {
   "cell_type": "code",
   "execution_count": 6,
   "id": "d3bb2754",
   "metadata": {
    "execution": {
     "iopub.execute_input": "2023-04-20T04:54:20.518372Z",
     "iopub.status.busy": "2023-04-20T04:54:20.517429Z",
     "iopub.status.idle": "2023-04-20T04:54:20.529174Z",
     "shell.execute_reply": "2023-04-20T04:54:20.528097Z"
    },
    "papermill": {
     "duration": 0.024385,
     "end_time": "2023-04-20T04:54:20.531798",
     "exception": false,
     "start_time": "2023-04-20T04:54:20.507413",
     "status": "completed"
    },
    "tags": []
   },
   "outputs": [
    {
     "data": {
      "text/plain": [
       "1097"
      ]
     },
     "execution_count": 6,
     "metadata": {},
     "output_type": "execute_result"
    }
   ],
   "source": [
    "len(data[data[\"Language\"]==\"fr\"])"
   ]
  },
  {
   "cell_type": "code",
   "execution_count": 7,
   "id": "a276a639",
   "metadata": {
    "execution": {
     "iopub.execute_input": "2023-04-20T04:54:20.551066Z",
     "iopub.status.busy": "2023-04-20T04:54:20.549971Z",
     "iopub.status.idle": "2023-04-20T04:54:20.565127Z",
     "shell.execute_reply": "2023-04-20T04:54:20.563795Z"
    },
    "papermill": {
     "duration": 0.02778,
     "end_time": "2023-04-20T04:54:20.567770",
     "exception": false,
     "start_time": "2023-04-20T04:54:20.539990",
     "status": "completed"
    },
    "tags": []
   },
   "outputs": [
    {
     "data": {
      "text/plain": [
       "453"
      ]
     },
     "execution_count": 7,
     "metadata": {},
     "output_type": "execute_result"
    }
   ],
   "source": [
    "len(data[data[\"Job\"].str.contains(\"Engineer\")])"
   ]
  },
  {
   "cell_type": "code",
   "execution_count": 8,
   "id": "a745b736",
   "metadata": {
    "execution": {
     "iopub.execute_input": "2023-04-20T04:54:20.587074Z",
     "iopub.status.busy": "2023-04-20T04:54:20.585865Z",
     "iopub.status.idle": "2023-04-20T04:54:20.596137Z",
     "shell.execute_reply": "2023-04-20T04:54:20.594912Z"
    },
    "papermill": {
     "duration": 0.022896,
     "end_time": "2023-04-20T04:54:20.598503",
     "exception": false,
     "start_time": "2023-04-20T04:54:20.575607",
     "status": "completed"
    },
    "tags": []
   },
   "outputs": [
    {
     "data": {
      "text/plain": [
       "2    amymiller@morales-harrison.com\n",
       "Name: Email, dtype: object"
      ]
     },
     "execution_count": 8,
     "metadata": {},
     "output_type": "execute_result"
    }
   ],
   "source": [
    "ip = data[data[\"IP Address\"]==\"132.207.160.22\"]\n",
    "ip[\"Email\"]"
   ]
  },
  {
   "cell_type": "code",
   "execution_count": 9,
   "id": "7947b888",
   "metadata": {
    "execution": {
     "iopub.execute_input": "2023-04-20T04:54:20.616656Z",
     "iopub.status.busy": "2023-04-20T04:54:20.615933Z",
     "iopub.status.idle": "2023-04-20T04:54:20.632614Z",
     "shell.execute_reply": "2023-04-20T04:54:20.631076Z"
    },
    "papermill": {
     "duration": 0.028587,
     "end_time": "2023-04-20T04:54:20.635210",
     "exception": false,
     "start_time": "2023-04-20T04:54:20.606623",
     "status": "completed"
    },
    "tags": []
   },
   "outputs": [
    {
     "name": "stdout",
     "output_type": "stream",
     "text": [
      "Address             405\n",
      "Lot                 405\n",
      "AM or PM            405\n",
      "Browser Info        405\n",
      "Company             405\n",
      "Credit Card         405\n",
      "CC Exp Date         405\n",
      "CC Security Code    405\n",
      "CC Provider         405\n",
      "Email               405\n",
      "Job                 405\n",
      "IP Address          405\n",
      "Language            405\n",
      "Purchase Price      405\n",
      "dtype: int64\n"
     ]
    }
   ],
   "source": [
    "master_card = data[(data[\"CC Provider\"] == \"Mastercard\") & (data[\"Purchase Price\"]>50)].count()\n",
    "print(master_card)"
   ]
  },
  {
   "cell_type": "code",
   "execution_count": 10,
   "id": "b699d728",
   "metadata": {
    "execution": {
     "iopub.execute_input": "2023-04-20T04:54:20.654194Z",
     "iopub.status.busy": "2023-04-20T04:54:20.653730Z",
     "iopub.status.idle": "2023-04-20T04:54:20.662190Z",
     "shell.execute_reply": "2023-04-20T04:54:20.660766Z"
    },
    "papermill": {
     "duration": 0.02165,
     "end_time": "2023-04-20T04:54:20.665011",
     "exception": false,
     "start_time": "2023-04-20T04:54:20.643361",
     "status": "completed"
    },
    "tags": []
   },
   "outputs": [
    {
     "data": {
      "text/plain": [
       "Index(['Address', 'Lot', 'AM or PM', 'Browser Info', 'Company', 'Credit Card',\n",
       "       'CC Exp Date', 'CC Security Code', 'CC Provider', 'Email', 'Job',\n",
       "       'IP Address', 'Language', 'Purchase Price'],\n",
       "      dtype='object')"
      ]
     },
     "execution_count": 10,
     "metadata": {},
     "output_type": "execute_result"
    }
   ],
   "source": [
    "data.columns"
   ]
  },
  {
   "cell_type": "code",
   "execution_count": 11,
   "id": "32587ff2",
   "metadata": {
    "execution": {
     "iopub.execute_input": "2023-04-20T04:54:20.684965Z",
     "iopub.status.busy": "2023-04-20T04:54:20.684034Z",
     "iopub.status.idle": "2023-04-20T04:54:20.694382Z",
     "shell.execute_reply": "2023-04-20T04:54:20.692951Z"
    },
    "papermill": {
     "duration": 0.022765,
     "end_time": "2023-04-20T04:54:20.696738",
     "exception": false,
     "start_time": "2023-04-20T04:54:20.673973",
     "status": "completed"
    },
    "tags": []
   },
   "outputs": [
    {
     "name": "stdout",
     "output_type": "stream",
     "text": [
      "9992    bberry@wright.net\n",
      "Name: Email, dtype: object\n"
     ]
    }
   ],
   "source": [
    "person_to_find = data[data[\"Credit Card\"] == 4664825258997302]\n",
    "print(person_to_find[\"Email\"])"
   ]
  },
  {
   "cell_type": "code",
   "execution_count": 12,
   "id": "eae1a6b9",
   "metadata": {
    "execution": {
     "iopub.execute_input": "2023-04-20T04:54:20.715833Z",
     "iopub.status.busy": "2023-04-20T04:54:20.715050Z",
     "iopub.status.idle": "2023-04-20T04:54:20.784296Z",
     "shell.execute_reply": "2023-04-20T04:54:20.781511Z"
    },
    "papermill": {
     "duration": 0.081939,
     "end_time": "2023-04-20T04:54:20.787071",
     "exception": false,
     "start_time": "2023-04-20T04:54:20.705132",
     "status": "completed"
    },
    "tags": []
   },
   "outputs": [
    {
     "name": "stdout",
     "output_type": "stream",
     "text": [
      "Address                                                     Lot    AM or PM  Browser Info                                                                                                                                        Company                       Credit Card       CC Exp Date  CC Security Code  CC Provider                  Email                                  Job                                  IP Address       Language  Purchase Price\n",
      "00009 Sharon Forks Apt. 078\\nWest Sabrinabury, MA 45611     65 dS  AM        Mozilla/5.0 (Macintosh; Intel Mac OS X 10_6_4) AppleWebKit/5320 (KHTML, like Gecko) Chrome/15.0.833.0 Safari/5320                                   Lopez, Barton and Miller      60423591589       04/17        362               VISA 16 digit                hhurst@gmail.com                       Development worker, community        254.48.96.123    fr        17.20             1\n",
      "750 Dunn Knolls\\nShermanfurt, WV 69310-0308                 42 KU  AM        Opera/9.76.(Windows CE; en-US) Presto/2.9.175 Version/12.00                                                                                         Morrison LLC                  4212493448797343  12/25        75                Mastercard                   wjohnson@yahoo.com                     Interior and spatial designer        52.254.229.60    zh        79.61             1\n",
      "75218 Darrell Center Suite 453\\nCarrieburgh, IN 09435-8025  01 SN  AM        Mozilla/5.0 (Windows NT 4.0; en-US; rv:1.9.2.20) Gecko/2016-07-25 05:03:27 Firefox/15.0                                                             Simmons LLC                   3337041089880274  03/20        235               Discover                     fpatel@hotmail.com                     Futures trader                       190.163.20.69    pt        47.73             1\n",
      "752 Garcia Shore\\nWilsonchester, TN 83038-1830              65 sM  AM        Mozilla/5.0 (compatible; MSIE 7.0; Windows NT 4.0; Trident/4.1)                                                                                     Bailey-Francis                6011746539509713  02/18        19                Voyager                      middletonmichele@hotmail.com           Exhibitions officer, museum/gallery  207.22.230.194   es        31.56             1\n",
      "7518 Courtney Unions\\nMitchellstad, NY 56710-1423           71 LG  AM        Mozilla/5.0 (X11; Linux x86_64) AppleWebKit/5351 (KHTML, like Gecko) Chrome/14.0.893.0 Safari/5351                                                  Small, Williams and Gonzalez  4691939449852776  03/22        161               VISA 16 digit                timothyallen@fitzpatrick-harrison.com  Engineer, electronics                247.203.211.225  el        2.40              1\n",
      "                                                                                                                                                                                                                                                                                                                                                                                                                                                                     ..\n",
      "3722 Jason Viaduct Apt. 536\\nEast Eric, MI 90210-6452       55 rO  AM        Mozilla/5.0 (compatible; MSIE 5.0; Windows NT 6.2; Trident/5.1)                                                                                     Wolf, Caldwell and Hamilton   5103713605359309  04/21        212               JCB 15 digit                 sandra16@morton.com                    Minerals surveyor                    1.56.230.193     el        67.71             1\n",
      "37207 House Knoll Suite 650\\nMerrittport, GU 04324          89 VH  AM        Mozilla/5.0 (iPod; U; CPU iPhone OS 3_2 like Mac OS X; it-IT) AppleWebKit/532.24.6 (KHTML, like Gecko) Version/4.0.5 Mobile/8B111 Safari/6532.24.6  Johnson-Jimenez               4625618715770935  11/17        957               Voyager                      holtricardo@lane.com                   Engineer, production                 70.255.238.62    el        21.06             1\n",
      "372 Banks Port\\nPort Leslie, AZ 29911                       72 UA  AM        Mozilla/5.0 (iPod; U; CPU iPhone OS 4_1 like Mac OS X; sl-SI) AppleWebKit/533.43.5 (KHTML, like Gecko) Version/3.0.5 Mobile/8B117 Safari/6533.43.5  Dunn, Roth and Jones          561252150926      02/24        461               Maestro                      bethanylee@yahoo.com                   Photographer                         76.232.156.4     el        64.51             1\n",
      "37192 Terri Falls Suite 981\\nPort Melissaside, NH 63554     27 dR  AM        Mozilla/5.0 (Macintosh; Intel Mac OS X 10_5_2; rv:1.9.2.20) Gecko/2012-07-15 09:19:37 Firefox/6.0                                                   Poole, Stark and Roman        4056204757197     12/20        101               Diners Club / Carte Blanche  audrey47@johnson.com                   Higher education lecturer            104.148.49.21    es        10.77             1\n",
      "Unit 9991 Box 3616\\nDPO AA 99399                            06 uJ  AM        Mozilla/5.0 (compatible; MSIE 8.0; Windows NT 5.0; Trident/3.0)                                                                                     Johnson, Knox and Hill        3528901308434147  11/18        764               VISA 16 digit                daisywilliams@wilkerson.net            Museum/gallery conservator           139.255.97.152   it        59.96             1\n",
      "Length: 4932, dtype: int64\n"
     ]
    }
   ],
   "source": [
    "am = data[data[\"AM or PM\"] == \"AM\"].value_counts()\n",
    "pm = len(data[data[\"AM or PM\"] == \"PM\"])\n",
    "print(am)"
   ]
  },
  {
   "cell_type": "code",
   "execution_count": 13,
   "id": "4ddde9cc",
   "metadata": {
    "execution": {
     "iopub.execute_input": "2023-04-20T04:54:20.807641Z",
     "iopub.status.busy": "2023-04-20T04:54:20.806915Z",
     "iopub.status.idle": "2023-04-20T04:54:20.825031Z",
     "shell.execute_reply": "2023-04-20T04:54:20.823764Z"
    },
    "papermill": {
     "duration": 0.031976,
     "end_time": "2023-04-20T04:54:20.828273",
     "exception": false,
     "start_time": "2023-04-20T04:54:20.796297",
     "status": "completed"
    },
    "tags": []
   },
   "outputs": [
    {
     "data": {
      "text/html": [
       "<div>\n",
       "<style scoped>\n",
       "    .dataframe tbody tr th:only-of-type {\n",
       "        vertical-align: middle;\n",
       "    }\n",
       "\n",
       "    .dataframe tbody tr th {\n",
       "        vertical-align: top;\n",
       "    }\n",
       "\n",
       "    .dataframe thead th {\n",
       "        text-align: right;\n",
       "    }\n",
       "</style>\n",
       "<table border=\"1\" class=\"dataframe\">\n",
       "  <thead>\n",
       "    <tr style=\"text-align: right;\">\n",
       "      <th></th>\n",
       "      <th>Address</th>\n",
       "      <th>Lot</th>\n",
       "      <th>AM or PM</th>\n",
       "      <th>Browser Info</th>\n",
       "      <th>Company</th>\n",
       "      <th>Credit Card</th>\n",
       "      <th>CC Exp Date</th>\n",
       "      <th>CC Security Code</th>\n",
       "      <th>CC Provider</th>\n",
       "      <th>Email</th>\n",
       "      <th>Job</th>\n",
       "      <th>IP Address</th>\n",
       "      <th>Language</th>\n",
       "      <th>Purchase Price</th>\n",
       "    </tr>\n",
       "  </thead>\n",
       "  <tbody>\n",
       "    <tr>\n",
       "      <th>0</th>\n",
       "      <td>16629 Pace Camp Apt. 448\\nAlexisborough, NE 77...</td>\n",
       "      <td>46 in</td>\n",
       "      <td>PM</td>\n",
       "      <td>Opera/9.56.(X11; Linux x86_64; sl-SI) Presto/2...</td>\n",
       "      <td>Martinez-Herman</td>\n",
       "      <td>6011929061123406</td>\n",
       "      <td>02/20</td>\n",
       "      <td>900</td>\n",
       "      <td>JCB 16 digit</td>\n",
       "      <td>pdunlap@yahoo.com</td>\n",
       "      <td>Scientist, product/process development</td>\n",
       "      <td>149.146.147.205</td>\n",
       "      <td>el</td>\n",
       "      <td>98.14</td>\n",
       "    </tr>\n",
       "    <tr>\n",
       "      <th>1</th>\n",
       "      <td>9374 Jasmine Spurs Suite 508\\nSouth John, TN 8...</td>\n",
       "      <td>28 rn</td>\n",
       "      <td>PM</td>\n",
       "      <td>Opera/8.93.(Windows 98; Win 9x 4.90; en-US) Pr...</td>\n",
       "      <td>Fletcher, Richards and Whitaker</td>\n",
       "      <td>3337758169645356</td>\n",
       "      <td>11/18</td>\n",
       "      <td>561</td>\n",
       "      <td>Mastercard</td>\n",
       "      <td>anthony41@reed.com</td>\n",
       "      <td>Drilling engineer</td>\n",
       "      <td>15.160.41.51</td>\n",
       "      <td>fr</td>\n",
       "      <td>70.73</td>\n",
       "    </tr>\n",
       "    <tr>\n",
       "      <th>2</th>\n",
       "      <td>Unit 0065 Box 5052\\nDPO AP 27450</td>\n",
       "      <td>94 vE</td>\n",
       "      <td>PM</td>\n",
       "      <td>Mozilla/5.0 (compatible; MSIE 9.0; Windows NT ...</td>\n",
       "      <td>Simpson, Williams and Pham</td>\n",
       "      <td>675957666125</td>\n",
       "      <td>08/19</td>\n",
       "      <td>699</td>\n",
       "      <td>JCB 16 digit</td>\n",
       "      <td>amymiller@morales-harrison.com</td>\n",
       "      <td>Customer service manager</td>\n",
       "      <td>132.207.160.22</td>\n",
       "      <td>de</td>\n",
       "      <td>0.95</td>\n",
       "    </tr>\n",
       "    <tr>\n",
       "      <th>3</th>\n",
       "      <td>7780 Julia Fords\\nNew Stacy, WA 45798</td>\n",
       "      <td>36 vm</td>\n",
       "      <td>PM</td>\n",
       "      <td>Mozilla/5.0 (Macintosh; Intel Mac OS X 10_8_0 ...</td>\n",
       "      <td>Williams, Marshall and Buchanan</td>\n",
       "      <td>6011578504430710</td>\n",
       "      <td>02/24</td>\n",
       "      <td>384</td>\n",
       "      <td>Discover</td>\n",
       "      <td>brent16@olson-robinson.info</td>\n",
       "      <td>Drilling engineer</td>\n",
       "      <td>30.250.74.19</td>\n",
       "      <td>es</td>\n",
       "      <td>78.04</td>\n",
       "    </tr>\n",
       "    <tr>\n",
       "      <th>4</th>\n",
       "      <td>23012 Munoz Drive Suite 337\\nNew Cynthia, TX 5...</td>\n",
       "      <td>20 IE</td>\n",
       "      <td>AM</td>\n",
       "      <td>Opera/9.58.(X11; Linux x86_64; it-IT) Presto/2...</td>\n",
       "      <td>Brown, Watson and Andrews</td>\n",
       "      <td>6011456623207998</td>\n",
       "      <td>10/25</td>\n",
       "      <td>678</td>\n",
       "      <td>Diners Club / Carte Blanche</td>\n",
       "      <td>christopherwright@gmail.com</td>\n",
       "      <td>Fine artist</td>\n",
       "      <td>24.140.33.94</td>\n",
       "      <td>es</td>\n",
       "      <td>77.82</td>\n",
       "    </tr>\n",
       "  </tbody>\n",
       "</table>\n",
       "</div>"
      ],
      "text/plain": [
       "                                             Address    Lot AM or PM  \\\n",
       "0  16629 Pace Camp Apt. 448\\nAlexisborough, NE 77...  46 in       PM   \n",
       "1  9374 Jasmine Spurs Suite 508\\nSouth John, TN 8...  28 rn       PM   \n",
       "2                   Unit 0065 Box 5052\\nDPO AP 27450  94 vE       PM   \n",
       "3              7780 Julia Fords\\nNew Stacy, WA 45798  36 vm       PM   \n",
       "4  23012 Munoz Drive Suite 337\\nNew Cynthia, TX 5...  20 IE       AM   \n",
       "\n",
       "                                        Browser Info  \\\n",
       "0  Opera/9.56.(X11; Linux x86_64; sl-SI) Presto/2...   \n",
       "1  Opera/8.93.(Windows 98; Win 9x 4.90; en-US) Pr...   \n",
       "2  Mozilla/5.0 (compatible; MSIE 9.0; Windows NT ...   \n",
       "3  Mozilla/5.0 (Macintosh; Intel Mac OS X 10_8_0 ...   \n",
       "4  Opera/9.58.(X11; Linux x86_64; it-IT) Presto/2...   \n",
       "\n",
       "                           Company       Credit Card CC Exp Date  \\\n",
       "0                  Martinez-Herman  6011929061123406       02/20   \n",
       "1  Fletcher, Richards and Whitaker  3337758169645356       11/18   \n",
       "2       Simpson, Williams and Pham      675957666125       08/19   \n",
       "3  Williams, Marshall and Buchanan  6011578504430710       02/24   \n",
       "4        Brown, Watson and Andrews  6011456623207998       10/25   \n",
       "\n",
       "   CC Security Code                  CC Provider  \\\n",
       "0               900                 JCB 16 digit   \n",
       "1               561                   Mastercard   \n",
       "2               699                 JCB 16 digit   \n",
       "3               384                     Discover   \n",
       "4               678  Diners Club / Carte Blanche   \n",
       "\n",
       "                            Email                                     Job  \\\n",
       "0               pdunlap@yahoo.com  Scientist, product/process development   \n",
       "1              anthony41@reed.com                       Drilling engineer   \n",
       "2  amymiller@morales-harrison.com                Customer service manager   \n",
       "3     brent16@olson-robinson.info                       Drilling engineer   \n",
       "4     christopherwright@gmail.com                             Fine artist   \n",
       "\n",
       "        IP Address Language  Purchase Price  \n",
       "0  149.146.147.205       el           98.14  \n",
       "1     15.160.41.51       fr           70.73  \n",
       "2   132.207.160.22       de            0.95  \n",
       "3     30.250.74.19       es           78.04  \n",
       "4     24.140.33.94       es           77.82  "
      ]
     },
     "execution_count": 13,
     "metadata": {},
     "output_type": "execute_result"
    }
   ],
   "source": [
    "data.head()"
   ]
  },
  {
   "cell_type": "code",
   "execution_count": 14,
   "id": "42bf7663",
   "metadata": {
    "execution": {
     "iopub.execute_input": "2023-04-20T04:54:20.847694Z",
     "iopub.status.busy": "2023-04-20T04:54:20.847263Z",
     "iopub.status.idle": "2023-04-20T04:54:20.859391Z",
     "shell.execute_reply": "2023-04-20T04:54:20.857789Z"
    },
    "papermill": {
     "duration": 0.025023,
     "end_time": "2023-04-20T04:54:20.862175",
     "exception": false,
     "start_time": "2023-04-20T04:54:20.837152",
     "status": "completed"
    },
    "tags": []
   },
   "outputs": [
    {
     "name": "stdout",
     "output_type": "stream",
     "text": [
      "The average price is 50.347302 and the range is min     0.00\n",
      "max    99.99\n",
      "Name: Purchase Price, dtype: float64\n"
     ]
    }
   ],
   "source": [
    "#The average purchase price and the most popular purchase price range.\n",
    "\n",
    "purchase_average = data[\"Purchase Price\"].mean()\n",
    "range_price = data[\"Purchase Price\"].describe()[[\"min\", \"max\"]]\n",
    "print(f\"The average price is {purchase_average} and the range is {range_price}\")"
   ]
  },
  {
   "cell_type": "code",
   "execution_count": 15,
   "id": "48eb1f9c",
   "metadata": {
    "execution": {
     "iopub.execute_input": "2023-04-20T04:54:20.882242Z",
     "iopub.status.busy": "2023-04-20T04:54:20.881390Z",
     "iopub.status.idle": "2023-04-20T04:54:20.891122Z",
     "shell.execute_reply": "2023-04-20T04:54:20.889674Z"
    },
    "papermill": {
     "duration": 0.022221,
     "end_time": "2023-04-20T04:54:20.893377",
     "exception": false,
     "start_time": "2023-04-20T04:54:20.871156",
     "status": "completed"
    },
    "tags": []
   },
   "outputs": [
    {
     "name": "stdout",
     "output_type": "stream",
     "text": [
      "JCB 16 digit 17.16\n"
     ]
    }
   ],
   "source": [
    "# The most commonly used credit card provider and its market share.\n",
    "\n",
    "market_share = data[\"CC Provider\"].value_counts(normalize=True)*100\n",
    "print(market_share.idxmax(),market_share.max() )"
   ]
  },
  {
   "cell_type": "code",
   "execution_count": 16,
   "id": "cdfa4043",
   "metadata": {
    "execution": {
     "iopub.execute_input": "2023-04-20T04:54:20.913103Z",
     "iopub.status.busy": "2023-04-20T04:54:20.912403Z",
     "iopub.status.idle": "2023-04-20T04:54:20.921717Z",
     "shell.execute_reply": "2023-04-20T04:54:20.920685Z"
    },
    "papermill": {
     "duration": 0.021795,
     "end_time": "2023-04-20T04:54:20.923913",
     "exception": false,
     "start_time": "2023-04-20T04:54:20.902118",
     "status": "completed"
    },
    "tags": []
   },
   "outputs": [
    {
     "data": {
      "text/plain": [
       "PM    5068\n",
       "AM    4932\n",
       "Name: AM or PM, dtype: int64"
      ]
     },
     "execution_count": 16,
     "metadata": {},
     "output_type": "execute_result"
    }
   ],
   "source": [
    "#The number of purchases made during AM and PM.\n",
    "columns = data.columns\n",
    "#print(columns)\n",
    "am_pm = data[\"AM or PM\"].value_counts()\n",
    "am_pm"
   ]
  },
  {
   "cell_type": "code",
   "execution_count": 17,
   "id": "fdc6eaba",
   "metadata": {
    "execution": {
     "iopub.execute_input": "2023-04-20T04:54:20.944469Z",
     "iopub.status.busy": "2023-04-20T04:54:20.943757Z",
     "iopub.status.idle": "2023-04-20T04:54:20.954620Z",
     "shell.execute_reply": "2023-04-20T04:54:20.953186Z"
    },
    "papermill": {
     "duration": 0.023762,
     "end_time": "2023-04-20T04:54:20.956994",
     "exception": false,
     "start_time": "2023-04-20T04:54:20.933232",
     "status": "completed"
    },
    "tags": []
   },
   "outputs": [
    {
     "name": "stdout",
     "output_type": "stream",
     "text": [
      "DE with 1155 repetitions\n",
      "de 11.55\n"
     ]
    }
   ],
   "source": [
    "#The most common language among customers and its market share.\n",
    "\n",
    "#print(columns)\n",
    "most_common_language = data[\"Language\"].value_counts()\n",
    "repetitions = most_common_language\n",
    "language_str = most_common_language.index[0]\n",
    "print(f\"{language_str.upper()} with {repetitions[0]} repetitions\")\n",
    "market_shere_language = data[\"Language\"].value_counts(normalize=True)*100\n",
    "print(market_shere_language.idxmax(), market_shere_language.max())\n"
   ]
  },
  {
   "cell_type": "code",
   "execution_count": 18,
   "id": "767183c7",
   "metadata": {
    "execution": {
     "iopub.execute_input": "2023-04-20T04:54:20.977443Z",
     "iopub.status.busy": "2023-04-20T04:54:20.976682Z",
     "iopub.status.idle": "2023-04-20T04:54:20.989747Z",
     "shell.execute_reply": "2023-04-20T04:54:20.988767Z"
    },
    "papermill": {
     "duration": 0.026332,
     "end_time": "2023-04-20T04:54:20.992180",
     "exception": false,
     "start_time": "2023-04-20T04:54:20.965848",
     "status": "completed"
    },
    "tags": []
   },
   "outputs": [
    {
     "name": "stdout",
     "output_type": "stream",
     "text": [
      "Index(['Address', 'Lot', 'AM or PM', 'Browser Info', 'Company', 'Credit Card',\n",
      "       'CC Exp Date', 'CC Security Code', 'CC Provider', 'Email', 'Job',\n",
      "       'IP Address', 'Language', 'Purchase Price'],\n",
      "      dtype='object')\n"
     ]
    },
    {
     "data": {
      "text/plain": [
       "Interior and spatial designer    31\n",
       "Lawyer                           30\n",
       "Social researcher                28\n",
       "Purchasing manager               27\n",
       "Designer, jewellery              27\n",
       "Name: Job, dtype: int64"
      ]
     },
     "execution_count": 18,
     "metadata": {},
     "output_type": "execute_result"
    }
   ],
   "source": [
    "#The most common job titles among customers.\n",
    "print(columns)\n",
    "\n",
    "commont_job_counts = data[\"Job\"].value_counts()\n",
    "commont_job_counts.head(5)\n"
   ]
  },
  {
   "cell_type": "code",
   "execution_count": 19,
   "id": "ff4aa1c8",
   "metadata": {
    "execution": {
     "iopub.execute_input": "2023-04-20T04:54:21.012550Z",
     "iopub.status.busy": "2023-04-20T04:54:21.012144Z",
     "iopub.status.idle": "2023-04-20T04:54:21.048086Z",
     "shell.execute_reply": "2023-04-20T04:54:21.046935Z"
    },
    "papermill": {
     "duration": 0.04927,
     "end_time": "2023-04-20T04:54:21.050669",
     "exception": false,
     "start_time": "2023-04-20T04:54:21.001399",
     "status": "completed"
    },
    "tags": []
   },
   "outputs": [
    {
     "data": {
      "text/plain": [
       "Address                                                      IP Address    \n",
       "000 Jared Shoals Apt. 244\\nRamirezmouth, IL 12450            91.169.108.79     1\n",
       "000 Martin Shoal Apt. 004\\nNew Megan, FM 61399               60.199.17.99      1\n",
       "000 Mills Expressway Apt. 223\\nGutierrezview, NC 02682-8387  139.6.109.29      1\n",
       "00009 Sharon Forks Apt. 078\\nWest Sabrinabury, MA 45611      254.48.96.123     1\n",
       "0001 Cynthia Branch Apt. 359\\nNew Alex, OH 36278-8276        40.248.47.71      1\n",
       "                                                                              ..\n",
       "Unit 9897 Box 9570\\nDPO AA 35638                             209.226.36.235    1\n",
       "Unit 9920 Box 5671\\nDPO AP 70439                             45.252.40.82      1\n",
       "Unit 9938 Box 3602\\nDPO AE 90057-5180                        190.247.95.182    1\n",
       "Unit 9980 Box 9237\\nDPO AP 27028                             253.117.240.86    1\n",
       "Unit 9991 Box 3616\\nDPO AA 99399                             139.255.97.152    1\n",
       "Length: 10000, dtype: int64"
      ]
     },
     "execution_count": 19,
     "metadata": {},
     "output_type": "execute_result"
    }
   ],
   "source": [
    "# The geographic distribution of customers based on their IP addresses.\n",
    "\n",
    "grouped = data.groupby(['Address', 'IP Address'])\n",
    "grouped.size()"
   ]
  },
  {
   "cell_type": "code",
   "execution_count": 20,
   "id": "69dccc29",
   "metadata": {
    "execution": {
     "iopub.execute_input": "2023-04-20T04:54:21.072092Z",
     "iopub.status.busy": "2023-04-20T04:54:21.070836Z",
     "iopub.status.idle": "2023-04-20T04:54:21.084980Z",
     "shell.execute_reply": "2023-04-20T04:54:21.083673Z"
    },
    "papermill": {
     "duration": 0.027466,
     "end_time": "2023-04-20T04:54:21.087632",
     "exception": false,
     "start_time": "2023-04-20T04:54:21.060166",
     "status": "completed"
    },
    "tags": []
   },
   "outputs": [
    {
     "data": {
      "text/plain": [
       "Job\n",
       "Academic librarian                  47.951818\n",
       "Accommodation manager               37.038235\n",
       "Accountant, chartered               52.565500\n",
       "Accountant, chartered certified     57.945000\n",
       "Accountant, chartered management    69.082667\n",
       "                                      ...    \n",
       "Water quality scientist             46.526111\n",
       "Web designer                        59.764500\n",
       "Wellsite geologist                  51.309167\n",
       "Writer                              44.863000\n",
       "Youth worker                        40.513333\n",
       "Name: Purchase Price, Length: 623, dtype: float64"
      ]
     },
     "execution_count": 20,
     "metadata": {},
     "output_type": "execute_result"
    }
   ],
   "source": [
    "# The relationship between job titles and purchase amounts.\n",
    "\n",
    "data.columns\n",
    "\n",
    "data.groupby(\"Job\")[\"Purchase Price\"].mean()\n",
    "\n"
   ]
  },
  {
   "cell_type": "code",
   "execution_count": 21,
   "id": "748d1517",
   "metadata": {
    "execution": {
     "iopub.execute_input": "2023-04-20T04:54:21.108612Z",
     "iopub.status.busy": "2023-04-20T04:54:21.108210Z",
     "iopub.status.idle": "2023-04-20T04:54:21.322382Z",
     "shell.execute_reply": "2023-04-20T04:54:21.320969Z"
    },
    "papermill": {
     "duration": 0.227791,
     "end_time": "2023-04-20T04:54:21.324893",
     "exception": false,
     "start_time": "2023-04-20T04:54:21.097102",
     "status": "completed"
    },
    "tags": []
   },
   "outputs": [
    {
     "name": "stdout",
     "output_type": "stream",
     "text": [
      "AM or PM\n",
      "AM    50.186511\n",
      "PM    50.503779\n",
      "Name: Purchase Price, dtype: float64\n"
     ]
    },
    {
     "data": {
      "image/png": "[encoded data removed]",
      "text/plain": [
       "<Figure size 640x480 with 1 Axes>"
      ]
     },
     "metadata": {},
     "output_type": "display_data"
    }
   ],
   "source": [
    "# The relationship between purchase amounts and the time of purchase (AM or PM)\n",
    "\n",
    "purchase_by_time = data.groupby(\"AM or PM\")[\"Purchase Price\"].mean()\n",
    "print(purchase_by_time)\n",
    "\n",
    "import matplotlib.pyplot as plt\n",
    "\n",
    "plt.bar(purchase_by_time.index, purchase_by_time.values)\n",
    "plt.xlabel(\"Time of Purchase\")\n",
    "plt.ylabel(\"Average Purchase Price\")\n",
    "plt.show()\n"
   ]
  },
  {
   "cell_type": "code",
   "execution_count": 22,
   "id": "8f241da7",
   "metadata": {
    "execution": {
     "iopub.execute_input": "2023-04-20T04:54:21.346890Z",
     "iopub.status.busy": "2023-04-20T04:54:21.345767Z",
     "iopub.status.idle": "2023-04-20T04:54:21.354591Z",
     "shell.execute_reply": "2023-04-20T04:54:21.353292Z"
    },
    "papermill": {
     "duration": 0.02211,
     "end_time": "2023-04-20T04:54:21.356761",
     "exception": false,
     "start_time": "2023-04-20T04:54:21.334651",
     "status": "completed"
    },
    "tags": []
   },
   "outputs": [
    {
     "name": "stdout",
     "output_type": "stream",
     "text": [
      "Language\n",
      "de    50.254485\n",
      "el    51.555356\n",
      "en    51.103015\n",
      "es    49.366977\n",
      "fr    49.476718\n",
      "it    50.001004\n",
      "pt    51.215546\n",
      "ru    49.927134\n",
      "zh    50.180198\n",
      "Name: Purchase Price, dtype: float64\n"
     ]
    }
   ],
   "source": [
    "#The average purchase price by language.\n",
    "avr_purchase = data.groupby(\"Language\")[\"Purchase Price\"].mean()\n",
    "print(avr_purchase)"
   ]
  },
  {
   "cell_type": "code",
   "execution_count": 23,
   "id": "805c740d",
   "metadata": {
    "execution": {
     "iopub.execute_input": "2023-04-20T04:54:21.379405Z",
     "iopub.status.busy": "2023-04-20T04:54:21.378240Z",
     "iopub.status.idle": "2023-04-20T04:54:22.537316Z",
     "shell.execute_reply": "2023-04-20T04:54:22.535924Z"
    },
    "papermill": {
     "duration": 1.173772,
     "end_time": "2023-04-20T04:54:22.540587",
     "exception": false,
     "start_time": "2023-04-20T04:54:21.366815",
     "status": "completed"
    },
    "tags": []
   },
   "outputs": [
    {
     "name": "stdout",
     "output_type": "stream",
     "text": [
      "9524    el\n",
      "8749    it\n",
      "9858    pt\n",
      "6979    fr\n",
      "224     fr\n",
      "        ..\n",
      "3122    en\n",
      "3777    de\n",
      "5795    de\n",
      "8636    fr\n",
      "1604    es\n",
      "Name: Language, Length: 8000, dtype: object\n",
      "9169    ru\n",
      "3968    zh\n",
      "7144    it\n",
      "646     zh\n",
      "1766    zh\n",
      "        ..\n",
      "9975    zh\n",
      "8894    en\n",
      "7227    es\n",
      "7823    en\n",
      "4260    el\n",
      "Name: Language, Length: 2000, dtype: object\n",
      "9524    28.60\n",
      "8749    56.13\n",
      "9858    91.79\n",
      "6979    85.53\n",
      "224      7.42\n",
      "        ...  \n",
      "3122    98.82\n",
      "3777    16.85\n",
      "5795    14.27\n",
      "8636    44.81\n",
      "1604    22.55\n",
      "Name: Purchase Price, Length: 8000, dtype: float64\n",
      "9169    86.83\n",
      "3968    65.36\n",
      "7144    23.13\n",
      "646     94.64\n",
      "1766    96.53\n",
      "        ...  \n",
      "9975     3.77\n",
      "8894    58.86\n",
      "7227    11.67\n",
      "7823     6.89\n",
      "4260    34.28\n",
      "Name: Purchase Price, Length: 2000, dtype: float64\n"
     ]
    }
   ],
   "source": [
    "#Train a linear regression model to predict \n",
    "# the purchase price based on the lot size and the year built. \n",
    "# Use the train_test_split() function to split the dataset into a \n",
    "# training set and a validation set, with a ratio of 80% training and 20% \n",
    "# validation. Train the model on the training set and evaluate its \n",
    "# performance on the validation set by calculating the mean squared error \n",
    "# (MSE) and the R-squared score.\n",
    "\n",
    "from sklearn.model_selection import train_test_split\n",
    "\n",
    "X = data[\"Language\"]\n",
    "y = data[\"Purchase Price\"]\n",
    "\n",
    "train_X, val_X, train_y, val_y = train_test_split(X, y, test_size=0.2)\n",
    "print(train_X)\n",
    "print(val_X)\n",
    "print(train_y)\n",
    "print(val_y)"
   ]
  },
  {
   "cell_type": "code",
   "execution_count": 24,
   "id": "0cb6f06c",
   "metadata": {
    "execution": {
     "iopub.execute_input": "2023-04-20T04:54:22.563528Z",
     "iopub.status.busy": "2023-04-20T04:54:22.563123Z",
     "iopub.status.idle": "2023-04-20T04:54:22.580650Z",
     "shell.execute_reply": "2023-04-20T04:54:22.579214Z"
    },
    "papermill": {
     "duration": 0.032418,
     "end_time": "2023-04-20T04:54:22.583363",
     "exception": false,
     "start_time": "2023-04-20T04:54:22.550945",
     "status": "completed"
    },
    "tags": []
   },
   "outputs": [
    {
     "name": "stdout",
     "output_type": "stream",
     "text": [
      "     Language  Purchase Price\n",
      "9524       el           28.60\n",
      "8749       it           56.13\n",
      "9858       pt           91.79\n",
      "6979       fr           85.53\n",
      "224        fr            7.42\n",
      "...       ...             ...\n",
      "3122       en           98.82\n",
      "3777       de           16.85\n",
      "5795       de           14.27\n",
      "8636       fr           44.81\n",
      "1604       es           22.55\n",
      "\n",
      "[8000 rows x 2 columns]\n",
      "     Language  Purchase Price\n",
      "9169       ru           86.83\n",
      "3968       zh           65.36\n",
      "7144       it           23.13\n",
      "646        zh           94.64\n",
      "1766       zh           96.53\n",
      "...       ...             ...\n",
      "9975       zh            3.77\n",
      "8894       en           58.86\n",
      "7227       es           11.67\n",
      "7823       en            6.89\n",
      "4260       el           34.28\n",
      "\n",
      "[2000 rows x 2 columns]\n"
     ]
    }
   ],
   "source": [
    "train_data = pd.concat([train_X, train_y], axis=1)\n",
    "val_data = pd.concat([val_X, val_y], axis=1)\n",
    "\n",
    "print(train_data)\n",
    "print(val_data)"
   ]
  },
  {
   "cell_type": "code",
   "execution_count": 25,
   "id": "33b86915",
   "metadata": {
    "execution": {
     "iopub.execute_input": "2023-04-20T04:54:22.606299Z",
     "iopub.status.busy": "2023-04-20T04:54:22.605414Z",
     "iopub.status.idle": "2023-04-20T04:54:22.615793Z",
     "shell.execute_reply": "2023-04-20T04:54:22.613659Z"
    },
    "papermill": {
     "duration": 0.024908,
     "end_time": "2023-04-20T04:54:22.618500",
     "exception": false,
     "start_time": "2023-04-20T04:54:22.593592",
     "status": "completed"
    },
    "tags": []
   },
   "outputs": [
    {
     "name": "stdout",
     "output_type": "stream",
     "text": [
      "Language\n",
      "de    50.238861\n",
      "el    52.170778\n",
      "en    51.420811\n",
      "es    49.981399\n",
      "fr    50.225477\n",
      "it    50.476066\n",
      "pt    51.568838\n",
      "ru    49.773029\n",
      "zh    50.324254\n",
      "Name: Purchase Price, dtype: float64\n"
     ]
    }
   ],
   "source": [
    "train_language_purchase = train_data.groupby('Language')['Purchase Price'].mean()\n",
    "print(train_language_purchase)"
   ]
  },
  {
   "cell_type": "code",
   "execution_count": 26,
   "id": "84fa5f04",
   "metadata": {
    "execution": {
     "iopub.execute_input": "2023-04-20T04:54:22.641834Z",
     "iopub.status.busy": "2023-04-20T04:54:22.641026Z",
     "iopub.status.idle": "2023-04-20T04:54:22.649379Z",
     "shell.execute_reply": "2023-04-20T04:54:22.647994Z"
    },
    "papermill": {
     "duration": 0.023446,
     "end_time": "2023-04-20T04:54:22.652407",
     "exception": false,
     "start_time": "2023-04-20T04:54:22.628961",
     "status": "completed"
    },
    "tags": []
   },
   "outputs": [
    {
     "name": "stdout",
     "output_type": "stream",
     "text": [
      "Language\n",
      "de    50.313430\n",
      "el    48.870142\n",
      "en    49.856054\n",
      "es    47.142616\n",
      "fr    46.440276\n",
      "it    47.947059\n",
      "pt    49.797623\n",
      "ru    50.533675\n",
      "zh    49.590817\n",
      "Name: Purchase Price, dtype: float64\n"
     ]
    }
   ],
   "source": [
    "val_language_purchase = val_data.groupby('Language')['Purchase Price'].mean()\n",
    "print(val_language_purchase)"
   ]
  },
  {
   "cell_type": "code",
   "execution_count": 27,
   "id": "f1bccc90",
   "metadata": {
    "execution": {
     "iopub.execute_input": "2023-04-20T04:54:22.675142Z",
     "iopub.status.busy": "2023-04-20T04:54:22.674690Z",
     "iopub.status.idle": "2023-04-20T04:54:22.681260Z",
     "shell.execute_reply": "2023-04-20T04:54:22.680110Z"
    },
    "papermill": {
     "duration": 0.020867,
     "end_time": "2023-04-20T04:54:22.683602",
     "exception": false,
     "start_time": "2023-04-20T04:54:22.662735",
     "status": "completed"
    },
    "tags": []
   },
   "outputs": [
    {
     "name": "stdout",
     "output_type": "stream",
     "text": [
      "1.928694522007429\n"
     ]
    }
   ],
   "source": [
    "from sklearn.metrics import mean_absolute_error\n",
    "mae = mean_absolute_error(val_language_purchase, train_language_purchase)\n",
    "print(mae)"
   ]
  },
  {
   "cell_type": "code",
   "execution_count": 28,
   "id": "b151410d",
   "metadata": {
    "execution": {
     "iopub.execute_input": "2023-04-20T04:54:22.706332Z",
     "iopub.status.busy": "2023-04-20T04:54:22.705907Z",
     "iopub.status.idle": "2023-04-20T04:54:23.061141Z",
     "shell.execute_reply": "2023-04-20T04:54:23.059777Z"
    },
    "papermill": {
     "duration": 0.369721,
     "end_time": "2023-04-20T04:54:23.063633",
     "exception": false,
     "start_time": "2023-04-20T04:54:22.693912",
     "status": "completed"
    },
    "tags": []
   },
   "outputs": [
    {
     "name": "stdout",
     "output_type": "stream",
     "text": [
      "Accuracy: 0.49433333333333335\n",
      "Precision: 0.49392423159399573\n",
      "Recall: 0.46066666666666667\n",
      "F1 Score: 0.47671610900310457\n"
     ]
    }
   ],
   "source": [
    "\n",
    "# Train a decision tree model to predict whether a purchase was made in the AM \n",
    "# or PM based on the purchase price, the lot size, \n",
    "# and the year built. Use the train_test_split() \n",
    "# function to split the dataset into a training set and a \n",
    "# validation set, with a ratio of 70% training and 30% validation. \n",
    "# Train the model on the training set and evaluate its performance \n",
    "# on the validation set by calculating the accuracy, precision, recall, \n",
    "# and F1 score.\n",
    "\n",
    "from sklearn.tree import DecisionTreeClassifier\n",
    "from sklearn.metrics import accuracy_score, precision_score, recall_score, f1_score\n",
    "#print(data.columns)\n",
    "X = data[['Purchase Price']]\n",
    "y = data[\"AM or PM\"]\n",
    "\n",
    "train_x, val_x, train_y, val_y = train_test_split(X, y, test_size=0.3, random_state=1)\n",
    "\n",
    "clf = DecisionTreeClassifier()\n",
    "clf.fit(train_x, train_y)\n",
    "\n",
    "val_y_predictions = clf.predict(val_x)\n",
    "\n",
    "print(\"Accuracy:\", accuracy_score(val_y, val_y_predictions))\n",
    "print('Precision:',precision_score(val_y, val_y_predictions, pos_label='PM'))\n",
    "print('Recall:', recall_score(val_y, val_y_predictions, pos_label='PM'))\n",
    "print('F1 Score:', f1_score(val_y, val_y_predictions, pos_label='PM'))"
   ]
  }
 ],
 "metadata": {
  "kernelspec": {
   "display_name": "Python 3",
   "language": "python",
   "name": "python3"
  },
  "language_info": {
   "codemirror_mode": {
    "name": "ipython",
    "version": 3
   },
   "file_extension": ".py",
   "mimetype": "text/x-python",
   "name": "python",
   "nbconvert_exporter": "python",
   "pygments_lexer": "ipython3",
   "version": "3.7.12"
  },
  "papermill": {
   "default_parameters": {},
   "duration": 14.162291,
   "end_time": "2023-04-20T04:54:23.898536",
   "environment_variables": {},
   "exception": null,
   "input_path": "__notebook__.ipynb",
   "output_path": "__notebook__.ipynb",
   "parameters": {},
   "start_time": "2023-04-20T04:54:09.736245",
   "version": "2.4.0"
  }
 },
 "nbformat": 4,
 "nbformat_minor": 5
}
