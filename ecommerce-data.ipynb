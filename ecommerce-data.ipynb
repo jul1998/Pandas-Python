{
 "cells": [
  {
   "cell_type": "code",
   "execution_count": 1,
   "id": "d07998c9",
   "metadata": {
    "_cell_guid": "b1076dfc-b9ad-4769-8c92-a6c4dae69d19",
    "_uuid": "8f2839f25d086af736a60e9eeb907d3b93b6e0e5",
    "execution": {
     "iopub.execute_input": "2023-04-18T06:35:32.923252Z",
     "iopub.status.busy": "2023-04-18T06:35:32.922271Z",
     "iopub.status.idle": "2023-04-18T06:35:32.944100Z",
     "shell.execute_reply": "2023-04-18T06:35:32.942760Z"
    },
    "papermill": {
     "duration": 0.033404,
     "end_time": "2023-04-18T06:35:32.946760",
     "exception": false,
     "start_time": "2023-04-18T06:35:32.913356",
     "status": "completed"
    },
    "tags": []
   },
   "outputs": [
    {
     "name": "stdout",
     "output_type": "stream",
     "text": [
      "/kaggle/input/ecommerce-purchases/Ecommerce Purchases\n"
     ]
    }
   ],
   "source": [
    "# This Python 3 environment comes with many helpful analytics libraries installed\n",
    "# It is defined by the kaggle/python Docker image: https://github.com/kaggle/docker-python\n",
    "# For example, here's several helpful packages to load\n",
    "\n",
    "import numpy as np # linear algebra\n",
    "import pandas as pd # data processing, CSV file I/O (e.g. pd.read_csv)\n",
    "\n",
    "# Input data files are available in the read-only \"../input/\" directory\n",
    "# For example, running this (by clicking run or pressing Shift+Enter) will list all files under the input directory\n",
    "\n",
    "import os\n",
    "for dirname, _, filenames in os.walk('/kaggle/input'):\n",
    "    for filename in filenames:\n",
    "        print(os.path.join(dirname, filename))\n",
    "\n",
    "# You can write up to 20GB to the current directory (/kaggle/working/) that gets preserved as output when you create a version using \"Save & Run All\" \n",
    "# You can also write temporary files to /kaggle/temp/, but they won't be saved outside of the current session"
   ]
  },
  {
   "cell_type": "code",
   "execution_count": 2,
   "id": "ec4df779",
   "metadata": {
    "execution": {
     "iopub.execute_input": "2023-04-18T06:35:32.961101Z",
     "iopub.status.busy": "2023-04-18T06:35:32.960034Z",
     "iopub.status.idle": "2023-04-18T06:35:32.966161Z",
     "shell.execute_reply": "2023-04-18T06:35:32.965154Z"
    },
    "papermill": {
     "duration": 0.015985,
     "end_time": "2023-04-18T06:35:32.968746",
     "exception": false,
     "start_time": "2023-04-18T06:35:32.952761",
     "status": "completed"
    },
    "tags": []
   },
   "outputs": [],
   "source": [
    "# The data set contains information on customer purchases, such as their address, credit card information, email, job title, and purchase details like the purchase price, time of purchase (AM or PM), and language. Some insights you could try to get using pandas are:\n",
    "\n",
    "# The average purchase price and the most popular purchase price range.\n",
    "# The most commonly used credit card provider and its market share.\n",
    "# The number of purchases made during AM and PM.\n",
    "# The most common language among customers and its market share.\n",
    "# The most common job titles among customers.\n",
    "# The geographic distribution of customers based on their IP addresses.\n",
    "# The most popular browser and its market share among customers.\n",
    "# The relationship between job titles and purchase amounts.\n",
    "# The relationship between purchase amounts and the time of purchase (AM or PM).\n",
    "# The relationship between purchase amounts and credit card providers.\n",
    "# The average purchase price by language.\n",
    "# The correlation between purchase amount and credit card security code.\n",
    "# The average purchase price by job title.\n",
    "# The relationship between purchase price and lot number.\n",
    "# The relationship between purchase price and company."
   ]
  },
  {
   "cell_type": "code",
   "execution_count": 3,
   "id": "320fac79",
   "metadata": {
    "execution": {
     "iopub.execute_input": "2023-04-18T06:35:32.982893Z",
     "iopub.status.busy": "2023-04-18T06:35:32.982140Z",
     "iopub.status.idle": "2023-04-18T06:35:33.147828Z",
     "shell.execute_reply": "2023-04-18T06:35:33.146772Z"
    },
    "papermill": {
     "duration": 0.175913,
     "end_time": "2023-04-18T06:35:33.150558",
     "exception": false,
     "start_time": "2023-04-18T06:35:32.974645",
     "status": "completed"
    },
    "tags": []
   },
   "outputs": [
    {
     "data": {
      "text/html": [
       "<div>\n",
       "<style scoped>\n",
       "    .dataframe tbody tr th:only-of-type {\n",
       "        vertical-align: middle;\n",
       "    }\n",
       "\n",
       "    .dataframe tbody tr th {\n",
       "        vertical-align: top;\n",
       "    }\n",
       "\n",
       "    .dataframe thead th {\n",
       "        text-align: right;\n",
       "    }\n",
       "</style>\n",
       "<table border=\"1\" class=\"dataframe\">\n",
       "  <thead>\n",
       "    <tr style=\"text-align: right;\">\n",
       "      <th></th>\n",
       "      <th>Address</th>\n",
       "      <th>Lot</th>\n",
       "      <th>AM or PM</th>\n",
       "      <th>Browser Info</th>\n",
       "      <th>Company</th>\n",
       "      <th>Credit Card</th>\n",
       "      <th>CC Exp Date</th>\n",
       "      <th>CC Security Code</th>\n",
       "      <th>CC Provider</th>\n",
       "      <th>Email</th>\n",
       "      <th>Job</th>\n",
       "      <th>IP Address</th>\n",
       "      <th>Language</th>\n",
       "      <th>Purchase Price</th>\n",
       "    </tr>\n",
       "  </thead>\n",
       "  <tbody>\n",
       "    <tr>\n",
       "      <th>0</th>\n",
       "      <td>16629 Pace Camp Apt. 448\\nAlexisborough, NE 77...</td>\n",
       "      <td>46 in</td>\n",
       "      <td>PM</td>\n",
       "      <td>Opera/9.56.(X11; Linux x86_64; sl-SI) Presto/2...</td>\n",
       "      <td>Martinez-Herman</td>\n",
       "      <td>6011929061123406</td>\n",
       "      <td>02/20</td>\n",
       "      <td>900</td>\n",
       "      <td>JCB 16 digit</td>\n",
       "      <td>pdunlap@yahoo.com</td>\n",
       "      <td>Scientist, product/process development</td>\n",
       "      <td>149.146.147.205</td>\n",
       "      <td>el</td>\n",
       "      <td>98.14</td>\n",
       "    </tr>\n",
       "    <tr>\n",
       "      <th>1</th>\n",
       "      <td>9374 Jasmine Spurs Suite 508\\nSouth John, TN 8...</td>\n",
       "      <td>28 rn</td>\n",
       "      <td>PM</td>\n",
       "      <td>Opera/8.93.(Windows 98; Win 9x 4.90; en-US) Pr...</td>\n",
       "      <td>Fletcher, Richards and Whitaker</td>\n",
       "      <td>3337758169645356</td>\n",
       "      <td>11/18</td>\n",
       "      <td>561</td>\n",
       "      <td>Mastercard</td>\n",
       "      <td>anthony41@reed.com</td>\n",
       "      <td>Drilling engineer</td>\n",
       "      <td>15.160.41.51</td>\n",
       "      <td>fr</td>\n",
       "      <td>70.73</td>\n",
       "    </tr>\n",
       "    <tr>\n",
       "      <th>2</th>\n",
       "      <td>Unit 0065 Box 5052\\nDPO AP 27450</td>\n",
       "      <td>94 vE</td>\n",
       "      <td>PM</td>\n",
       "      <td>Mozilla/5.0 (compatible; MSIE 9.0; Windows NT ...</td>\n",
       "      <td>Simpson, Williams and Pham</td>\n",
       "      <td>675957666125</td>\n",
       "      <td>08/19</td>\n",
       "      <td>699</td>\n",
       "      <td>JCB 16 digit</td>\n",
       "      <td>amymiller@morales-harrison.com</td>\n",
       "      <td>Customer service manager</td>\n",
       "      <td>132.207.160.22</td>\n",
       "      <td>de</td>\n",
       "      <td>0.95</td>\n",
       "    </tr>\n",
       "    <tr>\n",
       "      <th>3</th>\n",
       "      <td>7780 Julia Fords\\nNew Stacy, WA 45798</td>\n",
       "      <td>36 vm</td>\n",
       "      <td>PM</td>\n",
       "      <td>Mozilla/5.0 (Macintosh; Intel Mac OS X 10_8_0 ...</td>\n",
       "      <td>Williams, Marshall and Buchanan</td>\n",
       "      <td>6011578504430710</td>\n",
       "      <td>02/24</td>\n",
       "      <td>384</td>\n",
       "      <td>Discover</td>\n",
       "      <td>brent16@olson-robinson.info</td>\n",
       "      <td>Drilling engineer</td>\n",
       "      <td>30.250.74.19</td>\n",
       "      <td>es</td>\n",
       "      <td>78.04</td>\n",
       "    </tr>\n",
       "    <tr>\n",
       "      <th>4</th>\n",
       "      <td>23012 Munoz Drive Suite 337\\nNew Cynthia, TX 5...</td>\n",
       "      <td>20 IE</td>\n",
       "      <td>AM</td>\n",
       "      <td>Opera/9.58.(X11; Linux x86_64; it-IT) Presto/2...</td>\n",
       "      <td>Brown, Watson and Andrews</td>\n",
       "      <td>6011456623207998</td>\n",
       "      <td>10/25</td>\n",
       "      <td>678</td>\n",
       "      <td>Diners Club / Carte Blanche</td>\n",
       "      <td>christopherwright@gmail.com</td>\n",
       "      <td>Fine artist</td>\n",
       "      <td>24.140.33.94</td>\n",
       "      <td>es</td>\n",
       "      <td>77.82</td>\n",
       "    </tr>\n",
       "  </tbody>\n",
       "</table>\n",
       "</div>"
      ],
      "text/plain": [
       "                                             Address    Lot AM or PM  \\\n",
       "0  16629 Pace Camp Apt. 448\\nAlexisborough, NE 77...  46 in       PM   \n",
       "1  9374 Jasmine Spurs Suite 508\\nSouth John, TN 8...  28 rn       PM   \n",
       "2                   Unit 0065 Box 5052\\nDPO AP 27450  94 vE       PM   \n",
       "3              7780 Julia Fords\\nNew Stacy, WA 45798  36 vm       PM   \n",
       "4  23012 Munoz Drive Suite 337\\nNew Cynthia, TX 5...  20 IE       AM   \n",
       "\n",
       "                                        Browser Info  \\\n",
       "0  Opera/9.56.(X11; Linux x86_64; sl-SI) Presto/2...   \n",
       "1  Opera/8.93.(Windows 98; Win 9x 4.90; en-US) Pr...   \n",
       "2  Mozilla/5.0 (compatible; MSIE 9.0; Windows NT ...   \n",
       "3  Mozilla/5.0 (Macintosh; Intel Mac OS X 10_8_0 ...   \n",
       "4  Opera/9.58.(X11; Linux x86_64; it-IT) Presto/2...   \n",
       "\n",
       "                           Company       Credit Card CC Exp Date  \\\n",
       "0                  Martinez-Herman  6011929061123406       02/20   \n",
       "1  Fletcher, Richards and Whitaker  3337758169645356       11/18   \n",
       "2       Simpson, Williams and Pham      675957666125       08/19   \n",
       "3  Williams, Marshall and Buchanan  6011578504430710       02/24   \n",
       "4        Brown, Watson and Andrews  6011456623207998       10/25   \n",
       "\n",
       "   CC Security Code                  CC Provider  \\\n",
       "0               900                 JCB 16 digit   \n",
       "1               561                   Mastercard   \n",
       "2               699                 JCB 16 digit   \n",
       "3               384                     Discover   \n",
       "4               678  Diners Club / Carte Blanche   \n",
       "\n",
       "                            Email                                     Job  \\\n",
       "0               pdunlap@yahoo.com  Scientist, product/process development   \n",
       "1              anthony41@reed.com                       Drilling engineer   \n",
       "2  amymiller@morales-harrison.com                Customer service manager   \n",
       "3     brent16@olson-robinson.info                       Drilling engineer   \n",
       "4     christopherwright@gmail.com                             Fine artist   \n",
       "\n",
       "        IP Address Language  Purchase Price  \n",
       "0  149.146.147.205       el           98.14  \n",
       "1     15.160.41.51       fr           70.73  \n",
       "2   132.207.160.22       de            0.95  \n",
       "3     30.250.74.19       es           78.04  \n",
       "4     24.140.33.94       es           77.82  "
      ]
     },
     "execution_count": 3,
     "metadata": {},
     "output_type": "execute_result"
    }
   ],
   "source": [
    "data = pd.read_csv(\"/kaggle/input/ecommerce-purchases/Ecommerce Purchases\")\n",
    "data.head()"
   ]
  },
  {
   "cell_type": "code",
   "execution_count": 4,
   "id": "19163a04",
   "metadata": {
    "execution": {
     "iopub.execute_input": "2023-04-18T06:35:33.165282Z",
     "iopub.status.busy": "2023-04-18T06:35:33.164838Z",
     "iopub.status.idle": "2023-04-18T06:35:33.171184Z",
     "shell.execute_reply": "2023-04-18T06:35:33.170355Z"
    },
    "papermill": {
     "duration": 0.016655,
     "end_time": "2023-04-18T06:35:33.173883",
     "exception": false,
     "start_time": "2023-04-18T06:35:33.157228",
     "status": "completed"
    },
    "tags": []
   },
   "outputs": [
    {
     "name": "stdout",
     "output_type": "stream",
     "text": [
      "Address              object\n",
      "Lot                  object\n",
      "AM or PM             object\n",
      "Browser Info         object\n",
      "Company              object\n",
      "Credit Card           int64\n",
      "CC Exp Date          object\n",
      "CC Security Code      int64\n",
      "CC Provider          object\n",
      "Email                object\n",
      "Job                  object\n",
      "IP Address           object\n",
      "Language             object\n",
      "Purchase Price      float64\n",
      "dtype: object\n"
     ]
    }
   ],
   "source": [
    "print(data.dtypes)"
   ]
  },
  {
   "cell_type": "code",
   "execution_count": 5,
   "id": "5e43a66c",
   "metadata": {
    "execution": {
     "iopub.execute_input": "2023-04-18T06:35:33.188659Z",
     "iopub.status.busy": "2023-04-18T06:35:33.187960Z",
     "iopub.status.idle": "2023-04-18T06:35:33.198328Z",
     "shell.execute_reply": "2023-04-18T06:35:33.197133Z"
    },
    "papermill": {
     "duration": 0.020698,
     "end_time": "2023-04-18T06:35:33.200891",
     "exception": false,
     "start_time": "2023-04-18T06:35:33.180193",
     "status": "completed"
    },
    "tags": []
   },
   "outputs": [
    {
     "name": "stdout",
     "output_type": "stream",
     "text": [
      "max_price    99.99\n",
      "min_price     0.00\n",
      "dtype: float64\n"
     ]
    }
   ],
   "source": [
    "max_price = data[\"Purchase Price\"].max()\n",
    "min_price = data[\"Purchase Price\"].min()\n",
    "\n",
    "edge_prices = pd.Series({\"max_price\":max_price, \"min_price\":min_price })\n",
    "print(edge_prices)"
   ]
  },
  {
   "cell_type": "code",
   "execution_count": 6,
   "id": "54d32124",
   "metadata": {
    "execution": {
     "iopub.execute_input": "2023-04-18T06:35:33.215536Z",
     "iopub.status.busy": "2023-04-18T06:35:33.215112Z",
     "iopub.status.idle": "2023-04-18T06:35:33.225906Z",
     "shell.execute_reply": "2023-04-18T06:35:33.224673Z"
    },
    "papermill": {
     "duration": 0.020776,
     "end_time": "2023-04-18T06:35:33.228276",
     "exception": false,
     "start_time": "2023-04-18T06:35:33.207500",
     "status": "completed"
    },
    "tags": []
   },
   "outputs": [
    {
     "data": {
      "text/plain": [
       "1097"
      ]
     },
     "execution_count": 6,
     "metadata": {},
     "output_type": "execute_result"
    }
   ],
   "source": [
    "len(data[data[\"Language\"]==\"fr\"])"
   ]
  },
  {
   "cell_type": "code",
   "execution_count": 7,
   "id": "956d23c5",
   "metadata": {
    "execution": {
     "iopub.execute_input": "2023-04-18T06:35:33.242856Z",
     "iopub.status.busy": "2023-04-18T06:35:33.242443Z",
     "iopub.status.idle": "2023-04-18T06:35:33.256885Z",
     "shell.execute_reply": "2023-04-18T06:35:33.255721Z"
    },
    "papermill": {
     "duration": 0.024776,
     "end_time": "2023-04-18T06:35:33.259498",
     "exception": false,
     "start_time": "2023-04-18T06:35:33.234722",
     "status": "completed"
    },
    "tags": []
   },
   "outputs": [
    {
     "data": {
      "text/plain": [
       "453"
      ]
     },
     "execution_count": 7,
     "metadata": {},
     "output_type": "execute_result"
    }
   ],
   "source": [
    "len(data[data[\"Job\"].str.contains(\"Engineer\")])"
   ]
  },
  {
   "cell_type": "code",
   "execution_count": 8,
   "id": "ba69f07c",
   "metadata": {
    "execution": {
     "iopub.execute_input": "2023-04-18T06:35:33.275372Z",
     "iopub.status.busy": "2023-04-18T06:35:33.274327Z",
     "iopub.status.idle": "2023-04-18T06:35:33.285275Z",
     "shell.execute_reply": "2023-04-18T06:35:33.283940Z"
    },
    "papermill": {
     "duration": 0.021667,
     "end_time": "2023-04-18T06:35:33.287803",
     "exception": false,
     "start_time": "2023-04-18T06:35:33.266136",
     "status": "completed"
    },
    "tags": []
   },
   "outputs": [
    {
     "data": {
      "text/plain": [
       "2    amymiller@morales-harrison.com\n",
       "Name: Email, dtype: object"
      ]
     },
     "execution_count": 8,
     "metadata": {},
     "output_type": "execute_result"
    }
   ],
   "source": [
    "ip = data[data[\"IP Address\"]==\"132.207.160.22\"]\n",
    "ip[\"Email\"]"
   ]
  },
  {
   "cell_type": "code",
   "execution_count": 9,
   "id": "0c7ec63c",
   "metadata": {
    "execution": {
     "iopub.execute_input": "2023-04-18T06:35:33.303025Z",
     "iopub.status.busy": "2023-04-18T06:35:33.302640Z",
     "iopub.status.idle": "2023-04-18T06:35:33.318084Z",
     "shell.execute_reply": "2023-04-18T06:35:33.316446Z"
    },
    "papermill": {
     "duration": 0.026158,
     "end_time": "2023-04-18T06:35:33.320615",
     "exception": false,
     "start_time": "2023-04-18T06:35:33.294457",
     "status": "completed"
    },
    "tags": []
   },
   "outputs": [
    {
     "name": "stdout",
     "output_type": "stream",
     "text": [
      "Address             405\n",
      "Lot                 405\n",
      "AM or PM            405\n",
      "Browser Info        405\n",
      "Company             405\n",
      "Credit Card         405\n",
      "CC Exp Date         405\n",
      "CC Security Code    405\n",
      "CC Provider         405\n",
      "Email               405\n",
      "Job                 405\n",
      "IP Address          405\n",
      "Language            405\n",
      "Purchase Price      405\n",
      "dtype: int64\n"
     ]
    }
   ],
   "source": [
    "master_card = data[(data[\"CC Provider\"] == \"Mastercard\") & (data[\"Purchase Price\"]>50)].count()\n",
    "print(master_card)"
   ]
  },
  {
   "cell_type": "code",
   "execution_count": 10,
   "id": "02875542",
   "metadata": {
    "execution": {
     "iopub.execute_input": "2023-04-18T06:35:33.335901Z",
     "iopub.status.busy": "2023-04-18T06:35:33.335133Z",
     "iopub.status.idle": "2023-04-18T06:35:33.342293Z",
     "shell.execute_reply": "2023-04-18T06:35:33.341135Z"
    },
    "papermill": {
     "duration": 0.017499,
     "end_time": "2023-04-18T06:35:33.344748",
     "exception": false,
     "start_time": "2023-04-18T06:35:33.327249",
     "status": "completed"
    },
    "tags": []
   },
   "outputs": [
    {
     "data": {
      "text/plain": [
       "Index(['Address', 'Lot', 'AM or PM', 'Browser Info', 'Company', 'Credit Card',\n",
       "       'CC Exp Date', 'CC Security Code', 'CC Provider', 'Email', 'Job',\n",
       "       'IP Address', 'Language', 'Purchase Price'],\n",
       "      dtype='object')"
      ]
     },
     "execution_count": 10,
     "metadata": {},
     "output_type": "execute_result"
    }
   ],
   "source": [
    "data.columns"
   ]
  },
  {
   "cell_type": "code",
   "execution_count": 11,
   "id": "73e05c87",
   "metadata": {
    "execution": {
     "iopub.execute_input": "2023-04-18T06:35:33.360532Z",
     "iopub.status.busy": "2023-04-18T06:35:33.360115Z",
     "iopub.status.idle": "2023-04-18T06:35:33.368928Z",
     "shell.execute_reply": "2023-04-18T06:35:33.367464Z"
    },
    "papermill": {
     "duration": 0.019657,
     "end_time": "2023-04-18T06:35:33.371464",
     "exception": false,
     "start_time": "2023-04-18T06:35:33.351807",
     "status": "completed"
    },
    "tags": []
   },
   "outputs": [
    {
     "name": "stdout",
     "output_type": "stream",
     "text": [
      "9992    bberry@wright.net\n",
      "Name: Email, dtype: object\n"
     ]
    }
   ],
   "source": [
    "person_to_find = data[data[\"Credit Card\"] == 4664825258997302]\n",
    "print(person_to_find[\"Email\"])"
   ]
  },
  {
   "cell_type": "code",
   "execution_count": 12,
   "id": "600a9a75",
   "metadata": {
    "execution": {
     "iopub.execute_input": "2023-04-18T06:35:33.388304Z",
     "iopub.status.busy": "2023-04-18T06:35:33.387209Z",
     "iopub.status.idle": "2023-04-18T06:35:33.454151Z",
     "shell.execute_reply": "2023-04-18T06:35:33.452456Z"
    },
    "papermill": {
     "duration": 0.077555,
     "end_time": "2023-04-18T06:35:33.456858",
     "exception": false,
     "start_time": "2023-04-18T06:35:33.379303",
     "status": "completed"
    },
    "tags": []
   },
   "outputs": [
    {
     "name": "stdout",
     "output_type": "stream",
     "text": [
      "Address                                                     Lot    AM or PM  Browser Info                                                                                                                                        Company                       Credit Card       CC Exp Date  CC Security Code  CC Provider                  Email                                  Job                                  IP Address       Language  Purchase Price\n",
      "00009 Sharon Forks Apt. 078\\nWest Sabrinabury, MA 45611     65 dS  AM        Mozilla/5.0 (Macintosh; Intel Mac OS X 10_6_4) AppleWebKit/5320 (KHTML, like Gecko) Chrome/15.0.833.0 Safari/5320                                   Lopez, Barton and Miller      60423591589       04/17        362               VISA 16 digit                hhurst@gmail.com                       Development worker, community        254.48.96.123    fr        17.20             1\n",
      "750 Dunn Knolls\\nShermanfurt, WV 69310-0308                 42 KU  AM        Opera/9.76.(Windows CE; en-US) Presto/2.9.175 Version/12.00                                                                                         Morrison LLC                  4212493448797343  12/25        75                Mastercard                   wjohnson@yahoo.com                     Interior and spatial designer        52.254.229.60    zh        79.61             1\n",
      "75218 Darrell Center Suite 453\\nCarrieburgh, IN 09435-8025  01 SN  AM        Mozilla/5.0 (Windows NT 4.0; en-US; rv:1.9.2.20) Gecko/2016-07-25 05:03:27 Firefox/15.0                                                             Simmons LLC                   3337041089880274  03/20        235               Discover                     fpatel@hotmail.com                     Futures trader                       190.163.20.69    pt        47.73             1\n",
      "752 Garcia Shore\\nWilsonchester, TN 83038-1830              65 sM  AM        Mozilla/5.0 (compatible; MSIE 7.0; Windows NT 4.0; Trident/4.1)                                                                                     Bailey-Francis                6011746539509713  02/18        19                Voyager                      middletonmichele@hotmail.com           Exhibitions officer, museum/gallery  207.22.230.194   es        31.56             1\n",
      "7518 Courtney Unions\\nMitchellstad, NY 56710-1423           71 LG  AM        Mozilla/5.0 (X11; Linux x86_64) AppleWebKit/5351 (KHTML, like Gecko) Chrome/14.0.893.0 Safari/5351                                                  Small, Williams and Gonzalez  4691939449852776  03/22        161               VISA 16 digit                timothyallen@fitzpatrick-harrison.com  Engineer, electronics                247.203.211.225  el        2.40              1\n",
      "                                                                                                                                                                                                                                                                                                                                                                                                                                                                     ..\n",
      "3722 Jason Viaduct Apt. 536\\nEast Eric, MI 90210-6452       55 rO  AM        Mozilla/5.0 (compatible; MSIE 5.0; Windows NT 6.2; Trident/5.1)                                                                                     Wolf, Caldwell and Hamilton   5103713605359309  04/21        212               JCB 15 digit                 sandra16@morton.com                    Minerals surveyor                    1.56.230.193     el        67.71             1\n",
      "37207 House Knoll Suite 650\\nMerrittport, GU 04324          89 VH  AM        Mozilla/5.0 (iPod; U; CPU iPhone OS 3_2 like Mac OS X; it-IT) AppleWebKit/532.24.6 (KHTML, like Gecko) Version/4.0.5 Mobile/8B111 Safari/6532.24.6  Johnson-Jimenez               4625618715770935  11/17        957               Voyager                      holtricardo@lane.com                   Engineer, production                 70.255.238.62    el        21.06             1\n",
      "372 Banks Port\\nPort Leslie, AZ 29911                       72 UA  AM        Mozilla/5.0 (iPod; U; CPU iPhone OS 4_1 like Mac OS X; sl-SI) AppleWebKit/533.43.5 (KHTML, like Gecko) Version/3.0.5 Mobile/8B117 Safari/6533.43.5  Dunn, Roth and Jones          561252150926      02/24        461               Maestro                      bethanylee@yahoo.com                   Photographer                         76.232.156.4     el        64.51             1\n",
      "37192 Terri Falls Suite 981\\nPort Melissaside, NH 63554     27 dR  AM        Mozilla/5.0 (Macintosh; Intel Mac OS X 10_5_2; rv:1.9.2.20) Gecko/2012-07-15 09:19:37 Firefox/6.0                                                   Poole, Stark and Roman        4056204757197     12/20        101               Diners Club / Carte Blanche  audrey47@johnson.com                   Higher education lecturer            104.148.49.21    es        10.77             1\n",
      "Unit 9991 Box 3616\\nDPO AA 99399                            06 uJ  AM        Mozilla/5.0 (compatible; MSIE 8.0; Windows NT 5.0; Trident/3.0)                                                                                     Johnson, Knox and Hill        3528901308434147  11/18        764               VISA 16 digit                daisywilliams@wilkerson.net            Museum/gallery conservator           139.255.97.152   it        59.96             1\n",
      "Length: 4932, dtype: int64\n"
     ]
    }
   ],
   "source": [
    "am = data[data[\"AM or PM\"] == \"AM\"].value_counts()\n",
    "pm = len(data[data[\"AM or PM\"] == \"PM\"])\n",
    "print(am)"
   ]
  },
  {
   "cell_type": "code",
   "execution_count": 13,
   "id": "f92e97ab",
   "metadata": {
    "execution": {
     "iopub.execute_input": "2023-04-18T06:35:33.472904Z",
     "iopub.status.busy": "2023-04-18T06:35:33.472472Z",
     "iopub.status.idle": "2023-04-18T06:35:33.493543Z",
     "shell.execute_reply": "2023-04-18T06:35:33.492328Z"
    },
    "papermill": {
     "duration": 0.0322,
     "end_time": "2023-04-18T06:35:33.496208",
     "exception": false,
     "start_time": "2023-04-18T06:35:33.464008",
     "status": "completed"
    },
    "tags": []
   },
   "outputs": [
    {
     "data": {
      "text/html": [
       "<div>\n",
       "<style scoped>\n",
       "    .dataframe tbody tr th:only-of-type {\n",
       "        vertical-align: middle;\n",
       "    }\n",
       "\n",
       "    .dataframe tbody tr th {\n",
       "        vertical-align: top;\n",
       "    }\n",
       "\n",
       "    .dataframe thead th {\n",
       "        text-align: right;\n",
       "    }\n",
       "</style>\n",
       "<table border=\"1\" class=\"dataframe\">\n",
       "  <thead>\n",
       "    <tr style=\"text-align: right;\">\n",
       "      <th></th>\n",
       "      <th>Address</th>\n",
       "      <th>Lot</th>\n",
       "      <th>AM or PM</th>\n",
       "      <th>Browser Info</th>\n",
       "      <th>Company</th>\n",
       "      <th>Credit Card</th>\n",
       "      <th>CC Exp Date</th>\n",
       "      <th>CC Security Code</th>\n",
       "      <th>CC Provider</th>\n",
       "      <th>Email</th>\n",
       "      <th>Job</th>\n",
       "      <th>IP Address</th>\n",
       "      <th>Language</th>\n",
       "      <th>Purchase Price</th>\n",
       "    </tr>\n",
       "  </thead>\n",
       "  <tbody>\n",
       "    <tr>\n",
       "      <th>0</th>\n",
       "      <td>16629 Pace Camp Apt. 448\\nAlexisborough, NE 77...</td>\n",
       "      <td>46 in</td>\n",
       "      <td>PM</td>\n",
       "      <td>Opera/9.56.(X11; Linux x86_64; sl-SI) Presto/2...</td>\n",
       "      <td>Martinez-Herman</td>\n",
       "      <td>6011929061123406</td>\n",
       "      <td>02/20</td>\n",
       "      <td>900</td>\n",
       "      <td>JCB 16 digit</td>\n",
       "      <td>pdunlap@yahoo.com</td>\n",
       "      <td>Scientist, product/process development</td>\n",
       "      <td>149.146.147.205</td>\n",
       "      <td>el</td>\n",
       "      <td>98.14</td>\n",
       "    </tr>\n",
       "    <tr>\n",
       "      <th>1</th>\n",
       "      <td>9374 Jasmine Spurs Suite 508\\nSouth John, TN 8...</td>\n",
       "      <td>28 rn</td>\n",
       "      <td>PM</td>\n",
       "      <td>Opera/8.93.(Windows 98; Win 9x 4.90; en-US) Pr...</td>\n",
       "      <td>Fletcher, Richards and Whitaker</td>\n",
       "      <td>3337758169645356</td>\n",
       "      <td>11/18</td>\n",
       "      <td>561</td>\n",
       "      <td>Mastercard</td>\n",
       "      <td>anthony41@reed.com</td>\n",
       "      <td>Drilling engineer</td>\n",
       "      <td>15.160.41.51</td>\n",
       "      <td>fr</td>\n",
       "      <td>70.73</td>\n",
       "    </tr>\n",
       "    <tr>\n",
       "      <th>2</th>\n",
       "      <td>Unit 0065 Box 5052\\nDPO AP 27450</td>\n",
       "      <td>94 vE</td>\n",
       "      <td>PM</td>\n",
       "      <td>Mozilla/5.0 (compatible; MSIE 9.0; Windows NT ...</td>\n",
       "      <td>Simpson, Williams and Pham</td>\n",
       "      <td>675957666125</td>\n",
       "      <td>08/19</td>\n",
       "      <td>699</td>\n",
       "      <td>JCB 16 digit</td>\n",
       "      <td>amymiller@morales-harrison.com</td>\n",
       "      <td>Customer service manager</td>\n",
       "      <td>132.207.160.22</td>\n",
       "      <td>de</td>\n",
       "      <td>0.95</td>\n",
       "    </tr>\n",
       "    <tr>\n",
       "      <th>3</th>\n",
       "      <td>7780 Julia Fords\\nNew Stacy, WA 45798</td>\n",
       "      <td>36 vm</td>\n",
       "      <td>PM</td>\n",
       "      <td>Mozilla/5.0 (Macintosh; Intel Mac OS X 10_8_0 ...</td>\n",
       "      <td>Williams, Marshall and Buchanan</td>\n",
       "      <td>6011578504430710</td>\n",
       "      <td>02/24</td>\n",
       "      <td>384</td>\n",
       "      <td>Discover</td>\n",
       "      <td>brent16@olson-robinson.info</td>\n",
       "      <td>Drilling engineer</td>\n",
       "      <td>30.250.74.19</td>\n",
       "      <td>es</td>\n",
       "      <td>78.04</td>\n",
       "    </tr>\n",
       "    <tr>\n",
       "      <th>4</th>\n",
       "      <td>23012 Munoz Drive Suite 337\\nNew Cynthia, TX 5...</td>\n",
       "      <td>20 IE</td>\n",
       "      <td>AM</td>\n",
       "      <td>Opera/9.58.(X11; Linux x86_64; it-IT) Presto/2...</td>\n",
       "      <td>Brown, Watson and Andrews</td>\n",
       "      <td>6011456623207998</td>\n",
       "      <td>10/25</td>\n",
       "      <td>678</td>\n",
       "      <td>Diners Club / Carte Blanche</td>\n",
       "      <td>christopherwright@gmail.com</td>\n",
       "      <td>Fine artist</td>\n",
       "      <td>24.140.33.94</td>\n",
       "      <td>es</td>\n",
       "      <td>77.82</td>\n",
       "    </tr>\n",
       "  </tbody>\n",
       "</table>\n",
       "</div>"
      ],
      "text/plain": [
       "                                             Address    Lot AM or PM  \\\n",
       "0  16629 Pace Camp Apt. 448\\nAlexisborough, NE 77...  46 in       PM   \n",
       "1  9374 Jasmine Spurs Suite 508\\nSouth John, TN 8...  28 rn       PM   \n",
       "2                   Unit 0065 Box 5052\\nDPO AP 27450  94 vE       PM   \n",
       "3              7780 Julia Fords\\nNew Stacy, WA 45798  36 vm       PM   \n",
       "4  23012 Munoz Drive Suite 337\\nNew Cynthia, TX 5...  20 IE       AM   \n",
       "\n",
       "                                        Browser Info  \\\n",
       "0  Opera/9.56.(X11; Linux x86_64; sl-SI) Presto/2...   \n",
       "1  Opera/8.93.(Windows 98; Win 9x 4.90; en-US) Pr...   \n",
       "2  Mozilla/5.0 (compatible; MSIE 9.0; Windows NT ...   \n",
       "3  Mozilla/5.0 (Macintosh; Intel Mac OS X 10_8_0 ...   \n",
       "4  Opera/9.58.(X11; Linux x86_64; it-IT) Presto/2...   \n",
       "\n",
       "                           Company       Credit Card CC Exp Date  \\\n",
       "0                  Martinez-Herman  6011929061123406       02/20   \n",
       "1  Fletcher, Richards and Whitaker  3337758169645356       11/18   \n",
       "2       Simpson, Williams and Pham      675957666125       08/19   \n",
       "3  Williams, Marshall and Buchanan  6011578504430710       02/24   \n",
       "4        Brown, Watson and Andrews  6011456623207998       10/25   \n",
       "\n",
       "   CC Security Code                  CC Provider  \\\n",
       "0               900                 JCB 16 digit   \n",
       "1               561                   Mastercard   \n",
       "2               699                 JCB 16 digit   \n",
       "3               384                     Discover   \n",
       "4               678  Diners Club / Carte Blanche   \n",
       "\n",
       "                            Email                                     Job  \\\n",
       "0               pdunlap@yahoo.com  Scientist, product/process development   \n",
       "1              anthony41@reed.com                       Drilling engineer   \n",
       "2  amymiller@morales-harrison.com                Customer service manager   \n",
       "3     brent16@olson-robinson.info                       Drilling engineer   \n",
       "4     christopherwright@gmail.com                             Fine artist   \n",
       "\n",
       "        IP Address Language  Purchase Price  \n",
       "0  149.146.147.205       el           98.14  \n",
       "1     15.160.41.51       fr           70.73  \n",
       "2   132.207.160.22       de            0.95  \n",
       "3     30.250.74.19       es           78.04  \n",
       "4     24.140.33.94       es           77.82  "
      ]
     },
     "execution_count": 13,
     "metadata": {},
     "output_type": "execute_result"
    }
   ],
   "source": [
    "data.head()"
   ]
  },
  {
   "cell_type": "code",
   "execution_count": 14,
   "id": "b2ba0f5e",
   "metadata": {
    "execution": {
     "iopub.execute_input": "2023-04-18T06:35:33.512936Z",
     "iopub.status.busy": "2023-04-18T06:35:33.511957Z",
     "iopub.status.idle": "2023-04-18T06:35:33.524172Z",
     "shell.execute_reply": "2023-04-18T06:35:33.523247Z"
    },
    "papermill": {
     "duration": 0.022773,
     "end_time": "2023-04-18T06:35:33.526324",
     "exception": false,
     "start_time": "2023-04-18T06:35:33.503551",
     "status": "completed"
    },
    "tags": []
   },
   "outputs": [
    {
     "name": "stdout",
     "output_type": "stream",
     "text": [
      "The average price is 50.347302 and the range is min     0.00\n",
      "max    99.99\n",
      "Name: Purchase Price, dtype: float64\n"
     ]
    }
   ],
   "source": [
    "#The average purchase price and the most popular purchase price range.\n",
    "\n",
    "purchase_average = data[\"Purchase Price\"].mean()\n",
    "range_price = data[\"Purchase Price\"].describe()[[\"min\", \"max\"]]\n",
    "print(f\"The average price is {purchase_average} and the range is {range_price}\")"
   ]
  },
  {
   "cell_type": "code",
   "execution_count": 15,
   "id": "fbb6b3ac",
   "metadata": {
    "execution": {
     "iopub.execute_input": "2023-04-18T06:35:33.542818Z",
     "iopub.status.busy": "2023-04-18T06:35:33.541914Z",
     "iopub.status.idle": "2023-04-18T06:35:33.551509Z",
     "shell.execute_reply": "2023-04-18T06:35:33.550278Z"
    },
    "papermill": {
     "duration": 0.020443,
     "end_time": "2023-04-18T06:35:33.553954",
     "exception": false,
     "start_time": "2023-04-18T06:35:33.533511",
     "status": "completed"
    },
    "tags": []
   },
   "outputs": [
    {
     "name": "stdout",
     "output_type": "stream",
     "text": [
      "JCB 16 digit 17.16\n"
     ]
    }
   ],
   "source": [
    "# The most commonly used credit card provider and its market share.\n",
    "\n",
    "market_share = data[\"CC Provider\"].value_counts(normalize=True)*100\n",
    "print(market_share.idxmax(),market_share.max() )"
   ]
  },
  {
   "cell_type": "code",
   "execution_count": 16,
   "id": "8dd87646",
   "metadata": {
    "execution": {
     "iopub.execute_input": "2023-04-18T06:35:33.570603Z",
     "iopub.status.busy": "2023-04-18T06:35:33.569752Z",
     "iopub.status.idle": "2023-04-18T06:35:33.578532Z",
     "shell.execute_reply": "2023-04-18T06:35:33.577428Z"
    },
    "papermill": {
     "duration": 0.019713,
     "end_time": "2023-04-18T06:35:33.581040",
     "exception": false,
     "start_time": "2023-04-18T06:35:33.561327",
     "status": "completed"
    },
    "tags": []
   },
   "outputs": [
    {
     "data": {
      "text/plain": [
       "PM    5068\n",
       "AM    4932\n",
       "Name: AM or PM, dtype: int64"
      ]
     },
     "execution_count": 16,
     "metadata": {},
     "output_type": "execute_result"
    }
   ],
   "source": [
    "#The number of purchases made during AM and PM.\n",
    "columns = data.columns\n",
    "#print(columns)\n",
    "am_pm = data[\"AM or PM\"].value_counts()\n",
    "am_pm"
   ]
  },
  {
   "cell_type": "code",
   "execution_count": 17,
   "id": "0ad27073",
   "metadata": {
    "execution": {
     "iopub.execute_input": "2023-04-18T06:35:33.598862Z",
     "iopub.status.busy": "2023-04-18T06:35:33.598425Z",
     "iopub.status.idle": "2023-04-18T06:35:33.609553Z",
     "shell.execute_reply": "2023-04-18T06:35:33.608156Z"
    },
    "papermill": {
     "duration": 0.022739,
     "end_time": "2023-04-18T06:35:33.611809",
     "exception": false,
     "start_time": "2023-04-18T06:35:33.589070",
     "status": "completed"
    },
    "tags": []
   },
   "outputs": [
    {
     "name": "stdout",
     "output_type": "stream",
     "text": [
      "DE with 1155 repetitions\n",
      "de 11.55\n"
     ]
    }
   ],
   "source": [
    "#The most common language among customers and its market share.\n",
    "\n",
    "#print(columns)\n",
    "most_common_language = data[\"Language\"].value_counts()\n",
    "repetitions = most_common_language\n",
    "language_str = most_common_language.index[0]\n",
    "print(f\"{language_str.upper()} with {repetitions[0]} repetitions\")\n",
    "market_shere_language = data[\"Language\"].value_counts(normalize=True)*100\n",
    "print(market_shere_language.idxmax(), market_shere_language.max())\n"
   ]
  },
  {
   "cell_type": "code",
   "execution_count": 18,
   "id": "388d402f",
   "metadata": {
    "execution": {
     "iopub.execute_input": "2023-04-18T06:35:33.629855Z",
     "iopub.status.busy": "2023-04-18T06:35:33.628958Z",
     "iopub.status.idle": "2023-04-18T06:35:33.639166Z",
     "shell.execute_reply": "2023-04-18T06:35:33.638299Z"
    },
    "papermill": {
     "duration": 0.02205,
     "end_time": "2023-04-18T06:35:33.641542",
     "exception": false,
     "start_time": "2023-04-18T06:35:33.619492",
     "status": "completed"
    },
    "tags": []
   },
   "outputs": [
    {
     "name": "stdout",
     "output_type": "stream",
     "text": [
      "Index(['Address', 'Lot', 'AM or PM', 'Browser Info', 'Company', 'Credit Card',\n",
      "       'CC Exp Date', 'CC Security Code', 'CC Provider', 'Email', 'Job',\n",
      "       'IP Address', 'Language', 'Purchase Price'],\n",
      "      dtype='object')\n"
     ]
    },
    {
     "data": {
      "text/plain": [
       "Interior and spatial designer    31\n",
       "Lawyer                           30\n",
       "Social researcher                28\n",
       "Purchasing manager               27\n",
       "Designer, jewellery              27\n",
       "Name: Job, dtype: int64"
      ]
     },
     "execution_count": 18,
     "metadata": {},
     "output_type": "execute_result"
    }
   ],
   "source": [
    "#The most common job titles among customers.\n",
    "print(columns)\n",
    "\n",
    "commont_job_counts = data[\"Job\"].value_counts()\n",
    "commont_job_counts.head(5)\n"
   ]
  },
  {
   "cell_type": "code",
   "execution_count": 19,
   "id": "5b06ce58",
   "metadata": {
    "execution": {
     "iopub.execute_input": "2023-04-18T06:35:33.659790Z",
     "iopub.status.busy": "2023-04-18T06:35:33.659158Z",
     "iopub.status.idle": "2023-04-18T06:35:33.693882Z",
     "shell.execute_reply": "2023-04-18T06:35:33.692617Z"
    },
    "papermill": {
     "duration": 0.04674,
     "end_time": "2023-04-18T06:35:33.696252",
     "exception": false,
     "start_time": "2023-04-18T06:35:33.649512",
     "status": "completed"
    },
    "tags": []
   },
   "outputs": [
    {
     "data": {
      "text/plain": [
       "Address                                                      IP Address    \n",
       "000 Jared Shoals Apt. 244\\nRamirezmouth, IL 12450            91.169.108.79     1\n",
       "000 Martin Shoal Apt. 004\\nNew Megan, FM 61399               60.199.17.99      1\n",
       "000 Mills Expressway Apt. 223\\nGutierrezview, NC 02682-8387  139.6.109.29      1\n",
       "00009 Sharon Forks Apt. 078\\nWest Sabrinabury, MA 45611      254.48.96.123     1\n",
       "0001 Cynthia Branch Apt. 359\\nNew Alex, OH 36278-8276        40.248.47.71      1\n",
       "                                                                              ..\n",
       "Unit 9897 Box 9570\\nDPO AA 35638                             209.226.36.235    1\n",
       "Unit 9920 Box 5671\\nDPO AP 70439                             45.252.40.82      1\n",
       "Unit 9938 Box 3602\\nDPO AE 90057-5180                        190.247.95.182    1\n",
       "Unit 9980 Box 9237\\nDPO AP 27028                             253.117.240.86    1\n",
       "Unit 9991 Box 3616\\nDPO AA 99399                             139.255.97.152    1\n",
       "Length: 10000, dtype: int64"
      ]
     },
     "execution_count": 19,
     "metadata": {},
     "output_type": "execute_result"
    }
   ],
   "source": [
    "# The geographic distribution of customers based on their IP addresses.\n",
    "\n",
    "grouped = data.groupby(['Address', 'IP Address'])\n",
    "grouped.size()"
   ]
  },
  {
   "cell_type": "code",
   "execution_count": 20,
   "id": "99145bde",
   "metadata": {
    "execution": {
     "iopub.execute_input": "2023-04-18T06:35:33.714359Z",
     "iopub.status.busy": "2023-04-18T06:35:33.713629Z",
     "iopub.status.idle": "2023-04-18T06:35:33.726862Z",
     "shell.execute_reply": "2023-04-18T06:35:33.725765Z"
    },
    "papermill": {
     "duration": 0.025296,
     "end_time": "2023-04-18T06:35:33.729503",
     "exception": false,
     "start_time": "2023-04-18T06:35:33.704207",
     "status": "completed"
    },
    "tags": []
   },
   "outputs": [
    {
     "data": {
      "text/plain": [
       "Job\n",
       "Academic librarian                  47.951818\n",
       "Accommodation manager               37.038235\n",
       "Accountant, chartered               52.565500\n",
       "Accountant, chartered certified     57.945000\n",
       "Accountant, chartered management    69.082667\n",
       "                                      ...    \n",
       "Water quality scientist             46.526111\n",
       "Web designer                        59.764500\n",
       "Wellsite geologist                  51.309167\n",
       "Writer                              44.863000\n",
       "Youth worker                        40.513333\n",
       "Name: Purchase Price, Length: 623, dtype: float64"
      ]
     },
     "execution_count": 20,
     "metadata": {},
     "output_type": "execute_result"
    }
   ],
   "source": [
    "# The relationship between job titles and purchase amounts.\n",
    "\n",
    "data.columns\n",
    "\n",
    "data.groupby(\"Job\")[\"Purchase Price\"].mean()\n",
    "\n"
   ]
  },
  {
   "cell_type": "code",
   "execution_count": 21,
   "id": "4236d677",
   "metadata": {
    "execution": {
     "iopub.execute_input": "2023-04-18T06:35:33.748213Z",
     "iopub.status.busy": "2023-04-18T06:35:33.747468Z",
     "iopub.status.idle": "2023-04-18T06:35:33.956069Z",
     "shell.execute_reply": "2023-04-18T06:35:33.955026Z"
    },
    "papermill": {
     "duration": 0.220932,
     "end_time": "2023-04-18T06:35:33.958724",
     "exception": false,
     "start_time": "2023-04-18T06:35:33.737792",
     "status": "completed"
    },
    "tags": []
   },
   "outputs": [
    {
     "name": "stdout",
     "output_type": "stream",
     "text": [
      "AM or PM\n",
      "AM    50.186511\n",
      "PM    50.503779\n",
      "Name: Purchase Price, dtype: float64\n"
     ]
    },
    {
     "data": {
      "image/png": "[encoded data removed]",
      "text/plain": [
       "<Figure size 640x480 with 1 Axes>"
      ]
     },
     "metadata": {},
     "output_type": "display_data"
    }
   ],
   "source": [
    "# The relationship between purchase amounts and the time of purchase (AM or PM)\n",
    "\n",
    "purchase_by_time = data.groupby(\"AM or PM\")[\"Purchase Price\"].mean()\n",
    "print(purchase_by_time)\n",
    "\n",
    "import matplotlib.pyplot as plt\n",
    "\n",
    "plt.bar(purchase_by_time.index, purchase_by_time.values)\n",
    "plt.xlabel(\"Time of Purchase\")\n",
    "plt.ylabel(\"Average Purchase Price\")\n",
    "plt.show()\n"
   ]
  },
  {
   "cell_type": "code",
   "execution_count": 22,
   "id": "14595748",
   "metadata": {
    "execution": {
     "iopub.execute_input": "2023-04-18T06:35:33.977540Z",
     "iopub.status.busy": "2023-04-18T06:35:33.977134Z",
     "iopub.status.idle": "2023-04-18T06:35:33.986436Z",
     "shell.execute_reply": "2023-04-18T06:35:33.985245Z"
    },
    "papermill": {
     "duration": 0.022066,
     "end_time": "2023-04-18T06:35:33.989297",
     "exception": false,
     "start_time": "2023-04-18T06:35:33.967231",
     "status": "completed"
    },
    "tags": []
   },
   "outputs": [
    {
     "name": "stdout",
     "output_type": "stream",
     "text": [
      "Language\n",
      "de    50.254485\n",
      "el    51.555356\n",
      "en    51.103015\n",
      "es    49.366977\n",
      "fr    49.476718\n",
      "it    50.001004\n",
      "pt    51.215546\n",
      "ru    49.927134\n",
      "zh    50.180198\n",
      "Name: Purchase Price, dtype: float64\n"
     ]
    }
   ],
   "source": [
    "#The average purchase price by language.\n",
    "avr_purchase = data.groupby(\"Language\")[\"Purchase Price\"].mean()\n",
    "print(avr_purchase)"
   ]
  }
 ],
 "metadata": {
  "kernelspec": {
   "display_name": "Python 3",
   "language": "python",
   "name": "python3"
  },
  "language_info": {
   "codemirror_mode": {
    "name": "ipython",
    "version": 3
   },
   "file_extension": ".py",
   "mimetype": "text/x-python",
   "name": "python",
   "nbconvert_exporter": "python",
   "pygments_lexer": "ipython3",
   "version": "3.7.12"
  },
  "papermill": {
   "default_parameters": {},
   "duration": 11.930988,
   "end_time": "2023-04-18T06:35:34.619869",
   "environment_variables": {},
   "exception": null,
   "input_path": "__notebook__.ipynb",
   "output_path": "__notebook__.ipynb",
   "parameters": {},
   "start_time": "2023-04-18T06:35:22.688881",
   "version": "2.4.0"
  }
 },
 "nbformat": 4,
 "nbformat_minor": 5
}
