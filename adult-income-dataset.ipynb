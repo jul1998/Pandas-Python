{
 "cells": [
  {
   "cell_type": "code",
   "execution_count": 1,
   "id": "09ed3dea",
   "metadata": {
    "_cell_guid": "b1076dfc-b9ad-4769-8c92-a6c4dae69d19",
    "_uuid": "8f2839f25d086af736a60e9eeb907d3b93b6e0e5",
    "execution": {
     "iopub.execute_input": "2023-04-25T23:12:16.965115Z",
     "iopub.status.busy": "2023-04-25T23:12:16.964540Z",
     "iopub.status.idle": "2023-04-25T23:12:16.988081Z",
     "shell.execute_reply": "2023-04-25T23:12:16.986337Z"
    },
    "papermill": {
     "duration": 0.035851,
     "end_time": "2023-04-25T23:12:16.991577",
     "exception": false,
     "start_time": "2023-04-25T23:12:16.955726",
     "status": "completed"
    },
    "tags": []
   },
   "outputs": [
    {
     "name": "stdout",
     "output_type": "stream",
     "text": [
      "/kaggle/input/adult-income-dataset/adult.csv\n"
     ]
    }
   ],
   "source": [
    "# This Python 3 environment comes with many helpful analytics libraries installed\n",
    "# It is defined by the kaggle/python Docker image: https://github.com/kaggle/docker-python\n",
    "# For example, here's several helpful packages to load\n",
    "\n",
    "import numpy as np # linear algebra\n",
    "import pandas as pd # data processing, CSV file I/O (e.g. pd.read_csv)\n",
    "\n",
    "# Input data files are available in the read-only \"../input/\" directory\n",
    "# For example, running this (by clicking run or pressing Shift+Enter) will list all files under the input directory\n",
    "\n",
    "import os\n",
    "for dirname, _, filenames in os.walk('/kaggle/input'):\n",
    "    for filename in filenames:\n",
    "        print(os.path.join(dirname, filename))\n",
    "\n",
    "# You can write up to 20GB to the current directory (/kaggle/working/) that gets preserved as output when you create a version using \"Save & Run All\" \n",
    "# You can also write temporary files to /kaggle/temp/, but they won't be saved outside of the current session"
   ]
  },
  {
   "cell_type": "code",
   "execution_count": 2,
   "id": "3d68e73d",
   "metadata": {
    "execution": {
     "iopub.execute_input": "2023-04-25T23:12:17.006701Z",
     "iopub.status.busy": "2023-04-25T23:12:17.005292Z",
     "iopub.status.idle": "2023-04-25T23:12:17.223384Z",
     "shell.execute_reply": "2023-04-25T23:12:17.222109Z"
    },
    "papermill": {
     "duration": 0.228748,
     "end_time": "2023-04-25T23:12:17.226258",
     "exception": false,
     "start_time": "2023-04-25T23:12:16.997510",
     "status": "completed"
    },
    "tags": []
   },
   "outputs": [
    {
     "data": {
      "text/html": [
       "<div>\n",
       "<style scoped>\n",
       "    .dataframe tbody tr th:only-of-type {\n",
       "        vertical-align: middle;\n",
       "    }\n",
       "\n",
       "    .dataframe tbody tr th {\n",
       "        vertical-align: top;\n",
       "    }\n",
       "\n",
       "    .dataframe thead th {\n",
       "        text-align: right;\n",
       "    }\n",
       "</style>\n",
       "<table border=\"1\" class=\"dataframe\">\n",
       "  <thead>\n",
       "    <tr style=\"text-align: right;\">\n",
       "      <th></th>\n",
       "      <th>age</th>\n",
       "      <th>workclass</th>\n",
       "      <th>fnlwgt</th>\n",
       "      <th>education</th>\n",
       "      <th>educational-num</th>\n",
       "      <th>marital-status</th>\n",
       "      <th>occupation</th>\n",
       "      <th>relationship</th>\n",
       "      <th>race</th>\n",
       "      <th>gender</th>\n",
       "      <th>capital-gain</th>\n",
       "      <th>capital-loss</th>\n",
       "      <th>hours-per-week</th>\n",
       "      <th>native-country</th>\n",
       "      <th>income</th>\n",
       "    </tr>\n",
       "  </thead>\n",
       "  <tbody>\n",
       "    <tr>\n",
       "      <th>0</th>\n",
       "      <td>25</td>\n",
       "      <td>Private</td>\n",
       "      <td>226802</td>\n",
       "      <td>11th</td>\n",
       "      <td>7</td>\n",
       "      <td>Never-married</td>\n",
       "      <td>Machine-op-inspct</td>\n",
       "      <td>Own-child</td>\n",
       "      <td>Black</td>\n",
       "      <td>Male</td>\n",
       "      <td>0</td>\n",
       "      <td>0</td>\n",
       "      <td>40</td>\n",
       "      <td>United-States</td>\n",
       "      <td>&lt;=50K</td>\n",
       "    </tr>\n",
       "    <tr>\n",
       "      <th>1</th>\n",
       "      <td>38</td>\n",
       "      <td>Private</td>\n",
       "      <td>89814</td>\n",
       "      <td>HS-grad</td>\n",
       "      <td>9</td>\n",
       "      <td>Married-civ-spouse</td>\n",
       "      <td>Farming-fishing</td>\n",
       "      <td>Husband</td>\n",
       "      <td>White</td>\n",
       "      <td>Male</td>\n",
       "      <td>0</td>\n",
       "      <td>0</td>\n",
       "      <td>50</td>\n",
       "      <td>United-States</td>\n",
       "      <td>&lt;=50K</td>\n",
       "    </tr>\n",
       "    <tr>\n",
       "      <th>2</th>\n",
       "      <td>28</td>\n",
       "      <td>Local-gov</td>\n",
       "      <td>336951</td>\n",
       "      <td>Assoc-acdm</td>\n",
       "      <td>12</td>\n",
       "      <td>Married-civ-spouse</td>\n",
       "      <td>Protective-serv</td>\n",
       "      <td>Husband</td>\n",
       "      <td>White</td>\n",
       "      <td>Male</td>\n",
       "      <td>0</td>\n",
       "      <td>0</td>\n",
       "      <td>40</td>\n",
       "      <td>United-States</td>\n",
       "      <td>&gt;50K</td>\n",
       "    </tr>\n",
       "    <tr>\n",
       "      <th>3</th>\n",
       "      <td>44</td>\n",
       "      <td>Private</td>\n",
       "      <td>160323</td>\n",
       "      <td>Some-college</td>\n",
       "      <td>10</td>\n",
       "      <td>Married-civ-spouse</td>\n",
       "      <td>Machine-op-inspct</td>\n",
       "      <td>Husband</td>\n",
       "      <td>Black</td>\n",
       "      <td>Male</td>\n",
       "      <td>7688</td>\n",
       "      <td>0</td>\n",
       "      <td>40</td>\n",
       "      <td>United-States</td>\n",
       "      <td>&gt;50K</td>\n",
       "    </tr>\n",
       "    <tr>\n",
       "      <th>4</th>\n",
       "      <td>18</td>\n",
       "      <td>?</td>\n",
       "      <td>103497</td>\n",
       "      <td>Some-college</td>\n",
       "      <td>10</td>\n",
       "      <td>Never-married</td>\n",
       "      <td>?</td>\n",
       "      <td>Own-child</td>\n",
       "      <td>White</td>\n",
       "      <td>Female</td>\n",
       "      <td>0</td>\n",
       "      <td>0</td>\n",
       "      <td>30</td>\n",
       "      <td>United-States</td>\n",
       "      <td>&lt;=50K</td>\n",
       "    </tr>\n",
       "  </tbody>\n",
       "</table>\n",
       "</div>"
      ],
      "text/plain": [
       "   age  workclass  fnlwgt     education  educational-num      marital-status  \\\n",
       "0   25    Private  226802          11th                7       Never-married   \n",
       "1   38    Private   89814       HS-grad                9  Married-civ-spouse   \n",
       "2   28  Local-gov  336951    Assoc-acdm               12  Married-civ-spouse   \n",
       "3   44    Private  160323  Some-college               10  Married-civ-spouse   \n",
       "4   18          ?  103497  Some-college               10       Never-married   \n",
       "\n",
       "          occupation relationship   race  gender  capital-gain  capital-loss  \\\n",
       "0  Machine-op-inspct    Own-child  Black    Male             0             0   \n",
       "1    Farming-fishing      Husband  White    Male             0             0   \n",
       "2    Protective-serv      Husband  White    Male             0             0   \n",
       "3  Machine-op-inspct      Husband  Black    Male          7688             0   \n",
       "4                  ?    Own-child  White  Female             0             0   \n",
       "\n",
       "   hours-per-week native-country income  \n",
       "0              40  United-States  <=50K  \n",
       "1              50  United-States  <=50K  \n",
       "2              40  United-States   >50K  \n",
       "3              40  United-States   >50K  \n",
       "4              30  United-States  <=50K  "
      ]
     },
     "execution_count": 2,
     "metadata": {},
     "output_type": "execute_result"
    }
   ],
   "source": [
    "file_path = \"/kaggle/input/adult-income-dataset/adult.csv\"\n",
    "data = pd.read_csv(file_path)\n",
    "data.head()"
   ]
  },
  {
   "cell_type": "code",
   "execution_count": 3,
   "id": "5f551189",
   "metadata": {
    "execution": {
     "iopub.execute_input": "2023-04-25T23:12:17.240133Z",
     "iopub.status.busy": "2023-04-25T23:12:17.239280Z",
     "iopub.status.idle": "2023-04-25T23:12:17.245693Z",
     "shell.execute_reply": "2023-04-25T23:12:17.244746Z"
    },
    "papermill": {
     "duration": 0.016028,
     "end_time": "2023-04-25T23:12:17.248171",
     "exception": false,
     "start_time": "2023-04-25T23:12:17.232143",
     "status": "completed"
    },
    "tags": []
   },
   "outputs": [
    {
     "data": {
      "text/plain": [
       "(48842, 15)"
      ]
     },
     "execution_count": 3,
     "metadata": {},
     "output_type": "execute_result"
    }
   ],
   "source": [
    "#4. Getting Information About Our Dataset Like Total Number Rows, Total Number of Columns, \n",
    "\n",
    "data.shape"
   ]
  },
  {
   "cell_type": "code",
   "execution_count": 4,
   "id": "b8902069",
   "metadata": {
    "execution": {
     "iopub.execute_input": "2023-04-25T23:12:17.262350Z",
     "iopub.status.busy": "2023-04-25T23:12:17.261614Z",
     "iopub.status.idle": "2023-04-25T23:12:17.310204Z",
     "shell.execute_reply": "2023-04-25T23:12:17.308432Z"
    },
    "papermill": {
     "duration": 0.05881,
     "end_time": "2023-04-25T23:12:17.312925",
     "exception": false,
     "start_time": "2023-04-25T23:12:17.254115",
     "status": "completed"
    },
    "tags": []
   },
   "outputs": [
    {
     "name": "stdout",
     "output_type": "stream",
     "text": [
      "<class 'pandas.core.frame.DataFrame'>\n",
      "RangeIndex: 48842 entries, 0 to 48841\n",
      "Data columns (total 15 columns):\n",
      " #   Column           Non-Null Count  Dtype \n",
      "---  ------           --------------  ----- \n",
      " 0   age              48842 non-null  int64 \n",
      " 1   workclass        48842 non-null  object\n",
      " 2   fnlwgt           48842 non-null  int64 \n",
      " 3   education        48842 non-null  object\n",
      " 4   educational-num  48842 non-null  int64 \n",
      " 5   marital-status   48842 non-null  object\n",
      " 6   occupation       48842 non-null  object\n",
      " 7   relationship     48842 non-null  object\n",
      " 8   race             48842 non-null  object\n",
      " 9   gender           48842 non-null  object\n",
      " 10  capital-gain     48842 non-null  int64 \n",
      " 11  capital-loss     48842 non-null  int64 \n",
      " 12  hours-per-week   48842 non-null  int64 \n",
      " 13  native-country   48842 non-null  object\n",
      " 14  income           48842 non-null  object\n",
      "dtypes: int64(6), object(9)\n",
      "memory usage: 5.6+ MB\n"
     ]
    }
   ],
   "source": [
    "#Datatypes of Each Column And Memory Requirement\n",
    "data.info()"
   ]
  },
  {
   "cell_type": "code",
   "execution_count": 5,
   "id": "0a676c92",
   "metadata": {
    "execution": {
     "iopub.execute_input": "2023-04-25T23:12:17.327009Z",
     "iopub.status.busy": "2023-04-25T23:12:17.326580Z",
     "iopub.status.idle": "2023-04-25T23:12:17.357428Z",
     "shell.execute_reply": "2023-04-25T23:12:17.356240Z"
    },
    "papermill": {
     "duration": 0.042335,
     "end_time": "2023-04-25T23:12:17.361309",
     "exception": false,
     "start_time": "2023-04-25T23:12:17.318974",
     "status": "completed"
    },
    "tags": []
   },
   "outputs": [
    {
     "name": "stdout",
     "output_type": "stream",
     "text": [
      "       age         workclass  fnlwgt     education  educational-num  \\\n",
      "42314   67  Self-emp-not-inc  217892     Doctorate               16   \n",
      "35819   20           Private  298635  Some-college               10   \n",
      "19395   20           Private  168165  Some-college               10   \n",
      "43397   43           Private  221172     Bachelors               13   \n",
      "37567   20           Private  256504  Some-college               10   \n",
      "...    ...               ...     ...           ...              ...   \n",
      "29851   40           Private  222011       Masters               14   \n",
      "34947   44       Federal-gov  161240       HS-grad                9   \n",
      "24549   45  Self-emp-not-inc  225456     Bachelors               13   \n",
      "46163   34           Private  286675       HS-grad                9   \n",
      "7693    21           Private  126568       HS-grad                9   \n",
      "\n",
      "           marital-status         occupation    relationship  \\\n",
      "42314  Married-civ-spouse     Prof-specialty         Husband   \n",
      "35819       Never-married              Sales       Own-child   \n",
      "19395       Never-married      Other-service       Own-child   \n",
      "43397  Married-civ-spouse       Tech-support         Husband   \n",
      "37567       Never-married              Sales       Own-child   \n",
      "...                   ...                ...             ...   \n",
      "29851       Never-married     Prof-specialty   Not-in-family   \n",
      "34947            Divorced  Machine-op-inspct   Not-in-family   \n",
      "24549  Married-civ-spouse    Exec-managerial         Husband   \n",
      "46163  Married-civ-spouse   Transport-moving         Husband   \n",
      "7693        Never-married       Adm-clerical  Other-relative   \n",
      "\n",
      "                     race  gender  capital-gain  capital-loss  hours-per-week  \\\n",
      "42314               White    Male         10605             0              35   \n",
      "35819  Asian-Pac-Islander    Male             0             0              30   \n",
      "19395               White    Male             0             0              30   \n",
      "43397               White    Male             0             0              24   \n",
      "37567               White  Female             0             0               6   \n",
      "...                   ...     ...           ...           ...             ...   \n",
      "29851               White  Female          3325             0              40   \n",
      "34947               White    Male             0             0              40   \n",
      "24549               White    Male             0             0              50   \n",
      "46163               White    Male             0             0              40   \n",
      "7693                White    Male             0             0              40   \n",
      "\n",
      "      native-country income  \n",
      "42314  United-States   >50K  \n",
      "35819    Philippines  <=50K  \n",
      "19395  United-States  <=50K  \n",
      "43397  United-States   >50K  \n",
      "37567  United-States  <=50K  \n",
      "...              ...    ...  \n",
      "29851  United-States  <=50K  \n",
      "34947  United-States  <=50K  \n",
      "24549  United-States   >50K  \n",
      "46163  United-States  <=50K  \n",
      "7693   United-States  <=50K  \n",
      "\n",
      "[24421 rows x 15 columns]\n"
     ]
    }
   ],
   "source": [
    "# Fetch Random Sample From the Dataset (50%)\n",
    "smaple_data = data.sample(frac=0.5)\n",
    "print(smaple_data)"
   ]
  },
  {
   "cell_type": "code",
   "execution_count": 6,
   "id": "49345294",
   "metadata": {
    "execution": {
     "iopub.execute_input": "2023-04-25T23:12:17.375887Z",
     "iopub.status.busy": "2023-04-25T23:12:17.375467Z",
     "iopub.status.idle": "2023-04-25T23:12:17.405847Z",
     "shell.execute_reply": "2023-04-25T23:12:17.404322Z"
    },
    "papermill": {
     "duration": 0.041098,
     "end_time": "2023-04-25T23:12:17.408723",
     "exception": false,
     "start_time": "2023-04-25T23:12:17.367625",
     "status": "completed"
    },
    "tags": []
   },
   "outputs": [
    {
     "name": "stdout",
     "output_type": "stream",
     "text": [
      "age                0\n",
      "workclass          0\n",
      "fnlwgt             0\n",
      "education          0\n",
      "educational-num    0\n",
      "marital-status     0\n",
      "occupation         0\n",
      "relationship       0\n",
      "race               0\n",
      "gender             0\n",
      "capital-gain       0\n",
      "capital-loss       0\n",
      "hours-per-week     0\n",
      "native-country     0\n",
      "income             0\n",
      "dtype: int64\n"
     ]
    }
   ],
   "source": [
    "null_values = data.isnull().sum()\n",
    "print(null_values)"
   ]
  },
  {
   "cell_type": "code",
   "execution_count": 7,
   "id": "7cafafdc",
   "metadata": {
    "execution": {
     "iopub.execute_input": "2023-04-25T23:12:17.423857Z",
     "iopub.status.busy": "2023-04-25T23:12:17.423393Z",
     "iopub.status.idle": "2023-04-25T23:12:17.439489Z",
     "shell.execute_reply": "2023-04-25T23:12:17.438073Z"
    },
    "papermill": {
     "duration": 0.027136,
     "end_time": "2023-04-25T23:12:17.442209",
     "exception": false,
     "start_time": "2023-04-25T23:12:17.415073",
     "status": "completed"
    },
    "tags": []
   },
   "outputs": [],
   "source": [
    "#.Perform Data Cleaning [ Replace '?' with NaN ]\n",
    "data.replace('?', np.nan, inplace=True)"
   ]
  },
  {
   "cell_type": "code",
   "execution_count": 8,
   "id": "ce07709f",
   "metadata": {
    "execution": {
     "iopub.execute_input": "2023-04-25T23:12:17.456752Z",
     "iopub.status.busy": "2023-04-25T23:12:17.456012Z",
     "iopub.status.idle": "2023-04-25T23:12:17.567732Z",
     "shell.execute_reply": "2023-04-25T23:12:17.566151Z"
    },
    "papermill": {
     "duration": 0.122046,
     "end_time": "2023-04-25T23:12:17.570584",
     "exception": false,
     "start_time": "2023-04-25T23:12:17.448538",
     "status": "completed"
    },
    "tags": []
   },
   "outputs": [
    {
     "name": "stdout",
     "output_type": "stream",
     "text": [
      "Duplicates True\n"
     ]
    }
   ],
   "source": [
    "#Drop all The Missing Values\n",
    "duplicates = data.duplicated().any()\n",
    "print(\"Duplicates\",duplicates )\n",
    "data.dropna(inplace=True)\n",
    "\n"
   ]
  },
  {
   "cell_type": "code",
   "execution_count": 9,
   "id": "bacf6a28",
   "metadata": {
    "execution": {
     "iopub.execute_input": "2023-04-25T23:12:17.585022Z",
     "iopub.status.busy": "2023-04-25T23:12:17.584574Z",
     "iopub.status.idle": "2023-04-25T23:12:17.650290Z",
     "shell.execute_reply": "2023-04-25T23:12:17.648886Z"
    },
    "papermill": {
     "duration": 0.076455,
     "end_time": "2023-04-25T23:12:17.653250",
     "exception": false,
     "start_time": "2023-04-25T23:12:17.576795",
     "status": "completed"
    },
    "tags": []
   },
   "outputs": [],
   "source": [
    "#Check For Duplicate Data and Drop Them\n",
    "data.drop_duplicates(inplace=True)"
   ]
  },
  {
   "cell_type": "code",
   "execution_count": 10,
   "id": "67c3f3c3",
   "metadata": {
    "execution": {
     "iopub.execute_input": "2023-04-25T23:12:17.668187Z",
     "iopub.status.busy": "2023-04-25T23:12:17.667196Z",
     "iopub.status.idle": "2023-04-25T23:12:17.708168Z",
     "shell.execute_reply": "2023-04-25T23:12:17.706697Z"
    },
    "papermill": {
     "duration": 0.051608,
     "end_time": "2023-04-25T23:12:17.711149",
     "exception": false,
     "start_time": "2023-04-25T23:12:17.659541",
     "status": "completed"
    },
    "tags": []
   },
   "outputs": [
    {
     "data": {
      "text/html": [
       "<div>\n",
       "<style scoped>\n",
       "    .dataframe tbody tr th:only-of-type {\n",
       "        vertical-align: middle;\n",
       "    }\n",
       "\n",
       "    .dataframe tbody tr th {\n",
       "        vertical-align: top;\n",
       "    }\n",
       "\n",
       "    .dataframe thead th {\n",
       "        text-align: right;\n",
       "    }\n",
       "</style>\n",
       "<table border=\"1\" class=\"dataframe\">\n",
       "  <thead>\n",
       "    <tr style=\"text-align: right;\">\n",
       "      <th></th>\n",
       "      <th>age</th>\n",
       "      <th>fnlwgt</th>\n",
       "      <th>educational-num</th>\n",
       "      <th>capital-gain</th>\n",
       "      <th>capital-loss</th>\n",
       "      <th>hours-per-week</th>\n",
       "    </tr>\n",
       "  </thead>\n",
       "  <tbody>\n",
       "    <tr>\n",
       "      <th>count</th>\n",
       "      <td>45175.000000</td>\n",
       "      <td>4.517500e+04</td>\n",
       "      <td>45175.000000</td>\n",
       "      <td>45175.000000</td>\n",
       "      <td>45175.000000</td>\n",
       "      <td>45175.000000</td>\n",
       "    </tr>\n",
       "    <tr>\n",
       "      <th>mean</th>\n",
       "      <td>38.556170</td>\n",
       "      <td>1.897388e+05</td>\n",
       "      <td>10.119314</td>\n",
       "      <td>1102.576270</td>\n",
       "      <td>88.687593</td>\n",
       "      <td>40.942512</td>\n",
       "    </tr>\n",
       "    <tr>\n",
       "      <th>std</th>\n",
       "      <td>13.215349</td>\n",
       "      <td>1.056524e+05</td>\n",
       "      <td>2.551740</td>\n",
       "      <td>7510.249876</td>\n",
       "      <td>405.156611</td>\n",
       "      <td>12.007730</td>\n",
       "    </tr>\n",
       "    <tr>\n",
       "      <th>min</th>\n",
       "      <td>17.000000</td>\n",
       "      <td>1.349200e+04</td>\n",
       "      <td>1.000000</td>\n",
       "      <td>0.000000</td>\n",
       "      <td>0.000000</td>\n",
       "      <td>1.000000</td>\n",
       "    </tr>\n",
       "    <tr>\n",
       "      <th>25%</th>\n",
       "      <td>28.000000</td>\n",
       "      <td>1.173925e+05</td>\n",
       "      <td>9.000000</td>\n",
       "      <td>0.000000</td>\n",
       "      <td>0.000000</td>\n",
       "      <td>40.000000</td>\n",
       "    </tr>\n",
       "    <tr>\n",
       "      <th>50%</th>\n",
       "      <td>37.000000</td>\n",
       "      <td>1.783120e+05</td>\n",
       "      <td>10.000000</td>\n",
       "      <td>0.000000</td>\n",
       "      <td>0.000000</td>\n",
       "      <td>40.000000</td>\n",
       "    </tr>\n",
       "    <tr>\n",
       "      <th>75%</th>\n",
       "      <td>47.000000</td>\n",
       "      <td>2.379030e+05</td>\n",
       "      <td>13.000000</td>\n",
       "      <td>0.000000</td>\n",
       "      <td>0.000000</td>\n",
       "      <td>45.000000</td>\n",
       "    </tr>\n",
       "    <tr>\n",
       "      <th>max</th>\n",
       "      <td>90.000000</td>\n",
       "      <td>1.490400e+06</td>\n",
       "      <td>16.000000</td>\n",
       "      <td>99999.000000</td>\n",
       "      <td>4356.000000</td>\n",
       "      <td>99.000000</td>\n",
       "    </tr>\n",
       "  </tbody>\n",
       "</table>\n",
       "</div>"
      ],
      "text/plain": [
       "                age        fnlwgt  educational-num  capital-gain  \\\n",
       "count  45175.000000  4.517500e+04     45175.000000  45175.000000   \n",
       "mean      38.556170  1.897388e+05        10.119314   1102.576270   \n",
       "std       13.215349  1.056524e+05         2.551740   7510.249876   \n",
       "min       17.000000  1.349200e+04         1.000000      0.000000   \n",
       "25%       28.000000  1.173925e+05         9.000000      0.000000   \n",
       "50%       37.000000  1.783120e+05        10.000000      0.000000   \n",
       "75%       47.000000  2.379030e+05        13.000000      0.000000   \n",
       "max       90.000000  1.490400e+06        16.000000  99999.000000   \n",
       "\n",
       "       capital-loss  hours-per-week  \n",
       "count  45175.000000    45175.000000  \n",
       "mean      88.687593       40.942512  \n",
       "std      405.156611       12.007730  \n",
       "min        0.000000        1.000000  \n",
       "25%        0.000000       40.000000  \n",
       "50%        0.000000       40.000000  \n",
       "75%        0.000000       45.000000  \n",
       "max     4356.000000       99.000000  "
      ]
     },
     "execution_count": 10,
     "metadata": {},
     "output_type": "execute_result"
    }
   ],
   "source": [
    "#  Get Overall Statistics About The Dataframe\n",
    "data.describe()"
   ]
  },
  {
   "cell_type": "code",
   "execution_count": 11,
   "id": "29d1ede5",
   "metadata": {
    "execution": {
     "iopub.execute_input": "2023-04-25T23:12:17.726190Z",
     "iopub.status.busy": "2023-04-25T23:12:17.725745Z",
     "iopub.status.idle": "2023-04-25T23:12:17.754366Z",
     "shell.execute_reply": "2023-04-25T23:12:17.752939Z"
    },
    "papermill": {
     "duration": 0.039229,
     "end_time": "2023-04-25T23:12:17.756971",
     "exception": false,
     "start_time": "2023-04-25T23:12:17.717742",
     "status": "completed"
    },
    "tags": []
   },
   "outputs": [
    {
     "data": {
      "text/html": [
       "<div>\n",
       "<style scoped>\n",
       "    .dataframe tbody tr th:only-of-type {\n",
       "        vertical-align: middle;\n",
       "    }\n",
       "\n",
       "    .dataframe tbody tr th {\n",
       "        vertical-align: top;\n",
       "    }\n",
       "\n",
       "    .dataframe thead th {\n",
       "        text-align: right;\n",
       "    }\n",
       "</style>\n",
       "<table border=\"1\" class=\"dataframe\">\n",
       "  <thead>\n",
       "    <tr style=\"text-align: right;\">\n",
       "      <th></th>\n",
       "      <th>age</th>\n",
       "      <th>workclass</th>\n",
       "      <th>fnlwgt</th>\n",
       "      <th>education</th>\n",
       "      <th>educational-num</th>\n",
       "      <th>marital-status</th>\n",
       "      <th>occupation</th>\n",
       "      <th>relationship</th>\n",
       "      <th>race</th>\n",
       "      <th>gender</th>\n",
       "      <th>capital-gain</th>\n",
       "      <th>capital-loss</th>\n",
       "      <th>hours-per-week</th>\n",
       "      <th>native-country</th>\n",
       "      <th>income</th>\n",
       "    </tr>\n",
       "  </thead>\n",
       "  <tbody>\n",
       "    <tr>\n",
       "      <th>0</th>\n",
       "      <td>25</td>\n",
       "      <td>Private</td>\n",
       "      <td>226802</td>\n",
       "      <td>11th</td>\n",
       "      <td>7</td>\n",
       "      <td>Never-married</td>\n",
       "      <td>Machine-op-inspct</td>\n",
       "      <td>Own-child</td>\n",
       "      <td>Black</td>\n",
       "      <td>Male</td>\n",
       "      <td>0</td>\n",
       "      <td>0</td>\n",
       "      <td>40</td>\n",
       "      <td>United-States</td>\n",
       "      <td>&lt;=50K</td>\n",
       "    </tr>\n",
       "    <tr>\n",
       "      <th>1</th>\n",
       "      <td>38</td>\n",
       "      <td>Private</td>\n",
       "      <td>89814</td>\n",
       "      <td>HS-grad</td>\n",
       "      <td>9</td>\n",
       "      <td>Married-civ-spouse</td>\n",
       "      <td>Farming-fishing</td>\n",
       "      <td>Husband</td>\n",
       "      <td>White</td>\n",
       "      <td>Male</td>\n",
       "      <td>0</td>\n",
       "      <td>0</td>\n",
       "      <td>50</td>\n",
       "      <td>United-States</td>\n",
       "      <td>&lt;=50K</td>\n",
       "    </tr>\n",
       "    <tr>\n",
       "      <th>2</th>\n",
       "      <td>28</td>\n",
       "      <td>Local-gov</td>\n",
       "      <td>336951</td>\n",
       "      <td>Assoc-acdm</td>\n",
       "      <td>12</td>\n",
       "      <td>Married-civ-spouse</td>\n",
       "      <td>Protective-serv</td>\n",
       "      <td>Husband</td>\n",
       "      <td>White</td>\n",
       "      <td>Male</td>\n",
       "      <td>0</td>\n",
       "      <td>0</td>\n",
       "      <td>40</td>\n",
       "      <td>United-States</td>\n",
       "      <td>&gt;50K</td>\n",
       "    </tr>\n",
       "    <tr>\n",
       "      <th>3</th>\n",
       "      <td>44</td>\n",
       "      <td>Private</td>\n",
       "      <td>160323</td>\n",
       "      <td>Some-college</td>\n",
       "      <td>10</td>\n",
       "      <td>Married-civ-spouse</td>\n",
       "      <td>Machine-op-inspct</td>\n",
       "      <td>Husband</td>\n",
       "      <td>Black</td>\n",
       "      <td>Male</td>\n",
       "      <td>7688</td>\n",
       "      <td>0</td>\n",
       "      <td>40</td>\n",
       "      <td>United-States</td>\n",
       "      <td>&gt;50K</td>\n",
       "    </tr>\n",
       "    <tr>\n",
       "      <th>5</th>\n",
       "      <td>34</td>\n",
       "      <td>Private</td>\n",
       "      <td>198693</td>\n",
       "      <td>10th</td>\n",
       "      <td>6</td>\n",
       "      <td>Never-married</td>\n",
       "      <td>Other-service</td>\n",
       "      <td>Not-in-family</td>\n",
       "      <td>White</td>\n",
       "      <td>Male</td>\n",
       "      <td>0</td>\n",
       "      <td>0</td>\n",
       "      <td>30</td>\n",
       "      <td>United-States</td>\n",
       "      <td>&lt;=50K</td>\n",
       "    </tr>\n",
       "    <tr>\n",
       "      <th>...</th>\n",
       "      <td>...</td>\n",
       "      <td>...</td>\n",
       "      <td>...</td>\n",
       "      <td>...</td>\n",
       "      <td>...</td>\n",
       "      <td>...</td>\n",
       "      <td>...</td>\n",
       "      <td>...</td>\n",
       "      <td>...</td>\n",
       "      <td>...</td>\n",
       "      <td>...</td>\n",
       "      <td>...</td>\n",
       "      <td>...</td>\n",
       "      <td>...</td>\n",
       "      <td>...</td>\n",
       "    </tr>\n",
       "    <tr>\n",
       "      <th>48837</th>\n",
       "      <td>27</td>\n",
       "      <td>Private</td>\n",
       "      <td>257302</td>\n",
       "      <td>Assoc-acdm</td>\n",
       "      <td>12</td>\n",
       "      <td>Married-civ-spouse</td>\n",
       "      <td>Tech-support</td>\n",
       "      <td>Wife</td>\n",
       "      <td>White</td>\n",
       "      <td>Female</td>\n",
       "      <td>0</td>\n",
       "      <td>0</td>\n",
       "      <td>38</td>\n",
       "      <td>United-States</td>\n",
       "      <td>&lt;=50K</td>\n",
       "    </tr>\n",
       "    <tr>\n",
       "      <th>48838</th>\n",
       "      <td>40</td>\n",
       "      <td>Private</td>\n",
       "      <td>154374</td>\n",
       "      <td>HS-grad</td>\n",
       "      <td>9</td>\n",
       "      <td>Married-civ-spouse</td>\n",
       "      <td>Machine-op-inspct</td>\n",
       "      <td>Husband</td>\n",
       "      <td>White</td>\n",
       "      <td>Male</td>\n",
       "      <td>0</td>\n",
       "      <td>0</td>\n",
       "      <td>40</td>\n",
       "      <td>United-States</td>\n",
       "      <td>&gt;50K</td>\n",
       "    </tr>\n",
       "    <tr>\n",
       "      <th>48839</th>\n",
       "      <td>58</td>\n",
       "      <td>Private</td>\n",
       "      <td>151910</td>\n",
       "      <td>HS-grad</td>\n",
       "      <td>9</td>\n",
       "      <td>Widowed</td>\n",
       "      <td>Adm-clerical</td>\n",
       "      <td>Unmarried</td>\n",
       "      <td>White</td>\n",
       "      <td>Female</td>\n",
       "      <td>0</td>\n",
       "      <td>0</td>\n",
       "      <td>40</td>\n",
       "      <td>United-States</td>\n",
       "      <td>&lt;=50K</td>\n",
       "    </tr>\n",
       "    <tr>\n",
       "      <th>48840</th>\n",
       "      <td>22</td>\n",
       "      <td>Private</td>\n",
       "      <td>201490</td>\n",
       "      <td>HS-grad</td>\n",
       "      <td>9</td>\n",
       "      <td>Never-married</td>\n",
       "      <td>Adm-clerical</td>\n",
       "      <td>Own-child</td>\n",
       "      <td>White</td>\n",
       "      <td>Male</td>\n",
       "      <td>0</td>\n",
       "      <td>0</td>\n",
       "      <td>20</td>\n",
       "      <td>United-States</td>\n",
       "      <td>&lt;=50K</td>\n",
       "    </tr>\n",
       "    <tr>\n",
       "      <th>48841</th>\n",
       "      <td>52</td>\n",
       "      <td>Self-emp-inc</td>\n",
       "      <td>287927</td>\n",
       "      <td>HS-grad</td>\n",
       "      <td>9</td>\n",
       "      <td>Married-civ-spouse</td>\n",
       "      <td>Exec-managerial</td>\n",
       "      <td>Wife</td>\n",
       "      <td>White</td>\n",
       "      <td>Female</td>\n",
       "      <td>15024</td>\n",
       "      <td>0</td>\n",
       "      <td>40</td>\n",
       "      <td>United-States</td>\n",
       "      <td>&gt;50K</td>\n",
       "    </tr>\n",
       "  </tbody>\n",
       "</table>\n",
       "<p>45175 rows × 15 columns</p>\n",
       "</div>"
      ],
      "text/plain": [
       "       age     workclass  fnlwgt     education  educational-num  \\\n",
       "0       25       Private  226802          11th                7   \n",
       "1       38       Private   89814       HS-grad                9   \n",
       "2       28     Local-gov  336951    Assoc-acdm               12   \n",
       "3       44       Private  160323  Some-college               10   \n",
       "5       34       Private  198693          10th                6   \n",
       "...    ...           ...     ...           ...              ...   \n",
       "48837   27       Private  257302    Assoc-acdm               12   \n",
       "48838   40       Private  154374       HS-grad                9   \n",
       "48839   58       Private  151910       HS-grad                9   \n",
       "48840   22       Private  201490       HS-grad                9   \n",
       "48841   52  Self-emp-inc  287927       HS-grad                9   \n",
       "\n",
       "           marital-status         occupation   relationship   race  gender  \\\n",
       "0           Never-married  Machine-op-inspct      Own-child  Black    Male   \n",
       "1      Married-civ-spouse    Farming-fishing        Husband  White    Male   \n",
       "2      Married-civ-spouse    Protective-serv        Husband  White    Male   \n",
       "3      Married-civ-spouse  Machine-op-inspct        Husband  Black    Male   \n",
       "5           Never-married      Other-service  Not-in-family  White    Male   \n",
       "...                   ...                ...            ...    ...     ...   \n",
       "48837  Married-civ-spouse       Tech-support           Wife  White  Female   \n",
       "48838  Married-civ-spouse  Machine-op-inspct        Husband  White    Male   \n",
       "48839             Widowed       Adm-clerical      Unmarried  White  Female   \n",
       "48840       Never-married       Adm-clerical      Own-child  White    Male   \n",
       "48841  Married-civ-spouse    Exec-managerial           Wife  White  Female   \n",
       "\n",
       "       capital-gain  capital-loss  hours-per-week native-country income  \n",
       "0                 0             0              40  United-States  <=50K  \n",
       "1                 0             0              50  United-States  <=50K  \n",
       "2                 0             0              40  United-States   >50K  \n",
       "3              7688             0              40  United-States   >50K  \n",
       "5                 0             0              30  United-States  <=50K  \n",
       "...             ...           ...             ...            ...    ...  \n",
       "48837             0             0              38  United-States  <=50K  \n",
       "48838             0             0              40  United-States   >50K  \n",
       "48839             0             0              40  United-States  <=50K  \n",
       "48840             0             0              20  United-States  <=50K  \n",
       "48841         15024             0              40  United-States   >50K  \n",
       "\n",
       "[45175 rows x 15 columns]"
      ]
     },
     "execution_count": 11,
     "metadata": {},
     "output_type": "execute_result"
    }
   ],
   "source": [
    "#Drop The Columns education-num, capital-gain, and capital-loss\n",
    "\n",
    "#data.drop(['educational-num', 'capital-gain', 'capital-loss'], axis=1, inplace=True)\n",
    "data"
   ]
  },
  {
   "cell_type": "code",
   "execution_count": 12,
   "id": "4ef44dec",
   "metadata": {
    "execution": {
     "iopub.execute_input": "2023-04-25T23:12:17.773651Z",
     "iopub.status.busy": "2023-04-25T23:12:17.773066Z",
     "iopub.status.idle": "2023-04-25T23:12:18.099967Z",
     "shell.execute_reply": "2023-04-25T23:12:18.098651Z"
    },
    "papermill": {
     "duration": 0.337838,
     "end_time": "2023-04-25T23:12:18.102684",
     "exception": false,
     "start_time": "2023-04-25T23:12:17.764846",
     "status": "completed"
    },
    "tags": []
   },
   "outputs": [
    {
     "data": {
      "image/png": "[encoded data removed]",
      "text/plain": [
       "<Figure size 640x480 with 1 Axes>"
      ]
     },
     "metadata": {},
     "output_type": "display_data"
    }
   ],
   "source": [
    "#What Is The Distribution of Age Column?\n",
    "\n",
    "import matplotlib.pyplot as plt\n",
    "\n",
    "\n",
    "age_dist = data[\"age\"].hist(bins=20)\n",
    "plt.xlabel('Age')\n",
    "plt.ylabel('Frequency')\n",
    "plt.show()"
   ]
  },
  {
   "cell_type": "code",
   "execution_count": 13,
   "id": "223efb8f",
   "metadata": {
    "execution": {
     "iopub.execute_input": "2023-04-25T23:12:18.119298Z",
     "iopub.status.busy": "2023-04-25T23:12:18.118444Z",
     "iopub.status.idle": "2023-04-25T23:12:18.128188Z",
     "shell.execute_reply": "2023-04-25T23:12:18.126557Z"
    },
    "papermill": {
     "duration": 0.020979,
     "end_time": "2023-04-25T23:12:18.130824",
     "exception": false,
     "start_time": "2023-04-25T23:12:18.109845",
     "status": "completed"
    },
    "tags": []
   },
   "outputs": [
    {
     "name": "stdout",
     "output_type": "stream",
     "text": [
      "Total number of persons having age between 17 to 48 (inclusive): 34858\n"
     ]
    }
   ],
   "source": [
    "# Find Total Number of Persons Having Age Between 17 To 48 (Inclusive) Using Between Method\n",
    "age_count = data[\"age\"].between(17,48).sum()\n",
    "print(\"Total number of persons having age between 17 to 48 (inclusive):\", age_count)\n"
   ]
  },
  {
   "cell_type": "code",
   "execution_count": 14,
   "id": "48af8273",
   "metadata": {
    "execution": {
     "iopub.execute_input": "2023-04-25T23:12:18.147950Z",
     "iopub.status.busy": "2023-04-25T23:12:18.146812Z",
     "iopub.status.idle": "2023-04-25T23:12:18.625129Z",
     "shell.execute_reply": "2023-04-25T23:12:18.623862Z"
    },
    "papermill": {
     "duration": 0.489876,
     "end_time": "2023-04-25T23:12:18.627975",
     "exception": false,
     "start_time": "2023-04-25T23:12:18.138099",
     "status": "completed"
    },
    "tags": []
   },
   "outputs": [
    {
     "data": {
      "image/png": "[encoded data removed]",
      "text/plain": [
       "<Figure size 640x480 with 1 Axes>"
      ]
     },
     "metadata": {},
     "output_type": "display_data"
    },
    {
     "data": {
      "image/png": "[encoded data removed]",
      "text/plain": [
       "<Figure size 1000x1000 with 1 Axes>"
      ]
     },
     "metadata": {},
     "output_type": "display_data"
    }
   ],
   "source": [
    "# What is The Distribution of Workclass Column?\n",
    "workclass_dist = data[\"workclass\"].hist()\n",
    "plt.figure(figsize=(10,10))\n",
    "plt.xlabel('workclass')\n",
    "plt.ylabel('Frequency')\n",
    "plt.show()"
   ]
  },
  {
   "cell_type": "code",
   "execution_count": 15,
   "id": "f7dd1803",
   "metadata": {
    "execution": {
     "iopub.execute_input": "2023-04-25T23:12:18.647535Z",
     "iopub.status.busy": "2023-04-25T23:12:18.647045Z",
     "iopub.status.idle": "2023-04-25T23:12:18.657771Z",
     "shell.execute_reply": "2023-04-25T23:12:18.656212Z"
    },
    "papermill": {
     "duration": 0.023941,
     "end_time": "2023-04-25T23:12:18.660703",
     "exception": false,
     "start_time": "2023-04-25T23:12:18.636762",
     "status": "completed"
    },
    "tags": []
   },
   "outputs": [
    {
     "name": "stdout",
     "output_type": "stream",
     "text": [
      "Number of persons with Bachelor's degree: 7559\n",
      "Number of persons with Master's degree: 2513\n"
     ]
    }
   ],
   "source": [
    "#How Many Persons Having Bachelors and Masters Degree?\n",
    "\n",
    "degree_counts = data['education'].value_counts()\n",
    "bachelor = degree_counts[\"Bachelors\"]\n",
    "masters_count = degree_counts['Masters']\n",
    "print(\"Number of persons with Bachelor's degree:\", bachelor)\n",
    "print(\"Number of persons with Master's degree:\", masters_count)\n"
   ]
  },
  {
   "cell_type": "code",
   "execution_count": 16,
   "id": "5e51a71b",
   "metadata": {
    "execution": {
     "iopub.execute_input": "2023-04-25T23:12:18.679628Z",
     "iopub.status.busy": "2023-04-25T23:12:18.679191Z",
     "iopub.status.idle": "2023-04-25T23:12:18.686873Z",
     "shell.execute_reply": "2023-04-25T23:12:18.685479Z"
    },
    "papermill": {
     "duration": 0.020695,
     "end_time": "2023-04-25T23:12:18.689761",
     "exception": false,
     "start_time": "2023-04-25T23:12:18.669066",
     "status": "completed"
    },
    "tags": []
   },
   "outputs": [
    {
     "data": {
      "text/plain": [
       "Index(['age', 'workclass', 'fnlwgt', 'education', 'educational-num',\n",
       "       'marital-status', 'occupation', 'relationship', 'race', 'gender',\n",
       "       'capital-gain', 'capital-loss', 'hours-per-week', 'native-country',\n",
       "       'income'],\n",
       "      dtype='object')"
      ]
     },
     "execution_count": 16,
     "metadata": {},
     "output_type": "execute_result"
    }
   ],
   "source": [
    "data.columns"
   ]
  },
  {
   "cell_type": "code",
   "execution_count": 17,
   "id": "a6bd485d",
   "metadata": {
    "execution": {
     "iopub.execute_input": "2023-04-25T23:12:18.709201Z",
     "iopub.status.busy": "2023-04-25T23:12:18.707898Z",
     "iopub.status.idle": "2023-04-25T23:12:18.743403Z",
     "shell.execute_reply": "2023-04-25T23:12:18.741482Z"
    },
    "papermill": {
     "duration": 0.048443,
     "end_time": "2023-04-25T23:12:18.746415",
     "exception": false,
     "start_time": "2023-04-25T23:12:18.697972",
     "status": "completed"
    },
    "tags": []
   },
   "outputs": [
    {
     "name": "stdout",
     "output_type": "stream",
     "text": [
      "<class 'pandas.core.frame.DataFrame'>\n",
      "Int64Index: 45175 entries, 0 to 48841\n",
      "Data columns (total 15 columns):\n",
      " #   Column           Non-Null Count  Dtype \n",
      "---  ------           --------------  ----- \n",
      " 0   age              45175 non-null  int64 \n",
      " 1   workclass        45175 non-null  object\n",
      " 2   fnlwgt           45175 non-null  int64 \n",
      " 3   education        45175 non-null  object\n",
      " 4   educational-num  45175 non-null  int64 \n",
      " 5   marital-status   45175 non-null  object\n",
      " 6   occupation       45175 non-null  object\n",
      " 7   relationship     45175 non-null  object\n",
      " 8   race             45175 non-null  object\n",
      " 9   gender           45175 non-null  object\n",
      " 10  capital-gain     45175 non-null  int64 \n",
      " 11  capital-loss     45175 non-null  int64 \n",
      " 12  hours-per-week   45175 non-null  int64 \n",
      " 13  native-country   45175 non-null  object\n",
      " 14  income           45175 non-null  object\n",
      "dtypes: int64(6), object(9)\n",
      "memory usage: 5.5+ MB\n"
     ]
    }
   ],
   "source": [
    "data.info()"
   ]
  },
  {
   "cell_type": "code",
   "execution_count": 18,
   "id": "9eb5fb6f",
   "metadata": {
    "execution": {
     "iopub.execute_input": "2023-04-25T23:12:18.765202Z",
     "iopub.status.busy": "2023-04-25T23:12:18.764752Z",
     "iopub.status.idle": "2023-04-25T23:12:20.263011Z",
     "shell.execute_reply": "2023-04-25T23:12:20.261640Z"
    },
    "papermill": {
     "duration": 1.512649,
     "end_time": "2023-04-25T23:12:20.267530",
     "exception": false,
     "start_time": "2023-04-25T23:12:18.754881",
     "status": "completed"
    },
    "tags": []
   },
   "outputs": [
    {
     "name": "stdout",
     "output_type": "stream",
     "text": [
      "Accuracy: 0.7530713890426121\n"
     ]
    }
   ],
   "source": [
    "from sklearn.model_selection import train_test_split\n",
    "from sklearn.linear_model import LogisticRegression\n",
    "from sklearn.metrics import accuracy_score\n",
    "\n",
    "\n",
    "\n",
    "X = data[[\"hours-per-week\", \"age\"]]\n",
    "y = data[\"income\"]\n",
    "\n",
    "X_train, X_test, y_train, y_test = train_test_split(X, y, test_size=0.2, random_state=42)\n",
    "\n",
    "model = LogisticRegression(max_iter=1000, penalty='l2', C=0.5)\n",
    "model.fit(X_train, y_train)\n",
    "y_pred = model.predict(X_test)\n",
    "\n",
    "acc = accuracy_score(y_test, y_pred)\n",
    "print('Accuracy:', acc)"
   ]
  },
  {
   "cell_type": "code",
   "execution_count": 19,
   "id": "cf0e15f2",
   "metadata": {
    "execution": {
     "iopub.execute_input": "2023-04-25T23:12:20.352203Z",
     "iopub.status.busy": "2023-04-25T23:12:20.350519Z",
     "iopub.status.idle": "2023-04-25T23:12:22.231307Z",
     "shell.execute_reply": "2023-04-25T23:12:22.229528Z"
    },
    "papermill": {
     "duration": 1.931443,
     "end_time": "2023-04-25T23:12:22.236050",
     "exception": false,
     "start_time": "2023-04-25T23:12:20.304607",
     "status": "completed"
    },
    "tags": []
   },
   "outputs": [
    {
     "name": "stdout",
     "output_type": "stream",
     "text": [
      "Accuracy: 0.7953514111787493\n",
      "[0 0 0 ... 0 0 0]\n"
     ]
    }
   ],
   "source": [
    "from sklearn.model_selection import train_test_split\n",
    "from sklearn.linear_model import LogisticRegression\n",
    "from sklearn.metrics import accuracy_score\n",
    "from sklearn.preprocessing import LabelEncoder\n",
    "\n",
    "# encode categorical variables\n",
    "le = LabelEncoder()\n",
    "data['workclass'] = le.fit_transform(data['workclass'])\n",
    "data['education'] = le.fit_transform(data['education'])\n",
    "data['marital-status'] = le.fit_transform(data['marital-status'])\n",
    "data['occupation'] = le.fit_transform(data['occupation'])\n",
    "data['relationship'] = le.fit_transform(data['relationship'])\n",
    "data['race'] = le.fit_transform(data['race'])\n",
    "data['gender'] = le.fit_transform(data['gender'])\n",
    "data['native-country'] = le.fit_transform(data['native-country'])\n",
    "data['income'] = le.fit_transform(data['income'])\n",
    "\n",
    "\n",
    "\n",
    "X = data.drop(['income'], axis=1)\n",
    "y = data['income']\n",
    "X_train, X_test, y_train, y_test = train_test_split(X, y, test_size=0.2, random_state=42)\n",
    "\n",
    "X_train, X_test, y_train, y_test = train_test_split(X, y, test_size=0.2, random_state=42)\n",
    "\n",
    "model = LogisticRegression(max_iter=1000, penalty='l2', C=0.5)\n",
    "model.fit(X_train, y_train)\n",
    "y_pred = model.predict(X_test)\n",
    "\n",
    "acc = accuracy_score(y_test, y_pred)\n",
    "print('Accuracy:', acc)\n",
    "\n",
    "print(y_pred)"
   ]
  }
 ],
 "metadata": {
  "kernelspec": {
   "display_name": "Python 3",
   "language": "python",
   "name": "python3"
  },
  "language_info": {
   "codemirror_mode": {
    "name": "ipython",
    "version": 3
   },
   "file_extension": ".py",
   "mimetype": "text/x-python",
   "name": "python",
   "nbconvert_exporter": "python",
   "pygments_lexer": "ipython3",
   "version": "3.7.12"
  },
  "papermill": {
   "default_parameters": {},
   "duration": 18.206255,
   "end_time": "2023-04-25T23:12:23.101249",
   "environment_variables": {},
   "exception": null,
   "input_path": "__notebook__.ipynb",
   "output_path": "__notebook__.ipynb",
   "parameters": {},
   "start_time": "2023-04-25T23:12:04.894994",
   "version": "2.4.0"
  }
 },
 "nbformat": 4,
 "nbformat_minor": 5
}
