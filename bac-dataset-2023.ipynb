{
 "cells": [
  {
   "cell_type": "code",
   "execution_count": 1,
   "id": "68a88484",
   "metadata": {
    "_cell_guid": "b1076dfc-b9ad-4769-8c92-a6c4dae69d19",
    "_uuid": "8f2839f25d086af736a60e9eeb907d3b93b6e0e5",
    "execution": {
     "iopub.execute_input": "2023-05-10T04:58:38.490002Z",
     "iopub.status.busy": "2023-05-10T04:58:38.489443Z",
     "iopub.status.idle": "2023-05-10T04:58:38.515262Z",
     "shell.execute_reply": "2023-05-10T04:58:38.514429Z"
    },
    "papermill": {
     "duration": 0.035977,
     "end_time": "2023-05-10T04:58:38.517629",
     "exception": false,
     "start_time": "2023-05-10T04:58:38.481652",
     "status": "completed"
    },
    "tags": []
   },
   "outputs": [
    {
     "name": "stdout",
     "output_type": "stream",
     "text": [
      "/kaggle/input/bac-finance-2023/Monthly transactions.xls\n",
      "/kaggle/input/bac-data-2023/Monthly transactions.csv\n"
     ]
    }
   ],
   "source": [
    "# This Python 3 environment comes with many helpful analytics libraries installed\n",
    "# It is defined by the kaggle/python Docker image: https://github.com/kaggle/docker-python\n",
    "# For example, here's several helpful packages to load\n",
    "\n",
    "import numpy as np # linear algebra\n",
    "import pandas as pd # data processing, CSV file I/O (e.g. pd.read_csv)\n",
    "\n",
    "# Input data files are available in the read-only \"../input/\" directory\n",
    "# For example, running this (by clicking run or pressing Shift+Enter) will list all files under the input directory\n",
    "\n",
    "import os\n",
    "for dirname, _, filenames in os.walk('/kaggle/input'):\n",
    "    for filename in filenames:\n",
    "        print(os.path.join(dirname, filename))\n",
    "\n",
    "# You can write up to 20GB to the current directory (/kaggle/working/) that gets preserved as output when you create a version using \"Save & Run All\" \n",
    "# You can also write temporary files to /kaggle/temp/, but they won't be saved outside of the current session"
   ]
  },
  {
   "cell_type": "code",
   "execution_count": 2,
   "id": "c05bc5d3",
   "metadata": {
    "execution": {
     "iopub.execute_input": "2023-05-10T04:58:38.532157Z",
     "iopub.status.busy": "2023-05-10T04:58:38.531723Z",
     "iopub.status.idle": "2023-05-10T04:58:38.553661Z",
     "shell.execute_reply": "2023-05-10T04:58:38.552494Z"
    },
    "papermill": {
     "duration": 0.032371,
     "end_time": "2023-05-10T04:58:38.556400",
     "exception": false,
     "start_time": "2023-05-10T04:58:38.524029",
     "status": "completed"
    },
    "tags": []
   },
   "outputs": [],
   "source": [
    "\n",
    "data = pd.read_csv('/kaggle/input/bac-data-2023/Monthly transactions.csv')\n"
   ]
  },
  {
   "cell_type": "code",
   "execution_count": 3,
   "id": "ee39b705",
   "metadata": {
    "execution": {
     "iopub.execute_input": "2023-05-10T04:58:38.570216Z",
     "iopub.status.busy": "2023-05-10T04:58:38.569503Z",
     "iopub.status.idle": "2023-05-10T04:58:38.608741Z",
     "shell.execute_reply": "2023-05-10T04:58:38.607650Z"
    },
    "papermill": {
     "duration": 0.049557,
     "end_time": "2023-05-10T04:58:38.611749",
     "exception": false,
     "start_time": "2023-05-10T04:58:38.562192",
     "status": "completed"
    },
    "tags": []
   },
   "outputs": [
    {
     "data": {
      "text/html": [
       "<div>\n",
       "<style scoped>\n",
       "    .dataframe tbody tr th:only-of-type {\n",
       "        vertical-align: middle;\n",
       "    }\n",
       "\n",
       "    .dataframe tbody tr th {\n",
       "        vertical-align: top;\n",
       "    }\n",
       "\n",
       "    .dataframe thead th {\n",
       "        text-align: right;\n",
       "    }\n",
       "</style>\n",
       "<table border=\"1\" class=\"dataframe\">\n",
       "  <thead>\n",
       "    <tr style=\"text-align: right;\">\n",
       "      <th></th>\n",
       "      <th>Transaction date</th>\n",
       "      <th>Transaction reference</th>\n",
       "      <th>Transaction codes</th>\n",
       "      <th>Description of transactions</th>\n",
       "      <th>Transaction debit</th>\n",
       "      <th>Transaction credit</th>\n",
       "      <th>Transaction balance</th>\n",
       "    </tr>\n",
       "  </thead>\n",
       "  <tbody>\n",
       "    <tr>\n",
       "      <th>0</th>\n",
       "      <td>01/01/2023</td>\n",
       "      <td>123100248</td>\n",
       "      <td>CP</td>\n",
       "      <td>GESSA PERI SAN PEDRO</td>\n",
       "      <td>4950.0</td>\n",
       "      <td>0.0</td>\n",
       "      <td>733503.23</td>\n",
       "    </tr>\n",
       "    <tr>\n",
       "      <th>1</th>\n",
       "      <td>01/01/2023</td>\n",
       "      <td>966484497</td>\n",
       "      <td>TF</td>\n",
       "      <td>SINPE MOVIL Cervezas_y_comida</td>\n",
       "      <td>8200.0</td>\n",
       "      <td>0.0</td>\n",
       "      <td>725303.23</td>\n",
       "    </tr>\n",
       "    <tr>\n",
       "      <th>2</th>\n",
       "      <td>03/01/2023</td>\n",
       "      <td>10200000</td>\n",
       "      <td>CP</td>\n",
       "      <td>IVA -GOOGLE *Dario Karmel</td>\n",
       "      <td>120.9</td>\n",
       "      <td>0.0</td>\n",
       "      <td>725182.33</td>\n",
       "    </tr>\n",
       "    <tr>\n",
       "      <th>3</th>\n",
       "      <td>03/01/2023</td>\n",
       "      <td>10200000</td>\n",
       "      <td>CP</td>\n",
       "      <td>GOOGLE *Dario Karmel\\  650-253</td>\n",
       "      <td>930.0</td>\n",
       "      <td>0.0</td>\n",
       "      <td>724252.33</td>\n",
       "    </tr>\n",
       "    <tr>\n",
       "      <th>4</th>\n",
       "      <td>03/01/2023</td>\n",
       "      <td>406405421</td>\n",
       "      <td>TF</td>\n",
       "      <td>TEF DE:AMADA POMARES CRUZ</td>\n",
       "      <td>0.0</td>\n",
       "      <td>3107.0</td>\n",
       "      <td>727359.33</td>\n",
       "    </tr>\n",
       "  </tbody>\n",
       "</table>\n",
       "</div>"
      ],
      "text/plain": [
       "  Transaction date   Transaction reference  Transaction codes  \\\n",
       "0       01/01/2023               123100248                 CP   \n",
       "1       01/01/2023               966484497                 TF   \n",
       "2       03/01/2023                10200000                 CP   \n",
       "3       03/01/2023                10200000                 CP   \n",
       "4       03/01/2023               406405421                 TF   \n",
       "\n",
       "       Description of transactions   Transaction debit   Transaction credit  \\\n",
       "0   GESSA PERI SAN PEDRO                        4950.0                  0.0   \n",
       "1   SINPE MOVIL Cervezas_y_comida               8200.0                  0.0   \n",
       "2   IVA -GOOGLE *Dario Karmel                    120.9                  0.0   \n",
       "3   GOOGLE *Dario Karmel\\  650-253               930.0                  0.0   \n",
       "4   TEF DE:AMADA POMARES CRUZ                      0.0               3107.0   \n",
       "\n",
       "    Transaction balance   \n",
       "0              733503.23  \n",
       "1              725303.23  \n",
       "2              725182.33  \n",
       "3              724252.33  \n",
       "4              727359.33  "
      ]
     },
     "execution_count": 3,
     "metadata": {},
     "output_type": "execute_result"
    }
   ],
   "source": [
    "data.head()"
   ]
  },
  {
   "cell_type": "code",
   "execution_count": 4,
   "id": "12fe7c8c",
   "metadata": {
    "execution": {
     "iopub.execute_input": "2023-05-10T04:58:38.626123Z",
     "iopub.status.busy": "2023-05-10T04:58:38.625682Z",
     "iopub.status.idle": "2023-05-10T04:58:38.632888Z",
     "shell.execute_reply": "2023-05-10T04:58:38.631836Z"
    },
    "papermill": {
     "duration": 0.017193,
     "end_time": "2023-05-10T04:58:38.635309",
     "exception": false,
     "start_time": "2023-05-10T04:58:38.618116",
     "status": "completed"
    },
    "tags": []
   },
   "outputs": [
    {
     "data": {
      "text/plain": [
       "(234, 7)"
      ]
     },
     "execution_count": 4,
     "metadata": {},
     "output_type": "execute_result"
    }
   ],
   "source": [
    "data.shape"
   ]
  },
  {
   "cell_type": "code",
   "execution_count": 5,
   "id": "145f95b0",
   "metadata": {
    "execution": {
     "iopub.execute_input": "2023-05-10T04:58:38.649553Z",
     "iopub.status.busy": "2023-05-10T04:58:38.649134Z",
     "iopub.status.idle": "2023-05-10T04:58:38.680227Z",
     "shell.execute_reply": "2023-05-10T04:58:38.678760Z"
    },
    "papermill": {
     "duration": 0.041384,
     "end_time": "2023-05-10T04:58:38.682951",
     "exception": false,
     "start_time": "2023-05-10T04:58:38.641567",
     "status": "completed"
    },
    "tags": []
   },
   "outputs": [
    {
     "name": "stdout",
     "output_type": "stream",
     "text": [
      "<class 'pandas.core.frame.DataFrame'>\n",
      "RangeIndex: 234 entries, 0 to 233\n",
      "Data columns (total 7 columns):\n",
      " #   Column                        Non-Null Count  Dtype  \n",
      "---  ------                        --------------  -----  \n",
      " 0   Transaction date              234 non-null    object \n",
      " 1    Transaction reference        234 non-null    int64  \n",
      " 2    Transaction codes            234 non-null    object \n",
      " 3    Description of transactions  234 non-null    object \n",
      " 4    Transaction debit            234 non-null    float64\n",
      " 5    Transaction credit           234 non-null    float64\n",
      " 6    Transaction balance          234 non-null    float64\n",
      "dtypes: float64(3), int64(1), object(3)\n",
      "memory usage: 12.9+ KB\n"
     ]
    }
   ],
   "source": [
    "data.info()"
   ]
  },
  {
   "cell_type": "code",
   "execution_count": 6,
   "id": "e6b2b14d",
   "metadata": {
    "execution": {
     "iopub.execute_input": "2023-05-10T04:58:38.698896Z",
     "iopub.status.busy": "2023-05-10T04:58:38.698056Z",
     "iopub.status.idle": "2023-05-10T04:58:38.708486Z",
     "shell.execute_reply": "2023-05-10T04:58:38.707060Z"
    },
    "papermill": {
     "duration": 0.021889,
     "end_time": "2023-05-10T04:58:38.711319",
     "exception": false,
     "start_time": "2023-05-10T04:58:38.689430",
     "status": "completed"
    },
    "tags": []
   },
   "outputs": [
    {
     "data": {
      "text/plain": [
       "Transaction date                0\n",
       " Transaction reference          0\n",
       " Transaction codes              0\n",
       " Description of transactions    0\n",
       " Transaction debit              0\n",
       " Transaction credit             0\n",
       " Transaction balance            0\n",
       "dtype: int64"
      ]
     },
     "execution_count": 6,
     "metadata": {},
     "output_type": "execute_result"
    }
   ],
   "source": [
    "data.isnull().sum()"
   ]
  },
  {
   "cell_type": "code",
   "execution_count": 7,
   "id": "d08f2768",
   "metadata": {
    "execution": {
     "iopub.execute_input": "2023-05-10T04:58:38.726865Z",
     "iopub.status.busy": "2023-05-10T04:58:38.726417Z",
     "iopub.status.idle": "2023-05-10T04:58:38.757076Z",
     "shell.execute_reply": "2023-05-10T04:58:38.755869Z"
    },
    "papermill": {
     "duration": 0.041703,
     "end_time": "2023-05-10T04:58:38.759626",
     "exception": false,
     "start_time": "2023-05-10T04:58:38.717923",
     "status": "completed"
    },
    "tags": []
   },
   "outputs": [
    {
     "data": {
      "text/html": [
       "<div>\n",
       "<style scoped>\n",
       "    .dataframe tbody tr th:only-of-type {\n",
       "        vertical-align: middle;\n",
       "    }\n",
       "\n",
       "    .dataframe tbody tr th {\n",
       "        vertical-align: top;\n",
       "    }\n",
       "\n",
       "    .dataframe thead th {\n",
       "        text-align: right;\n",
       "    }\n",
       "</style>\n",
       "<table border=\"1\" class=\"dataframe\">\n",
       "  <thead>\n",
       "    <tr style=\"text-align: right;\">\n",
       "      <th></th>\n",
       "      <th>Transaction reference</th>\n",
       "      <th>Transaction debit</th>\n",
       "      <th>Transaction credit</th>\n",
       "      <th>Transaction balance</th>\n",
       "    </tr>\n",
       "  </thead>\n",
       "  <tbody>\n",
       "    <tr>\n",
       "      <th>count</th>\n",
       "      <td>2.340000e+02</td>\n",
       "      <td>234.000000</td>\n",
       "      <td>234.000000</td>\n",
       "      <td>2.340000e+02</td>\n",
       "    </tr>\n",
       "    <tr>\n",
       "      <th>mean</th>\n",
       "      <td>5.165227e+08</td>\n",
       "      <td>19829.128120</td>\n",
       "      <td>17116.146410</td>\n",
       "      <td>4.621027e+05</td>\n",
       "    </tr>\n",
       "    <tr>\n",
       "      <th>std</th>\n",
       "      <td>4.094236e+08</td>\n",
       "      <td>45688.843741</td>\n",
       "      <td>77025.027867</td>\n",
       "      <td>2.417072e+05</td>\n",
       "    </tr>\n",
       "    <tr>\n",
       "      <th>min</th>\n",
       "      <td>8.370000e+04</td>\n",
       "      <td>0.000000</td>\n",
       "      <td>0.000000</td>\n",
       "      <td>-5.326419e+04</td>\n",
       "    </tr>\n",
       "    <tr>\n",
       "      <th>25%</th>\n",
       "      <td>4.150025e+07</td>\n",
       "      <td>120.900000</td>\n",
       "      <td>0.000000</td>\n",
       "      <td>2.700501e+05</td>\n",
       "    </tr>\n",
       "    <tr>\n",
       "      <th>50%</th>\n",
       "      <td>4.064075e+08</td>\n",
       "      <td>3450.000000</td>\n",
       "      <td>0.000000</td>\n",
       "      <td>4.960735e+05</td>\n",
       "    </tr>\n",
       "    <tr>\n",
       "      <th>75%</th>\n",
       "      <td>9.604587e+08</td>\n",
       "      <td>15298.750000</td>\n",
       "      <td>0.000000</td>\n",
       "      <td>6.433480e+05</td>\n",
       "    </tr>\n",
       "    <tr>\n",
       "      <th>max</th>\n",
       "      <td>9.704779e+08</td>\n",
       "      <td>500000.000000</td>\n",
       "      <td>1000000.000000</td>\n",
       "      <td>1.467570e+06</td>\n",
       "    </tr>\n",
       "  </tbody>\n",
       "</table>\n",
       "</div>"
      ],
      "text/plain": [
       "        Transaction reference   Transaction debit   Transaction credit  \\\n",
       "count            2.340000e+02          234.000000           234.000000   \n",
       "mean             5.165227e+08        19829.128120         17116.146410   \n",
       "std              4.094236e+08        45688.843741         77025.027867   \n",
       "min              8.370000e+04            0.000000             0.000000   \n",
       "25%              4.150025e+07          120.900000             0.000000   \n",
       "50%              4.064075e+08         3450.000000             0.000000   \n",
       "75%              9.604587e+08        15298.750000             0.000000   \n",
       "max              9.704779e+08       500000.000000       1000000.000000   \n",
       "\n",
       "        Transaction balance   \n",
       "count           2.340000e+02  \n",
       "mean            4.621027e+05  \n",
       "std             2.417072e+05  \n",
       "min            -5.326419e+04  \n",
       "25%             2.700501e+05  \n",
       "50%             4.960735e+05  \n",
       "75%             6.433480e+05  \n",
       "max             1.467570e+06  "
      ]
     },
     "execution_count": 7,
     "metadata": {},
     "output_type": "execute_result"
    }
   ],
   "source": [
    "data.describe()"
   ]
  },
  {
   "cell_type": "code",
   "execution_count": 8,
   "id": "0082455e",
   "metadata": {
    "execution": {
     "iopub.execute_input": "2023-05-10T04:58:38.775267Z",
     "iopub.status.busy": "2023-05-10T04:58:38.774877Z",
     "iopub.status.idle": "2023-05-10T04:58:38.792193Z",
     "shell.execute_reply": "2023-05-10T04:58:38.791044Z"
    },
    "papermill": {
     "duration": 0.028129,
     "end_time": "2023-05-10T04:58:38.794661",
     "exception": false,
     "start_time": "2023-05-10T04:58:38.766532",
     "status": "completed"
    },
    "tags": []
   },
   "outputs": [
    {
     "data": {
      "text/html": [
       "<div>\n",
       "<style scoped>\n",
       "    .dataframe tbody tr th:only-of-type {\n",
       "        vertical-align: middle;\n",
       "    }\n",
       "\n",
       "    .dataframe tbody tr th {\n",
       "        vertical-align: top;\n",
       "    }\n",
       "\n",
       "    .dataframe thead th {\n",
       "        text-align: right;\n",
       "    }\n",
       "</style>\n",
       "<table border=\"1\" class=\"dataframe\">\n",
       "  <thead>\n",
       "    <tr style=\"text-align: right;\">\n",
       "      <th></th>\n",
       "      <th>Transaction date</th>\n",
       "      <th>Transaction reference</th>\n",
       "      <th>Transaction codes</th>\n",
       "      <th>Description of transactions</th>\n",
       "      <th>Transaction debit</th>\n",
       "      <th>Transaction credit</th>\n",
       "      <th>Transaction balance</th>\n",
       "    </tr>\n",
       "  </thead>\n",
       "  <tbody>\n",
       "    <tr>\n",
       "      <th>0</th>\n",
       "      <td>01/01/2023</td>\n",
       "      <td>123100248</td>\n",
       "      <td>CP</td>\n",
       "      <td>GESSA PERI SAN PEDRO</td>\n",
       "      <td>4950.0</td>\n",
       "      <td>0.0</td>\n",
       "      <td>733503.23</td>\n",
       "    </tr>\n",
       "    <tr>\n",
       "      <th>1</th>\n",
       "      <td>01/01/2023</td>\n",
       "      <td>966484497</td>\n",
       "      <td>TF</td>\n",
       "      <td>SINPE MOVIL Cervezas_y_comida</td>\n",
       "      <td>8200.0</td>\n",
       "      <td>0.0</td>\n",
       "      <td>725303.23</td>\n",
       "    </tr>\n",
       "    <tr>\n",
       "      <th>2</th>\n",
       "      <td>03/01/2023</td>\n",
       "      <td>10200000</td>\n",
       "      <td>CP</td>\n",
       "      <td>IVA -GOOGLE *Dario Karmel</td>\n",
       "      <td>120.9</td>\n",
       "      <td>0.0</td>\n",
       "      <td>725182.33</td>\n",
       "    </tr>\n",
       "    <tr>\n",
       "      <th>3</th>\n",
       "      <td>03/01/2023</td>\n",
       "      <td>10200000</td>\n",
       "      <td>CP</td>\n",
       "      <td>GOOGLE *Dario Karmel\\  650-253</td>\n",
       "      <td>930.0</td>\n",
       "      <td>0.0</td>\n",
       "      <td>724252.33</td>\n",
       "    </tr>\n",
       "    <tr>\n",
       "      <th>4</th>\n",
       "      <td>03/01/2023</td>\n",
       "      <td>406405421</td>\n",
       "      <td>TF</td>\n",
       "      <td>TEF DE:AMADA POMARES CRUZ</td>\n",
       "      <td>0.0</td>\n",
       "      <td>3107.0</td>\n",
       "      <td>727359.33</td>\n",
       "    </tr>\n",
       "  </tbody>\n",
       "</table>\n",
       "</div>"
      ],
      "text/plain": [
       "  Transaction date   Transaction reference  Transaction codes  \\\n",
       "0       01/01/2023               123100248                 CP   \n",
       "1       01/01/2023               966484497                 TF   \n",
       "2       03/01/2023                10200000                 CP   \n",
       "3       03/01/2023                10200000                 CP   \n",
       "4       03/01/2023               406405421                 TF   \n",
       "\n",
       "       Description of transactions   Transaction debit   Transaction credit  \\\n",
       "0   GESSA PERI SAN PEDRO                        4950.0                  0.0   \n",
       "1   SINPE MOVIL Cervezas_y_comida               8200.0                  0.0   \n",
       "2   IVA -GOOGLE *Dario Karmel                    120.9                  0.0   \n",
       "3   GOOGLE *Dario Karmel\\  650-253               930.0                  0.0   \n",
       "4   TEF DE:AMADA POMARES CRUZ                      0.0               3107.0   \n",
       "\n",
       "    Transaction balance   \n",
       "0              733503.23  \n",
       "1              725303.23  \n",
       "2              725182.33  \n",
       "3              724252.33  \n",
       "4              727359.33  "
      ]
     },
     "execution_count": 8,
     "metadata": {},
     "output_type": "execute_result"
    }
   ],
   "source": [
    "data.head()"
   ]
  },
  {
   "cell_type": "code",
   "execution_count": 9,
   "id": "14a5adac",
   "metadata": {
    "execution": {
     "iopub.execute_input": "2023-05-10T04:58:38.810612Z",
     "iopub.status.busy": "2023-05-10T04:58:38.810217Z",
     "iopub.status.idle": "2023-05-10T04:58:38.817705Z",
     "shell.execute_reply": "2023-05-10T04:58:38.816328Z"
    },
    "papermill": {
     "duration": 0.018241,
     "end_time": "2023-05-10T04:58:38.820049",
     "exception": false,
     "start_time": "2023-05-10T04:58:38.801808",
     "status": "completed"
    },
    "tags": []
   },
   "outputs": [
    {
     "data": {
      "text/plain": [
       "Index(['Transaction date', ' Transaction reference', ' Transaction codes',\n",
       "       ' Description of transactions', ' Transaction debit',\n",
       "       ' Transaction credit', ' Transaction balance '],\n",
       "      dtype='object')"
      ]
     },
     "execution_count": 9,
     "metadata": {},
     "output_type": "execute_result"
    }
   ],
   "source": [
    "data.columns"
   ]
  },
  {
   "cell_type": "code",
   "execution_count": 10,
   "id": "ddad0bce",
   "metadata": {
    "execution": {
     "iopub.execute_input": "2023-05-10T04:58:38.836387Z",
     "iopub.status.busy": "2023-05-10T04:58:38.836005Z",
     "iopub.status.idle": "2023-05-10T04:58:38.845084Z",
     "shell.execute_reply": "2023-05-10T04:58:38.844106Z"
    },
    "papermill": {
     "duration": 0.020028,
     "end_time": "2023-05-10T04:58:38.847387",
     "exception": false,
     "start_time": "2023-05-10T04:58:38.827359",
     "status": "completed"
    },
    "tags": []
   },
   "outputs": [
    {
     "data": {
      "text/plain": [
       "Index(['Transaction_date', 'Transaction_reference', 'Transaction_codes',\n",
       "       'Description_of_transactions', 'Transaction_debit',\n",
       "       'Transaction_credit', 'Transaction_balance'],\n",
       "      dtype='object')"
      ]
     },
     "execution_count": 10,
     "metadata": {},
     "output_type": "execute_result"
    }
   ],
   "source": [
    "data = data.rename(columns={'Transaction date': 'Transaction_date',\n",
    "                        ' Transaction reference': 'Transaction_reference',\n",
    "                        ' Transaction codes': 'Transaction_codes',\n",
    "                        ' Description of transactions': 'Description_of_transactions',\n",
    "                        ' Transaction debit': 'Transaction_debit',\n",
    "                        ' Transaction credit': 'Transaction_credit',\n",
    "                        ' Transaction balance ': 'Transaction_balance'})\n",
    "\n",
    "data.columns"
   ]
  },
  {
   "cell_type": "code",
   "execution_count": 11,
   "id": "a81761e1",
   "metadata": {
    "execution": {
     "iopub.execute_input": "2023-05-10T04:58:38.864428Z",
     "iopub.status.busy": "2023-05-10T04:58:38.863321Z",
     "iopub.status.idle": "2023-05-10T04:58:38.874681Z",
     "shell.execute_reply": "2023-05-10T04:58:38.873638Z"
    },
    "papermill": {
     "duration": 0.022455,
     "end_time": "2023-05-10T04:58:38.877100",
     "exception": false,
     "start_time": "2023-05-10T04:58:38.854645",
     "status": "completed"
    },
    "tags": []
   },
   "outputs": [
    {
     "data": {
      "text/plain": [
       "21413.5"
      ]
     },
     "execution_count": 11,
     "metadata": {},
     "output_type": "execute_result"
    }
   ],
   "source": [
    "youtube_transactions = data[data[\"Description_of_transactions\"].str.contains(\"YouTube\")]\n",
    "youtube_transactions[\"Transaction_debit\"].sum()"
   ]
  },
  {
   "cell_type": "code",
   "execution_count": 12,
   "id": "f7f5e159",
   "metadata": {
    "execution": {
     "iopub.execute_input": "2023-05-10T04:58:38.894552Z",
     "iopub.status.busy": "2023-05-10T04:58:38.893844Z",
     "iopub.status.idle": "2023-05-10T04:58:38.910078Z",
     "shell.execute_reply": "2023-05-10T04:58:38.908869Z"
    },
    "papermill": {
     "duration": 0.027771,
     "end_time": "2023-05-10T04:58:38.912541",
     "exception": false,
     "start_time": "2023-05-10T04:58:38.884770",
     "status": "completed"
    },
    "tags": []
   },
   "outputs": [
    {
     "data": {
      "text/html": [
       "<div>\n",
       "<style scoped>\n",
       "    .dataframe tbody tr th:only-of-type {\n",
       "        vertical-align: middle;\n",
       "    }\n",
       "\n",
       "    .dataframe tbody tr th {\n",
       "        vertical-align: top;\n",
       "    }\n",
       "\n",
       "    .dataframe thead th {\n",
       "        text-align: right;\n",
       "    }\n",
       "</style>\n",
       "<table border=\"1\" class=\"dataframe\">\n",
       "  <thead>\n",
       "    <tr style=\"text-align: right;\">\n",
       "      <th></th>\n",
       "      <th>Transaction_date</th>\n",
       "      <th>Transaction_reference</th>\n",
       "      <th>Transaction_codes</th>\n",
       "      <th>Description_of_transactions</th>\n",
       "      <th>Transaction_debit</th>\n",
       "      <th>Transaction_credit</th>\n",
       "      <th>Transaction_balance</th>\n",
       "    </tr>\n",
       "  </thead>\n",
       "  <tbody>\n",
       "    <tr>\n",
       "      <th>0</th>\n",
       "      <td>01/01/2023</td>\n",
       "      <td>123100248</td>\n",
       "      <td>CP</td>\n",
       "      <td>GESSA PERI SAN PEDRO</td>\n",
       "      <td>4950.0</td>\n",
       "      <td>0.0</td>\n",
       "      <td>733503.23</td>\n",
       "    </tr>\n",
       "    <tr>\n",
       "      <th>1</th>\n",
       "      <td>01/01/2023</td>\n",
       "      <td>966484497</td>\n",
       "      <td>TF</td>\n",
       "      <td>SINPE MOVIL Cervezas_y_comida</td>\n",
       "      <td>8200.0</td>\n",
       "      <td>0.0</td>\n",
       "      <td>725303.23</td>\n",
       "    </tr>\n",
       "    <tr>\n",
       "      <th>2</th>\n",
       "      <td>03/01/2023</td>\n",
       "      <td>10200000</td>\n",
       "      <td>CP</td>\n",
       "      <td>IVA -GOOGLE *Dario Karmel</td>\n",
       "      <td>120.9</td>\n",
       "      <td>0.0</td>\n",
       "      <td>725182.33</td>\n",
       "    </tr>\n",
       "    <tr>\n",
       "      <th>3</th>\n",
       "      <td>03/01/2023</td>\n",
       "      <td>10200000</td>\n",
       "      <td>CP</td>\n",
       "      <td>GOOGLE *Dario Karmel\\  650-253</td>\n",
       "      <td>930.0</td>\n",
       "      <td>0.0</td>\n",
       "      <td>724252.33</td>\n",
       "    </tr>\n",
       "    <tr>\n",
       "      <th>4</th>\n",
       "      <td>03/01/2023</td>\n",
       "      <td>406405421</td>\n",
       "      <td>TF</td>\n",
       "      <td>TEF DE:AMADA POMARES CRUZ</td>\n",
       "      <td>0.0</td>\n",
       "      <td>3107.0</td>\n",
       "      <td>727359.33</td>\n",
       "    </tr>\n",
       "  </tbody>\n",
       "</table>\n",
       "</div>"
      ],
      "text/plain": [
       "  Transaction_date  Transaction_reference Transaction_codes  \\\n",
       "0       01/01/2023              123100248                CP   \n",
       "1       01/01/2023              966484497                TF   \n",
       "2       03/01/2023               10200000                CP   \n",
       "3       03/01/2023               10200000                CP   \n",
       "4       03/01/2023              406405421                TF   \n",
       "\n",
       "       Description_of_transactions  Transaction_debit  Transaction_credit  \\\n",
       "0   GESSA PERI SAN PEDRO                       4950.0                 0.0   \n",
       "1   SINPE MOVIL Cervezas_y_comida              8200.0                 0.0   \n",
       "2   IVA -GOOGLE *Dario Karmel                   120.9                 0.0   \n",
       "3   GOOGLE *Dario Karmel\\  650-253              930.0                 0.0   \n",
       "4   TEF DE:AMADA POMARES CRUZ                     0.0              3107.0   \n",
       "\n",
       "   Transaction_balance  \n",
       "0            733503.23  \n",
       "1            725303.23  \n",
       "2            725182.33  \n",
       "3            724252.33  \n",
       "4            727359.33  "
      ]
     },
     "execution_count": 12,
     "metadata": {},
     "output_type": "execute_result"
    }
   ],
   "source": [
    "data.head()"
   ]
  },
  {
   "cell_type": "code",
   "execution_count": 13,
   "id": "230fc283",
   "metadata": {
    "execution": {
     "iopub.execute_input": "2023-05-10T04:58:38.930513Z",
     "iopub.status.busy": "2023-05-10T04:58:38.930086Z",
     "iopub.status.idle": "2023-05-10T04:58:38.946723Z",
     "shell.execute_reply": "2023-05-10T04:58:38.945663Z"
    },
    "papermill": {
     "duration": 0.02857,
     "end_time": "2023-05-10T04:58:38.949291",
     "exception": false,
     "start_time": "2023-05-10T04:58:38.920721",
     "status": "completed"
    },
    "tags": []
   },
   "outputs": [
    {
     "data": {
      "text/html": [
       "<div>\n",
       "<style scoped>\n",
       "    .dataframe tbody tr th:only-of-type {\n",
       "        vertical-align: middle;\n",
       "    }\n",
       "\n",
       "    .dataframe tbody tr th {\n",
       "        vertical-align: top;\n",
       "    }\n",
       "\n",
       "    .dataframe thead th {\n",
       "        text-align: right;\n",
       "    }\n",
       "</style>\n",
       "<table border=\"1\" class=\"dataframe\">\n",
       "  <thead>\n",
       "    <tr style=\"text-align: right;\">\n",
       "      <th></th>\n",
       "      <th>Transaction_date</th>\n",
       "      <th>Transaction_reference</th>\n",
       "      <th>Transaction_codes</th>\n",
       "      <th>Description_of_transactions</th>\n",
       "      <th>Transaction_debit</th>\n",
       "      <th>Transaction_credit</th>\n",
       "      <th>Transaction_balance</th>\n",
       "    </tr>\n",
       "  </thead>\n",
       "  <tbody>\n",
       "    <tr>\n",
       "      <th>5</th>\n",
       "      <td>04/01/2023</td>\n",
       "      <td>10300248</td>\n",
       "      <td>CP</td>\n",
       "      <td>SMARTFIT                    EC</td>\n",
       "      <td>21762.30</td>\n",
       "      <td>0.0</td>\n",
       "      <td>705597.03</td>\n",
       "    </tr>\n",
       "    <tr>\n",
       "      <th>52</th>\n",
       "      <td>03/02/2023</td>\n",
       "      <td>20200248</td>\n",
       "      <td>CP</td>\n",
       "      <td>SMARTFIT                    EC</td>\n",
       "      <td>20822.40</td>\n",
       "      <td>0.0</td>\n",
       "      <td>653365.60</td>\n",
       "    </tr>\n",
       "    <tr>\n",
       "      <th>97</th>\n",
       "      <td>04/03/2023</td>\n",
       "      <td>30300248</td>\n",
       "      <td>CP</td>\n",
       "      <td>SMARTFIT                    EC</td>\n",
       "      <td>20352.45</td>\n",
       "      <td>0.0</td>\n",
       "      <td>478189.18</td>\n",
       "    </tr>\n",
       "    <tr>\n",
       "      <th>159</th>\n",
       "      <td>06/04/2023</td>\n",
       "      <td>40500248</td>\n",
       "      <td>CP</td>\n",
       "      <td>SMARTFIT                    EC</td>\n",
       "      <td>19774.05</td>\n",
       "      <td>0.0</td>\n",
       "      <td>442369.75</td>\n",
       "    </tr>\n",
       "    <tr>\n",
       "      <th>213</th>\n",
       "      <td>03/05/2023</td>\n",
       "      <td>50200248</td>\n",
       "      <td>CP</td>\n",
       "      <td>SMARTFIT                    EC</td>\n",
       "      <td>20027.10</td>\n",
       "      <td>0.0</td>\n",
       "      <td>47596.86</td>\n",
       "    </tr>\n",
       "  </tbody>\n",
       "</table>\n",
       "</div>"
      ],
      "text/plain": [
       "    Transaction_date  Transaction_reference Transaction_codes  \\\n",
       "5         04/01/2023               10300248                CP   \n",
       "52        03/02/2023               20200248                CP   \n",
       "97        04/03/2023               30300248                CP   \n",
       "159       06/04/2023               40500248                CP   \n",
       "213       03/05/2023               50200248                CP   \n",
       "\n",
       "         Description_of_transactions  Transaction_debit  Transaction_credit  \\\n",
       "5     SMARTFIT                    EC           21762.30                 0.0   \n",
       "52    SMARTFIT                    EC           20822.40                 0.0   \n",
       "97    SMARTFIT                    EC           20352.45                 0.0   \n",
       "159   SMARTFIT                    EC           19774.05                 0.0   \n",
       "213   SMARTFIT                    EC           20027.10                 0.0   \n",
       "\n",
       "     Transaction_balance  \n",
       "5              705597.03  \n",
       "52             653365.60  \n",
       "97             478189.18  \n",
       "159            442369.75  \n",
       "213             47596.86  "
      ]
     },
     "execution_count": 13,
     "metadata": {},
     "output_type": "execute_result"
    }
   ],
   "source": [
    "data[data[\"Description_of_transactions\"].str.contains(\"SMARTFIT\")]"
   ]
  },
  {
   "cell_type": "code",
   "execution_count": 14,
   "id": "23ff0bb2",
   "metadata": {
    "execution": {
     "iopub.execute_input": "2023-05-10T04:58:38.967298Z",
     "iopub.status.busy": "2023-05-10T04:58:38.966891Z",
     "iopub.status.idle": "2023-05-10T04:58:38.973558Z",
     "shell.execute_reply": "2023-05-10T04:58:38.972196Z"
    },
    "papermill": {
     "duration": 0.018717,
     "end_time": "2023-05-10T04:58:38.976063",
     "exception": false,
     "start_time": "2023-05-10T04:58:38.957346",
     "status": "completed"
    },
    "tags": []
   },
   "outputs": [
    {
     "name": "stdout",
     "output_type": "stream",
     "text": [
      "Money spend:  4640015.9799999995\n"
     ]
    }
   ],
   "source": [
    "spend_sum = data[\"Transaction_debit\"].sum()\n",
    "print(\"Money spend: \",spend_sum )"
   ]
  },
  {
   "cell_type": "code",
   "execution_count": 15,
   "id": "188b7a22",
   "metadata": {
    "execution": {
     "iopub.execute_input": "2023-05-10T04:58:38.994708Z",
     "iopub.status.busy": "2023-05-10T04:58:38.993631Z",
     "iopub.status.idle": "2023-05-10T04:58:39.004589Z",
     "shell.execute_reply": "2023-05-10T04:58:39.003306Z"
    },
    "papermill": {
     "duration": 0.022922,
     "end_time": "2023-05-10T04:58:39.007158",
     "exception": false,
     "start_time": "2023-05-10T04:58:38.984236",
     "status": "completed"
    },
    "tags": []
   },
   "outputs": [
    {
     "name": "stdout",
     "output_type": "stream",
     "text": [
      "    Transaction_date  Transaction_reference Transaction_codes  \\\n",
      "131       25/03/2023              406403785                TF   \n",
      "\n",
      "         Description_of_transactions  Transaction_debit  Transaction_credit  \\\n",
      "131   TEF A : 931983548                        500000.0                 0.0   \n",
      "\n",
      "     Transaction_balance  \n",
      "131             967570.4  \n"
     ]
    }
   ],
   "source": [
    "max_debit = data[\"Transaction_debit\"].max()\n",
    "\n",
    "# Filter the dataframe to only include rows where the \"Transaction_debit\" value is equal to the max value\n",
    "max_debit_rows = data[data[\"Transaction_debit\"] == max_debit]\n",
    "\n",
    "# Print the rows that have the max \"Transaction_debit\" value\n",
    "print(max_debit_rows)"
   ]
  }
 ],
 "metadata": {
  "kernelspec": {
   "display_name": "Python 3",
   "language": "python",
   "name": "python3"
  },
  "language_info": {
   "codemirror_mode": {
    "name": "ipython",
    "version": 3
   },
   "file_extension": ".py",
   "mimetype": "text/x-python",
   "name": "python",
   "nbconvert_exporter": "python",
   "pygments_lexer": "ipython3",
   "version": "3.10.10"
  },
  "papermill": {
   "default_parameters": {},
   "duration": 15.742939,
   "end_time": "2023-05-10T04:58:39.938001",
   "environment_variables": {},
   "exception": null,
   "input_path": "__notebook__.ipynb",
   "output_path": "__notebook__.ipynb",
   "parameters": {},
   "start_time": "2023-05-10T04:58:24.195062",
   "version": "2.4.0"
  }
 },
 "nbformat": 4,
 "nbformat_minor": 5
}
