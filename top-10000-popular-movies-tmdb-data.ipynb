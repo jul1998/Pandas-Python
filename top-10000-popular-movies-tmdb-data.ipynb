{
 "cells": [
  {
   "cell_type": "code",
   "execution_count": 1,
   "id": "a5cfe4db",
   "metadata": {
    "_cell_guid": "b1076dfc-b9ad-4769-8c92-a6c4dae69d19",
    "_uuid": "8f2839f25d086af736a60e9eeb907d3b93b6e0e5",
    "execution": {
     "iopub.execute_input": "2023-05-16T06:43:21.318329Z",
     "iopub.status.busy": "2023-05-16T06:43:21.317921Z",
     "iopub.status.idle": "2023-05-16T06:43:21.338110Z",
     "shell.execute_reply": "2023-05-16T06:43:21.336926Z"
    },
    "papermill": {
     "duration": 0.031765,
     "end_time": "2023-05-16T06:43:21.340736",
     "exception": false,
     "start_time": "2023-05-16T06:43:21.308971",
     "status": "completed"
    },
    "tags": []
   },
   "outputs": [
    {
     "name": "stdout",
     "output_type": "stream",
     "text": [
      "/kaggle/input/top-10000-popular-movies-tmdb-05-2023/popular_10000_movies_tmdb.csv\n"
     ]
    }
   ],
   "source": [
    "# This Python 3 environment comes with many helpful analytics libraries installed\n",
    "# It is defined by the kaggle/python Docker image: https://github.com/kaggle/docker-python\n",
    "# For example, here's several helpful packages to load\n",
    "\n",
    "import numpy as np # linear algebra\n",
    "import pandas as pd # data processing, CSV file I/O (e.g. pd.read_csv)\n",
    "\n",
    "# Input data files are available in the read-only \"../input/\" directory\n",
    "# For example, running this (by clicking run or pressing Shift+Enter) will list all files under the input directory\n",
    "\n",
    "import os\n",
    "for dirname, _, filenames in os.walk('/kaggle/input'):\n",
    "    for filename in filenames:\n",
    "        print(os.path.join(dirname, filename))\n",
    "\n",
    "# You can write up to 20GB to the current directory (/kaggle/working/) that gets preserved as output when you create a version using \"Save & Run All\" \n",
    "# You can also write temporary files to /kaggle/temp/, but they won't be saved outside of the current session"
   ]
  },
  {
   "cell_type": "code",
   "execution_count": 2,
   "id": "3b294929",
   "metadata": {
    "execution": {
     "iopub.execute_input": "2023-05-16T06:43:21.356610Z",
     "iopub.status.busy": "2023-05-16T06:43:21.356229Z",
     "iopub.status.idle": "2023-05-16T06:43:21.534930Z",
     "shell.execute_reply": "2023-05-16T06:43:21.533303Z"
    },
    "papermill": {
     "duration": 0.189862,
     "end_time": "2023-05-16T06:43:21.537770",
     "exception": false,
     "start_time": "2023-05-16T06:43:21.347908",
     "status": "completed"
    },
    "tags": []
   },
   "outputs": [],
   "source": [
    "data = pd.read_csv(\"/kaggle/input/top-10000-popular-movies-tmdb-05-2023/popular_10000_movies_tmdb.csv\")"
   ]
  },
  {
   "cell_type": "markdown",
   "id": "8b977ad6",
   "metadata": {
    "papermill": {
     "duration": 0.006452,
     "end_time": "2023-05-16T06:43:21.551212",
     "exception": false,
     "start_time": "2023-05-16T06:43:21.544760",
     "status": "completed"
    },
    "tags": []
   },
   "source": [
    "* Top-rated movies: Find the top-rated movies based on the \"vote_average\" column and create a list or plot to display the titles and their corresponding ratings.\n",
    "* \n",
    "* Movie genres analysis: Analyze the distribution of movie genres in the dataset. Count the frequency of each genre and create a bar plot or pie chart to visualize the most common genres.\n",
    "* \n",
    "* Language distribution: Explore the distribution of movie languages using the \"original_language\" column. Calculate the frequency of each language and create a plot to show the distribution.\n",
    "* \n",
    "* Release date analysis: Analyze the distribution of movies over the years based on the \"release_date\" column. Extract the year from the date, calculate the frequency of movies released in each year, and create a line plot or histogram to visualize the trend.\n",
    "* \n",
    "* Budget and revenue analysis: Investigate the relationship between the movie budget and revenue. Calculate the average budget and revenue, and create visualizations such as scatter plots or bar plots to compare different movies.\n",
    "* \n",
    "* Popular movies: Explore the popularity of movies using the \"popularity\" column. Identify the most popular movies based on their popularity scores and create a list or plot to display the titles and popularity scores.\n",
    "* \n",
    "* Movie runtime analysis: Analyze the distribution of movie runtimes using the \"runtime\" column. Calculate summary statistics, such as mean and median runtime, and create visualizations like histograms or box plots to understand the distribution.\n",
    "* \n",
    "* Tagline analysis: Analyze the availability and patterns of taglines in the dataset. Count the number of movies with taglines and explore common words or phrases used in taglines."
   ]
  },
  {
   "cell_type": "code",
   "execution_count": 3,
   "id": "25a28200",
   "metadata": {
    "execution": {
     "iopub.execute_input": "2023-05-16T06:43:21.566728Z",
     "iopub.status.busy": "2023-05-16T06:43:21.566357Z",
     "iopub.status.idle": "2023-05-16T06:43:21.600375Z",
     "shell.execute_reply": "2023-05-16T06:43:21.599174Z"
    },
    "papermill": {
     "duration": 0.044651,
     "end_time": "2023-05-16T06:43:21.602713",
     "exception": false,
     "start_time": "2023-05-16T06:43:21.558062",
     "status": "completed"
    },
    "tags": []
   },
   "outputs": [
    {
     "data": {
      "text/html": [
       "<div>\n",
       "<style scoped>\n",
       "    .dataframe tbody tr th:only-of-type {\n",
       "        vertical-align: middle;\n",
       "    }\n",
       "\n",
       "    .dataframe tbody tr th {\n",
       "        vertical-align: top;\n",
       "    }\n",
       "\n",
       "    .dataframe thead th {\n",
       "        text-align: right;\n",
       "    }\n",
       "</style>\n",
       "<table border=\"1\" class=\"dataframe\">\n",
       "  <thead>\n",
       "    <tr style=\"text-align: right;\">\n",
       "      <th></th>\n",
       "      <th>id</th>\n",
       "      <th>title</th>\n",
       "      <th>release_date</th>\n",
       "      <th>genres</th>\n",
       "      <th>original_language</th>\n",
       "      <th>vote_average</th>\n",
       "      <th>vote_count</th>\n",
       "      <th>popularity</th>\n",
       "      <th>overview</th>\n",
       "      <th>budget</th>\n",
       "      <th>production_companies</th>\n",
       "      <th>revenue</th>\n",
       "      <th>runtime</th>\n",
       "      <th>tagline</th>\n",
       "    </tr>\n",
       "  </thead>\n",
       "  <tbody>\n",
       "    <tr>\n",
       "      <th>0</th>\n",
       "      <td>758323</td>\n",
       "      <td>The Pope's Exorcist</td>\n",
       "      <td>2023-04-05</td>\n",
       "      <td>['Horror', 'Mystery', 'Thriller']</td>\n",
       "      <td>English</td>\n",
       "      <td>7.4</td>\n",
       "      <td>619</td>\n",
       "      <td>5089.969</td>\n",
       "      <td>Father Gabriele Amorth, Chief Exorcist of the ...</td>\n",
       "      <td>18000000</td>\n",
       "      <td>['Screen Gems', '2.0 Entertainment', 'Jesus &amp; ...</td>\n",
       "      <td>65675816</td>\n",
       "      <td>103</td>\n",
       "      <td>Inspired by the actual files of Father Gabriel...</td>\n",
       "    </tr>\n",
       "    <tr>\n",
       "      <th>1</th>\n",
       "      <td>640146</td>\n",
       "      <td>Ant-Man and the Wasp: Quantumania</td>\n",
       "      <td>2023-02-15</td>\n",
       "      <td>['Action', 'Adventure', 'Science Fiction']</td>\n",
       "      <td>English</td>\n",
       "      <td>6.6</td>\n",
       "      <td>2294</td>\n",
       "      <td>4665.438</td>\n",
       "      <td>Super-Hero partners Scott Lang and Hope van Dy...</td>\n",
       "      <td>200000000</td>\n",
       "      <td>['Marvel Studios', 'Kevin Feige Productions']</td>\n",
       "      <td>464566092</td>\n",
       "      <td>125</td>\n",
       "      <td>Witness the beginning of a new dynasty.</td>\n",
       "    </tr>\n",
       "    <tr>\n",
       "      <th>2</th>\n",
       "      <td>502356</td>\n",
       "      <td>The Super Mario Bros. Movie</td>\n",
       "      <td>2023-04-05</td>\n",
       "      <td>['Animation', 'Adventure', 'Family', 'Fantasy'...</td>\n",
       "      <td>English</td>\n",
       "      <td>7.5</td>\n",
       "      <td>1861</td>\n",
       "      <td>3935.550</td>\n",
       "      <td>While working underground to fix a water main,...</td>\n",
       "      <td>100000000</td>\n",
       "      <td>['Universal Pictures', 'Illumination', 'Ninten...</td>\n",
       "      <td>1121048165</td>\n",
       "      <td>92</td>\n",
       "      <td>NaN</td>\n",
       "    </tr>\n",
       "    <tr>\n",
       "      <th>3</th>\n",
       "      <td>868759</td>\n",
       "      <td>Ghosted</td>\n",
       "      <td>2023-04-18</td>\n",
       "      <td>['Action', 'Comedy', 'Romance']</td>\n",
       "      <td>English</td>\n",
       "      <td>7.2</td>\n",
       "      <td>652</td>\n",
       "      <td>2791.532</td>\n",
       "      <td>Salt-of-the-earth Cole falls head over heels f...</td>\n",
       "      <td>0</td>\n",
       "      <td>['Skydance Media', 'Apple Studios']</td>\n",
       "      <td>0</td>\n",
       "      <td>120</td>\n",
       "      <td>Finding that special someone can be a real adv...</td>\n",
       "    </tr>\n",
       "    <tr>\n",
       "      <th>4</th>\n",
       "      <td>594767</td>\n",
       "      <td>Shazam! Fury of the Gods</td>\n",
       "      <td>2023-03-15</td>\n",
       "      <td>['Action', 'Comedy', 'Fantasy', 'Adventure']</td>\n",
       "      <td>English</td>\n",
       "      <td>6.8</td>\n",
       "      <td>1510</td>\n",
       "      <td>2702.593</td>\n",
       "      <td>Billy Batson and his foster siblings, who tran...</td>\n",
       "      <td>125000000</td>\n",
       "      <td>['New Line Cinema', 'The Safran Company', 'DC ...</td>\n",
       "      <td>133437105</td>\n",
       "      <td>130</td>\n",
       "      <td>Oh. My. Gods.</td>\n",
       "    </tr>\n",
       "  </tbody>\n",
       "</table>\n",
       "</div>"
      ],
      "text/plain": [
       "       id                              title release_date  \\\n",
       "0  758323                The Pope's Exorcist   2023-04-05   \n",
       "1  640146  Ant-Man and the Wasp: Quantumania   2023-02-15   \n",
       "2  502356        The Super Mario Bros. Movie   2023-04-05   \n",
       "3  868759                            Ghosted   2023-04-18   \n",
       "4  594767           Shazam! Fury of the Gods   2023-03-15   \n",
       "\n",
       "                                              genres original_language  \\\n",
       "0                  ['Horror', 'Mystery', 'Thriller']           English   \n",
       "1         ['Action', 'Adventure', 'Science Fiction']           English   \n",
       "2  ['Animation', 'Adventure', 'Family', 'Fantasy'...           English   \n",
       "3                    ['Action', 'Comedy', 'Romance']           English   \n",
       "4       ['Action', 'Comedy', 'Fantasy', 'Adventure']           English   \n",
       "\n",
       "   vote_average  vote_count  popularity  \\\n",
       "0           7.4         619    5089.969   \n",
       "1           6.6        2294    4665.438   \n",
       "2           7.5        1861    3935.550   \n",
       "3           7.2         652    2791.532   \n",
       "4           6.8        1510    2702.593   \n",
       "\n",
       "                                            overview     budget  \\\n",
       "0  Father Gabriele Amorth, Chief Exorcist of the ...   18000000   \n",
       "1  Super-Hero partners Scott Lang and Hope van Dy...  200000000   \n",
       "2  While working underground to fix a water main,...  100000000   \n",
       "3  Salt-of-the-earth Cole falls head over heels f...          0   \n",
       "4  Billy Batson and his foster siblings, who tran...  125000000   \n",
       "\n",
       "                                production_companies     revenue  runtime  \\\n",
       "0  ['Screen Gems', '2.0 Entertainment', 'Jesus & ...    65675816      103   \n",
       "1      ['Marvel Studios', 'Kevin Feige Productions']   464566092      125   \n",
       "2  ['Universal Pictures', 'Illumination', 'Ninten...  1121048165       92   \n",
       "3                ['Skydance Media', 'Apple Studios']           0      120   \n",
       "4  ['New Line Cinema', 'The Safran Company', 'DC ...   133437105      130   \n",
       "\n",
       "                                             tagline  \n",
       "0  Inspired by the actual files of Father Gabriel...  \n",
       "1            Witness the beginning of a new dynasty.  \n",
       "2                                                NaN  \n",
       "3  Finding that special someone can be a real adv...  \n",
       "4                                      Oh. My. Gods.  "
      ]
     },
     "execution_count": 3,
     "metadata": {},
     "output_type": "execute_result"
    }
   ],
   "source": [
    "data.head()"
   ]
  },
  {
   "cell_type": "code",
   "execution_count": 4,
   "id": "71620d8c",
   "metadata": {
    "execution": {
     "iopub.execute_input": "2023-05-16T06:43:21.618806Z",
     "iopub.status.busy": "2023-05-16T06:43:21.618435Z",
     "iopub.status.idle": "2023-05-16T06:43:21.624664Z",
     "shell.execute_reply": "2023-05-16T06:43:21.623647Z"
    },
    "papermill": {
     "duration": 0.016917,
     "end_time": "2023-05-16T06:43:21.626836",
     "exception": false,
     "start_time": "2023-05-16T06:43:21.609919",
     "status": "completed"
    },
    "tags": []
   },
   "outputs": [
    {
     "data": {
      "text/plain": [
       "(10000, 14)"
      ]
     },
     "execution_count": 4,
     "metadata": {},
     "output_type": "execute_result"
    }
   ],
   "source": [
    "data.shape"
   ]
  },
  {
   "cell_type": "code",
   "execution_count": 5,
   "id": "2f8ee2a7",
   "metadata": {
    "execution": {
     "iopub.execute_input": "2023-05-16T06:43:21.647785Z",
     "iopub.status.busy": "2023-05-16T06:43:21.647032Z",
     "iopub.status.idle": "2023-05-16T06:43:21.692575Z",
     "shell.execute_reply": "2023-05-16T06:43:21.691549Z"
    },
    "papermill": {
     "duration": 0.059549,
     "end_time": "2023-05-16T06:43:21.695586",
     "exception": false,
     "start_time": "2023-05-16T06:43:21.636037",
     "status": "completed"
    },
    "tags": []
   },
   "outputs": [
    {
     "name": "stdout",
     "output_type": "stream",
     "text": [
      "<class 'pandas.core.frame.DataFrame'>\n",
      "RangeIndex: 10000 entries, 0 to 9999\n",
      "Data columns (total 14 columns):\n",
      " #   Column                Non-Null Count  Dtype  \n",
      "---  ------                --------------  -----  \n",
      " 0   id                    10000 non-null  int64  \n",
      " 1   title                 10000 non-null  object \n",
      " 2   release_date          9979 non-null   object \n",
      " 3   genres                10000 non-null  object \n",
      " 4   original_language     10000 non-null  object \n",
      " 5   vote_average          10000 non-null  float64\n",
      " 6   vote_count            10000 non-null  int64  \n",
      " 7   popularity            10000 non-null  float64\n",
      " 8   overview              9923 non-null   object \n",
      " 9   budget                10000 non-null  int64  \n",
      " 10  production_companies  10000 non-null  object \n",
      " 11  revenue               10000 non-null  int64  \n",
      " 12  runtime               10000 non-null  int64  \n",
      " 13  tagline               7241 non-null   object \n",
      "dtypes: float64(2), int64(5), object(7)\n",
      "memory usage: 1.1+ MB\n"
     ]
    }
   ],
   "source": [
    "data.info()"
   ]
  },
  {
   "cell_type": "code",
   "execution_count": 6,
   "id": "f458b5bb",
   "metadata": {
    "execution": {
     "iopub.execute_input": "2023-05-16T06:43:21.714885Z",
     "iopub.status.busy": "2023-05-16T06:43:21.714370Z",
     "iopub.status.idle": "2023-05-16T06:43:21.736574Z",
     "shell.execute_reply": "2023-05-16T06:43:21.735229Z"
    },
    "papermill": {
     "duration": 0.034359,
     "end_time": "2023-05-16T06:43:21.738974",
     "exception": false,
     "start_time": "2023-05-16T06:43:21.704615",
     "status": "completed"
    },
    "tags": []
   },
   "outputs": [
    {
     "data": {
      "text/plain": [
       "id                         0\n",
       "title                      0\n",
       "release_date              21\n",
       "genres                     0\n",
       "original_language          0\n",
       "vote_average               0\n",
       "vote_count                 0\n",
       "popularity                 0\n",
       "overview                  77\n",
       "budget                     0\n",
       "production_companies       0\n",
       "revenue                    0\n",
       "runtime                    0\n",
       "tagline                 2759\n",
       "dtype: int64"
      ]
     },
     "execution_count": 6,
     "metadata": {},
     "output_type": "execute_result"
    }
   ],
   "source": [
    "data.isnull().sum()"
   ]
  },
  {
   "cell_type": "code",
   "execution_count": 7,
   "id": "ebb8ceea",
   "metadata": {
    "execution": {
     "iopub.execute_input": "2023-05-16T06:43:21.756335Z",
     "iopub.status.busy": "2023-05-16T06:43:21.755053Z",
     "iopub.status.idle": "2023-05-16T06:43:21.763275Z",
     "shell.execute_reply": "2023-05-16T06:43:21.762486Z"
    },
    "papermill": {
     "duration": 0.018849,
     "end_time": "2023-05-16T06:43:21.765355",
     "exception": false,
     "start_time": "2023-05-16T06:43:21.746506",
     "status": "completed"
    },
    "tags": []
   },
   "outputs": [
    {
     "data": {
      "text/plain": [
       "0       2023-04-05\n",
       "1       2023-02-15\n",
       "2       2023-04-05\n",
       "3       2023-04-18\n",
       "4       2023-03-15\n",
       "           ...    \n",
       "9995    2016-10-21\n",
       "9996    2006-10-28\n",
       "9997    2007-10-03\n",
       "9998    2017-08-31\n",
       "9999    2017-11-10\n",
       "Name: release_date, Length: 10000, dtype: object"
      ]
     },
     "execution_count": 7,
     "metadata": {},
     "output_type": "execute_result"
    }
   ],
   "source": [
    "data[\"release_date\"]"
   ]
  },
  {
   "cell_type": "code",
   "execution_count": 8,
   "id": "5ac283af",
   "metadata": {
    "execution": {
     "iopub.execute_input": "2023-05-16T06:43:21.782817Z",
     "iopub.status.busy": "2023-05-16T06:43:21.782031Z",
     "iopub.status.idle": "2023-05-16T06:43:21.790751Z",
     "shell.execute_reply": "2023-05-16T06:43:21.789712Z"
    },
    "papermill": {
     "duration": 0.020208,
     "end_time": "2023-05-16T06:43:21.793206",
     "exception": false,
     "start_time": "2023-05-16T06:43:21.772998",
     "status": "completed"
    },
    "tags": []
   },
   "outputs": [],
   "source": [
    "#Replacing null values with the most repeated value in column\n",
    "mode_release_date = data['release_date'].mode()[0]\n",
    "data['release_date'].fillna(mode_release_date, inplace=True)"
   ]
  },
  {
   "cell_type": "code",
   "execution_count": 9,
   "id": "dea59c2f",
   "metadata": {
    "execution": {
     "iopub.execute_input": "2023-05-16T06:43:21.810433Z",
     "iopub.status.busy": "2023-05-16T06:43:21.809715Z",
     "iopub.status.idle": "2023-05-16T06:43:21.831087Z",
     "shell.execute_reply": "2023-05-16T06:43:21.829910Z"
    },
    "papermill": {
     "duration": 0.032772,
     "end_time": "2023-05-16T06:43:21.833657",
     "exception": false,
     "start_time": "2023-05-16T06:43:21.800885",
     "status": "completed"
    },
    "tags": []
   },
   "outputs": [
    {
     "data": {
      "text/plain": [
       "id                         0\n",
       "title                      0\n",
       "release_date               0\n",
       "genres                     0\n",
       "original_language          0\n",
       "vote_average               0\n",
       "vote_count                 0\n",
       "popularity                 0\n",
       "overview                  77\n",
       "budget                     0\n",
       "production_companies       0\n",
       "revenue                    0\n",
       "runtime                    0\n",
       "tagline                 2759\n",
       "dtype: int64"
      ]
     },
     "execution_count": 9,
     "metadata": {},
     "output_type": "execute_result"
    }
   ],
   "source": [
    "data.isnull().sum()"
   ]
  },
  {
   "cell_type": "code",
   "execution_count": 10,
   "id": "fdb84be9",
   "metadata": {
    "execution": {
     "iopub.execute_input": "2023-05-16T06:43:21.852286Z",
     "iopub.status.busy": "2023-05-16T06:43:21.851144Z",
     "iopub.status.idle": "2023-05-16T06:43:21.860328Z",
     "shell.execute_reply": "2023-05-16T06:43:21.859223Z"
    },
    "papermill": {
     "duration": 0.020943,
     "end_time": "2023-05-16T06:43:21.862736",
     "exception": false,
     "start_time": "2023-05-16T06:43:21.841793",
     "status": "completed"
    },
    "tags": []
   },
   "outputs": [
    {
     "data": {
      "text/plain": [
       "0       2023-04-05\n",
       "1       2023-02-15\n",
       "2       2023-04-05\n",
       "3       2023-04-18\n",
       "4       2023-03-15\n",
       "           ...    \n",
       "9995    2016-10-21\n",
       "9996    2006-10-28\n",
       "9997    2007-10-03\n",
       "9998    2017-08-31\n",
       "9999    2017-11-10\n",
       "Name: release_date, Length: 10000, dtype: object"
      ]
     },
     "execution_count": 10,
     "metadata": {},
     "output_type": "execute_result"
    }
   ],
   "source": [
    "data['release_date']"
   ]
  },
  {
   "cell_type": "code",
   "execution_count": 11,
   "id": "2fc4af2c",
   "metadata": {
    "execution": {
     "iopub.execute_input": "2023-05-16T06:43:21.880577Z",
     "iopub.status.busy": "2023-05-16T06:43:21.880168Z",
     "iopub.status.idle": "2023-05-16T06:43:21.887667Z",
     "shell.execute_reply": "2023-05-16T06:43:21.886677Z"
    },
    "papermill": {
     "duration": 0.019235,
     "end_time": "2023-05-16T06:43:21.889834",
     "exception": false,
     "start_time": "2023-05-16T06:43:21.870599",
     "status": "completed"
    },
    "tags": []
   },
   "outputs": [
    {
     "data": {
      "text/plain": [
       "0       Father Gabriele Amorth, Chief Exorcist of the ...\n",
       "1       Super-Hero partners Scott Lang and Hope van Dy...\n",
       "2       While working underground to fix a water main,...\n",
       "3       Salt-of-the-earth Cole falls head over heels f...\n",
       "4       Billy Batson and his foster siblings, who tran...\n",
       "                              ...                        \n",
       "9995    A middle aged carpenter, who requires state we...\n",
       "9996    A folklore professor becomes unwittingly posse...\n",
       "9997    Eight years have passed since Sara Wolfe and E...\n",
       "9998    An erotic film that depicts the dangerous rela...\n",
       "9999    Set in a small English town in 1959, a woman d...\n",
       "Name: overview, Length: 10000, dtype: object"
      ]
     },
     "execution_count": 11,
     "metadata": {},
     "output_type": "execute_result"
    }
   ],
   "source": [
    "data[\"overview\"]"
   ]
  },
  {
   "cell_type": "code",
   "execution_count": 12,
   "id": "ac2a06f1",
   "metadata": {
    "execution": {
     "iopub.execute_input": "2023-05-16T06:43:21.908250Z",
     "iopub.status.busy": "2023-05-16T06:43:21.907792Z",
     "iopub.status.idle": "2023-05-16T06:43:21.915387Z",
     "shell.execute_reply": "2023-05-16T06:43:21.914047Z"
    },
    "papermill": {
     "duration": 0.019638,
     "end_time": "2023-05-16T06:43:21.917658",
     "exception": false,
     "start_time": "2023-05-16T06:43:21.898020",
     "status": "completed"
    },
    "tags": []
   },
   "outputs": [],
   "source": [
    "data[\"overview\"].fillna(\"Not available\", inplace=True)"
   ]
  },
  {
   "cell_type": "code",
   "execution_count": 13,
   "id": "fca7146d",
   "metadata": {
    "execution": {
     "iopub.execute_input": "2023-05-16T06:43:21.936281Z",
     "iopub.status.busy": "2023-05-16T06:43:21.935864Z",
     "iopub.status.idle": "2023-05-16T06:43:21.957148Z",
     "shell.execute_reply": "2023-05-16T06:43:21.956078Z"
    },
    "papermill": {
     "duration": 0.033336,
     "end_time": "2023-05-16T06:43:21.959508",
     "exception": false,
     "start_time": "2023-05-16T06:43:21.926172",
     "status": "completed"
    },
    "tags": []
   },
   "outputs": [
    {
     "data": {
      "text/plain": [
       "id                         0\n",
       "title                      0\n",
       "release_date               0\n",
       "genres                     0\n",
       "original_language          0\n",
       "vote_average               0\n",
       "vote_count                 0\n",
       "popularity                 0\n",
       "overview                   0\n",
       "budget                     0\n",
       "production_companies       0\n",
       "revenue                    0\n",
       "runtime                    0\n",
       "tagline                 2759\n",
       "dtype: int64"
      ]
     },
     "execution_count": 13,
     "metadata": {},
     "output_type": "execute_result"
    }
   ],
   "source": [
    "data.isnull().sum()"
   ]
  },
  {
   "cell_type": "code",
   "execution_count": 14,
   "id": "f1894170",
   "metadata": {
    "execution": {
     "iopub.execute_input": "2023-05-16T06:43:21.977428Z",
     "iopub.status.busy": "2023-05-16T06:43:21.977003Z",
     "iopub.status.idle": "2023-05-16T06:43:21.985659Z",
     "shell.execute_reply": "2023-05-16T06:43:21.984508Z"
    },
    "papermill": {
     "duration": 0.02047,
     "end_time": "2023-05-16T06:43:21.987992",
     "exception": false,
     "start_time": "2023-05-16T06:43:21.967522",
     "status": "completed"
    },
    "tags": []
   },
   "outputs": [
    {
     "data": {
      "text/plain": [
       "0       Inspired by the actual files of Father Gabriel...\n",
       "1                 Witness the beginning of a new dynasty.\n",
       "2                                                     NaN\n",
       "3       Finding that special someone can be a real adv...\n",
       "4                                           Oh. My. Gods.\n",
       "                              ...                        \n",
       "9995                                                  NaN\n",
       "9996                                                  NaN\n",
       "9997                                                  NaN\n",
       "9998                                                  NaN\n",
       "9999    A town that lacks a bookshop isn't always a to...\n",
       "Name: tagline, Length: 10000, dtype: object"
      ]
     },
     "execution_count": 14,
     "metadata": {},
     "output_type": "execute_result"
    }
   ],
   "source": [
    "data[\"tagline\"]"
   ]
  },
  {
   "cell_type": "code",
   "execution_count": 15,
   "id": "f8654075",
   "metadata": {
    "execution": {
     "iopub.execute_input": "2023-05-16T06:43:22.006641Z",
     "iopub.status.busy": "2023-05-16T06:43:22.006257Z",
     "iopub.status.idle": "2023-05-16T06:43:22.028378Z",
     "shell.execute_reply": "2023-05-16T06:43:22.027294Z"
    },
    "papermill": {
     "duration": 0.034144,
     "end_time": "2023-05-16T06:43:22.030685",
     "exception": false,
     "start_time": "2023-05-16T06:43:21.996541",
     "status": "completed"
    },
    "tags": []
   },
   "outputs": [
    {
     "data": {
      "text/plain": [
       "id                      0\n",
       "title                   0\n",
       "release_date            0\n",
       "genres                  0\n",
       "original_language       0\n",
       "vote_average            0\n",
       "vote_count              0\n",
       "popularity              0\n",
       "overview                0\n",
       "budget                  0\n",
       "production_companies    0\n",
       "revenue                 0\n",
       "runtime                 0\n",
       "tagline                 0\n",
       "dtype: int64"
      ]
     },
     "execution_count": 15,
     "metadata": {},
     "output_type": "execute_result"
    }
   ],
   "source": [
    "data['tagline'].fillna(\"No tagline available\", inplace=True)\n",
    "data.isnull().sum()"
   ]
  },
  {
   "cell_type": "code",
   "execution_count": 16,
   "id": "1b9c812f",
   "metadata": {
    "execution": {
     "iopub.execute_input": "2023-05-16T06:43:22.049788Z",
     "iopub.status.busy": "2023-05-16T06:43:22.048750Z",
     "iopub.status.idle": "2023-05-16T06:43:22.066161Z",
     "shell.execute_reply": "2023-05-16T06:43:22.065021Z"
    },
    "papermill": {
     "duration": 0.029343,
     "end_time": "2023-05-16T06:43:22.068582",
     "exception": false,
     "start_time": "2023-05-16T06:43:22.039239",
     "status": "completed"
    },
    "tags": []
   },
   "outputs": [
    {
     "data": {
      "text/html": [
       "<div>\n",
       "<style scoped>\n",
       "    .dataframe tbody tr th:only-of-type {\n",
       "        vertical-align: middle;\n",
       "    }\n",
       "\n",
       "    .dataframe tbody tr th {\n",
       "        vertical-align: top;\n",
       "    }\n",
       "\n",
       "    .dataframe thead th {\n",
       "        text-align: right;\n",
       "    }\n",
       "</style>\n",
       "<table border=\"1\" class=\"dataframe\">\n",
       "  <thead>\n",
       "    <tr style=\"text-align: right;\">\n",
       "      <th></th>\n",
       "      <th>id</th>\n",
       "      <th>title</th>\n",
       "      <th>release_date</th>\n",
       "      <th>genres</th>\n",
       "      <th>original_language</th>\n",
       "      <th>vote_average</th>\n",
       "      <th>vote_count</th>\n",
       "      <th>popularity</th>\n",
       "      <th>overview</th>\n",
       "      <th>budget</th>\n",
       "      <th>production_companies</th>\n",
       "      <th>revenue</th>\n",
       "      <th>runtime</th>\n",
       "      <th>tagline</th>\n",
       "    </tr>\n",
       "  </thead>\n",
       "  <tbody>\n",
       "    <tr>\n",
       "      <th>0</th>\n",
       "      <td>758323</td>\n",
       "      <td>The Pope's Exorcist</td>\n",
       "      <td>2023-04-05</td>\n",
       "      <td>['Horror', 'Mystery', 'Thriller']</td>\n",
       "      <td>English</td>\n",
       "      <td>7.4</td>\n",
       "      <td>619</td>\n",
       "      <td>5089.969</td>\n",
       "      <td>Father Gabriele Amorth, Chief Exorcist of the ...</td>\n",
       "      <td>18000000</td>\n",
       "      <td>['Screen Gems', '2.0 Entertainment', 'Jesus &amp; ...</td>\n",
       "      <td>65675816</td>\n",
       "      <td>103</td>\n",
       "      <td>Inspired by the actual files of Father Gabriel...</td>\n",
       "    </tr>\n",
       "    <tr>\n",
       "      <th>1</th>\n",
       "      <td>640146</td>\n",
       "      <td>Ant-Man and the Wasp: Quantumania</td>\n",
       "      <td>2023-02-15</td>\n",
       "      <td>['Action', 'Adventure', 'Science Fiction']</td>\n",
       "      <td>English</td>\n",
       "      <td>6.6</td>\n",
       "      <td>2294</td>\n",
       "      <td>4665.438</td>\n",
       "      <td>Super-Hero partners Scott Lang and Hope van Dy...</td>\n",
       "      <td>200000000</td>\n",
       "      <td>['Marvel Studios', 'Kevin Feige Productions']</td>\n",
       "      <td>464566092</td>\n",
       "      <td>125</td>\n",
       "      <td>Witness the beginning of a new dynasty.</td>\n",
       "    </tr>\n",
       "    <tr>\n",
       "      <th>2</th>\n",
       "      <td>502356</td>\n",
       "      <td>The Super Mario Bros. Movie</td>\n",
       "      <td>2023-04-05</td>\n",
       "      <td>['Animation', 'Adventure', 'Family', 'Fantasy'...</td>\n",
       "      <td>English</td>\n",
       "      <td>7.5</td>\n",
       "      <td>1861</td>\n",
       "      <td>3935.550</td>\n",
       "      <td>While working underground to fix a water main,...</td>\n",
       "      <td>100000000</td>\n",
       "      <td>['Universal Pictures', 'Illumination', 'Ninten...</td>\n",
       "      <td>1121048165</td>\n",
       "      <td>92</td>\n",
       "      <td>No tagline available</td>\n",
       "    </tr>\n",
       "    <tr>\n",
       "      <th>3</th>\n",
       "      <td>868759</td>\n",
       "      <td>Ghosted</td>\n",
       "      <td>2023-04-18</td>\n",
       "      <td>['Action', 'Comedy', 'Romance']</td>\n",
       "      <td>English</td>\n",
       "      <td>7.2</td>\n",
       "      <td>652</td>\n",
       "      <td>2791.532</td>\n",
       "      <td>Salt-of-the-earth Cole falls head over heels f...</td>\n",
       "      <td>0</td>\n",
       "      <td>['Skydance Media', 'Apple Studios']</td>\n",
       "      <td>0</td>\n",
       "      <td>120</td>\n",
       "      <td>Finding that special someone can be a real adv...</td>\n",
       "    </tr>\n",
       "    <tr>\n",
       "      <th>4</th>\n",
       "      <td>594767</td>\n",
       "      <td>Shazam! Fury of the Gods</td>\n",
       "      <td>2023-03-15</td>\n",
       "      <td>['Action', 'Comedy', 'Fantasy', 'Adventure']</td>\n",
       "      <td>English</td>\n",
       "      <td>6.8</td>\n",
       "      <td>1510</td>\n",
       "      <td>2702.593</td>\n",
       "      <td>Billy Batson and his foster siblings, who tran...</td>\n",
       "      <td>125000000</td>\n",
       "      <td>['New Line Cinema', 'The Safran Company', 'DC ...</td>\n",
       "      <td>133437105</td>\n",
       "      <td>130</td>\n",
       "      <td>Oh. My. Gods.</td>\n",
       "    </tr>\n",
       "  </tbody>\n",
       "</table>\n",
       "</div>"
      ],
      "text/plain": [
       "       id                              title release_date  \\\n",
       "0  758323                The Pope's Exorcist   2023-04-05   \n",
       "1  640146  Ant-Man and the Wasp: Quantumania   2023-02-15   \n",
       "2  502356        The Super Mario Bros. Movie   2023-04-05   \n",
       "3  868759                            Ghosted   2023-04-18   \n",
       "4  594767           Shazam! Fury of the Gods   2023-03-15   \n",
       "\n",
       "                                              genres original_language  \\\n",
       "0                  ['Horror', 'Mystery', 'Thriller']           English   \n",
       "1         ['Action', 'Adventure', 'Science Fiction']           English   \n",
       "2  ['Animation', 'Adventure', 'Family', 'Fantasy'...           English   \n",
       "3                    ['Action', 'Comedy', 'Romance']           English   \n",
       "4       ['Action', 'Comedy', 'Fantasy', 'Adventure']           English   \n",
       "\n",
       "   vote_average  vote_count  popularity  \\\n",
       "0           7.4         619    5089.969   \n",
       "1           6.6        2294    4665.438   \n",
       "2           7.5        1861    3935.550   \n",
       "3           7.2         652    2791.532   \n",
       "4           6.8        1510    2702.593   \n",
       "\n",
       "                                            overview     budget  \\\n",
       "0  Father Gabriele Amorth, Chief Exorcist of the ...   18000000   \n",
       "1  Super-Hero partners Scott Lang and Hope van Dy...  200000000   \n",
       "2  While working underground to fix a water main,...  100000000   \n",
       "3  Salt-of-the-earth Cole falls head over heels f...          0   \n",
       "4  Billy Batson and his foster siblings, who tran...  125000000   \n",
       "\n",
       "                                production_companies     revenue  runtime  \\\n",
       "0  ['Screen Gems', '2.0 Entertainment', 'Jesus & ...    65675816      103   \n",
       "1      ['Marvel Studios', 'Kevin Feige Productions']   464566092      125   \n",
       "2  ['Universal Pictures', 'Illumination', 'Ninten...  1121048165       92   \n",
       "3                ['Skydance Media', 'Apple Studios']           0      120   \n",
       "4  ['New Line Cinema', 'The Safran Company', 'DC ...   133437105      130   \n",
       "\n",
       "                                             tagline  \n",
       "0  Inspired by the actual files of Father Gabriel...  \n",
       "1            Witness the beginning of a new dynasty.  \n",
       "2                               No tagline available  \n",
       "3  Finding that special someone can be a real adv...  \n",
       "4                                      Oh. My. Gods.  "
      ]
     },
     "execution_count": 16,
     "metadata": {},
     "output_type": "execute_result"
    }
   ],
   "source": [
    "data.head()"
   ]
  },
  {
   "cell_type": "code",
   "execution_count": 17,
   "id": "0bc24efe",
   "metadata": {
    "execution": {
     "iopub.execute_input": "2023-05-16T06:43:22.087584Z",
     "iopub.status.busy": "2023-05-16T06:43:22.087206Z",
     "iopub.status.idle": "2023-05-16T06:43:22.107275Z",
     "shell.execute_reply": "2023-05-16T06:43:22.106207Z"
    },
    "papermill": {
     "duration": 0.032333,
     "end_time": "2023-05-16T06:43:22.109499",
     "exception": false,
     "start_time": "2023-05-16T06:43:22.077166",
     "status": "completed"
    },
    "tags": []
   },
   "outputs": [
    {
     "data": {
      "text/plain": [
       "0"
      ]
     },
     "execution_count": 17,
     "metadata": {},
     "output_type": "execute_result"
    }
   ],
   "source": [
    "data.isnull().any().sum()"
   ]
  },
  {
   "cell_type": "code",
   "execution_count": 18,
   "id": "48fdd8d5",
   "metadata": {
    "execution": {
     "iopub.execute_input": "2023-05-16T06:43:22.128443Z",
     "iopub.status.busy": "2023-05-16T06:43:22.128038Z",
     "iopub.status.idle": "2023-05-16T06:43:22.135480Z",
     "shell.execute_reply": "2023-05-16T06:43:22.134152Z"
    },
    "papermill": {
     "duration": 0.019671,
     "end_time": "2023-05-16T06:43:22.137769",
     "exception": false,
     "start_time": "2023-05-16T06:43:22.118098",
     "status": "completed"
    },
    "tags": []
   },
   "outputs": [
    {
     "data": {
      "text/plain": [
       "Index(['id', 'title', 'release_date', 'genres', 'original_language',\n",
       "       'vote_average', 'vote_count', 'popularity', 'overview', 'budget',\n",
       "       'production_companies', 'revenue', 'runtime', 'tagline'],\n",
       "      dtype='object')"
      ]
     },
     "execution_count": 18,
     "metadata": {},
     "output_type": "execute_result"
    }
   ],
   "source": [
    "data.columns"
   ]
  },
  {
   "cell_type": "code",
   "execution_count": 19,
   "id": "f3a28e5e",
   "metadata": {
    "execution": {
     "iopub.execute_input": "2023-05-16T06:43:22.157372Z",
     "iopub.status.busy": "2023-05-16T06:43:22.156961Z",
     "iopub.status.idle": "2023-05-16T06:43:22.179693Z",
     "shell.execute_reply": "2023-05-16T06:43:22.178693Z"
    },
    "papermill": {
     "duration": 0.035231,
     "end_time": "2023-05-16T06:43:22.181901",
     "exception": false,
     "start_time": "2023-05-16T06:43:22.146670",
     "status": "completed"
    },
    "tags": []
   },
   "outputs": [
    {
     "data": {
      "text/plain": [
       "title\n",
       "#Alive                                     7.3\n",
       "#realityhigh                               6.3\n",
       "'71                                        6.8\n",
       "'Til Death Do Us Part Kourtney & Travis    5.8\n",
       "(500) Days of Summer                       7.3\n",
       "                                          ... \n",
       "Æon Flux                                   5.6\n",
       "Żaklina                                    3.3\n",
       "丈夫去上班的日子里                                  0.0\n",
       "極道記者2 馬券転生篇                                0.0\n",
       "野浪花                                        0.0\n",
       "Name: vote_average, Length: 9650, dtype: float64"
      ]
     },
     "execution_count": 19,
     "metadata": {},
     "output_type": "execute_result"
    }
   ],
   "source": [
    "data.groupby(\"title\")[\"vote_average\"].mean()"
   ]
  },
  {
   "cell_type": "code",
   "execution_count": 20,
   "id": "39847635",
   "metadata": {
    "execution": {
     "iopub.execute_input": "2023-05-16T06:43:22.201959Z",
     "iopub.status.busy": "2023-05-16T06:43:22.201574Z",
     "iopub.status.idle": "2023-05-16T06:43:22.230305Z",
     "shell.execute_reply": "2023-05-16T06:43:22.229473Z"
    },
    "papermill": {
     "duration": 0.041733,
     "end_time": "2023-05-16T06:43:22.232614",
     "exception": false,
     "start_time": "2023-05-16T06:43:22.190881",
     "status": "completed"
    },
    "tags": []
   },
   "outputs": [
    {
     "data": {
      "text/html": [
       "<div>\n",
       "<style scoped>\n",
       "    .dataframe tbody tr th:only-of-type {\n",
       "        vertical-align: middle;\n",
       "    }\n",
       "\n",
       "    .dataframe tbody tr th {\n",
       "        vertical-align: top;\n",
       "    }\n",
       "\n",
       "    .dataframe thead th {\n",
       "        text-align: right;\n",
       "    }\n",
       "</style>\n",
       "<table border=\"1\" class=\"dataframe\">\n",
       "  <thead>\n",
       "    <tr style=\"text-align: right;\">\n",
       "      <th></th>\n",
       "      <th>id</th>\n",
       "      <th>title</th>\n",
       "      <th>release_date</th>\n",
       "      <th>genres</th>\n",
       "      <th>original_language</th>\n",
       "      <th>vote_average</th>\n",
       "      <th>vote_count</th>\n",
       "      <th>popularity</th>\n",
       "      <th>overview</th>\n",
       "      <th>budget</th>\n",
       "      <th>production_companies</th>\n",
       "      <th>revenue</th>\n",
       "      <th>runtime</th>\n",
       "      <th>tagline</th>\n",
       "    </tr>\n",
       "  </thead>\n",
       "  <tbody>\n",
       "    <tr>\n",
       "      <th>4664</th>\n",
       "      <td>852881</td>\n",
       "      <td>Pretty Young Sister 4</td>\n",
       "      <td>2021-01-15</td>\n",
       "      <td>['Drama', 'Romance']</td>\n",
       "      <td>Korean</td>\n",
       "      <td>10.0</td>\n",
       "      <td>1</td>\n",
       "      <td>17.342</td>\n",
       "      <td>Jeong-woo who is tired of instant food and liv...</td>\n",
       "      <td>0</td>\n",
       "      <td>[]</td>\n",
       "      <td>0</td>\n",
       "      <td>70</td>\n",
       "      <td>No tagline available</td>\n",
       "    </tr>\n",
       "    <tr>\n",
       "      <th>9807</th>\n",
       "      <td>1049767</td>\n",
       "      <td>The Chosen: Season 3  - Episodes 1 &amp; 2</td>\n",
       "      <td>2022-11-18</td>\n",
       "      <td>['Drama', 'History']</td>\n",
       "      <td>English</td>\n",
       "      <td>10.0</td>\n",
       "      <td>1</td>\n",
       "      <td>11.178</td>\n",
       "      <td>After Jesus completes a sermon that turns the ...</td>\n",
       "      <td>0</td>\n",
       "      <td>['Angel Studios']</td>\n",
       "      <td>0</td>\n",
       "      <td>160</td>\n",
       "      <td>No tagline available</td>\n",
       "    </tr>\n",
       "    <tr>\n",
       "      <th>7034</th>\n",
       "      <td>1058838</td>\n",
       "      <td>I Love Lizzy</td>\n",
       "      <td>2023-01-18</td>\n",
       "      <td>['Romance']</td>\n",
       "      <td>Tagalog</td>\n",
       "      <td>10.0</td>\n",
       "      <td>1</td>\n",
       "      <td>9.162</td>\n",
       "      <td>It follows the story of a seminarian who meets...</td>\n",
       "      <td>0</td>\n",
       "      <td>['Mavx Productions']</td>\n",
       "      <td>0</td>\n",
       "      <td>102</td>\n",
       "      <td>No tagline available</td>\n",
       "    </tr>\n",
       "    <tr>\n",
       "      <th>7022</th>\n",
       "      <td>985930</td>\n",
       "      <td>Furin, hentai, monmon chômon</td>\n",
       "      <td>2019-10-25</td>\n",
       "      <td>['Drama']</td>\n",
       "      <td>Japanese</td>\n",
       "      <td>10.0</td>\n",
       "      <td>1</td>\n",
       "      <td>12.506</td>\n",
       "      <td>Minoru is dead. However, he was conscious for ...</td>\n",
       "      <td>0</td>\n",
       "      <td>['Blue Forest Film']</td>\n",
       "      <td>0</td>\n",
       "      <td>75</td>\n",
       "      <td>No tagline available</td>\n",
       "    </tr>\n",
       "    <tr>\n",
       "      <th>4682</th>\n",
       "      <td>315099</td>\n",
       "      <td>The Love That is Wrong</td>\n",
       "      <td>1993-01-21</td>\n",
       "      <td>['Drama', 'Thriller']</td>\n",
       "      <td>cn</td>\n",
       "      <td>10.0</td>\n",
       "      <td>1</td>\n",
       "      <td>18.154</td>\n",
       "      <td>Amy and Ann are a lesbian couple but their rel...</td>\n",
       "      <td>0</td>\n",
       "      <td>[]</td>\n",
       "      <td>0</td>\n",
       "      <td>87</td>\n",
       "      <td>The Love That is Wrong</td>\n",
       "    </tr>\n",
       "    <tr>\n",
       "      <th>...</th>\n",
       "      <td>...</td>\n",
       "      <td>...</td>\n",
       "      <td>...</td>\n",
       "      <td>...</td>\n",
       "      <td>...</td>\n",
       "      <td>...</td>\n",
       "      <td>...</td>\n",
       "      <td>...</td>\n",
       "      <td>...</td>\n",
       "      <td>...</td>\n",
       "      <td>...</td>\n",
       "      <td>...</td>\n",
       "      <td>...</td>\n",
       "      <td>...</td>\n",
       "    </tr>\n",
       "    <tr>\n",
       "      <th>8273</th>\n",
       "      <td>723347</td>\n",
       "      <td>Robots</td>\n",
       "      <td>2023-05-19</td>\n",
       "      <td>['Science Fiction', 'Comedy', 'Romance']</td>\n",
       "      <td>English</td>\n",
       "      <td>0.0</td>\n",
       "      <td>0</td>\n",
       "      <td>12.653</td>\n",
       "      <td>A womanizer, Charles and a gold digger, Elaine...</td>\n",
       "      <td>0</td>\n",
       "      <td>['Company Films', 'Robots Filmproduktion', 'Ro...</td>\n",
       "      <td>0</td>\n",
       "      <td>0</td>\n",
       "      <td>Some people just - click.</td>\n",
       "    </tr>\n",
       "    <tr>\n",
       "      <th>6232</th>\n",
       "      <td>1011985</td>\n",
       "      <td>Kung Fu Panda 4</td>\n",
       "      <td>2024-03-07</td>\n",
       "      <td>['Action', 'Adventure', 'Animation', 'Comedy',...</td>\n",
       "      <td>English</td>\n",
       "      <td>0.0</td>\n",
       "      <td>0</td>\n",
       "      <td>10.951</td>\n",
       "      <td>Po is set to become the new spiritual leader o...</td>\n",
       "      <td>0</td>\n",
       "      <td>['DreamWorks Animation']</td>\n",
       "      <td>0</td>\n",
       "      <td>0</td>\n",
       "      <td>No tagline available</td>\n",
       "    </tr>\n",
       "    <tr>\n",
       "      <th>1004</th>\n",
       "      <td>553261</td>\n",
       "      <td>Aivar</td>\n",
       "      <td>2022-07-14</td>\n",
       "      <td>['Drama', 'Horror']</td>\n",
       "      <td>Tamil</td>\n",
       "      <td>0.0</td>\n",
       "      <td>0</td>\n",
       "      <td>44.403</td>\n",
       "      <td>A collection of five Tamil Anthology Films fro...</td>\n",
       "      <td>0</td>\n",
       "      <td>['Jhangri Production', 'Feather Entertainment']</td>\n",
       "      <td>0</td>\n",
       "      <td>150</td>\n",
       "      <td>No tagline available</td>\n",
       "    </tr>\n",
       "    <tr>\n",
       "      <th>7275</th>\n",
       "      <td>617127</td>\n",
       "      <td>Blade</td>\n",
       "      <td>2024-09-04</td>\n",
       "      <td>['Fantasy']</td>\n",
       "      <td>English</td>\n",
       "      <td>0.0</td>\n",
       "      <td>0</td>\n",
       "      <td>20.161</td>\n",
       "      <td>Not available</td>\n",
       "      <td>0</td>\n",
       "      <td>['Marvel Studios', 'Kevin Feige Productions']</td>\n",
       "      <td>0</td>\n",
       "      <td>0</td>\n",
       "      <td>No tagline available</td>\n",
       "    </tr>\n",
       "    <tr>\n",
       "      <th>8607</th>\n",
       "      <td>610338</td>\n",
       "      <td>14+: Continued</td>\n",
       "      <td>2023-05-11</td>\n",
       "      <td>['Romance']</td>\n",
       "      <td>Russian</td>\n",
       "      <td>0.0</td>\n",
       "      <td>0</td>\n",
       "      <td>17.566</td>\n",
       "      <td>The story of the growing up of Lyosha, who tur...</td>\n",
       "      <td>0</td>\n",
       "      <td>['Film Studio September']</td>\n",
       "      <td>0</td>\n",
       "      <td>133</td>\n",
       "      <td>No tagline available</td>\n",
       "    </tr>\n",
       "  </tbody>\n",
       "</table>\n",
       "<p>10000 rows × 14 columns</p>\n",
       "</div>"
      ],
      "text/plain": [
       "           id                                   title release_date  \\\n",
       "4664   852881                   Pretty Young Sister 4   2021-01-15   \n",
       "9807  1049767  The Chosen: Season 3  - Episodes 1 & 2   2022-11-18   \n",
       "7034  1058838                            I Love Lizzy   2023-01-18   \n",
       "7022   985930            Furin, hentai, monmon chômon   2019-10-25   \n",
       "4682   315099                  The Love That is Wrong   1993-01-21   \n",
       "...       ...                                     ...          ...   \n",
       "8273   723347                                  Robots   2023-05-19   \n",
       "6232  1011985                         Kung Fu Panda 4   2024-03-07   \n",
       "1004   553261                                   Aivar   2022-07-14   \n",
       "7275   617127                                   Blade   2024-09-04   \n",
       "8607   610338                          14+: Continued   2023-05-11   \n",
       "\n",
       "                                                 genres original_language  \\\n",
       "4664                               ['Drama', 'Romance']            Korean   \n",
       "9807                               ['Drama', 'History']           English   \n",
       "7034                                        ['Romance']           Tagalog   \n",
       "7022                                          ['Drama']          Japanese   \n",
       "4682                              ['Drama', 'Thriller']                cn   \n",
       "...                                                 ...               ...   \n",
       "8273           ['Science Fiction', 'Comedy', 'Romance']           English   \n",
       "6232  ['Action', 'Adventure', 'Animation', 'Comedy',...           English   \n",
       "1004                                ['Drama', 'Horror']             Tamil   \n",
       "7275                                        ['Fantasy']           English   \n",
       "8607                                        ['Romance']           Russian   \n",
       "\n",
       "      vote_average  vote_count  popularity  \\\n",
       "4664          10.0           1      17.342   \n",
       "9807          10.0           1      11.178   \n",
       "7034          10.0           1       9.162   \n",
       "7022          10.0           1      12.506   \n",
       "4682          10.0           1      18.154   \n",
       "...            ...         ...         ...   \n",
       "8273           0.0           0      12.653   \n",
       "6232           0.0           0      10.951   \n",
       "1004           0.0           0      44.403   \n",
       "7275           0.0           0      20.161   \n",
       "8607           0.0           0      17.566   \n",
       "\n",
       "                                               overview  budget  \\\n",
       "4664  Jeong-woo who is tired of instant food and liv...       0   \n",
       "9807  After Jesus completes a sermon that turns the ...       0   \n",
       "7034  It follows the story of a seminarian who meets...       0   \n",
       "7022  Minoru is dead. However, he was conscious for ...       0   \n",
       "4682  Amy and Ann are a lesbian couple but their rel...       0   \n",
       "...                                                 ...     ...   \n",
       "8273  A womanizer, Charles and a gold digger, Elaine...       0   \n",
       "6232  Po is set to become the new spiritual leader o...       0   \n",
       "1004  A collection of five Tamil Anthology Films fro...       0   \n",
       "7275                                      Not available       0   \n",
       "8607  The story of the growing up of Lyosha, who tur...       0   \n",
       "\n",
       "                                   production_companies  revenue  runtime  \\\n",
       "4664                                                 []        0       70   \n",
       "9807                                  ['Angel Studios']        0      160   \n",
       "7034                               ['Mavx Productions']        0      102   \n",
       "7022                               ['Blue Forest Film']        0       75   \n",
       "4682                                                 []        0       87   \n",
       "...                                                 ...      ...      ...   \n",
       "8273  ['Company Films', 'Robots Filmproduktion', 'Ro...        0        0   \n",
       "6232                           ['DreamWorks Animation']        0        0   \n",
       "1004    ['Jhangri Production', 'Feather Entertainment']        0      150   \n",
       "7275      ['Marvel Studios', 'Kevin Feige Productions']        0        0   \n",
       "8607                          ['Film Studio September']        0      133   \n",
       "\n",
       "                        tagline  \n",
       "4664       No tagline available  \n",
       "9807       No tagline available  \n",
       "7034       No tagline available  \n",
       "7022       No tagline available  \n",
       "4682     The Love That is Wrong  \n",
       "...                         ...  \n",
       "8273  Some people just - click.  \n",
       "6232       No tagline available  \n",
       "1004       No tagline available  \n",
       "7275       No tagline available  \n",
       "8607       No tagline available  \n",
       "\n",
       "[10000 rows x 14 columns]"
      ]
     },
     "execution_count": 20,
     "metadata": {},
     "output_type": "execute_result"
    }
   ],
   "source": [
    "top_rated_movies = data.sort_values(\"vote_average\", ascending=False)\n",
    "top_rated_movies"
   ]
  },
  {
   "cell_type": "code",
   "execution_count": 21,
   "id": "ac9f4e6a",
   "metadata": {
    "execution": {
     "iopub.execute_input": "2023-05-16T06:43:22.253588Z",
     "iopub.status.busy": "2023-05-16T06:43:22.253223Z",
     "iopub.status.idle": "2023-05-16T06:43:22.276251Z",
     "shell.execute_reply": "2023-05-16T06:43:22.275106Z"
    },
    "papermill": {
     "duration": 0.036433,
     "end_time": "2023-05-16T06:43:22.278697",
     "exception": false,
     "start_time": "2023-05-16T06:43:22.242264",
     "status": "completed"
    },
    "tags": []
   },
   "outputs": [
    {
     "data": {
      "text/html": [
       "<div>\n",
       "<style scoped>\n",
       "    .dataframe tbody tr th:only-of-type {\n",
       "        vertical-align: middle;\n",
       "    }\n",
       "\n",
       "    .dataframe tbody tr th {\n",
       "        vertical-align: top;\n",
       "    }\n",
       "\n",
       "    .dataframe thead th {\n",
       "        text-align: right;\n",
       "    }\n",
       "</style>\n",
       "<table border=\"1\" class=\"dataframe\">\n",
       "  <thead>\n",
       "    <tr style=\"text-align: right;\">\n",
       "      <th></th>\n",
       "      <th>id</th>\n",
       "      <th>title</th>\n",
       "      <th>release_date</th>\n",
       "      <th>genres</th>\n",
       "      <th>original_language</th>\n",
       "      <th>vote_average</th>\n",
       "      <th>vote_count</th>\n",
       "      <th>popularity</th>\n",
       "      <th>overview</th>\n",
       "      <th>budget</th>\n",
       "      <th>production_companies</th>\n",
       "      <th>revenue</th>\n",
       "      <th>runtime</th>\n",
       "      <th>tagline</th>\n",
       "    </tr>\n",
       "  </thead>\n",
       "  <tbody>\n",
       "    <tr>\n",
       "      <th>4664</th>\n",
       "      <td>852881</td>\n",
       "      <td>Pretty Young Sister 4</td>\n",
       "      <td>2021-01-15</td>\n",
       "      <td>['Drama', 'Romance']</td>\n",
       "      <td>Korean</td>\n",
       "      <td>10.0</td>\n",
       "      <td>1</td>\n",
       "      <td>17.342</td>\n",
       "      <td>Jeong-woo who is tired of instant food and liv...</td>\n",
       "      <td>0</td>\n",
       "      <td>[]</td>\n",
       "      <td>0</td>\n",
       "      <td>70</td>\n",
       "      <td>No tagline available</td>\n",
       "    </tr>\n",
       "    <tr>\n",
       "      <th>9807</th>\n",
       "      <td>1049767</td>\n",
       "      <td>The Chosen: Season 3  - Episodes 1 &amp; 2</td>\n",
       "      <td>2022-11-18</td>\n",
       "      <td>['Drama', 'History']</td>\n",
       "      <td>English</td>\n",
       "      <td>10.0</td>\n",
       "      <td>1</td>\n",
       "      <td>11.178</td>\n",
       "      <td>After Jesus completes a sermon that turns the ...</td>\n",
       "      <td>0</td>\n",
       "      <td>['Angel Studios']</td>\n",
       "      <td>0</td>\n",
       "      <td>160</td>\n",
       "      <td>No tagline available</td>\n",
       "    </tr>\n",
       "    <tr>\n",
       "      <th>7034</th>\n",
       "      <td>1058838</td>\n",
       "      <td>I Love Lizzy</td>\n",
       "      <td>2023-01-18</td>\n",
       "      <td>['Romance']</td>\n",
       "      <td>Tagalog</td>\n",
       "      <td>10.0</td>\n",
       "      <td>1</td>\n",
       "      <td>9.162</td>\n",
       "      <td>It follows the story of a seminarian who meets...</td>\n",
       "      <td>0</td>\n",
       "      <td>['Mavx Productions']</td>\n",
       "      <td>0</td>\n",
       "      <td>102</td>\n",
       "      <td>No tagline available</td>\n",
       "    </tr>\n",
       "    <tr>\n",
       "      <th>7022</th>\n",
       "      <td>985930</td>\n",
       "      <td>Furin, hentai, monmon chômon</td>\n",
       "      <td>2019-10-25</td>\n",
       "      <td>['Drama']</td>\n",
       "      <td>Japanese</td>\n",
       "      <td>10.0</td>\n",
       "      <td>1</td>\n",
       "      <td>12.506</td>\n",
       "      <td>Minoru is dead. However, he was conscious for ...</td>\n",
       "      <td>0</td>\n",
       "      <td>['Blue Forest Film']</td>\n",
       "      <td>0</td>\n",
       "      <td>75</td>\n",
       "      <td>No tagline available</td>\n",
       "    </tr>\n",
       "    <tr>\n",
       "      <th>4682</th>\n",
       "      <td>315099</td>\n",
       "      <td>The Love That is Wrong</td>\n",
       "      <td>1993-01-21</td>\n",
       "      <td>['Drama', 'Thriller']</td>\n",
       "      <td>cn</td>\n",
       "      <td>10.0</td>\n",
       "      <td>1</td>\n",
       "      <td>18.154</td>\n",
       "      <td>Amy and Ann are a lesbian couple but their rel...</td>\n",
       "      <td>0</td>\n",
       "      <td>[]</td>\n",
       "      <td>0</td>\n",
       "      <td>87</td>\n",
       "      <td>The Love That is Wrong</td>\n",
       "    </tr>\n",
       "    <tr>\n",
       "      <th>9041</th>\n",
       "      <td>653127</td>\n",
       "      <td>Female Hostel 3</td>\n",
       "      <td>2019-06-11</td>\n",
       "      <td>['Romance']</td>\n",
       "      <td>Korean</td>\n",
       "      <td>10.0</td>\n",
       "      <td>1</td>\n",
       "      <td>13.921</td>\n",
       "      <td>Lonely boarding house women! Any man who goes ...</td>\n",
       "      <td>0</td>\n",
       "      <td>[]</td>\n",
       "      <td>0</td>\n",
       "      <td>70</td>\n",
       "      <td>No tagline available</td>\n",
       "    </tr>\n",
       "    <tr>\n",
       "      <th>1656</th>\n",
       "      <td>579884</td>\n",
       "      <td>The Swiss Adventure</td>\n",
       "      <td>2022-05-01</td>\n",
       "      <td>['Animation']</td>\n",
       "      <td>Russian</td>\n",
       "      <td>10.0</td>\n",
       "      <td>1</td>\n",
       "      <td>54.055</td>\n",
       "      <td>Sixteen-year-old servant Greg is in love with ...</td>\n",
       "      <td>0</td>\n",
       "      <td>['KinoAtis', 'Gorky Film Studios', 'Soyuzmultf...</td>\n",
       "      <td>0</td>\n",
       "      <td>85</td>\n",
       "      <td>Anyone can be a hero, if moved by love</td>\n",
       "    </tr>\n",
       "    <tr>\n",
       "      <th>483</th>\n",
       "      <td>528547</td>\n",
       "      <td>Mother-in-law's Introduction</td>\n",
       "      <td>2018-05-22</td>\n",
       "      <td>['Romance']</td>\n",
       "      <td>Korean</td>\n",
       "      <td>10.0</td>\n",
       "      <td>1</td>\n",
       "      <td>68.902</td>\n",
       "      <td>Mi-yeon and Jin-ho are three months into their...</td>\n",
       "      <td>0</td>\n",
       "      <td>[]</td>\n",
       "      <td>0</td>\n",
       "      <td>83</td>\n",
       "      <td>Mother-in-laws. I love you mother-in-law. I wi...</td>\n",
       "    </tr>\n",
       "    <tr>\n",
       "      <th>939</th>\n",
       "      <td>731159</td>\n",
       "      <td>Female Boss Hooker</td>\n",
       "      <td>2020-08-31</td>\n",
       "      <td>['Drama', 'Romance']</td>\n",
       "      <td>Korean</td>\n",
       "      <td>10.0</td>\n",
       "      <td>1</td>\n",
       "      <td>49.440</td>\n",
       "      <td>Ji-cheol is a job seeker who only plays and ea...</td>\n",
       "      <td>0</td>\n",
       "      <td>[]</td>\n",
       "      <td>0</td>\n",
       "      <td>76</td>\n",
       "      <td>No tagline available</td>\n",
       "    </tr>\n",
       "    <tr>\n",
       "      <th>337</th>\n",
       "      <td>677118</td>\n",
       "      <td>Orgasm Lecture 2</td>\n",
       "      <td>2020-02-20</td>\n",
       "      <td>['Drama']</td>\n",
       "      <td>Korean</td>\n",
       "      <td>10.0</td>\n",
       "      <td>1</td>\n",
       "      <td>91.246</td>\n",
       "      <td>Yuner, Liu Ren, and Zhou Xian are college girl...</td>\n",
       "      <td>0</td>\n",
       "      <td>[]</td>\n",
       "      <td>0</td>\n",
       "      <td>73</td>\n",
       "      <td>No tagline available</td>\n",
       "    </tr>\n",
       "    <tr>\n",
       "      <th>2989</th>\n",
       "      <td>636173</td>\n",
       "      <td>Dream</td>\n",
       "      <td>2023-04-26</td>\n",
       "      <td>['Drama', 'Comedy']</td>\n",
       "      <td>Korean</td>\n",
       "      <td>9.5</td>\n",
       "      <td>2</td>\n",
       "      <td>20.182</td>\n",
       "      <td>A top football player Hong-dae gets involved i...</td>\n",
       "      <td>0</td>\n",
       "      <td>['Plus M Entertainment']</td>\n",
       "      <td>3890008</td>\n",
       "      <td>125</td>\n",
       "      <td>No tagline available</td>\n",
       "    </tr>\n",
       "    <tr>\n",
       "      <th>5477</th>\n",
       "      <td>620942</td>\n",
       "      <td>Directing Annabelle: Creation</td>\n",
       "      <td>2017-08-07</td>\n",
       "      <td>['Documentary']</td>\n",
       "      <td>English</td>\n",
       "      <td>9.3</td>\n",
       "      <td>4</td>\n",
       "      <td>11.981</td>\n",
       "      <td>Director David F. Sandberg takes you through t...</td>\n",
       "      <td>0</td>\n",
       "      <td>['David F. Sandberg']</td>\n",
       "      <td>0</td>\n",
       "      <td>43</td>\n",
       "      <td>No tagline available</td>\n",
       "    </tr>\n",
       "    <tr>\n",
       "      <th>4270</th>\n",
       "      <td>1022102</td>\n",
       "      <td>BTS: Permission to Dance on Stage - LA</td>\n",
       "      <td>2022-09-08</td>\n",
       "      <td>['Music', 'Documentary']</td>\n",
       "      <td>Korean</td>\n",
       "      <td>9.2</td>\n",
       "      <td>141</td>\n",
       "      <td>17.885</td>\n",
       "      <td>Purple colors the city of Los Angeles, as BTS ...</td>\n",
       "      <td>0</td>\n",
       "      <td>['HYBE', 'Big Hit Entertainment']</td>\n",
       "      <td>0</td>\n",
       "      <td>130</td>\n",
       "      <td>No tagline available</td>\n",
       "    </tr>\n",
       "    <tr>\n",
       "      <th>2204</th>\n",
       "      <td>508586</td>\n",
       "      <td>Young Mother-in-Law</td>\n",
       "      <td>2018-03-09</td>\n",
       "      <td>['Romance']</td>\n",
       "      <td>Korean</td>\n",
       "      <td>9.0</td>\n",
       "      <td>1</td>\n",
       "      <td>35.357</td>\n",
       "      <td>A young mother-in-law falls in love with her d...</td>\n",
       "      <td>0</td>\n",
       "      <td>[]</td>\n",
       "      <td>0</td>\n",
       "      <td>81</td>\n",
       "      <td>No tagline available</td>\n",
       "    </tr>\n",
       "    <tr>\n",
       "      <th>5824</th>\n",
       "      <td>944473</td>\n",
       "      <td>Hentai-shiatsu-shi: Shikiyoku no kyôen</td>\n",
       "      <td>1971-12-22</td>\n",
       "      <td>[]</td>\n",
       "      <td>Japanese</td>\n",
       "      <td>9.0</td>\n",
       "      <td>2</td>\n",
       "      <td>16.303</td>\n",
       "      <td>Nikkatsu Roman Porno</td>\n",
       "      <td>0</td>\n",
       "      <td>['Purima Kikaku']</td>\n",
       "      <td>0</td>\n",
       "      <td>74</td>\n",
       "      <td>No tagline available</td>\n",
       "    </tr>\n",
       "    <tr>\n",
       "      <th>8223</th>\n",
       "      <td>612361</td>\n",
       "      <td>Wild Sparrow</td>\n",
       "      <td>2020-07-24</td>\n",
       "      <td>['Drama']</td>\n",
       "      <td>Chinese</td>\n",
       "      <td>9.0</td>\n",
       "      <td>1</td>\n",
       "      <td>8.798</td>\n",
       "      <td>Little Han lives in the mountains with his gre...</td>\n",
       "      <td>0</td>\n",
       "      <td>['Dot Connect Studio', 'Instant Light Producti...</td>\n",
       "      <td>0</td>\n",
       "      <td>94</td>\n",
       "      <td>No tagline available</td>\n",
       "    </tr>\n",
       "    <tr>\n",
       "      <th>5836</th>\n",
       "      <td>406113</td>\n",
       "      <td>Play Catch</td>\n",
       "      <td>1983-06-09</td>\n",
       "      <td>['Comedy', 'Crime']</td>\n",
       "      <td>cn</td>\n",
       "      <td>9.0</td>\n",
       "      <td>1</td>\n",
       "      <td>9.956</td>\n",
       "      <td>Billionaire Law and his accomplices are conspi...</td>\n",
       "      <td>0</td>\n",
       "      <td>[]</td>\n",
       "      <td>0</td>\n",
       "      <td>95</td>\n",
       "      <td>No tagline available</td>\n",
       "    </tr>\n",
       "    <tr>\n",
       "      <th>1827</th>\n",
       "      <td>561458</td>\n",
       "      <td>The Wicked Reporter 2: The Rebirth of Horserac...</td>\n",
       "      <td>1994-11-19</td>\n",
       "      <td>[]</td>\n",
       "      <td>Japanese</td>\n",
       "      <td>8.8</td>\n",
       "      <td>2</td>\n",
       "      <td>50.589</td>\n",
       "      <td>The continuing adventures of Matsuzaki (Eiji O...</td>\n",
       "      <td>0</td>\n",
       "      <td>['Daiei Film']</td>\n",
       "      <td>0</td>\n",
       "      <td>103</td>\n",
       "      <td>No tagline available</td>\n",
       "    </tr>\n",
       "    <tr>\n",
       "      <th>6131</th>\n",
       "      <td>1080566</td>\n",
       "      <td>El asistente</td>\n",
       "      <td>2023-03-01</td>\n",
       "      <td>['Comedy']</td>\n",
       "      <td>Spanish</td>\n",
       "      <td>8.7</td>\n",
       "      <td>3</td>\n",
       "      <td>14.530</td>\n",
       "      <td>Not available</td>\n",
       "      <td>0</td>\n",
       "      <td>['Bourke Films', 'La Productora Films']</td>\n",
       "      <td>0</td>\n",
       "      <td>0</td>\n",
       "      <td>No tagline available</td>\n",
       "    </tr>\n",
       "    <tr>\n",
       "      <th>3450</th>\n",
       "      <td>818415</td>\n",
       "      <td>Mission «Sky»</td>\n",
       "      <td>2021-11-18</td>\n",
       "      <td>['Drama', 'War']</td>\n",
       "      <td>Russian</td>\n",
       "      <td>8.7</td>\n",
       "      <td>44</td>\n",
       "      <td>22.368</td>\n",
       "      <td>In the center of the story are three main char...</td>\n",
       "      <td>0</td>\n",
       "      <td>['3xMedia']</td>\n",
       "      <td>0</td>\n",
       "      <td>110</td>\n",
       "      <td>Based on a true story</td>\n",
       "    </tr>\n",
       "  </tbody>\n",
       "</table>\n",
       "</div>"
      ],
      "text/plain": [
       "           id                                              title release_date  \\\n",
       "4664   852881                              Pretty Young Sister 4   2021-01-15   \n",
       "9807  1049767             The Chosen: Season 3  - Episodes 1 & 2   2022-11-18   \n",
       "7034  1058838                                       I Love Lizzy   2023-01-18   \n",
       "7022   985930                       Furin, hentai, monmon chômon   2019-10-25   \n",
       "4682   315099                             The Love That is Wrong   1993-01-21   \n",
       "9041   653127                                    Female Hostel 3   2019-06-11   \n",
       "1656   579884                                The Swiss Adventure   2022-05-01   \n",
       "483    528547                       Mother-in-law's Introduction   2018-05-22   \n",
       "939    731159                                 Female Boss Hooker   2020-08-31   \n",
       "337    677118                                   Orgasm Lecture 2   2020-02-20   \n",
       "2989   636173                                              Dream   2023-04-26   \n",
       "5477   620942                      Directing Annabelle: Creation   2017-08-07   \n",
       "4270  1022102             BTS: Permission to Dance on Stage - LA   2022-09-08   \n",
       "2204   508586                                Young Mother-in-Law   2018-03-09   \n",
       "5824   944473             Hentai-shiatsu-shi: Shikiyoku no kyôen   1971-12-22   \n",
       "8223   612361                                       Wild Sparrow   2020-07-24   \n",
       "5836   406113                                         Play Catch   1983-06-09   \n",
       "1827   561458  The Wicked Reporter 2: The Rebirth of Horserac...   1994-11-19   \n",
       "6131  1080566                                       El asistente   2023-03-01   \n",
       "3450   818415                                      Mission «Sky»   2021-11-18   \n",
       "\n",
       "                        genres original_language  vote_average  vote_count  \\\n",
       "4664      ['Drama', 'Romance']            Korean          10.0           1   \n",
       "9807      ['Drama', 'History']           English          10.0           1   \n",
       "7034               ['Romance']           Tagalog          10.0           1   \n",
       "7022                 ['Drama']          Japanese          10.0           1   \n",
       "4682     ['Drama', 'Thriller']                cn          10.0           1   \n",
       "9041               ['Romance']            Korean          10.0           1   \n",
       "1656             ['Animation']           Russian          10.0           1   \n",
       "483                ['Romance']            Korean          10.0           1   \n",
       "939       ['Drama', 'Romance']            Korean          10.0           1   \n",
       "337                  ['Drama']            Korean          10.0           1   \n",
       "2989       ['Drama', 'Comedy']            Korean           9.5           2   \n",
       "5477           ['Documentary']           English           9.3           4   \n",
       "4270  ['Music', 'Documentary']            Korean           9.2         141   \n",
       "2204               ['Romance']            Korean           9.0           1   \n",
       "5824                        []          Japanese           9.0           2   \n",
       "8223                 ['Drama']           Chinese           9.0           1   \n",
       "5836       ['Comedy', 'Crime']                cn           9.0           1   \n",
       "1827                        []          Japanese           8.8           2   \n",
       "6131                ['Comedy']           Spanish           8.7           3   \n",
       "3450          ['Drama', 'War']           Russian           8.7          44   \n",
       "\n",
       "      popularity                                           overview  budget  \\\n",
       "4664      17.342  Jeong-woo who is tired of instant food and liv...       0   \n",
       "9807      11.178  After Jesus completes a sermon that turns the ...       0   \n",
       "7034       9.162  It follows the story of a seminarian who meets...       0   \n",
       "7022      12.506  Minoru is dead. However, he was conscious for ...       0   \n",
       "4682      18.154  Amy and Ann are a lesbian couple but their rel...       0   \n",
       "9041      13.921  Lonely boarding house women! Any man who goes ...       0   \n",
       "1656      54.055  Sixteen-year-old servant Greg is in love with ...       0   \n",
       "483       68.902  Mi-yeon and Jin-ho are three months into their...       0   \n",
       "939       49.440  Ji-cheol is a job seeker who only plays and ea...       0   \n",
       "337       91.246  Yuner, Liu Ren, and Zhou Xian are college girl...       0   \n",
       "2989      20.182  A top football player Hong-dae gets involved i...       0   \n",
       "5477      11.981  Director David F. Sandberg takes you through t...       0   \n",
       "4270      17.885  Purple colors the city of Los Angeles, as BTS ...       0   \n",
       "2204      35.357  A young mother-in-law falls in love with her d...       0   \n",
       "5824      16.303                               Nikkatsu Roman Porno       0   \n",
       "8223       8.798  Little Han lives in the mountains with his gre...       0   \n",
       "5836       9.956  Billionaire Law and his accomplices are conspi...       0   \n",
       "1827      50.589  The continuing adventures of Matsuzaki (Eiji O...       0   \n",
       "6131      14.530                                      Not available       0   \n",
       "3450      22.368  In the center of the story are three main char...       0   \n",
       "\n",
       "                                   production_companies  revenue  runtime  \\\n",
       "4664                                                 []        0       70   \n",
       "9807                                  ['Angel Studios']        0      160   \n",
       "7034                               ['Mavx Productions']        0      102   \n",
       "7022                               ['Blue Forest Film']        0       75   \n",
       "4682                                                 []        0       87   \n",
       "9041                                                 []        0       70   \n",
       "1656  ['KinoAtis', 'Gorky Film Studios', 'Soyuzmultf...        0       85   \n",
       "483                                                  []        0       83   \n",
       "939                                                  []        0       76   \n",
       "337                                                  []        0       73   \n",
       "2989                           ['Plus M Entertainment']  3890008      125   \n",
       "5477                              ['David F. Sandberg']        0       43   \n",
       "4270                  ['HYBE', 'Big Hit Entertainment']        0      130   \n",
       "2204                                                 []        0       81   \n",
       "5824                                  ['Purima Kikaku']        0       74   \n",
       "8223  ['Dot Connect Studio', 'Instant Light Producti...        0       94   \n",
       "5836                                                 []        0       95   \n",
       "1827                                     ['Daiei Film']        0      103   \n",
       "6131            ['Bourke Films', 'La Productora Films']        0        0   \n",
       "3450                                        ['3xMedia']        0      110   \n",
       "\n",
       "                                                tagline  \n",
       "4664                               No tagline available  \n",
       "9807                               No tagline available  \n",
       "7034                               No tagline available  \n",
       "7022                               No tagline available  \n",
       "4682                             The Love That is Wrong  \n",
       "9041                               No tagline available  \n",
       "1656             Anyone can be a hero, if moved by love  \n",
       "483   Mother-in-laws. I love you mother-in-law. I wi...  \n",
       "939                                No tagline available  \n",
       "337                                No tagline available  \n",
       "2989                               No tagline available  \n",
       "5477                               No tagline available  \n",
       "4270                               No tagline available  \n",
       "2204                               No tagline available  \n",
       "5824                               No tagline available  \n",
       "8223                               No tagline available  \n",
       "5836                               No tagline available  \n",
       "1827                               No tagline available  \n",
       "6131                               No tagline available  \n",
       "3450                              Based on a true story  "
      ]
     },
     "execution_count": 21,
     "metadata": {},
     "output_type": "execute_result"
    }
   ],
   "source": [
    "\n",
    "# Select the top 10 movies\n",
    "top_10_movies = top_rated_movies.head(20)\n",
    "top_10_movies"
   ]
  },
  {
   "cell_type": "code",
   "execution_count": 22,
   "id": "8db949bd",
   "metadata": {
    "execution": {
     "iopub.execute_input": "2023-05-16T06:43:22.301771Z",
     "iopub.status.busy": "2023-05-16T06:43:22.301381Z",
     "iopub.status.idle": "2023-05-16T06:43:22.306714Z",
     "shell.execute_reply": "2023-05-16T06:43:22.305568Z"
    },
    "papermill": {
     "duration": 0.019246,
     "end_time": "2023-05-16T06:43:22.308865",
     "exception": false,
     "start_time": "2023-05-16T06:43:22.289619",
     "status": "completed"
    },
    "tags": []
   },
   "outputs": [],
   "source": [
    "titles = top_10_movies[\"title\"]\n",
    "ratings = top_10_movies[\"vote_average\"]"
   ]
  },
  {
   "cell_type": "code",
   "execution_count": 23,
   "id": "b2db4afd",
   "metadata": {
    "execution": {
     "iopub.execute_input": "2023-05-16T06:43:22.331084Z",
     "iopub.status.busy": "2023-05-16T06:43:22.330691Z",
     "iopub.status.idle": "2023-05-16T06:43:22.823408Z",
     "shell.execute_reply": "2023-05-16T06:43:22.822486Z"
    },
    "papermill": {
     "duration": 0.506486,
     "end_time": "2023-05-16T06:43:22.825637",
     "exception": false,
     "start_time": "2023-05-16T06:43:22.319151",
     "status": "completed"
    },
    "tags": []
   },
   "outputs": [
    {
     "data": {
      "image/png": "[encoded data removed]",
      "text/plain": [
       "<Figure size 2000x600 with 1 Axes>"
      ]
     },
     "metadata": {},
     "output_type": "display_data"
    }
   ],
   "source": [
    "import matplotlib.pyplot as plt\n",
    "\n",
    "plt.figure(figsize=(20, 6))\n",
    "plt.bar(titles, ratings)\n",
    "plt.xlabel('Movie Titles')\n",
    "plt.ylabel('Vote Average')\n",
    "plt.title('Top 10 Rated Movies')\n",
    "plt.xticks(rotation=90)\n",
    "plt.show()"
   ]
  },
  {
   "cell_type": "code",
   "execution_count": 24,
   "id": "424359f4",
   "metadata": {
    "execution": {
     "iopub.execute_input": "2023-05-16T06:43:22.850682Z",
     "iopub.status.busy": "2023-05-16T06:43:22.850272Z",
     "iopub.status.idle": "2023-05-16T06:43:22.857117Z",
     "shell.execute_reply": "2023-05-16T06:43:22.856048Z"
    },
    "papermill": {
     "duration": 0.022141,
     "end_time": "2023-05-16T06:43:22.859367",
     "exception": false,
     "start_time": "2023-05-16T06:43:22.837226",
     "status": "completed"
    },
    "tags": []
   },
   "outputs": [
    {
     "data": {
      "text/plain": [
       "Index(['id', 'title', 'release_date', 'genres', 'original_language',\n",
       "       'vote_average', 'vote_count', 'popularity', 'overview', 'budget',\n",
       "       'production_companies', 'revenue', 'runtime', 'tagline'],\n",
       "      dtype='object')"
      ]
     },
     "execution_count": 24,
     "metadata": {},
     "output_type": "execute_result"
    }
   ],
   "source": [
    "data.columns"
   ]
  },
  {
   "cell_type": "code",
   "execution_count": 25,
   "id": "2438328a",
   "metadata": {
    "execution": {
     "iopub.execute_input": "2023-05-16T06:43:22.884442Z",
     "iopub.status.busy": "2023-05-16T06:43:22.884016Z",
     "iopub.status.idle": "2023-05-16T06:43:22.894955Z",
     "shell.execute_reply": "2023-05-16T06:43:22.894018Z"
    },
    "papermill": {
     "duration": 0.026195,
     "end_time": "2023-05-16T06:43:22.897108",
     "exception": false,
     "start_time": "2023-05-16T06:43:22.870913",
     "status": "completed"
    },
    "tags": []
   },
   "outputs": [
    {
     "data": {
      "text/plain": [
       "['Drama']                                                                                  576\n",
       "['Comedy']                                                                                 386\n",
       "['Drama', 'Romance']                                                                       288\n",
       "['Horror']                                                                                 236\n",
       "['Comedy', 'Romance']                                                                      192\n",
       "                                                                                          ... \n",
       "['Science Fiction', 'Comedy', 'Crime']                                                       1\n",
       "['Horror', 'Mystery', 'Comedy']                                                              1\n",
       "['Fantasy', 'Thriller', 'Action', 'Crime']                                                   1\n",
       "['Adventure', 'Western', 'History']                                                          1\n",
       "['TV Movie', 'Fantasy', 'Animation', 'Action', 'Thriller', 'Science Fiction', 'Horror']      1\n",
       "Name: genres, Length: 2323, dtype: int64"
      ]
     },
     "execution_count": 25,
     "metadata": {},
     "output_type": "execute_result"
    }
   ],
   "source": [
    "data[\"genres\"].value_counts()"
   ]
  },
  {
   "cell_type": "code",
   "execution_count": 26,
   "id": "5f4c11b3",
   "metadata": {
    "execution": {
     "iopub.execute_input": "2023-05-16T06:43:22.922419Z",
     "iopub.status.busy": "2023-05-16T06:43:22.922000Z",
     "iopub.status.idle": "2023-05-16T06:43:23.076433Z",
     "shell.execute_reply": "2023-05-16T06:43:23.075354Z"
    },
    "papermill": {
     "duration": 0.170134,
     "end_time": "2023-05-16T06:43:23.078989",
     "exception": false,
     "start_time": "2023-05-16T06:43:22.908855",
     "status": "completed"
    },
    "tags": []
   },
   "outputs": [
    {
     "data": {
      "text/plain": [
       "['Horror', 'Mystery', 'Thriller', 'Action', 'Adventure']"
      ]
     },
     "execution_count": 26,
     "metadata": {},
     "output_type": "execute_result"
    }
   ],
   "source": [
    "genres = data[\"genres\"]\n",
    "\n",
    "all_genres = [genre.split(\",\") for genre in genres]\n",
    "all_genres = [genre.strip() for sublist in all_genres for genre in sublist]\n",
    "all_genres = [genre.replace(\"'\", \"\").replace(\"[\", \"\").replace(\"]\", \"\").strip() for genre in all_genres]\n",
    "all_genres[:5]"
   ]
  },
  {
   "cell_type": "code",
   "execution_count": 27,
   "id": "3d6008cc",
   "metadata": {
    "execution": {
     "iopub.execute_input": "2023-05-16T06:43:23.105982Z",
     "iopub.status.busy": "2023-05-16T06:43:23.105574Z",
     "iopub.status.idle": "2023-05-16T06:43:23.115320Z",
     "shell.execute_reply": "2023-05-16T06:43:23.114327Z"
    },
    "papermill": {
     "duration": 0.026038,
     "end_time": "2023-05-16T06:43:23.117507",
     "exception": false,
     "start_time": "2023-05-16T06:43:23.091469",
     "status": "completed"
    },
    "tags": []
   },
   "outputs": [],
   "source": [
    "#One dimensional array\n",
    "genres_data = pd.Series(all_genres).value_counts()"
   ]
  },
  {
   "cell_type": "code",
   "execution_count": 28,
   "id": "c68c9ad6",
   "metadata": {
    "execution": {
     "iopub.execute_input": "2023-05-16T06:43:23.143097Z",
     "iopub.status.busy": "2023-05-16T06:43:23.142747Z",
     "iopub.status.idle": "2023-05-16T06:43:23.475993Z",
     "shell.execute_reply": "2023-05-16T06:43:23.474931Z"
    },
    "papermill": {
     "duration": 0.349205,
     "end_time": "2023-05-16T06:43:23.478800",
     "exception": false,
     "start_time": "2023-05-16T06:43:23.129595",
     "status": "completed"
    },
    "tags": []
   },
   "outputs": [
    {
     "data": {
      "image/png": "[encoded data removed]",
      "text/plain": [
       "<Figure size 1000x600 with 1 Axes>"
      ]
     },
     "metadata": {},
     "output_type": "display_data"
    }
   ],
   "source": [
    "top_10_genres = genres_data.head(10)\n",
    "\n",
    "# Create a bar plot to visualize the most common genres\n",
    "plt.figure(figsize=(10, 6))\n",
    "top_10_genres.plot(kind='bar')\n",
    "plt.xlabel('Genres')\n",
    "plt.ylabel('Frequency')\n",
    "plt.title('Top 10 Most Common Movie Genres')\n",
    "plt.xticks(rotation=45)\n",
    "plt.show()"
   ]
  }
 ],
 "metadata": {
  "kernelspec": {
   "display_name": "Python 3",
   "language": "python",
   "name": "python3"
  },
  "language_info": {
   "codemirror_mode": {
    "name": "ipython",
    "version": 3
   },
   "file_extension": ".py",
   "mimetype": "text/x-python",
   "name": "python",
   "nbconvert_exporter": "python",
   "pygments_lexer": "ipython3",
   "version": "3.10.10"
  },
  "papermill": {
   "default_parameters": {},
   "duration": 13.382376,
   "end_time": "2023-05-16T06:43:24.312811",
   "environment_variables": {},
   "exception": null,
   "input_path": "__notebook__.ipynb",
   "output_path": "__notebook__.ipynb",
   "parameters": {},
   "start_time": "2023-05-16T06:43:10.930435",
   "version": "2.4.0"
  }
 },
 "nbformat": 4,
 "nbformat_minor": 5
}
