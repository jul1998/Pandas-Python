{
 "cells": [
  {
   "cell_type": "markdown",
   "id": "86eb6b21",
   "metadata": {
    "papermill": {
     "duration": 0.01018,
     "end_time": "2023-04-25T21:09:32.119294",
     "exception": false,
     "start_time": "2023-04-25T21:09:32.109114",
     "status": "completed"
    },
    "tags": []
   },
   "source": [
    "**This notebook is an exercise in the [Intermediate Machine Learning](https://www.kaggle.com/learn/intermediate-machine-learning) course.  You can reference the tutorial at [this link](https://www.kaggle.com/alexisbcook/missing-values).**\n",
    "\n",
    "---\n"
   ]
  },
  {
   "cell_type": "markdown",
   "id": "ffa7165d",
   "metadata": {
    "papermill": {
     "duration": 0.008569,
     "end_time": "2023-04-25T21:09:32.137129",
     "exception": false,
     "start_time": "2023-04-25T21:09:32.128560",
     "status": "completed"
    },
    "tags": []
   },
   "source": [
    "Now it's your turn to test your new knowledge of **missing values** handling. You'll probably find it makes a big difference.\n",
    "\n",
    "# Setup\n",
    "\n",
    "The questions will give you feedback on your work. Run the following cell to set up the feedback system."
   ]
  },
  {
   "cell_type": "code",
   "execution_count": 1,
   "id": "a985717d",
   "metadata": {
    "execution": {
     "iopub.execute_input": "2023-04-25T21:09:32.158180Z",
     "iopub.status.busy": "2023-04-25T21:09:32.157582Z",
     "iopub.status.idle": "2023-04-25T21:09:32.213861Z",
     "shell.execute_reply": "2023-04-25T21:09:32.212764Z"
    },
    "papermill": {
     "duration": 0.070732,
     "end_time": "2023-04-25T21:09:32.217244",
     "exception": false,
     "start_time": "2023-04-25T21:09:32.146512",
     "status": "completed"
    },
    "tags": []
   },
   "outputs": [
    {
     "name": "stdout",
     "output_type": "stream",
     "text": [
      "Setup Complete\n"
     ]
    }
   ],
   "source": [
    "# Set up code checking\n",
    "import os\n",
    "if not os.path.exists(\"../input/train.csv\"):\n",
    "    os.symlink(\"../input/home-data-for-ml-course/train.csv\", \"../input/train.csv\")  \n",
    "    os.symlink(\"../input/home-data-for-ml-course/test.csv\", \"../input/test.csv\") \n",
    "from learntools.core import binder\n",
    "binder.bind(globals())\n",
    "from learntools.ml_intermediate.ex2 import *\n",
    "print(\"Setup Complete\")"
   ]
  },
  {
   "cell_type": "markdown",
   "id": "372ba964",
   "metadata": {
    "papermill": {
     "duration": 0.008545,
     "end_time": "2023-04-25T21:09:32.234901",
     "exception": false,
     "start_time": "2023-04-25T21:09:32.226356",
     "status": "completed"
    },
    "tags": []
   },
   "source": [
    "In this exercise, you will work with data from the [Housing Prices Competition for Kaggle Learn Users](https://www.kaggle.com/c/home-data-for-ml-course). \n",
    "\n",
    "![Ames Housing dataset image](https://storage.googleapis.com/kaggle-media/learn/images/lTJVG4e.png)\n",
    "\n",
    "Run the next code cell without changes to load the training and validation sets in `X_train`, `X_valid`, `y_train`, and `y_valid`.  The test set is loaded in `X_test`."
   ]
  },
  {
   "cell_type": "code",
   "execution_count": 2,
   "id": "7f26815f",
   "metadata": {
    "execution": {
     "iopub.execute_input": "2023-04-25T21:09:32.254918Z",
     "iopub.status.busy": "2023-04-25T21:09:32.254426Z",
     "iopub.status.idle": "2023-04-25T21:09:33.467694Z",
     "shell.execute_reply": "2023-04-25T21:09:33.466166Z"
    },
    "papermill": {
     "duration": 1.226901,
     "end_time": "2023-04-25T21:09:33.470794",
     "exception": false,
     "start_time": "2023-04-25T21:09:32.243893",
     "status": "completed"
    },
    "tags": []
   },
   "outputs": [],
   "source": [
    "import pandas as pd\n",
    "from sklearn.model_selection import train_test_split\n",
    "\n",
    "# Read the data\n",
    "X_full = pd.read_csv('../input/train.csv', index_col='Id')\n",
    "X_test_full = pd.read_csv('../input/test.csv', index_col='Id')\n",
    "\n",
    "# Remove rows with missing target, separate target from predictors\n",
    "X_full.dropna(axis=0, subset=['SalePrice'], inplace=True)\n",
    "y = X_full.SalePrice\n",
    "X_full.drop(['SalePrice'], axis=1, inplace=True)\n",
    "\n",
    "# To keep things simple, we'll use only numerical predictors\n",
    "X = X_full.select_dtypes(exclude=['object'])\n",
    "X_test = X_test_full.select_dtypes(exclude=['object'])\n",
    "\n",
    "# Break off validation set from training data\n",
    "X_train, X_valid, y_train, y_valid = train_test_split(X, y, train_size=0.8, test_size=0.2,\n",
    "                                                      random_state=0)"
   ]
  },
  {
   "cell_type": "markdown",
   "id": "7a98375f",
   "metadata": {
    "papermill": {
     "duration": 0.008577,
     "end_time": "2023-04-25T21:09:33.488672",
     "exception": false,
     "start_time": "2023-04-25T21:09:33.480095",
     "status": "completed"
    },
    "tags": []
   },
   "source": [
    "Use the next code cell to print the first five rows of the data."
   ]
  },
  {
   "cell_type": "code",
   "execution_count": 3,
   "id": "a20f1de4",
   "metadata": {
    "execution": {
     "iopub.execute_input": "2023-04-25T21:09:33.508667Z",
     "iopub.status.busy": "2023-04-25T21:09:33.508242Z",
     "iopub.status.idle": "2023-04-25T21:09:33.544465Z",
     "shell.execute_reply": "2023-04-25T21:09:33.543115Z"
    },
    "papermill": {
     "duration": 0.049653,
     "end_time": "2023-04-25T21:09:33.547218",
     "exception": false,
     "start_time": "2023-04-25T21:09:33.497565",
     "status": "completed"
    },
    "tags": []
   },
   "outputs": [
    {
     "data": {
      "text/html": [
       "<div>\n",
       "<style scoped>\n",
       "    .dataframe tbody tr th:only-of-type {\n",
       "        vertical-align: middle;\n",
       "    }\n",
       "\n",
       "    .dataframe tbody tr th {\n",
       "        vertical-align: top;\n",
       "    }\n",
       "\n",
       "    .dataframe thead th {\n",
       "        text-align: right;\n",
       "    }\n",
       "</style>\n",
       "<table border=\"1\" class=\"dataframe\">\n",
       "  <thead>\n",
       "    <tr style=\"text-align: right;\">\n",
       "      <th></th>\n",
       "      <th>MSSubClass</th>\n",
       "      <th>LotFrontage</th>\n",
       "      <th>LotArea</th>\n",
       "      <th>OverallQual</th>\n",
       "      <th>OverallCond</th>\n",
       "      <th>YearBuilt</th>\n",
       "      <th>YearRemodAdd</th>\n",
       "      <th>MasVnrArea</th>\n",
       "      <th>BsmtFinSF1</th>\n",
       "      <th>BsmtFinSF2</th>\n",
       "      <th>...</th>\n",
       "      <th>GarageArea</th>\n",
       "      <th>WoodDeckSF</th>\n",
       "      <th>OpenPorchSF</th>\n",
       "      <th>EnclosedPorch</th>\n",
       "      <th>3SsnPorch</th>\n",
       "      <th>ScreenPorch</th>\n",
       "      <th>PoolArea</th>\n",
       "      <th>MiscVal</th>\n",
       "      <th>MoSold</th>\n",
       "      <th>YrSold</th>\n",
       "    </tr>\n",
       "    <tr>\n",
       "      <th>Id</th>\n",
       "      <th></th>\n",
       "      <th></th>\n",
       "      <th></th>\n",
       "      <th></th>\n",
       "      <th></th>\n",
       "      <th></th>\n",
       "      <th></th>\n",
       "      <th></th>\n",
       "      <th></th>\n",
       "      <th></th>\n",
       "      <th></th>\n",
       "      <th></th>\n",
       "      <th></th>\n",
       "      <th></th>\n",
       "      <th></th>\n",
       "      <th></th>\n",
       "      <th></th>\n",
       "      <th></th>\n",
       "      <th></th>\n",
       "      <th></th>\n",
       "      <th></th>\n",
       "    </tr>\n",
       "  </thead>\n",
       "  <tbody>\n",
       "    <tr>\n",
       "      <th>619</th>\n",
       "      <td>20</td>\n",
       "      <td>90.0</td>\n",
       "      <td>11694</td>\n",
       "      <td>9</td>\n",
       "      <td>5</td>\n",
       "      <td>2007</td>\n",
       "      <td>2007</td>\n",
       "      <td>452.0</td>\n",
       "      <td>48</td>\n",
       "      <td>0</td>\n",
       "      <td>...</td>\n",
       "      <td>774</td>\n",
       "      <td>0</td>\n",
       "      <td>108</td>\n",
       "      <td>0</td>\n",
       "      <td>0</td>\n",
       "      <td>260</td>\n",
       "      <td>0</td>\n",
       "      <td>0</td>\n",
       "      <td>7</td>\n",
       "      <td>2007</td>\n",
       "    </tr>\n",
       "    <tr>\n",
       "      <th>871</th>\n",
       "      <td>20</td>\n",
       "      <td>60.0</td>\n",
       "      <td>6600</td>\n",
       "      <td>5</td>\n",
       "      <td>5</td>\n",
       "      <td>1962</td>\n",
       "      <td>1962</td>\n",
       "      <td>0.0</td>\n",
       "      <td>0</td>\n",
       "      <td>0</td>\n",
       "      <td>...</td>\n",
       "      <td>308</td>\n",
       "      <td>0</td>\n",
       "      <td>0</td>\n",
       "      <td>0</td>\n",
       "      <td>0</td>\n",
       "      <td>0</td>\n",
       "      <td>0</td>\n",
       "      <td>0</td>\n",
       "      <td>8</td>\n",
       "      <td>2009</td>\n",
       "    </tr>\n",
       "    <tr>\n",
       "      <th>93</th>\n",
       "      <td>30</td>\n",
       "      <td>80.0</td>\n",
       "      <td>13360</td>\n",
       "      <td>5</td>\n",
       "      <td>7</td>\n",
       "      <td>1921</td>\n",
       "      <td>2006</td>\n",
       "      <td>0.0</td>\n",
       "      <td>713</td>\n",
       "      <td>0</td>\n",
       "      <td>...</td>\n",
       "      <td>432</td>\n",
       "      <td>0</td>\n",
       "      <td>0</td>\n",
       "      <td>44</td>\n",
       "      <td>0</td>\n",
       "      <td>0</td>\n",
       "      <td>0</td>\n",
       "      <td>0</td>\n",
       "      <td>8</td>\n",
       "      <td>2009</td>\n",
       "    </tr>\n",
       "    <tr>\n",
       "      <th>818</th>\n",
       "      <td>20</td>\n",
       "      <td>NaN</td>\n",
       "      <td>13265</td>\n",
       "      <td>8</td>\n",
       "      <td>5</td>\n",
       "      <td>2002</td>\n",
       "      <td>2002</td>\n",
       "      <td>148.0</td>\n",
       "      <td>1218</td>\n",
       "      <td>0</td>\n",
       "      <td>...</td>\n",
       "      <td>857</td>\n",
       "      <td>150</td>\n",
       "      <td>59</td>\n",
       "      <td>0</td>\n",
       "      <td>0</td>\n",
       "      <td>0</td>\n",
       "      <td>0</td>\n",
       "      <td>0</td>\n",
       "      <td>7</td>\n",
       "      <td>2008</td>\n",
       "    </tr>\n",
       "    <tr>\n",
       "      <th>303</th>\n",
       "      <td>20</td>\n",
       "      <td>118.0</td>\n",
       "      <td>13704</td>\n",
       "      <td>7</td>\n",
       "      <td>5</td>\n",
       "      <td>2001</td>\n",
       "      <td>2002</td>\n",
       "      <td>150.0</td>\n",
       "      <td>0</td>\n",
       "      <td>0</td>\n",
       "      <td>...</td>\n",
       "      <td>843</td>\n",
       "      <td>468</td>\n",
       "      <td>81</td>\n",
       "      <td>0</td>\n",
       "      <td>0</td>\n",
       "      <td>0</td>\n",
       "      <td>0</td>\n",
       "      <td>0</td>\n",
       "      <td>1</td>\n",
       "      <td>2006</td>\n",
       "    </tr>\n",
       "  </tbody>\n",
       "</table>\n",
       "<p>5 rows × 36 columns</p>\n",
       "</div>"
      ],
      "text/plain": [
       "     MSSubClass  LotFrontage  LotArea  OverallQual  OverallCond  YearBuilt  \\\n",
       "Id                                                                           \n",
       "619          20         90.0    11694            9            5       2007   \n",
       "871          20         60.0     6600            5            5       1962   \n",
       "93           30         80.0    13360            5            7       1921   \n",
       "818          20          NaN    13265            8            5       2002   \n",
       "303          20        118.0    13704            7            5       2001   \n",
       "\n",
       "     YearRemodAdd  MasVnrArea  BsmtFinSF1  BsmtFinSF2  ...  GarageArea  \\\n",
       "Id                                                     ...               \n",
       "619          2007       452.0          48           0  ...         774   \n",
       "871          1962         0.0           0           0  ...         308   \n",
       "93           2006         0.0         713           0  ...         432   \n",
       "818          2002       148.0        1218           0  ...         857   \n",
       "303          2002       150.0           0           0  ...         843   \n",
       "\n",
       "     WoodDeckSF  OpenPorchSF  EnclosedPorch  3SsnPorch  ScreenPorch  PoolArea  \\\n",
       "Id                                                                              \n",
       "619           0          108              0          0          260         0   \n",
       "871           0            0              0          0            0         0   \n",
       "93            0            0             44          0            0         0   \n",
       "818         150           59              0          0            0         0   \n",
       "303         468           81              0          0            0         0   \n",
       "\n",
       "     MiscVal  MoSold  YrSold  \n",
       "Id                            \n",
       "619        0       7    2007  \n",
       "871        0       8    2009  \n",
       "93         0       8    2009  \n",
       "818        0       7    2008  \n",
       "303        0       1    2006  \n",
       "\n",
       "[5 rows x 36 columns]"
      ]
     },
     "execution_count": 3,
     "metadata": {},
     "output_type": "execute_result"
    }
   ],
   "source": [
    "X_train.head()"
   ]
  },
  {
   "cell_type": "markdown",
   "id": "69974464",
   "metadata": {
    "papermill": {
     "duration": 0.008961,
     "end_time": "2023-04-25T21:09:33.566869",
     "exception": false,
     "start_time": "2023-04-25T21:09:33.557908",
     "status": "completed"
    },
    "tags": []
   },
   "source": [
    "You can already see a few missing values in the first several rows.  In the next step, you'll obtain a more comprehensive understanding of the missing values in the dataset.\n",
    "\n",
    "# Step 1: Preliminary investigation\n",
    "\n",
    "Run the code cell below without changes."
   ]
  },
  {
   "cell_type": "code",
   "execution_count": 4,
   "id": "ebf7262a",
   "metadata": {
    "execution": {
     "iopub.execute_input": "2023-04-25T21:09:33.588414Z",
     "iopub.status.busy": "2023-04-25T21:09:33.587341Z",
     "iopub.status.idle": "2023-04-25T21:09:33.598730Z",
     "shell.execute_reply": "2023-04-25T21:09:33.597188Z"
    },
    "papermill": {
     "duration": 0.025155,
     "end_time": "2023-04-25T21:09:33.601503",
     "exception": false,
     "start_time": "2023-04-25T21:09:33.576348",
     "status": "completed"
    },
    "tags": []
   },
   "outputs": [
    {
     "name": "stdout",
     "output_type": "stream",
     "text": [
      "(1168, 36)\n",
      "LotFrontage    212\n",
      "MasVnrArea       6\n",
      "GarageYrBlt     58\n",
      "dtype: int64\n"
     ]
    }
   ],
   "source": [
    "# Shape of training data (num_rows, num_columns)\n",
    "print(X_train.shape)\n",
    "\n",
    "# Number of missing values in each column of training data\n",
    "missing_val_count_by_column = (X_train.isnull().sum())\n",
    "print(missing_val_count_by_column[missing_val_count_by_column > 0])"
   ]
  },
  {
   "cell_type": "markdown",
   "id": "82bbe3bf",
   "metadata": {
    "papermill": {
     "duration": 0.009389,
     "end_time": "2023-04-25T21:09:33.620921",
     "exception": false,
     "start_time": "2023-04-25T21:09:33.611532",
     "status": "completed"
    },
    "tags": []
   },
   "source": [
    "### Part A\n",
    "\n",
    "Use the above output to answer the questions below."
   ]
  },
  {
   "cell_type": "code",
   "execution_count": 5,
   "id": "778c20f6",
   "metadata": {
    "execution": {
     "iopub.execute_input": "2023-04-25T21:09:33.643699Z",
     "iopub.status.busy": "2023-04-25T21:09:33.642361Z",
     "iopub.status.idle": "2023-04-25T21:09:33.653886Z",
     "shell.execute_reply": "2023-04-25T21:09:33.652667Z"
    },
    "papermill": {
     "duration": 0.025716,
     "end_time": "2023-04-25T21:09:33.656319",
     "exception": false,
     "start_time": "2023-04-25T21:09:33.630603",
     "status": "completed"
    },
    "tags": []
   },
   "outputs": [
    {
     "data": {
      "application/javascript": [
       "parent.postMessage({\"jupyterEvent\": \"custom.exercise_interaction\", \"data\": {\"outcomeType\": 1, \"valueTowardsCompletion\": 1.0, \"interactionType\": 1, \"questionType\": 1, \"questionId\": \"1.1_InvestigateEquality\", \"learnToolsVersion\": \"0.3.4\", \"failureMessage\": \"\", \"exceptionClass\": \"\", \"trace\": \"\"}}, \"*\")"
      ],
      "text/plain": [
       "<IPython.core.display.Javascript object>"
      ]
     },
     "metadata": {},
     "output_type": "display_data"
    },
    {
     "data": {
      "text/markdown": [
       "<span style=\"color:#33cc33\">Correct</span>"
      ],
      "text/plain": [
       "Correct"
      ]
     },
     "metadata": {},
     "output_type": "display_data"
    }
   ],
   "source": [
    "# Fill in the line below: How many rows are in the training data?\n",
    "num_rows = 1168\n",
    "\n",
    "# Fill in the line below: How many columns in the training data\n",
    "# have missing values?\n",
    "num_cols_with_missing = 3\n",
    "\n",
    "# Fill in the line below: How many missing entries are contained in \n",
    "# all of the training data?\n",
    "tot_missing = 276\n",
    "\n",
    "# Check your answers\n",
    "step_1.a.check()"
   ]
  },
  {
   "cell_type": "code",
   "execution_count": 6,
   "id": "e7b7409b",
   "metadata": {
    "execution": {
     "iopub.execute_input": "2023-04-25T21:09:33.678103Z",
     "iopub.status.busy": "2023-04-25T21:09:33.677064Z",
     "iopub.status.idle": "2023-04-25T21:09:33.682964Z",
     "shell.execute_reply": "2023-04-25T21:09:33.681568Z"
    },
    "papermill": {
     "duration": 0.019702,
     "end_time": "2023-04-25T21:09:33.685623",
     "exception": false,
     "start_time": "2023-04-25T21:09:33.665921",
     "status": "completed"
    },
    "tags": []
   },
   "outputs": [],
   "source": [
    "# Lines below will give you a hint or solution code\n",
    "#step_1.a.hint()\n",
    "#step_1.a.solution()"
   ]
  },
  {
   "cell_type": "markdown",
   "id": "87074a3d",
   "metadata": {
    "papermill": {
     "duration": 0.009255,
     "end_time": "2023-04-25T21:09:33.704913",
     "exception": false,
     "start_time": "2023-04-25T21:09:33.695658",
     "status": "completed"
    },
    "tags": []
   },
   "source": [
    "### Part B\n",
    "Considering your answers above, what do you think is likely the best approach to dealing with the missing values?"
   ]
  },
  {
   "cell_type": "code",
   "execution_count": 7,
   "id": "3647f32d",
   "metadata": {
    "execution": {
     "iopub.execute_input": "2023-04-25T21:09:33.726255Z",
     "iopub.status.busy": "2023-04-25T21:09:33.725497Z",
     "iopub.status.idle": "2023-04-25T21:09:33.735476Z",
     "shell.execute_reply": "2023-04-25T21:09:33.734302Z"
    },
    "papermill": {
     "duration": 0.023405,
     "end_time": "2023-04-25T21:09:33.737949",
     "exception": false,
     "start_time": "2023-04-25T21:09:33.714544",
     "status": "completed"
    },
    "tags": []
   },
   "outputs": [
    {
     "data": {
      "application/javascript": [
       "parent.postMessage({\"jupyterEvent\": \"custom.exercise_interaction\", \"data\": {\"outcomeType\": 1, \"valueTowardsCompletion\": 1.0, \"interactionType\": 1, \"questionType\": 4, \"questionId\": \"1.2_InvestigateThought\", \"learnToolsVersion\": \"0.3.4\", \"failureMessage\": \"\", \"exceptionClass\": \"\", \"trace\": \"\"}}, \"*\")"
      ],
      "text/plain": [
       "<IPython.core.display.Javascript object>"
      ]
     },
     "metadata": {},
     "output_type": "display_data"
    },
    {
     "data": {
      "text/markdown": [
       "<span style=\"color:#33cc33\">Correct:</span> \n",
       "\n",
       "Since there are relatively few missing entries in the data (the column with the greatest percentage of missing values is missing less than 20% of its entries), we can expect that dropping columns is unlikely to yield good results.  This is because we'd be throwing away a lot of valuable data, and so imputation will likely perform better."
      ],
      "text/plain": [
       "Correct: \n",
       "\n",
       "Since there are relatively few missing entries in the data (the column with the greatest percentage of missing values is missing less than 20% of its entries), we can expect that dropping columns is unlikely to yield good results.  This is because we'd be throwing away a lot of valuable data, and so imputation will likely perform better."
      ]
     },
     "metadata": {},
     "output_type": "display_data"
    }
   ],
   "source": [
    "# Check your answer (Run this code cell to receive credit!)\n",
    "step_1.b.check()"
   ]
  },
  {
   "cell_type": "code",
   "execution_count": 8,
   "id": "af28f53e",
   "metadata": {
    "execution": {
     "iopub.execute_input": "2023-04-25T21:09:33.760098Z",
     "iopub.status.busy": "2023-04-25T21:09:33.758994Z",
     "iopub.status.idle": "2023-04-25T21:09:33.769443Z",
     "shell.execute_reply": "2023-04-25T21:09:33.768387Z"
    },
    "papermill": {
     "duration": 0.024169,
     "end_time": "2023-04-25T21:09:33.772002",
     "exception": false,
     "start_time": "2023-04-25T21:09:33.747833",
     "status": "completed"
    },
    "tags": []
   },
   "outputs": [
    {
     "data": {
      "application/javascript": [
       "parent.postMessage({\"jupyterEvent\": \"custom.exercise_interaction\", \"data\": {\"interactionType\": 2, \"questionType\": 4, \"questionId\": \"1.2_InvestigateThought\", \"learnToolsVersion\": \"0.3.4\", \"valueTowardsCompletion\": 0.0, \"failureMessage\": \"\", \"exceptionClass\": \"\", \"trace\": \"\", \"outcomeType\": 4}}, \"*\")"
      ],
      "text/plain": [
       "<IPython.core.display.Javascript object>"
      ]
     },
     "metadata": {},
     "output_type": "display_data"
    },
    {
     "data": {
      "text/markdown": [
       "<span style=\"color:#3366cc\">Hint:</span> Does the dataset have a lot of missing values, or just a few?  Would we lose much information if we completely ignored the columns with missing entries?"
      ],
      "text/plain": [
       "Hint: Does the dataset have a lot of missing values, or just a few?  Would we lose much information if we completely ignored the columns with missing entries?"
      ]
     },
     "metadata": {},
     "output_type": "display_data"
    }
   ],
   "source": [
    "step_1.b.hint()"
   ]
  },
  {
   "cell_type": "markdown",
   "id": "59e75751",
   "metadata": {
    "papermill": {
     "duration": 0.009831,
     "end_time": "2023-04-25T21:09:33.792207",
     "exception": false,
     "start_time": "2023-04-25T21:09:33.782376",
     "status": "completed"
    },
    "tags": []
   },
   "source": [
    "To compare different approaches to dealing with missing values, you'll use the same `score_dataset()` function from the tutorial.  This function reports the [mean absolute error](https://en.wikipedia.org/wiki/Mean_absolute_error) (MAE) from a random forest model."
   ]
  },
  {
   "cell_type": "code",
   "execution_count": 9,
   "id": "55a7c1cc",
   "metadata": {
    "execution": {
     "iopub.execute_input": "2023-04-25T21:09:33.815230Z",
     "iopub.status.busy": "2023-04-25T21:09:33.814791Z",
     "iopub.status.idle": "2023-04-25T21:09:34.188296Z",
     "shell.execute_reply": "2023-04-25T21:09:34.186797Z"
    },
    "papermill": {
     "duration": 0.388228,
     "end_time": "2023-04-25T21:09:34.191162",
     "exception": false,
     "start_time": "2023-04-25T21:09:33.802934",
     "status": "completed"
    },
    "tags": []
   },
   "outputs": [],
   "source": [
    "from sklearn.ensemble import RandomForestRegressor\n",
    "from sklearn.metrics import mean_absolute_error\n",
    "\n",
    "# Function for comparing different approaches\n",
    "def score_dataset(X_train, X_valid, y_train, y_valid):\n",
    "    model = RandomForestRegressor(n_estimators=100, random_state=0)\n",
    "    model.fit(X_train, y_train)\n",
    "    preds = model.predict(X_valid)\n",
    "    return mean_absolute_error(y_valid, preds)"
   ]
  },
  {
   "cell_type": "markdown",
   "id": "47ec67b2",
   "metadata": {
    "papermill": {
     "duration": 0.009749,
     "end_time": "2023-04-25T21:09:34.211183",
     "exception": false,
     "start_time": "2023-04-25T21:09:34.201434",
     "status": "completed"
    },
    "tags": []
   },
   "source": [
    "# Step 2: Drop columns with missing values\n",
    "\n",
    "In this step, you'll preprocess the data in `X_train` and `X_valid` to remove columns with missing values.  Set the preprocessed DataFrames to `reduced_X_train` and `reduced_X_valid`, respectively.  "
   ]
  },
  {
   "cell_type": "code",
   "execution_count": 10,
   "id": "6d2f61d1",
   "metadata": {
    "execution": {
     "iopub.execute_input": "2023-04-25T21:09:34.233863Z",
     "iopub.status.busy": "2023-04-25T21:09:34.233031Z",
     "iopub.status.idle": "2023-04-25T21:09:34.273661Z",
     "shell.execute_reply": "2023-04-25T21:09:34.272051Z"
    },
    "papermill": {
     "duration": 0.057172,
     "end_time": "2023-04-25T21:09:34.278527",
     "exception": false,
     "start_time": "2023-04-25T21:09:34.221355",
     "status": "completed"
    },
    "tags": []
   },
   "outputs": [
    {
     "name": "stdout",
     "output_type": "stream",
     "text": [
      "      MSSubClass  LotArea  OverallQual  OverallCond  YearBuilt  YearRemodAdd  \\\n",
      "Id                                                                             \n",
      "619           20    11694            9            5       2007          2007   \n",
      "871           20     6600            5            5       1962          1962   \n",
      "93            30    13360            5            7       1921          2006   \n",
      "818           20    13265            8            5       2002          2002   \n",
      "303           20    13704            7            5       2001          2002   \n",
      "...          ...      ...          ...          ...        ...           ...   \n",
      "764           60     9430            8            5       1999          1999   \n",
      "836           20     9600            4            7       1950          1995   \n",
      "1217          90     8930            6            5       1978          1978   \n",
      "560          120     3196            7            5       2003          2004   \n",
      "685           60    16770            7            5       1998          1998   \n",
      "\n",
      "      BsmtFinSF1  BsmtFinSF2  BsmtUnfSF  TotalBsmtSF  ...  GarageArea  \\\n",
      "Id                                                    ...               \n",
      "619           48           0       1774         1822  ...         774   \n",
      "871            0           0        894          894  ...         308   \n",
      "93           713           0        163          876  ...         432   \n",
      "818         1218           0        350         1568  ...         857   \n",
      "303            0           0       1541         1541  ...         843   \n",
      "...          ...         ...        ...          ...  ...         ...   \n",
      "764         1163           0         89         1252  ...         856   \n",
      "836          442           0        625         1067  ...         436   \n",
      "1217           0           0          0            0  ...         539   \n",
      "560            0           0       1374         1374  ...         420   \n",
      "685            0           0       1195         1195  ...         486   \n",
      "\n",
      "      WoodDeckSF  OpenPorchSF  EnclosedPorch  3SsnPorch  ScreenPorch  \\\n",
      "Id                                                                     \n",
      "619            0          108              0          0          260   \n",
      "871            0            0              0          0            0   \n",
      "93             0            0             44          0            0   \n",
      "818          150           59              0          0            0   \n",
      "303          468           81              0          0            0   \n",
      "...          ...          ...            ...        ...          ...   \n",
      "764            0          128              0          0          180   \n",
      "836          290            0              0          0            0   \n",
      "1217           0            0              0          0            0   \n",
      "560          143           20              0          0            0   \n",
      "685            0           81              0          0            0   \n",
      "\n",
      "      PoolArea  MiscVal  MoSold  YrSold  \n",
      "Id                                       \n",
      "619          0        0       7    2007  \n",
      "871          0        0       8    2009  \n",
      "93           0        0       8    2009  \n",
      "818          0        0       7    2008  \n",
      "303          0        0       1    2006  \n",
      "...        ...      ...     ...     ...  \n",
      "764          0        0       7    2009  \n",
      "836          0        0       2    2010  \n",
      "1217         0        0       4    2010  \n",
      "560          0        0      10    2006  \n",
      "685          0        0       6    2010  \n",
      "\n",
      "[1168 rows x 33 columns]\n"
     ]
    },
    {
     "data": {
      "application/javascript": [
       "parent.postMessage({\"jupyterEvent\": \"custom.exercise_interaction\", \"data\": {\"outcomeType\": 1, \"valueTowardsCompletion\": 1.0, \"interactionType\": 1, \"questionType\": 2, \"questionId\": \"2_DropMissing\", \"learnToolsVersion\": \"0.3.4\", \"failureMessage\": \"\", \"exceptionClass\": \"\", \"trace\": \"\"}}, \"*\")"
      ],
      "text/plain": [
       "<IPython.core.display.Javascript object>"
      ]
     },
     "metadata": {},
     "output_type": "display_data"
    },
    {
     "data": {
      "text/markdown": [
       "<span style=\"color:#33cc33\">Correct</span>"
      ],
      "text/plain": [
       "Correct"
      ]
     },
     "metadata": {},
     "output_type": "display_data"
    }
   ],
   "source": [
    "# Fill in the line below: get names of columns with missing values\n",
    "cols_with_missing = [col for col in X_train.columns if X_train[col].isnull().any()] # Your code here\n",
    "\n",
    "# Fill in the lines below: drop columns in training and validation data\n",
    "reduced_X_train = X_train.drop(cols_with_missing, axis=1)\n",
    "reduced_X_valid = X_valid.drop(cols_with_missing, axis=1)\n",
    "\n",
    "print(reduced_X_train)\n",
    "\n",
    "# Check your answers\n",
    "step_2.check()"
   ]
  },
  {
   "cell_type": "code",
   "execution_count": 11,
   "id": "4009fabc",
   "metadata": {
    "execution": {
     "iopub.execute_input": "2023-04-25T21:09:34.303572Z",
     "iopub.status.busy": "2023-04-25T21:09:34.302561Z",
     "iopub.status.idle": "2023-04-25T21:09:34.313462Z",
     "shell.execute_reply": "2023-04-25T21:09:34.312201Z"
    },
    "papermill": {
     "duration": 0.026773,
     "end_time": "2023-04-25T21:09:34.316331",
     "exception": false,
     "start_time": "2023-04-25T21:09:34.289558",
     "status": "completed"
    },
    "tags": []
   },
   "outputs": [
    {
     "data": {
      "application/javascript": [
       "parent.postMessage({\"jupyterEvent\": \"custom.exercise_interaction\", \"data\": {\"interactionType\": 2, \"questionType\": 2, \"questionId\": \"2_DropMissing\", \"learnToolsVersion\": \"0.3.4\", \"valueTowardsCompletion\": 0.0, \"failureMessage\": \"\", \"exceptionClass\": \"\", \"trace\": \"\", \"outcomeType\": 4}}, \"*\")"
      ],
      "text/plain": [
       "<IPython.core.display.Javascript object>"
      ]
     },
     "metadata": {},
     "output_type": "display_data"
    },
    {
     "data": {
      "text/markdown": [
       "<span style=\"color:#3366cc\">Hint:</span> Begin by finding the list of columns in the data with missing values.  Then, drop these columns in both the training and validation data with the `drop()` method."
      ],
      "text/plain": [
       "Hint: Begin by finding the list of columns in the data with missing values.  Then, drop these columns in both the training and validation data with the `drop()` method."
      ]
     },
     "metadata": {},
     "output_type": "display_data"
    }
   ],
   "source": [
    "# Lines below will give you a hint or solution code\n",
    "step_2.hint()\n",
    "#step_2.solution()"
   ]
  },
  {
   "cell_type": "markdown",
   "id": "ddec5749",
   "metadata": {
    "papermill": {
     "duration": 0.010342,
     "end_time": "2023-04-25T21:09:34.337595",
     "exception": false,
     "start_time": "2023-04-25T21:09:34.327253",
     "status": "completed"
    },
    "tags": []
   },
   "source": [
    "Run the next code cell without changes to obtain the MAE for this approach."
   ]
  },
  {
   "cell_type": "code",
   "execution_count": 12,
   "id": "f3c9fca5",
   "metadata": {
    "execution": {
     "iopub.execute_input": "2023-04-25T21:09:34.362085Z",
     "iopub.status.busy": "2023-04-25T21:09:34.361172Z",
     "iopub.status.idle": "2023-04-25T21:09:35.526822Z",
     "shell.execute_reply": "2023-04-25T21:09:35.524640Z"
    },
    "papermill": {
     "duration": 1.181828,
     "end_time": "2023-04-25T21:09:35.530228",
     "exception": false,
     "start_time": "2023-04-25T21:09:34.348400",
     "status": "completed"
    },
    "tags": []
   },
   "outputs": [
    {
     "name": "stdout",
     "output_type": "stream",
     "text": [
      "MAE (Drop columns with missing values):\n",
      "17837.82570776256\n"
     ]
    }
   ],
   "source": [
    "print(\"MAE (Drop columns with missing values):\")\n",
    "print(score_dataset(reduced_X_train, reduced_X_valid, y_train, y_valid))"
   ]
  },
  {
   "cell_type": "markdown",
   "id": "65132c24",
   "metadata": {
    "papermill": {
     "duration": 0.010603,
     "end_time": "2023-04-25T21:09:35.551950",
     "exception": false,
     "start_time": "2023-04-25T21:09:35.541347",
     "status": "completed"
    },
    "tags": []
   },
   "source": [
    "# Step 3: Imputation\n",
    "\n",
    "### Part A\n",
    "\n",
    "Use the next code cell to impute missing values with the mean value along each column.  Set the preprocessed DataFrames to `imputed_X_train` and `imputed_X_valid`.  Make sure that the column names match those in `X_train` and `X_valid`."
   ]
  },
  {
   "cell_type": "code",
   "execution_count": 13,
   "id": "1874b15d",
   "metadata": {
    "execution": {
     "iopub.execute_input": "2023-04-25T21:09:35.576204Z",
     "iopub.status.busy": "2023-04-25T21:09:35.575728Z",
     "iopub.status.idle": "2023-04-25T21:09:35.618343Z",
     "shell.execute_reply": "2023-04-25T21:09:35.617403Z"
    },
    "papermill": {
     "duration": 0.057755,
     "end_time": "2023-04-25T21:09:35.620808",
     "exception": false,
     "start_time": "2023-04-25T21:09:35.563053",
     "status": "completed"
    },
    "tags": []
   },
   "outputs": [
    {
     "data": {
      "application/javascript": [
       "parent.postMessage({\"jupyterEvent\": \"custom.exercise_interaction\", \"data\": {\"outcomeType\": 1, \"valueTowardsCompletion\": 1.0, \"interactionType\": 1, \"questionType\": 2, \"questionId\": \"3.1_ImputeCode\", \"learnToolsVersion\": \"0.3.4\", \"failureMessage\": \"\", \"exceptionClass\": \"\", \"trace\": \"\"}}, \"*\")"
      ],
      "text/plain": [
       "<IPython.core.display.Javascript object>"
      ]
     },
     "metadata": {},
     "output_type": "display_data"
    },
    {
     "data": {
      "text/markdown": [
       "<span style=\"color:#33cc33\">Correct</span>"
      ],
      "text/plain": [
       "Correct"
      ]
     },
     "metadata": {},
     "output_type": "display_data"
    }
   ],
   "source": [
    "from sklearn.impute import SimpleImputer\n",
    "\n",
    "# Fill in the lines below: imputation\n",
    "my_imputer = SimpleImputer() # Your code here\n",
    "imputed_X_train = pd.DataFrame(my_imputer.fit_transform(X_train))\n",
    "imputed_X_valid = pd.DataFrame(my_imputer.transform(X_valid))\n",
    "\n",
    "\n",
    "# Fill in the lines below: imputation removed column names; put them back\n",
    "imputed_X_train.columns = X_train.columns\n",
    "imputed_X_valid.columns = X_valid.columns\n",
    "\n",
    "# Check your answers\n",
    "step_3.a.check()"
   ]
  },
  {
   "cell_type": "code",
   "execution_count": 14,
   "id": "3da2dbc1",
   "metadata": {
    "execution": {
     "iopub.execute_input": "2023-04-25T21:09:35.645787Z",
     "iopub.status.busy": "2023-04-25T21:09:35.644728Z",
     "iopub.status.idle": "2023-04-25T21:09:35.650162Z",
     "shell.execute_reply": "2023-04-25T21:09:35.648914Z"
    },
    "papermill": {
     "duration": 0.020745,
     "end_time": "2023-04-25T21:09:35.652919",
     "exception": false,
     "start_time": "2023-04-25T21:09:35.632174",
     "status": "completed"
    },
    "tags": []
   },
   "outputs": [],
   "source": [
    "# Lines below will give you a hint or solution code\n",
    "#step_3.a.hint()\n",
    "#step_3.a.solution()"
   ]
  },
  {
   "cell_type": "markdown",
   "id": "d61e0f49",
   "metadata": {
    "papermill": {
     "duration": 0.01081,
     "end_time": "2023-04-25T21:09:35.675820",
     "exception": false,
     "start_time": "2023-04-25T21:09:35.665010",
     "status": "completed"
    },
    "tags": []
   },
   "source": [
    "Run the next code cell without changes to obtain the MAE for this approach."
   ]
  },
  {
   "cell_type": "code",
   "execution_count": 15,
   "id": "82c16066",
   "metadata": {
    "execution": {
     "iopub.execute_input": "2023-04-25T21:09:35.700224Z",
     "iopub.status.busy": "2023-04-25T21:09:35.699713Z",
     "iopub.status.idle": "2023-04-25T21:09:36.971236Z",
     "shell.execute_reply": "2023-04-25T21:09:36.969617Z"
    },
    "papermill": {
     "duration": 1.287314,
     "end_time": "2023-04-25T21:09:36.974284",
     "exception": false,
     "start_time": "2023-04-25T21:09:35.686970",
     "status": "completed"
    },
    "tags": []
   },
   "outputs": [
    {
     "name": "stdout",
     "output_type": "stream",
     "text": [
      "MAE (Imputation):\n",
      "18062.894611872147\n"
     ]
    }
   ],
   "source": [
    "print(\"MAE (Imputation):\")\n",
    "print(score_dataset(imputed_X_train, imputed_X_valid, y_train, y_valid))"
   ]
  },
  {
   "cell_type": "markdown",
   "id": "4003e1d5",
   "metadata": {
    "papermill": {
     "duration": 0.010887,
     "end_time": "2023-04-25T21:09:36.996708",
     "exception": false,
     "start_time": "2023-04-25T21:09:36.985821",
     "status": "completed"
    },
    "tags": []
   },
   "source": [
    "### Part B\n",
    "\n",
    "Compare the MAE from each approach.  Does anything surprise you about the results?  Why do you think one approach performed better than the other?"
   ]
  },
  {
   "cell_type": "code",
   "execution_count": 16,
   "id": "e9347436",
   "metadata": {
    "execution": {
     "iopub.execute_input": "2023-04-25T21:09:37.021575Z",
     "iopub.status.busy": "2023-04-25T21:09:37.021095Z",
     "iopub.status.idle": "2023-04-25T21:09:37.031515Z",
     "shell.execute_reply": "2023-04-25T21:09:37.030166Z"
    },
    "papermill": {
     "duration": 0.026151,
     "end_time": "2023-04-25T21:09:37.034324",
     "exception": false,
     "start_time": "2023-04-25T21:09:37.008173",
     "status": "completed"
    },
    "tags": []
   },
   "outputs": [
    {
     "data": {
      "application/javascript": [
       "parent.postMessage({\"jupyterEvent\": \"custom.exercise_interaction\", \"data\": {\"outcomeType\": 1, \"valueTowardsCompletion\": 1.0, \"interactionType\": 1, \"questionType\": 4, \"questionId\": \"3.2_ImputeThought\", \"learnToolsVersion\": \"0.3.4\", \"failureMessage\": \"\", \"exceptionClass\": \"\", \"trace\": \"\"}}, \"*\")"
      ],
      "text/plain": [
       "<IPython.core.display.Javascript object>"
      ]
     },
     "metadata": {},
     "output_type": "display_data"
    },
    {
     "data": {
      "text/markdown": [
       "<span style=\"color:#33cc33\">Correct:</span> \n",
       "\n",
       "Given that thre are so few missing values in the dataset, we'd expect imputation to perform better than dropping columns entirely.  However, we see that dropping columns performs slightly better!  While this can probably partially be attributed to noise in the dataset, another potential explanation is that the imputation method is not a great match to this dataset.  That is, maybe instead of filling in the mean value, it makes more sense to set every missing value to a value of 0, to fill in the most frequently encountered value, or to use some other method.  For instance, consider the `GarageYrBlt` column (which indicates the year that the garage was built).  It's likely that in some cases, a missing value could indicate a house that does not have a garage.  Does it make more sense to fill in the median value along each column in this case?  Or could we get better results by filling in the minimum value along each column?  It's not quite clear what's best in this case, but perhaps we can rule out some options immediately - for instance, setting missing values in this column to 0 is likely to yield horrible results!"
      ],
      "text/plain": [
       "Correct: \n",
       "\n",
       "Given that thre are so few missing values in the dataset, we'd expect imputation to perform better than dropping columns entirely.  However, we see that dropping columns performs slightly better!  While this can probably partially be attributed to noise in the dataset, another potential explanation is that the imputation method is not a great match to this dataset.  That is, maybe instead of filling in the mean value, it makes more sense to set every missing value to a value of 0, to fill in the most frequently encountered value, or to use some other method.  For instance, consider the `GarageYrBlt` column (which indicates the year that the garage was built).  It's likely that in some cases, a missing value could indicate a house that does not have a garage.  Does it make more sense to fill in the median value along each column in this case?  Or could we get better results by filling in the minimum value along each column?  It's not quite clear what's best in this case, but perhaps we can rule out some options immediately - for instance, setting missing values in this column to 0 is likely to yield horrible results!"
      ]
     },
     "metadata": {},
     "output_type": "display_data"
    }
   ],
   "source": [
    "# Check your answer (Run this code cell to receive credit!)\n",
    "step_3.b.check()"
   ]
  },
  {
   "cell_type": "code",
   "execution_count": 17,
   "id": "66ae4a3d",
   "metadata": {
    "execution": {
     "iopub.execute_input": "2023-04-25T21:09:37.060639Z",
     "iopub.status.busy": "2023-04-25T21:09:37.060169Z",
     "iopub.status.idle": "2023-04-25T21:09:37.065496Z",
     "shell.execute_reply": "2023-04-25T21:09:37.064169Z"
    },
    "papermill": {
     "duration": 0.022073,
     "end_time": "2023-04-25T21:09:37.068039",
     "exception": false,
     "start_time": "2023-04-25T21:09:37.045966",
     "status": "completed"
    },
    "tags": []
   },
   "outputs": [],
   "source": [
    "#step_3.b.hint()"
   ]
  },
  {
   "cell_type": "markdown",
   "id": "09695dcd",
   "metadata": {
    "papermill": {
     "duration": 0.011208,
     "end_time": "2023-04-25T21:09:37.090785",
     "exception": false,
     "start_time": "2023-04-25T21:09:37.079577",
     "status": "completed"
    },
    "tags": []
   },
   "source": [
    "# Step 4: Generate test predictions\n",
    "\n",
    "In this final step, you'll use any approach of your choosing to deal with missing values.  Once you've preprocessed the training and validation features, you'll train and evaluate a random forest model.  Then, you'll preprocess the test data before generating predictions that can be submitted to the competition!\n",
    "\n",
    "### Part A\n",
    "\n",
    "Use the next code cell to preprocess the training and validation data.  Set the preprocessed DataFrames to `final_X_train` and `final_X_valid`.  **You can use any approach of your choosing here!**  in order for this step to be marked as correct, you need only ensure:\n",
    "- the preprocessed DataFrames have the same number of columns,\n",
    "- the preprocessed DataFrames have no missing values, \n",
    "- `final_X_train` and `y_train` have the same number of rows, and\n",
    "- `final_X_valid` and `y_valid` have the same number of rows."
   ]
  },
  {
   "cell_type": "code",
   "execution_count": 18,
   "id": "b983a231",
   "metadata": {
    "execution": {
     "iopub.execute_input": "2023-04-25T21:09:37.117598Z",
     "iopub.status.busy": "2023-04-25T21:09:37.117143Z",
     "iopub.status.idle": "2023-04-25T21:09:37.153959Z",
     "shell.execute_reply": "2023-04-25T21:09:37.152489Z"
    },
    "papermill": {
     "duration": 0.053253,
     "end_time": "2023-04-25T21:09:37.156945",
     "exception": false,
     "start_time": "2023-04-25T21:09:37.103692",
     "status": "completed"
    },
    "tags": []
   },
   "outputs": [
    {
     "data": {
      "application/javascript": [
       "parent.postMessage({\"jupyterEvent\": \"custom.exercise_interaction\", \"data\": {\"outcomeType\": 1, \"valueTowardsCompletion\": 1.0, \"interactionType\": 1, \"questionType\": 2, \"questionId\": \"4.1_PredsCodeA\", \"learnToolsVersion\": \"0.3.4\", \"failureMessage\": \"\", \"exceptionClass\": \"\", \"trace\": \"\"}}, \"*\")"
      ],
      "text/plain": [
       "<IPython.core.display.Javascript object>"
      ]
     },
     "metadata": {},
     "output_type": "display_data"
    },
    {
     "data": {
      "text/markdown": [
       "<span style=\"color:#33cc33\">Correct</span>"
      ],
      "text/plain": [
       "Correct"
      ]
     },
     "metadata": {},
     "output_type": "display_data"
    }
   ],
   "source": [
    "# Preprocessed training and validation features\n",
    "final_X_train = X_train.fillna(X_train.mean())\n",
    "final_X_valid = X_valid.fillna(X_valid.mean())\n",
    "\n",
    "# Check your answers\n",
    "step_4.a.check()"
   ]
  },
  {
   "cell_type": "code",
   "execution_count": 19,
   "id": "efe27dce",
   "metadata": {
    "execution": {
     "iopub.execute_input": "2023-04-25T21:09:37.183740Z",
     "iopub.status.busy": "2023-04-25T21:09:37.183316Z",
     "iopub.status.idle": "2023-04-25T21:09:37.188481Z",
     "shell.execute_reply": "2023-04-25T21:09:37.187227Z"
    },
    "papermill": {
     "duration": 0.021256,
     "end_time": "2023-04-25T21:09:37.191204",
     "exception": false,
     "start_time": "2023-04-25T21:09:37.169948",
     "status": "completed"
    },
    "tags": []
   },
   "outputs": [],
   "source": [
    "# Lines below will give you a hint or solution code\n",
    "#step_4.a.hint()\n",
    "#step_4.a.solution()"
   ]
  },
  {
   "cell_type": "markdown",
   "id": "f3e1b5a6",
   "metadata": {
    "papermill": {
     "duration": 0.011635,
     "end_time": "2023-04-25T21:09:37.214827",
     "exception": false,
     "start_time": "2023-04-25T21:09:37.203192",
     "status": "completed"
    },
    "tags": []
   },
   "source": [
    "Run the next code cell to train and evaluate a random forest model.  (*Note that we don't use the `score_dataset()` function above, because we will soon use the trained model to generate test predictions!*)"
   ]
  },
  {
   "cell_type": "code",
   "execution_count": 20,
   "id": "d10f3528",
   "metadata": {
    "execution": {
     "iopub.execute_input": "2023-04-25T21:09:37.242780Z",
     "iopub.status.busy": "2023-04-25T21:09:37.242332Z",
     "iopub.status.idle": "2023-04-25T21:09:38.517965Z",
     "shell.execute_reply": "2023-04-25T21:09:38.515510Z"
    },
    "papermill": {
     "duration": 1.292594,
     "end_time": "2023-04-25T21:09:38.521065",
     "exception": false,
     "start_time": "2023-04-25T21:09:37.228471",
     "status": "completed"
    },
    "tags": []
   },
   "outputs": [
    {
     "name": "stdout",
     "output_type": "stream",
     "text": [
      "MAE (Your approach):\n",
      "18056.85163242009\n"
     ]
    }
   ],
   "source": [
    "# Define and fit model\n",
    "model = RandomForestRegressor(n_estimators=100, random_state=0)\n",
    "model.fit(final_X_train, y_train)\n",
    "\n",
    "# Get validation predictions and MAE\n",
    "preds_valid = model.predict(final_X_valid)\n",
    "print(\"MAE (Your approach):\")\n",
    "print(mean_absolute_error(y_valid, preds_valid))"
   ]
  },
  {
   "cell_type": "markdown",
   "id": "fd573837",
   "metadata": {
    "papermill": {
     "duration": 0.011977,
     "end_time": "2023-04-25T21:09:38.545480",
     "exception": false,
     "start_time": "2023-04-25T21:09:38.533503",
     "status": "completed"
    },
    "tags": []
   },
   "source": [
    "### Part B\n",
    "\n",
    "Use the next code cell to preprocess your test data.  Make sure that you use a method that agrees with how you preprocessed the training and validation data, and set the preprocessed test features to `final_X_test`.\n",
    "\n",
    "Then, use the preprocessed test features and the trained model to generate test predictions in `preds_test`.\n",
    "\n",
    "In order for this step to be marked correct, you need only ensure:\n",
    "- the preprocessed test DataFrame has no missing values, and\n",
    "- `final_X_test` has the same number of rows as `X_test`."
   ]
  },
  {
   "cell_type": "code",
   "execution_count": 21,
   "id": "720890e7",
   "metadata": {
    "execution": {
     "iopub.execute_input": "2023-04-25T21:09:38.571743Z",
     "iopub.status.busy": "2023-04-25T21:09:38.571302Z",
     "iopub.status.idle": "2023-04-25T21:09:38.638208Z",
     "shell.execute_reply": "2023-04-25T21:09:38.636967Z"
    },
    "papermill": {
     "duration": 0.083326,
     "end_time": "2023-04-25T21:09:38.640952",
     "exception": false,
     "start_time": "2023-04-25T21:09:38.557626",
     "status": "completed"
    },
    "tags": []
   },
   "outputs": [
    {
     "data": {
      "application/javascript": [
       "parent.postMessage({\"jupyterEvent\": \"custom.exercise_interaction\", \"data\": {\"outcomeType\": 1, \"valueTowardsCompletion\": 1.0, \"interactionType\": 1, \"questionType\": 2, \"questionId\": \"4.2_PredsCodeB\", \"learnToolsVersion\": \"0.3.4\", \"failureMessage\": \"\", \"exceptionClass\": \"\", \"trace\": \"\"}}, \"*\")"
      ],
      "text/plain": [
       "<IPython.core.display.Javascript object>"
      ]
     },
     "metadata": {},
     "output_type": "display_data"
    },
    {
     "data": {
      "text/markdown": [
       "<span style=\"color:#33cc33\">Correct</span>"
      ],
      "text/plain": [
       "Correct"
      ]
     },
     "metadata": {},
     "output_type": "display_data"
    }
   ],
   "source": [
    "# Fill in the line below: preprocess test data\n",
    "final_X_test = X_test.fillna(X_test.mean())\n",
    "\n",
    "# Fill in the line below: get test predictions\n",
    "preds_test = model.predict(final_X_test)\n",
    "\n",
    "# Check your answers\n",
    "step_4.b.check()"
   ]
  },
  {
   "cell_type": "code",
   "execution_count": 22,
   "id": "1475a9dc",
   "metadata": {
    "execution": {
     "iopub.execute_input": "2023-04-25T21:09:38.669587Z",
     "iopub.status.busy": "2023-04-25T21:09:38.669150Z",
     "iopub.status.idle": "2023-04-25T21:09:38.684636Z",
     "shell.execute_reply": "2023-04-25T21:09:38.683084Z"
    },
    "papermill": {
     "duration": 0.034001,
     "end_time": "2023-04-25T21:09:38.687304",
     "exception": false,
     "start_time": "2023-04-25T21:09:38.653303",
     "status": "completed"
    },
    "tags": []
   },
   "outputs": [
    {
     "data": {
      "application/javascript": [
       "parent.postMessage({\"jupyterEvent\": \"custom.exercise_interaction\", \"data\": {\"interactionType\": 2, \"questionType\": 2, \"questionId\": \"4.2_PredsCodeB\", \"learnToolsVersion\": \"0.3.4\", \"valueTowardsCompletion\": 0.0, \"failureMessage\": \"\", \"exceptionClass\": \"\", \"trace\": \"\", \"outcomeType\": 4}}, \"*\")"
      ],
      "text/plain": [
       "<IPython.core.display.Javascript object>"
      ]
     },
     "metadata": {},
     "output_type": "display_data"
    },
    {
     "data": {
      "text/markdown": [
       "<span style=\"color:#3366cc\">Hint:</span> After preprocessing the test data, you can get the model's predictions by using `model.predict()`."
      ],
      "text/plain": [
       "Hint: After preprocessing the test data, you can get the model's predictions by using `model.predict()`."
      ]
     },
     "metadata": {},
     "output_type": "display_data"
    },
    {
     "data": {
      "application/javascript": [
       "parent.postMessage({\"jupyterEvent\": \"custom.exercise_interaction\", \"data\": {\"interactionType\": 3, \"questionType\": 2, \"questionId\": \"4.2_PredsCodeB\", \"learnToolsVersion\": \"0.3.4\", \"valueTowardsCompletion\": 0.0, \"failureMessage\": \"\", \"exceptionClass\": \"\", \"trace\": \"\", \"outcomeType\": 4}}, \"*\")"
      ],
      "text/plain": [
       "<IPython.core.display.Javascript object>"
      ]
     },
     "metadata": {},
     "output_type": "display_data"
    },
    {
     "data": {
      "text/markdown": [
       "<span style=\"color:#33cc99\">Solution:</span> \n",
       "```python\n",
       "# Preprocess test data\n",
       "final_X_test = pd.DataFrame(final_imputer.transform(X_test))\n",
       "\n",
       "# Get test predictions\n",
       "preds_test = model.predict(final_X_test)\n",
       "\n",
       "```"
      ],
      "text/plain": [
       "Solution: \n",
       "```python\n",
       "# Preprocess test data\n",
       "final_X_test = pd.DataFrame(final_imputer.transform(X_test))\n",
       "\n",
       "# Get test predictions\n",
       "preds_test = model.predict(final_X_test)\n",
       "\n",
       "```"
      ]
     },
     "metadata": {},
     "output_type": "display_data"
    }
   ],
   "source": [
    "# Lines below will give you a hint or solution code\n",
    "step_4.b.hint()\n",
    "step_4.b.solution()"
   ]
  },
  {
   "cell_type": "markdown",
   "id": "4b070f80",
   "metadata": {
    "papermill": {
     "duration": 0.012481,
     "end_time": "2023-04-25T21:09:38.712609",
     "exception": false,
     "start_time": "2023-04-25T21:09:38.700128",
     "status": "completed"
    },
    "tags": []
   },
   "source": [
    "Run the next code cell without changes to save your results to a CSV file that can be submitted directly to the competition."
   ]
  },
  {
   "cell_type": "code",
   "execution_count": 23,
   "id": "59e54e33",
   "metadata": {
    "execution": {
     "iopub.execute_input": "2023-04-25T21:09:38.740328Z",
     "iopub.status.busy": "2023-04-25T21:09:38.739858Z",
     "iopub.status.idle": "2023-04-25T21:09:38.755317Z",
     "shell.execute_reply": "2023-04-25T21:09:38.754124Z"
    },
    "papermill": {
     "duration": 0.032539,
     "end_time": "2023-04-25T21:09:38.758081",
     "exception": false,
     "start_time": "2023-04-25T21:09:38.725542",
     "status": "completed"
    },
    "tags": []
   },
   "outputs": [],
   "source": [
    "# Save test predictions to file\n",
    "output = pd.DataFrame({'Id': X_test.index,\n",
    "                       'SalePrice': preds_test})\n",
    "output.to_csv('submission.csv', index=False)"
   ]
  },
  {
   "cell_type": "markdown",
   "id": "cbd92671",
   "metadata": {
    "papermill": {
     "duration": 0.012529,
     "end_time": "2023-04-25T21:09:38.783503",
     "exception": false,
     "start_time": "2023-04-25T21:09:38.770974",
     "status": "completed"
    },
    "tags": []
   },
   "source": [
    "# Submit your results\n",
    "\n",
    "Once you have successfully completed Step 4, you're ready to submit your results to the leaderboard!  (_You also learned how to do this in the previous exercise.  If you need a reminder of how to do this, please use the instructions below._)  \n",
    "\n",
    "First, you'll need to join the competition if you haven't already.  So open a new window by clicking on [this link](https://www.kaggle.com/c/home-data-for-ml-course).  Then click on the **Join Competition** button.\n",
    "\n",
    "![join competition image](https://storage.googleapis.com/kaggle-media/learn/images/wLmFtH3.png)\n",
    "\n",
    "Next, follow the instructions below:\n",
    "1. Begin by clicking on the **Save Version** button in the top right corner of the window.  This will generate a pop-up window.  \n",
    "2. Ensure that the **Save and Run All** option is selected, and then click on the **Save** button.\n",
    "3. This generates a window in the bottom left corner of the notebook.  After it has finished running, click on the number to the right of the **Save Version** button.  This pulls up a list of versions on the right of the screen.  Click on the ellipsis **(...)** to the right of the most recent version, and select **Open in Viewer**.  This brings you into view mode of the same page. You will need to scroll down to get back to these instructions.\n",
    "4. Click on the **Data** tab near the top of the screen.  Then, click on the file you would like to submit, and click on the **Submit** button to submit your results to the leaderboard.\n",
    "\n",
    "You have now successfully submitted to the competition!\n",
    "\n",
    "If you want to keep working to improve your performance, select the **Edit** button in the top right of the screen. Then you can change your code and repeat the process. There's a lot of room to improve, and you will climb up the leaderboard as you work.\n",
    "\n",
    "\n",
    "# Keep going\n",
    "\n",
    "Move on to learn what **[categorical variables](https://www.kaggle.com/alexisbcook/categorical-variables)** are, along with how to incorporate them into your machine learning models.  Categorical variables are very common in real-world data, but you'll get an error if you try to plug them into your models without processing them first!"
   ]
  },
  {
   "cell_type": "markdown",
   "id": "1da4bba2",
   "metadata": {
    "papermill": {
     "duration": 0.012983,
     "end_time": "2023-04-25T21:09:38.809128",
     "exception": false,
     "start_time": "2023-04-25T21:09:38.796145",
     "status": "completed"
    },
    "tags": []
   },
   "source": [
    "---\n",
    "\n",
    "\n",
    "\n",
    "\n",
    "*Have questions or comments? Visit the [course discussion forum](https://www.kaggle.com/learn/intermediate-machine-learning/discussion) to chat with other learners.*"
   ]
  }
 ],
 "metadata": {
  "kernelspec": {
   "display_name": "Python 3",
   "language": "python",
   "name": "python3"
  },
  "language_info": {
   "codemirror_mode": {
    "name": "ipython",
    "version": 3
   },
   "file_extension": ".py",
   "mimetype": "text/x-python",
   "name": "python",
   "nbconvert_exporter": "python",
   "pygments_lexer": "ipython3",
   "version": "3.7.12"
  },
  "papermill": {
   "default_parameters": {},
   "duration": 18.637383,
   "end_time": "2023-04-25T21:09:39.645196",
   "environment_variables": {},
   "exception": null,
   "input_path": "__notebook__.ipynb",
   "output_path": "__notebook__.ipynb",
   "parameters": {},
   "start_time": "2023-04-25T21:09:21.007813",
   "version": "2.4.0"
  }
 },
 "nbformat": 4,
 "nbformat_minor": 5
}
